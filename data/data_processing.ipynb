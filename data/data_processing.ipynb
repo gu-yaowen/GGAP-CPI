{
 "cells": [
  {
   "cell_type": "code",
   "execution_count": 2,
   "metadata": {},
   "outputs": [
    {
     "name": "stdout",
     "output_type": "stream",
     "text": [
      "Defaulting to user installation because normal site-packages is not writeable\n",
      "Requirement already satisfied: papyrus_scripts in /home/yg3191/.local/lib/python3.8/site-packages (1.0.3)\n",
      "Requirement already satisfied: numpy in /home/yg3191/.local/lib/python3.8/site-packages (from papyrus_scripts) (1.24.4)\n",
      "Requirement already satisfied: pandas in /home/yg3191/.local/lib/python3.8/site-packages (from papyrus_scripts) (2.0.3)\n",
      "Requirement already satisfied: rdkit in /ext3/miniconda3/envs/chem_gyw/lib/python3.8/site-packages (from papyrus_scripts) (2023.9.1)\n",
      "Requirement already satisfied: requests in /ext3/miniconda3/envs/chem_gyw/lib/python3.8/site-packages (from papyrus_scripts) (2.31.0)\n",
      "Requirement already satisfied: joblib in /ext3/miniconda3/envs/chem_gyw/lib/python3.8/site-packages (from papyrus_scripts) (1.3.2)\n",
      "Requirement already satisfied: tqdm in /ext3/miniconda3/envs/chem_gyw/lib/python3.8/site-packages (from papyrus_scripts) (4.66.1)\n",
      "Requirement already satisfied: mordred in /home/yg3191/.local/lib/python3.8/site-packages (from papyrus_scripts) (1.2.0)\n",
      "Requirement already satisfied: swifter in /home/yg3191/.local/lib/python3.8/site-packages (from papyrus_scripts) (1.4.0)\n",
      "Requirement already satisfied: scikit-learn in /ext3/miniconda3/envs/chem_gyw/lib/python3.8/site-packages (from papyrus_scripts) (1.3.2)\n",
      "Requirement already satisfied: xgboost in /ext3/miniconda3/envs/chem_gyw/lib/python3.8/site-packages (from papyrus_scripts) (2.0.1)\n",
      "Requirement already satisfied: pystow in /home/yg3191/.local/lib/python3.8/site-packages (from papyrus_scripts) (0.5.2)\n",
      "Requirement already satisfied: prodec in /home/yg3191/.local/lib/python3.8/site-packages (from papyrus_scripts) (1.0.2.post5)\n",
      "Requirement already satisfied: six==1.* in /ext3/miniconda3/envs/chem_gyw/lib/python3.8/site-packages (from mordred->papyrus_scripts) (1.16.0)\n",
      "Requirement already satisfied: networkx==2.* in /home/yg3191/.local/lib/python3.8/site-packages (from mordred->papyrus_scripts) (2.8.8)\n",
      "Requirement already satisfied: python-dateutil>=2.8.2 in /ext3/miniconda3/envs/chem_gyw/lib/python3.8/site-packages (from pandas->papyrus_scripts) (2.8.2)\n",
      "Requirement already satisfied: pytz>=2020.1 in /ext3/miniconda3/envs/chem_gyw/lib/python3.8/site-packages (from pandas->papyrus_scripts) (2023.3.post1)\n",
      "Requirement already satisfied: tzdata>=2022.1 in /ext3/miniconda3/envs/chem_gyw/lib/python3.8/site-packages (from pandas->papyrus_scripts) (2023.3)\n",
      "Requirement already satisfied: orjson in /home/yg3191/.local/lib/python3.8/site-packages (from prodec->papyrus_scripts) (3.9.13)\n",
      "Requirement already satisfied: psutil in /ext3/miniconda3/envs/chem_gyw/lib/python3.8/site-packages (from prodec->papyrus_scripts) (5.9.6)\n",
      "Requirement already satisfied: click in /ext3/miniconda3/envs/chem_gyw/lib/python3.8/site-packages (from pystow->papyrus_scripts) (8.1.7)\n",
      "Requirement already satisfied: Pillow in /ext3/miniconda3/envs/chem_gyw/lib/python3.8/site-packages (from rdkit->papyrus_scripts) (10.0.1)\n",
      "Requirement already satisfied: charset-normalizer<4,>=2 in /ext3/miniconda3/envs/chem_gyw/lib/python3.8/site-packages (from requests->papyrus_scripts) (3.3.1)\n",
      "Requirement already satisfied: idna<4,>=2.5 in /ext3/miniconda3/envs/chem_gyw/lib/python3.8/site-packages (from requests->papyrus_scripts) (3.4)\n",
      "Requirement already satisfied: urllib3<3,>=1.21.1 in /ext3/miniconda3/envs/chem_gyw/lib/python3.8/site-packages (from requests->papyrus_scripts) (2.0.7)\n",
      "Requirement already satisfied: certifi>=2017.4.17 in /ext3/miniconda3/envs/chem_gyw/lib/python3.8/site-packages (from requests->papyrus_scripts) (2023.7.22)\n",
      "Requirement already satisfied: scipy>=1.5.0 in /home/yg3191/.local/lib/python3.8/site-packages (from scikit-learn->papyrus_scripts) (1.10.1)\n",
      "Requirement already satisfied: threadpoolctl>=2.0.0 in /ext3/miniconda3/envs/chem_gyw/lib/python3.8/site-packages (from scikit-learn->papyrus_scripts) (3.2.0)\n",
      "Requirement already satisfied: dask>=2.10.0 in /home/yg3191/.local/lib/python3.8/site-packages (from dask[dataframe]>=2.10.0->swifter->papyrus_scripts) (2023.5.0)\n",
      "Requirement already satisfied: cloudpickle>=1.5.0 in /ext3/miniconda3/envs/chem_gyw/lib/python3.8/site-packages (from dask>=2.10.0->dask[dataframe]>=2.10.0->swifter->papyrus_scripts) (3.0.0)\n",
      "Requirement already satisfied: fsspec>=2021.09.0 in /ext3/miniconda3/envs/chem_gyw/lib/python3.8/site-packages (from dask>=2.10.0->dask[dataframe]>=2.10.0->swifter->papyrus_scripts) (2023.10.0)\n",
      "Requirement already satisfied: packaging>=20.0 in /ext3/miniconda3/envs/chem_gyw/lib/python3.8/site-packages (from dask>=2.10.0->dask[dataframe]>=2.10.0->swifter->papyrus_scripts) (23.2)\n",
      "Requirement already satisfied: partd>=1.2.0 in /home/yg3191/.local/lib/python3.8/site-packages (from dask>=2.10.0->dask[dataframe]>=2.10.0->swifter->papyrus_scripts) (1.4.1)\n",
      "Requirement already satisfied: pyyaml>=5.3.1 in /ext3/miniconda3/envs/chem_gyw/lib/python3.8/site-packages (from dask>=2.10.0->dask[dataframe]>=2.10.0->swifter->papyrus_scripts) (6.0.1)\n",
      "Requirement already satisfied: toolz>=0.10.0 in /home/yg3191/.local/lib/python3.8/site-packages (from dask>=2.10.0->dask[dataframe]>=2.10.0->swifter->papyrus_scripts) (0.12.1)\n",
      "Requirement already satisfied: importlib-metadata>=4.13.0 in /ext3/miniconda3/envs/chem_gyw/lib/python3.8/site-packages (from dask>=2.10.0->dask[dataframe]>=2.10.0->swifter->papyrus_scripts) (6.8.0)\n",
      "Requirement already satisfied: zipp>=0.5 in /ext3/miniconda3/envs/chem_gyw/lib/python3.8/site-packages (from importlib-metadata>=4.13.0->dask>=2.10.0->dask[dataframe]>=2.10.0->swifter->papyrus_scripts) (3.17.0)\n",
      "Requirement already satisfied: locket in /home/yg3191/.local/lib/python3.8/site-packages (from partd>=1.2.0->dask>=2.10.0->dask[dataframe]>=2.10.0->swifter->papyrus_scripts) (1.0.0)\n",
      "Note: you may need to restart the kernel to use updated packages.\n"
     ]
    }
   ],
   "source": [
    "pip install papyrus_scripts"
   ]
  },
  {
   "cell_type": "code",
   "execution_count": 1,
   "metadata": {},
   "outputs": [],
   "source": [
    "import os\n",
    "import numpy as np\n",
    "import pandas as pd\n",
    "from tqdm import tqdm\n",
    "import papyrus_scripts\n",
    "import matplotlib.pyplot as plt\n",
    "from papyrus_scripts.reader import read_papyrus, read_protein_set"
   ]
  },
  {
   "cell_type": "markdown",
   "metadata": {},
   "source": [
    "# EquiVS data"
   ]
  },
  {
   "cell_type": "code",
   "execution_count": 2,
   "metadata": {},
   "outputs": [],
   "source": [
    "# unzip .zip files using terminal command\n",
    "cd Activity_Cliff_data/\n",
    "unzip EquiVS/Dataset_v1.1.zip -d EquiVS/"
   ]
  },
  {
   "cell_type": "code",
   "execution_count": 2,
   "metadata": {},
   "outputs": [],
   "source": [
    "os.chdir('EquiVS')"
   ]
  },
  {
   "cell_type": "code",
   "execution_count": 3,
   "metadata": {},
   "outputs": [
    {
     "name": "stderr",
     "output_type": "stream",
     "text": [
      "/tmp/ipykernel_1323844/1019052854.py:1: DtypeWarning: Columns (0,2,4,5,6,7,8,9,10,11,12,13,14,15,16,17,18,19,20,21,22,23,24,25,26,27,28,29,30,31,32,33,34,35,36,37,38,39,40,41,42,43,44,45,46,47,48,49,50,51,52,53,54,55,56,57,58,59,60,61,62,63,64,65,66,67,68,69,70,71,72,73,74,75,76,77,78,79,80,81,82,83,84,85,86,87,88,89,90,91,92,93,94,95,96,97,98,99,100,101,102,103,104,105,106,107,108,109,110,111,112,113,114,115,116,117,118,119,120,121,122,123,124,125,126,127,128,129,130,131,132,133,134,135,136,137,138,139,140,141,142,143,144,145,146,147,148,149,150,151,152,153,154,155,156,157,158,159,160,161,162,163,164,165,166,167,168,169,170,171,172,173,174,175,176,177,178,179,180,181,182,183,184,185,186,187,188,189,190,191,192,193,194,195,196,197,198,199,200,201,202,203,204,205,206,207,208,209,210,211,212,213,214,215,216,217,218,219,220,221,222,223,224,225,226,227,228,229,230,231,232,233,234,235,236,237,238,239,240,241,243,244,245,246,247,248,250) have mixed types. Specify dtype option on import or set low_memory=False.\n",
      "  df = pd.read_csv('Consensus_CompoundBioactivity_Dataset_v1.1.csv')\n"
     ]
    },
    {
     "ename": "MemoryError",
     "evalue": "Unable to allocate 20.3 GiB for an array with shape (250, 10915362) and data type object",
     "output_type": "error",
     "traceback": [
      "\u001b[0;31m---------------------------------------------------------------------------\u001b[0m",
      "\u001b[0;31mMemoryError\u001b[0m                               Traceback (most recent call last)",
      "Cell \u001b[0;32mIn[3], line 1\u001b[0m\n\u001b[0;32m----> 1\u001b[0m df \u001b[38;5;241m=\u001b[39m \u001b[43mpd\u001b[49m\u001b[38;5;241;43m.\u001b[39;49m\u001b[43mread_csv\u001b[49m\u001b[43m(\u001b[49m\u001b[38;5;124;43m'\u001b[39;49m\u001b[38;5;124;43mConsensus_CompoundBioactivity_Dataset_v1.1.csv\u001b[39;49m\u001b[38;5;124;43m'\u001b[39;49m\u001b[43m)\u001b[49m\n\u001b[1;32m      2\u001b[0m \u001b[38;5;28mprint\u001b[39m(\u001b[38;5;28mlen\u001b[39m(df))\n",
      "File \u001b[0;32m~/.local/lib/python3.8/site-packages/pandas/io/parsers/readers.py:912\u001b[0m, in \u001b[0;36mread_csv\u001b[0;34m(filepath_or_buffer, sep, delimiter, header, names, index_col, usecols, dtype, engine, converters, true_values, false_values, skipinitialspace, skiprows, skipfooter, nrows, na_values, keep_default_na, na_filter, verbose, skip_blank_lines, parse_dates, infer_datetime_format, keep_date_col, date_parser, date_format, dayfirst, cache_dates, iterator, chunksize, compression, thousands, decimal, lineterminator, quotechar, quoting, doublequote, escapechar, comment, encoding, encoding_errors, dialect, on_bad_lines, delim_whitespace, low_memory, memory_map, float_precision, storage_options, dtype_backend)\u001b[0m\n\u001b[1;32m    899\u001b[0m kwds_defaults \u001b[38;5;241m=\u001b[39m _refine_defaults_read(\n\u001b[1;32m    900\u001b[0m     dialect,\n\u001b[1;32m    901\u001b[0m     delimiter,\n\u001b[0;32m   (...)\u001b[0m\n\u001b[1;32m    908\u001b[0m     dtype_backend\u001b[38;5;241m=\u001b[39mdtype_backend,\n\u001b[1;32m    909\u001b[0m )\n\u001b[1;32m    910\u001b[0m kwds\u001b[38;5;241m.\u001b[39mupdate(kwds_defaults)\n\u001b[0;32m--> 912\u001b[0m \u001b[38;5;28;01mreturn\u001b[39;00m \u001b[43m_read\u001b[49m\u001b[43m(\u001b[49m\u001b[43mfilepath_or_buffer\u001b[49m\u001b[43m,\u001b[49m\u001b[43m \u001b[49m\u001b[43mkwds\u001b[49m\u001b[43m)\u001b[49m\n",
      "File \u001b[0;32m~/.local/lib/python3.8/site-packages/pandas/io/parsers/readers.py:583\u001b[0m, in \u001b[0;36m_read\u001b[0;34m(filepath_or_buffer, kwds)\u001b[0m\n\u001b[1;32m    580\u001b[0m     \u001b[38;5;28;01mreturn\u001b[39;00m parser\n\u001b[1;32m    582\u001b[0m \u001b[38;5;28;01mwith\u001b[39;00m parser:\n\u001b[0;32m--> 583\u001b[0m     \u001b[38;5;28;01mreturn\u001b[39;00m \u001b[43mparser\u001b[49m\u001b[38;5;241;43m.\u001b[39;49m\u001b[43mread\u001b[49m\u001b[43m(\u001b[49m\u001b[43mnrows\u001b[49m\u001b[43m)\u001b[49m\n",
      "File \u001b[0;32m~/.local/lib/python3.8/site-packages/pandas/io/parsers/readers.py:1721\u001b[0m, in \u001b[0;36mTextFileReader.read\u001b[0;34m(self, nrows)\u001b[0m\n\u001b[1;32m   1718\u001b[0m     \u001b[38;5;28;01melse\u001b[39;00m:\n\u001b[1;32m   1719\u001b[0m         new_rows \u001b[38;5;241m=\u001b[39m \u001b[38;5;28mlen\u001b[39m(index)\n\u001b[0;32m-> 1721\u001b[0m     df \u001b[38;5;241m=\u001b[39m \u001b[43mDataFrame\u001b[49m\u001b[43m(\u001b[49m\u001b[43mcol_dict\u001b[49m\u001b[43m,\u001b[49m\u001b[43m \u001b[49m\u001b[43mcolumns\u001b[49m\u001b[38;5;241;43m=\u001b[39;49m\u001b[43mcolumns\u001b[49m\u001b[43m,\u001b[49m\u001b[43m \u001b[49m\u001b[43mindex\u001b[49m\u001b[38;5;241;43m=\u001b[39;49m\u001b[43mindex\u001b[49m\u001b[43m)\u001b[49m\n\u001b[1;32m   1723\u001b[0m     \u001b[38;5;28mself\u001b[39m\u001b[38;5;241m.\u001b[39m_currow \u001b[38;5;241m+\u001b[39m\u001b[38;5;241m=\u001b[39m new_rows\n\u001b[1;32m   1724\u001b[0m \u001b[38;5;28;01mreturn\u001b[39;00m df\n",
      "File \u001b[0;32m~/.local/lib/python3.8/site-packages/pandas/core/frame.py:709\u001b[0m, in \u001b[0;36mDataFrame.__init__\u001b[0;34m(self, data, index, columns, dtype, copy)\u001b[0m\n\u001b[1;32m    703\u001b[0m     mgr \u001b[38;5;241m=\u001b[39m \u001b[38;5;28mself\u001b[39m\u001b[38;5;241m.\u001b[39m_init_mgr(\n\u001b[1;32m    704\u001b[0m         data, axes\u001b[38;5;241m=\u001b[39m{\u001b[38;5;124m\"\u001b[39m\u001b[38;5;124mindex\u001b[39m\u001b[38;5;124m\"\u001b[39m: index, \u001b[38;5;124m\"\u001b[39m\u001b[38;5;124mcolumns\u001b[39m\u001b[38;5;124m\"\u001b[39m: columns}, dtype\u001b[38;5;241m=\u001b[39mdtype, copy\u001b[38;5;241m=\u001b[39mcopy\n\u001b[1;32m    705\u001b[0m     )\n\u001b[1;32m    707\u001b[0m \u001b[38;5;28;01melif\u001b[39;00m \u001b[38;5;28misinstance\u001b[39m(data, \u001b[38;5;28mdict\u001b[39m):\n\u001b[1;32m    708\u001b[0m     \u001b[38;5;66;03m# GH#38939 de facto copy defaults to False only in non-dict cases\u001b[39;00m\n\u001b[0;32m--> 709\u001b[0m     mgr \u001b[38;5;241m=\u001b[39m \u001b[43mdict_to_mgr\u001b[49m\u001b[43m(\u001b[49m\u001b[43mdata\u001b[49m\u001b[43m,\u001b[49m\u001b[43m \u001b[49m\u001b[43mindex\u001b[49m\u001b[43m,\u001b[49m\u001b[43m \u001b[49m\u001b[43mcolumns\u001b[49m\u001b[43m,\u001b[49m\u001b[43m \u001b[49m\u001b[43mdtype\u001b[49m\u001b[38;5;241;43m=\u001b[39;49m\u001b[43mdtype\u001b[49m\u001b[43m,\u001b[49m\u001b[43m \u001b[49m\u001b[43mcopy\u001b[49m\u001b[38;5;241;43m=\u001b[39;49m\u001b[43mcopy\u001b[49m\u001b[43m,\u001b[49m\u001b[43m \u001b[49m\u001b[43mtyp\u001b[49m\u001b[38;5;241;43m=\u001b[39;49m\u001b[43mmanager\u001b[49m\u001b[43m)\u001b[49m\n\u001b[1;32m    710\u001b[0m \u001b[38;5;28;01melif\u001b[39;00m \u001b[38;5;28misinstance\u001b[39m(data, ma\u001b[38;5;241m.\u001b[39mMaskedArray):\n\u001b[1;32m    711\u001b[0m     \u001b[38;5;28;01mfrom\u001b[39;00m \u001b[38;5;21;01mnumpy\u001b[39;00m\u001b[38;5;21;01m.\u001b[39;00m\u001b[38;5;21;01mma\u001b[39;00m \u001b[38;5;28;01mimport\u001b[39;00m mrecords\n",
      "File \u001b[0;32m~/.local/lib/python3.8/site-packages/pandas/core/internals/construction.py:481\u001b[0m, in \u001b[0;36mdict_to_mgr\u001b[0;34m(data, index, columns, dtype, typ, copy)\u001b[0m\n\u001b[1;32m    477\u001b[0m     \u001b[38;5;28;01melse\u001b[39;00m:\n\u001b[1;32m    478\u001b[0m         \u001b[38;5;66;03m# dtype check to exclude e.g. range objects, scalars\u001b[39;00m\n\u001b[1;32m    479\u001b[0m         arrays \u001b[38;5;241m=\u001b[39m [x\u001b[38;5;241m.\u001b[39mcopy() \u001b[38;5;28;01mif\u001b[39;00m \u001b[38;5;28mhasattr\u001b[39m(x, \u001b[38;5;124m\"\u001b[39m\u001b[38;5;124mdtype\u001b[39m\u001b[38;5;124m\"\u001b[39m) \u001b[38;5;28;01melse\u001b[39;00m x \u001b[38;5;28;01mfor\u001b[39;00m x \u001b[38;5;129;01min\u001b[39;00m arrays]\n\u001b[0;32m--> 481\u001b[0m \u001b[38;5;28;01mreturn\u001b[39;00m \u001b[43marrays_to_mgr\u001b[49m\u001b[43m(\u001b[49m\u001b[43marrays\u001b[49m\u001b[43m,\u001b[49m\u001b[43m \u001b[49m\u001b[43mcolumns\u001b[49m\u001b[43m,\u001b[49m\u001b[43m \u001b[49m\u001b[43mindex\u001b[49m\u001b[43m,\u001b[49m\u001b[43m \u001b[49m\u001b[43mdtype\u001b[49m\u001b[38;5;241;43m=\u001b[39;49m\u001b[43mdtype\u001b[49m\u001b[43m,\u001b[49m\u001b[43m \u001b[49m\u001b[43mtyp\u001b[49m\u001b[38;5;241;43m=\u001b[39;49m\u001b[43mtyp\u001b[49m\u001b[43m,\u001b[49m\u001b[43m \u001b[49m\u001b[43mconsolidate\u001b[49m\u001b[38;5;241;43m=\u001b[39;49m\u001b[43mcopy\u001b[49m\u001b[43m)\u001b[49m\n",
      "File \u001b[0;32m~/.local/lib/python3.8/site-packages/pandas/core/internals/construction.py:153\u001b[0m, in \u001b[0;36marrays_to_mgr\u001b[0;34m(arrays, columns, index, dtype, verify_integrity, typ, consolidate)\u001b[0m\n\u001b[1;32m    150\u001b[0m axes \u001b[38;5;241m=\u001b[39m [columns, index]\n\u001b[1;32m    152\u001b[0m \u001b[38;5;28;01mif\u001b[39;00m typ \u001b[38;5;241m==\u001b[39m \u001b[38;5;124m\"\u001b[39m\u001b[38;5;124mblock\u001b[39m\u001b[38;5;124m\"\u001b[39m:\n\u001b[0;32m--> 153\u001b[0m     \u001b[38;5;28;01mreturn\u001b[39;00m \u001b[43mcreate_block_manager_from_column_arrays\u001b[49m\u001b[43m(\u001b[49m\n\u001b[1;32m    154\u001b[0m \u001b[43m        \u001b[49m\u001b[43marrays\u001b[49m\u001b[43m,\u001b[49m\u001b[43m \u001b[49m\u001b[43maxes\u001b[49m\u001b[43m,\u001b[49m\u001b[43m \u001b[49m\u001b[43mconsolidate\u001b[49m\u001b[38;5;241;43m=\u001b[39;49m\u001b[43mconsolidate\u001b[49m\u001b[43m,\u001b[49m\u001b[43m \u001b[49m\u001b[43mrefs\u001b[49m\u001b[38;5;241;43m=\u001b[39;49m\u001b[43mrefs\u001b[49m\n\u001b[1;32m    155\u001b[0m \u001b[43m    \u001b[49m\u001b[43m)\u001b[49m\n\u001b[1;32m    156\u001b[0m \u001b[38;5;28;01melif\u001b[39;00m typ \u001b[38;5;241m==\u001b[39m \u001b[38;5;124m\"\u001b[39m\u001b[38;5;124marray\u001b[39m\u001b[38;5;124m\"\u001b[39m:\n\u001b[1;32m    157\u001b[0m     \u001b[38;5;28;01mreturn\u001b[39;00m ArrayManager(arrays, [index, columns])\n",
      "File \u001b[0;32m~/.local/lib/python3.8/site-packages/pandas/core/internals/managers.py:2142\u001b[0m, in \u001b[0;36mcreate_block_manager_from_column_arrays\u001b[0;34m(arrays, axes, consolidate, refs)\u001b[0m\n\u001b[1;32m   2140\u001b[0m     raise_construction_error(\u001b[38;5;28mlen\u001b[39m(arrays), arrays[\u001b[38;5;241m0\u001b[39m]\u001b[38;5;241m.\u001b[39mshape, axes, e)\n\u001b[1;32m   2141\u001b[0m \u001b[38;5;28;01mif\u001b[39;00m consolidate:\n\u001b[0;32m-> 2142\u001b[0m     \u001b[43mmgr\u001b[49m\u001b[38;5;241;43m.\u001b[39;49m\u001b[43m_consolidate_inplace\u001b[49m\u001b[43m(\u001b[49m\u001b[43m)\u001b[49m\n\u001b[1;32m   2143\u001b[0m \u001b[38;5;28;01mreturn\u001b[39;00m mgr\n",
      "File \u001b[0;32m~/.local/lib/python3.8/site-packages/pandas/core/internals/managers.py:1829\u001b[0m, in \u001b[0;36mBlockManager._consolidate_inplace\u001b[0;34m(self)\u001b[0m\n\u001b[1;32m   1823\u001b[0m \u001b[38;5;28;01mdef\u001b[39;00m \u001b[38;5;21m_consolidate_inplace\u001b[39m(\u001b[38;5;28mself\u001b[39m) \u001b[38;5;241m-\u001b[39m\u001b[38;5;241m>\u001b[39m \u001b[38;5;28;01mNone\u001b[39;00m:\n\u001b[1;32m   1824\u001b[0m     \u001b[38;5;66;03m# In general, _consolidate_inplace should only be called via\u001b[39;00m\n\u001b[1;32m   1825\u001b[0m     \u001b[38;5;66;03m#  DataFrame._consolidate_inplace, otherwise we will fail to invalidate\u001b[39;00m\n\u001b[1;32m   1826\u001b[0m     \u001b[38;5;66;03m#  the DataFrame's _item_cache. The exception is for newly-created\u001b[39;00m\n\u001b[1;32m   1827\u001b[0m     \u001b[38;5;66;03m#  BlockManager objects not yet attached to a DataFrame.\u001b[39;00m\n\u001b[1;32m   1828\u001b[0m     \u001b[38;5;28;01mif\u001b[39;00m \u001b[38;5;129;01mnot\u001b[39;00m \u001b[38;5;28mself\u001b[39m\u001b[38;5;241m.\u001b[39mis_consolidated():\n\u001b[0;32m-> 1829\u001b[0m         \u001b[38;5;28mself\u001b[39m\u001b[38;5;241m.\u001b[39mblocks \u001b[38;5;241m=\u001b[39m \u001b[43m_consolidate\u001b[49m\u001b[43m(\u001b[49m\u001b[38;5;28;43mself\u001b[39;49m\u001b[38;5;241;43m.\u001b[39;49m\u001b[43mblocks\u001b[49m\u001b[43m)\u001b[49m\n\u001b[1;32m   1830\u001b[0m         \u001b[38;5;28mself\u001b[39m\u001b[38;5;241m.\u001b[39m_is_consolidated \u001b[38;5;241m=\u001b[39m \u001b[38;5;28;01mTrue\u001b[39;00m\n\u001b[1;32m   1831\u001b[0m         \u001b[38;5;28mself\u001b[39m\u001b[38;5;241m.\u001b[39m_known_consolidated \u001b[38;5;241m=\u001b[39m \u001b[38;5;28;01mTrue\u001b[39;00m\n",
      "File \u001b[0;32m~/.local/lib/python3.8/site-packages/pandas/core/internals/managers.py:2272\u001b[0m, in \u001b[0;36m_consolidate\u001b[0;34m(blocks)\u001b[0m\n\u001b[1;32m   2270\u001b[0m new_blocks: \u001b[38;5;28mlist\u001b[39m[Block] \u001b[38;5;241m=\u001b[39m []\n\u001b[1;32m   2271\u001b[0m \u001b[38;5;28;01mfor\u001b[39;00m (_can_consolidate, dtype), group_blocks \u001b[38;5;129;01min\u001b[39;00m grouper:\n\u001b[0;32m-> 2272\u001b[0m     merged_blocks, _ \u001b[38;5;241m=\u001b[39m \u001b[43m_merge_blocks\u001b[49m\u001b[43m(\u001b[49m\n\u001b[1;32m   2273\u001b[0m \u001b[43m        \u001b[49m\u001b[38;5;28;43mlist\u001b[39;49m\u001b[43m(\u001b[49m\u001b[43mgroup_blocks\u001b[49m\u001b[43m)\u001b[49m\u001b[43m,\u001b[49m\u001b[43m \u001b[49m\u001b[43mdtype\u001b[49m\u001b[38;5;241;43m=\u001b[39;49m\u001b[43mdtype\u001b[49m\u001b[43m,\u001b[49m\u001b[43m \u001b[49m\u001b[43mcan_consolidate\u001b[49m\u001b[38;5;241;43m=\u001b[39;49m\u001b[43m_can_consolidate\u001b[49m\n\u001b[1;32m   2274\u001b[0m \u001b[43m    \u001b[49m\u001b[43m)\u001b[49m\n\u001b[1;32m   2275\u001b[0m     new_blocks \u001b[38;5;241m=\u001b[39m extend_blocks(merged_blocks, new_blocks)\n\u001b[1;32m   2276\u001b[0m \u001b[38;5;28;01mreturn\u001b[39;00m \u001b[38;5;28mtuple\u001b[39m(new_blocks)\n",
      "File \u001b[0;32m~/.local/lib/python3.8/site-packages/pandas/core/internals/managers.py:2304\u001b[0m, in \u001b[0;36m_merge_blocks\u001b[0;34m(blocks, dtype, can_consolidate)\u001b[0m\n\u001b[1;32m   2301\u001b[0m     new_values \u001b[38;5;241m=\u001b[39m bvals2[\u001b[38;5;241m0\u001b[39m]\u001b[38;5;241m.\u001b[39m_concat_same_type(bvals2, axis\u001b[38;5;241m=\u001b[39m\u001b[38;5;241m0\u001b[39m)\n\u001b[1;32m   2303\u001b[0m argsort \u001b[38;5;241m=\u001b[39m np\u001b[38;5;241m.\u001b[39margsort(new_mgr_locs)\n\u001b[0;32m-> 2304\u001b[0m new_values \u001b[38;5;241m=\u001b[39m \u001b[43mnew_values\u001b[49m\u001b[43m[\u001b[49m\u001b[43margsort\u001b[49m\u001b[43m]\u001b[49m\n\u001b[1;32m   2305\u001b[0m new_mgr_locs \u001b[38;5;241m=\u001b[39m new_mgr_locs[argsort]\n\u001b[1;32m   2307\u001b[0m bp \u001b[38;5;241m=\u001b[39m BlockPlacement(new_mgr_locs)\n",
      "\u001b[0;31mMemoryError\u001b[0m: Unable to allocate 20.3 GiB for an array with shape (250, 10915362) and data type object"
     ]
    },
    {
     "ename": "",
     "evalue": "",
     "output_type": "error",
     "traceback": [
      "\u001b[1;31mThe Kernel crashed while executing code in the the current cell or a previous cell. Please review the code in the cell(s) to identify a possible cause of the failure. Click <a href='https://aka.ms/vscodeJupyterKernelCrash'>here</a> for more info. View Jupyter <a href='command:jupyter.viewOutput'>log</a> for further details."
     ]
    }
   ],
   "source": [
    "df = pd.read_csv('Consensus_CompoundBioactivity_Dataset_v1.1.csv')\n",
    "print(len(df))"
   ]
  },
  {
   "cell_type": "code",
   "execution_count": 42,
   "metadata": {},
   "outputs": [
    {
     "name": "stdout",
     "output_type": "stream",
     "text": [
      "Number of neg. log data: 9788144\n",
      "Number of % data: 513083\n",
      "percent of neg.log and % data in df: 0.94\n"
     ]
    }
   ],
   "source": [
    "# data V1: filtered by unit\n",
    "\n",
    "# print top10 unit value_counts\n",
    "print(df['Unit'].value_counts().head(10))\n",
    "\n",
    "df_neglog = df[df['Unit'] == 'neg. log']\n",
    "df_percentage = df[df['Unit'] == '%']\n",
    "\n",
    "print('Number of neg. log data:', len(df_neglog))\n",
    "print('Number of % data:', len(df_percentage))\n",
    "percent = (len(df_neglog) + len(df_percentage)) / len(df)\n",
    "print(f'percent of neg.log and % data in df: {percent:.2f}')\n",
    "\n",
    "df_neglog = df_neglog.reset_index(drop=True)\n",
    "df_percentage = df_percentage.reset_index(drop=True)\n",
    "df_neglog.to_csv('bioactive_data_v1.csv', index=None)\n",
    "df_percentage.to_csv('nonbinder_data_v1.csv', index=None)"
   ]
  },
  {
   "cell_type": "code",
   "execution_count": 43,
   "metadata": {},
   "outputs": [
    {
     "name": "stdout",
     "output_type": "stream",
     "text": [
      "Activity type\n",
      "pIC50           4249504\n",
      "pPotency        3189104\n",
      "pKi             1149143\n",
      "pKd              633932\n",
      "pEC50            332398\n",
      "pAC50            135149\n",
      "pKd apparent      60259\n",
      "pKb                5445\n",
      "pActivity          4259\n",
      "pINH               3006\n",
      "Name: count, dtype: int64\n",
      "percent of top5 Activity type in df_neglog: 0.98\n",
      "Activity type\n",
      "Inhibition            339590\n",
      "Activity               84456\n",
      "Residual Activity      32232\n",
      "Emax                   15657\n",
      "Efficacy               12841\n",
      "%max                    3831\n",
      "Imax                    3072\n",
      "Intrinsic activity      2295\n",
      "RBA                     1680\n",
      "max activation          1077\n",
      "Name: count, dtype: int64\n",
      "percent of top5 Activity type in df_percentile: 0.94\n",
      "Number of neg. log data: 9554081\n",
      "Number of % data: 484776\n"
     ]
    }
   ],
   "source": [
    "# data V2: filtered by activity type\n",
    "# df_neglog = pd.read_csv('bioactive_data_v1.csv')\n",
    "# df_percentage = pd.read_csv('nonbinder_data_v1.csv')\n",
    "\n",
    "# print top10 Activity type value_counts\n",
    "print(df_neglog['Activity type'].value_counts().head(10))\n",
    "percent = df_neglog['Activity type'].value_counts().head(5).sum() / len(df_neglog)\n",
    "print(f'percent of top5 Activity type in df_neglog: {percent:.2f}')\n",
    "print(df_percentage['Activity type'].value_counts().head(10))\n",
    "percent = df_percentage['Activity type'].value_counts().head(5).sum() / len(df_percentage)\n",
    "print(f'percent of top5 Activity type in df_percentage: {percent:.2f}')\n",
    "\n",
    "# select top5 Activity type in df_neglog and df_percentage\n",
    "df_neglog = df_neglog[df_neglog['Activity type'].isin(['pIC50', 'pPotency', 'pKi', 'pKd', 'pEC50'])]\n",
    "df_percentage = df_percentage[df_percentage['Activity type'].isin(['Inhibition', 'Activity', 'Residual Activity', 'Emax', 'Efficacy'])]\n",
    "print('Number of neg. log data:', len(df_neglog))\n",
    "print('Number of % data:', len(df_percentage))\n",
    "\n",
    "df_neglog = df_neglog.reset_index(drop=True)\n",
    "df_percentage = df_percentage.reset_index(drop=True)\n",
    "df_neglog.to_csv('bioactive_data_v2.csv', index=None)\n",
    "df_percentage.to_csv('nonbinder_data_v2.csv', index=None)"
   ]
  },
  {
   "cell_type": "code",
   "execution_count": 5,
   "metadata": {},
   "outputs": [
    {
     "name": "stderr",
     "output_type": "stream",
     "text": [
      "/tmp/ipykernel_1357100/288857178.py:2: DtypeWarning: Columns (0,2,7,8,9,10,11,12,13,14,15,16,17,18,19,20,21,22,23,24,25,26,27,28,29,30,31,32,33,34,35,36,37,38,39,41,52,63,74,85,90,91,92,93,94,95,96,97,98,99,100,101,102,103,104,105,106,107,108,109,110,111,112,113,114,115,116,117,118,119,125,130,131,132,133,134,135,136,137,138,139,140,141,142,143,144,145,146,147,148,150,151,152,153,154,155,156,157,158,159,160,161,162,163,164,165,166,167,168,169,170,171,172,173,174,175,176,177,178,179,180,181,182,183,184,185,186,187,188,189,190,191,192,193,194,195,196,197,198,199,200,211,222,233,241,243,244,245,246,247,248) have mixed types. Specify dtype option on import or set low_memory=False.\n",
      "  df_neglog = pd.read_csv('bioactive_data_v2.csv')\n",
      "/tmp/ipykernel_1357100/288857178.py:3: DtypeWarning: Columns (7,8,9,10,11,12,13,14,15,16,17,18,19,20,21,22,23,24,25,26,27,28,29,30,31,32,33,34,35,36,37,38,39,40,41,42,43,44,45,46,47,48,49,50,51,52,53,54,55,56,57,58,59,60,61,62,63,64,65,66,67,68,69,70,71,72,73,74,75,76,77,78,79,80,81,82,83,84,85,86,87,88,89,90,155,156,157,158,159,160,161,162,163,164,165,166,167,168,169,170,171,172,173,174,175,176,177,178,179,180,181,182,183,184,185,186,187,188,189,190,191,192,193,194,195,196,197,198,199,200,201,202,203,204,205,206,207,208,209,210,211,212,213,214,215,216,217,218,219,220,221,222,223,224,225,226,227,228,229,230,231,232,233,234,235,236,237,238,239,240,241,244,245,248) have mixed types. Specify dtype option on import or set low_memory=False.\n",
      "  df_percentile = pd.read_csv('nonbinder_data_v2.csv')\n",
      "Matching values: 100%|██████████| 9554081/9554081 [5:52:11<00:00, 452.11it/s]  \n",
      "Matching values: 100%|██████████| 484776/484776 [11:09<00:00, 723.87it/s]\n"
     ]
    }
   ],
   "source": [
    "# data V3: filtered by invalid bioactivity values\n",
    "df_neglog = pd.read_csv('bioactive_data_v2.csv')\n",
    "df_percentage = pd.read_csv('nonbinder_data_v2.csv')\n",
    "\n",
    "def value_match(data, type='neglog'):\n",
    "    # find the start and end index of the columns\n",
    "    st = np.where(data.columns == 'Mean_C (0)')[0][0]\n",
    "    ed = np.where(data.columns == 'Mean_PD (9)')[0][0]\n",
    "\n",
    "    for idx in tqdm(range(len(data)), desc='Matching values', miniters=1000):\n",
    "        values_df = data.iloc[idx, st:ed+1].dropna().str.extract(r'(\\d+(?:\\.\\d+)?).*\\((\\d+)\\)')\n",
    "        if values_df.empty:\n",
    "            data.loc[idx, 'Final Activity'] = 99999\n",
    "            continue\n",
    "        values_df = values_df.drop\n",
    "        values_df.columns = ['Value', 'Count']\n",
    "        values_df['Value'] = values_df['Value'].fillna(0).astype(float)\n",
    "        values_df['Count'] = values_df['Count'].fillna(0).astype(int)\n",
    "        if type == 'neglog':        \n",
    "            # find the average value of the bucket with the highest count\n",
    "            max_count_group = values_df.groupby('Count')['Value'].agg(['min', 'max', 'mean'])\n",
    "            max_count = max_count_group.index.max()\n",
    "            max_count_values = max_count_group.loc[max_count]\n",
    "            \n",
    "            if max_count_values['max'] - max_count_values['min'] >= 1:\n",
    "                data.loc[idx, 'Final Activity'] = None\n",
    "            else:\n",
    "                data.loc[idx, 'Final Activity'] = max_count_values['mean']\n",
    "        elif type == 'percentage':\n",
    "            # find the max value among all values\n",
    "            max_value = values_df['Value'].max()\n",
    "            data.loc[idx, 'Final Activity'] = max_value\n",
    "    return data\n",
    "\n",
    "# it cost about 6 hours\n",
    "# one tips for speed up: use the parallel processing\n",
    "df_neglog = value_match(df_neglog, type='neglog')\n",
    "\n",
    "# it cost about 11 minutes\n",
    "df_percentage = value_match(df_percentage, type='percentage')\n",
    "\n",
    "st = np.where(df_neglog.columns == 'Mean_C (0)')[0][0]\n",
    "ed = np.where(df_percentage.columns == 'Mean_PD (9)')[0][0]\n",
    "col = df_neglog.columns[st:ed+1]\n",
    "\n",
    "len_neglog = len(df_neglog)\n",
    "df_neglog = df_neglog[df_neglog['Final Activity'] != 99999]\n",
    "df_neglog = df_neglog.dropna(subset=['y'])\n",
    "print(f'Number of invalid bioactivity values in df_neglog (Nan and Variance too large): {len_neglog - len(df_neglog)}')\n",
    "print('Number of neg. log data:', len(df_neglog))\n",
    "\n",
    "len_percentage = len(df_percentage)\n",
    "df_percentage = df_percentage.dropna(subset=['y'])\n",
    "print(f'Number of invalid bioactivity values in df_percentage (Nan): {len_percentage - len(df_percentage)}')\n",
    "print('Number of % data:', len(df_percentage))\n",
    "\n",
    "df_neglog.drop(col, axis=1).to_csv('bioactive_data_v3.csv', index=None)\n",
    "df_percentage.drop(col, axis=1).to_csv('nonbinder_data_v3.csv', index=None)"
   ]
  },
  {
   "cell_type": "code",
   "execution_count": 65,
   "metadata": {},
   "outputs": [
    {
     "name": "stderr",
     "output_type": "stream",
     "text": [
      "/tmp/ipykernel_1357100/883990563.py:4: DtypeWarning: Columns (7,8,9,10,11,12,13,14,15,16,17,18,19,20,21,22,23,24,25,26,27,28,29,30,31,32,33,34,35,36,37,38,39,40,41,42,43,44,45,46,47,48,49,50,51,52,53,54,55,56,57,58,59,60,61,62,63,64,65,66,67,68,69,70,71,72,73,74,75,76,77,78,79,80,81,82,83,84,85,86,87,88,89,90,155,156,157,158,159,160,161,162,163,164,165,166,167,168,169,170,171,172,173,174,175,176,177,178,179,180,181,182,183,184,185,186,187,188,189,190,191,192,193,194,195,196,197,198,199,200,201,202,203,204,205,206,207,208,209,210,211,212,213,214,215,216,217,218,219,220,221,222,223,224,225,226,227,228,229,230,231,232,233,234,235,236,237,238,239,240,241,244,245,248) have mixed types. Specify dtype option on import or set low_memory=False.\n",
      "  df_percentile = pd.read_csv('nonbinder_data_v2.csv')\n",
      "Matching values: 100%|██████████| 484776/484776 [15:33<00:00, 519.51it/s] \n"
     ]
    }
   ],
   "source": [
    "# supplementary\n",
    "df_neglog = pd.read_csv('bioactive_data_v2.csv')\n",
    "len_neglog = len(df_neglog)\n",
    "df_percentage = pd.read_csv('nonbinder_data_v2.csv')\n",
    "len_percentage = len(df_percentage)\n",
    "\n",
    "def value_match(data, type='neglog'):\n",
    "    # find the start and end index of the columns\n",
    "    st = np.where(data.columns == 'Mean_C (0)')[0][0]\n",
    "    ed = np.where(data.columns == 'Mean_PD (9)')[0][0]\n",
    "\n",
    "    for idx in tqdm(range(len(data)), desc='Matching values', miniters=1000):\n",
    "        values_df = data.iloc[idx, st:ed+1].dropna().str.extract(r'(\\d+(?:\\.\\d+)?).*\\((\\d+)\\)')\n",
    "        values_df = values_df.dropna()\n",
    "        if values_df.empty:\n",
    "            data.loc[idx, 'y'] = 99999\n",
    "            continue\n",
    "        values_df.columns = ['Value', 'Count']\n",
    "        values_df['Value'] = values_df['Value'].fillna(99999).astype(float)\n",
    "        values_df['Count'] = values_df['Count'].fillna(0).astype(int)\n",
    "        if type == 'neglog':        \n",
    "            # find the average value of the bucket with the highest count\n",
    "            max_count_group = values_df.groupby('Count')['Value'].agg(['min', 'max', 'mean'])\n",
    "            max_count = max_count_group.index.max()\n",
    "            max_count_values = max_count_group.loc[max_count]\n",
    "            \n",
    "            if max_count_values['max'] - max_count_values['min'] >= 1:\n",
    "                data.loc[idx, 'y'] = None\n",
    "            else:\n",
    "                data.loc[idx, 'y'] = max_count_values['mean']\n",
    "        elif type == 'percentage':\n",
    "            # find the max value among all values\n",
    "            max_value = values_df['Value'].max()\n",
    "            data.loc[idx, 'y'] = max_value\n",
    "    return data\n",
    "\n",
    "df_percentage_ = value_match(df_percentage, type='percentage')\n",
    "df_percentage = df_percentage_.dropna(subset=['y'])\n",
    "df_percentage = df_percentage[df_percentage['y'] <= 100]\n",
    "\n",
    "df_percentage = df_percentage[df_percentage['y'] < 12]\n",
    "\n",
    "print('Number of invalid bioactivity values in df_neglog (Nan and Variance too large):', len_neglog - len(df_neglog))\n",
    "print('Number of neg. log data:', len(df_neglog))\n",
    "print('Number of invalid bioactivity values in df_percentage (Nan):', len_percentage - len(df_percentage))\n",
    "print('Number of % data:', len(df_percentage))\n",
    "\n",
    "df_neglog.to_csv('bioactive_data_v3.csv', index=None)\n",
    "df_percentage.to_csv('nonbinder_data_v3.csv', index=None)"
   ]
  },
  {
   "cell_type": "code",
   "execution_count": 5,
   "metadata": {},
   "outputs": [
    {
     "name": "stderr",
     "output_type": "stream",
     "text": [
      "/tmp/ipykernel_1182352/493893893.py:1: DtypeWarning: Columns (2,9,10,11,12,13) have mixed types. Specify dtype option on import or set low_memory=False.\n",
      "  df_neglog = pd.read_csv('bioactive_data_v3.csv')\n"
     ]
    },
    {
     "name": "stdout",
     "output_type": "stream",
     "text": [
      "9357795\n"
     ]
    },
    {
     "name": "stderr",
     "output_type": "stream",
     "text": [
      "/tmp/ipykernel_1182352/493893893.py:3: DtypeWarning: Columns (7,8,9,10,11,12,13,14,15,16,17,18,19,20,21,22,23,24,25,26,27,28,29,30,31,32,33,34,35,36,37,38,39,40,41,42,43,44,45,46,47,48,49,50,51,52,53,54,55,56,57,58,59,60,61,62,63,64,65,66,67,68,69,70,71,72,73,74,75,76,77,78,79,80,81,82,83,84,85,86,87,88,89,90,155,156,157,158,159,160,161,162,163,164,165,166,167,168,169,170,171,172,173,174,175,176,177,178,179,180,181,182,183,184,185,186,187,188,189,190,191,192,193,194,195,196,197,198,199,200,201,202,203,204,205,206,207,208,209,210,211,212,213,214,215,216,217,218,219,220,221,222,223,224,225,226,227,228,229,230,231,232,233,234,235,236,237,238,239,240,241,244,245,248) have mixed types. Specify dtype option on import or set low_memory=False.\n",
      "  df_percentage = pd.read_csv('nonbinder_data_v3.csv')\n"
     ]
    },
    {
     "name": "stdout",
     "output_type": "stream",
     "text": [
      "444021\n",
      "9801816\n"
     ]
    }
   ],
   "source": [
    "df_neglog = pd.read_csv('bioactive_data_v3.csv')\n",
    "print(len(df_neglog))\n",
    "df_percentage = pd.read_csv('nonbinder_data_v3.csv')\n",
    "print(len(df_percentage))\n",
    "print(len(df_neglog) + len(df_percentage))"
   ]
  },
  {
   "cell_type": "code",
   "execution_count": 2,
   "metadata": {},
   "outputs": [
    {
     "name": "stderr",
     "output_type": "stream",
     "text": [
      "/tmp/ipykernel_392908/2318167376.py:1: DtypeWarning: Columns (2,9,10,11,12,13) have mixed types. Specify dtype option on import or set low_memory=False.\n",
      "  df = pd.read_csv('EquiVS/bioactive_data_v3.csv')\n"
     ]
    }
   ],
   "source": [
    "df = pd.read_csv('EquiVS/bioactive_data_v3.csv')\n"
   ]
  },
  {
   "cell_type": "code",
   "execution_count": 6,
   "metadata": {},
   "outputs": [
    {
     "data": {
      "text/plain": [
       "Index(['ChEMBL ID', 'PubChem ID', 'IUPHAR ID', 'Target', 'Activity type',\n",
       "       'Assay type', 'Unit', 'Activity check annotation', 'Ligand names',\n",
       "       'SMILES (Canonical)_C', 'SMILES (Canonical)_PC', 'SMILES (Canonical)_B',\n",
       "       'SMILES (Canonical)_I', 'SMILES (Canonical)_PD',\n",
       "       'Structure check (Tanimoto)', 'Source', 'Final Activity'],\n",
       "      dtype='object')"
      ]
     },
     "execution_count": 6,
     "metadata": {},
     "output_type": "execute_result"
    }
   ],
   "source": [
    "df.columns"
   ]
  },
  {
   "cell_type": "code",
   "execution_count": 81,
   "metadata": {},
   "outputs": [
    {
     "name": "stderr",
     "output_type": "stream",
     "text": [
      "/tmp/ipykernel_1357100/4014825625.py:7: DtypeWarning: Columns (7,8,9,10,11,12,13,14,15,16,17,18,19,20,21,22,23,24,25,26,27,28,29,30,31,32,33,34,35,36,37,38,39,40,41,42,43,44,45,46,47,48,49,50,51,52,53,54,55,56,57,58,59,60,61,62,63,64,65,66,67,68,69,70,71,72,73,74,75,76,77,78,79,80,81,82,83,84,85,86,87,88,89,90,155,156,157,158,159,160,161,162,163,164,165,166,167,168,169,170,171,172,173,174,175,176,177,178,179,180,181,182,183,184,185,186,187,188,189,190,191,192,193,194,195,196,197,198,199,200,201,202,203,204,205,206,207,208,209,210,211,212,213,214,215,216,217,218,219,220,221,222,223,224,225,226,227,228,229,230,231,232,233,234,235,236,237,238,239,240,241,244,245,248) have mixed types. Specify dtype option on import or set low_memory=False.\n",
      "  df_percentile = pd.read_csv('nonbinder_data_v3.csv')\n"
     ]
    },
    {
     "name": "stdout",
     "output_type": "stream",
     "text": [
      "Number of % data: 443158\n",
      "Number of inconsistent SMILES in df_percentile: 863\n"
     ]
    }
   ],
   "source": [
    "# data V4: filter invalid SMILES represented by SMILES\n",
    "import molvs\n",
    "from rdkit import Chem\n",
    "\n",
    "df_neglog = pd.read_csv('bioactive_data_v3.csv')\n",
    "df_percentage = pd.read_csv('nonbinder_data_v3.csv')\n",
    "len_neglog = len(df_neglog)\n",
    "len_percentage = len(df_percentage)\n",
    "\n",
    "df_neglog = df_neglog[df_neglog['Structure check (Tanimoto)'].isin(['1 structure', 'match'])]\n",
    "df_percentage = df_percentage[df_percentage['Structure check (Tanimoto)'].isin(['1 structure', 'match'])]\n",
    "\n",
    "def get_same_smiles(row):\n",
    "    values = row[['SMILES (Canonical)_C', 'SMILES (Canonical)_PC', 'SMILES (Canonical)_B',\n",
    "                  'SMILES (Canonical)_I', 'SMILES (Canonical)_PD']]\n",
    "    non_null_values = values.dropna().iloc[0]\n",
    "    return non_null_values\n",
    "\n",
    "df_neglog['SMILES'] = df_neglog.apply(get_same_smiles, axis=1)\n",
    "df_neglog = df_neglog.dropna(subset=['SMILES'])\n",
    "df_percentage['SMILES'] = df_percentage.apply(get_same_smiles, axis=1)\n",
    "df_percentage = df_percentage.dropna(subset=['SMILES'])\n",
    "\n",
    "print('Number of neg. log data:', len(df_neglog))\n",
    "print('Number of % data:', len(df_percentage))\n",
    "print('Number of inconsistent SMILES in df_neglog:', len_neglog - len(df_neglog))\n",
    "print('Number of inconsistent SMILES in df_percentage:', len_percentage - len(df_percentage))"
   ]
  },
  {
   "cell_type": "code",
   "execution_count": 83,
   "metadata": {},
   "outputs": [
    {
     "name": "stderr",
     "output_type": "stream",
     "text": [
      "/tmp/ipykernel_1357100/1775026804.py:3: DtypeWarning: Columns (2,9,10,11,12,13) have mixed types. Specify dtype option on import or set low_memory=False.\n",
      "  df_neglog = pd.read_csv('bioactive_data_v4.csv')\n",
      "/tmp/ipykernel_1357100/1775026804.py:4: DtypeWarning: Columns (7,8,9,10,11,12,13,14,15,16,17,18,19,20,21,22,23,24,25,26,27,28,29,30,31,32,33,34,35,36,37,38,39,40,41,42,43,44,45,46,47,48,49,50,51,52,53,54,55,56,57,58,59,60,61,62,63,64,65,66,67,68,69,70,71,72,73,74,75,76,77,78,79,80,81,82,83,84,85,86,87,88,89,90,155,156,157,158,159,160,161,162,163,164,165,166,167,168,169,170,171,172,173,174,175,176,177,178,179,180,181,182,183,184,185,186,187,188,189,190,191,192,193,194,195,196,197,198,199,200,201,202,203,204,205,206,207,208,209,210,211,212,213,214,215,216,217,218,219,220,221,222,223,224,225,226,227,228,229,230,231,232,233,234,235,236,237,238,239,240,241,244,245,248) have mixed types. Specify dtype option on import or set low_memory=False.\n",
      "  df_percentile = pd.read_csv('nonbinder_data_v4.csv')\n",
      "[21:50:53] Can't kekulize mol.  Unkekulized atoms: 3 10\n",
      "[21:50:53] Can't kekulize mol.  Unkekulized atoms: 3 5\n"
     ]
    },
    {
     "name": "stdout",
     "output_type": "stream",
     "text": [
      "Error: [K+] is invalid\n",
      "Error: [Na+] is invalid\n",
      "Error: [F-] is invalid\n"
     ]
    },
    {
     "name": "stderr",
     "output_type": "stream",
     "text": [
      "[21:55:13] Can't kekulize mol.  Unkekulized atoms: 0 3 5 6 8 9 12\n"
     ]
    },
    {
     "name": "stdout",
     "output_type": "stream",
     "text": [
      "Error: S is invalid\n",
      "Error: [Zn+2] is invalid\n",
      "Error: [Zn] is invalid\n",
      "Error: Br is invalid\n",
      "Error: Cl is invalid\n",
      "Error: F is invalid\n",
      "Error: I is invalid\n",
      "Error: [Li+] is invalid\n"
     ]
    },
    {
     "name": "stderr",
     "output_type": "stream",
     "text": [
      "[22:00:46] Can't kekulize mol.  Unkekulized atoms: 3 5\n",
      "[22:01:23] Can't kekulize mol.  Unkekulized atoms: 3 5 26 27 28 29\n",
      "[22:01:24] Can't kekulize mol.  Unkekulized atoms: 3 5 25 26 27 28\n",
      "[22:01:31] Can't kekulize mol.  Unkekulized atoms: 3 11 12 15 16 19\n",
      "[22:01:35] Can't kekulize mol.  Unkekulized atoms: 3 5 26 27 28 29\n",
      "[22:02:04] Can't kekulize mol.  Unkekulized atoms: 3 4 6 7 10 11\n",
      "[22:02:04] Can't kekulize mol.  Unkekulized atoms: 3 5 6 7 9 10\n"
     ]
    },
    {
     "name": "stdout",
     "output_type": "stream",
     "text": [
      "Error: [I-] is invalid\n",
      "Error: [Br-] is invalid\n",
      "Error: [Cl-] is invalid\n",
      "Error: [SH-] is invalid\n"
     ]
    },
    {
     "name": "stderr",
     "output_type": "stream",
     "text": [
      "[22:02:23] Can't kekulize mol.  Unkekulized atoms: 3 5\n",
      "[22:02:23] Can't kekulize mol.  Unkekulized atoms: 3 5\n",
      "[22:02:24] Can't kekulize mol.  Unkekulized atoms: 3 5 27 28 29 31\n",
      "[22:02:30] Can't kekulize mol.  Unkekulized atoms: 3 9 10 13 14 17\n",
      "[22:02:54] Can't kekulize mol.  Unkekulized atoms: 3 5 27 28 29 31\n",
      "[22:03:01] Can't kekulize mol.  Unkekulized atoms: 3 5 25 26 27 29\n",
      "[22:03:42] Can't kekulize mol.  Unkekulized atoms: 3 5 32 33 34 35\n",
      "[22:03:53] Can't kekulize mol.  Unkekulized atoms: 3 11 12 15 16 19\n",
      "[22:04:07] Can't kekulize mol.  Unkekulized atoms: 3 5 24 25 26 27\n",
      "[22:04:24] Can't kekulize mol.  Unkekulized atoms: 3 9 10 13 14 17\n",
      "[22:05:17] Can't kekulize mol.  Unkekulized atoms: 0 2 3 4 6 7 12 13 16\n",
      "[22:05:22] Can't kekulize mol.  Unkekulized atoms: 3 5\n",
      "[22:05:24] Can't kekulize mol.  Unkekulized atoms: 3 10\n",
      "[22:05:51] Can't kekulize mol.  Unkekulized atoms: 3 5\n",
      "[22:06:35] Can't kekulize mol.  Unkekulized atoms: 0 2 3 4 7\n",
      "[22:06:52] Can't kekulize mol.  Unkekulized atoms: 3 5\n",
      "[22:07:30] Unusual charge on atom 5 number of radical electrons set to zero\n",
      "[22:07:30] Unusual charge on atom 0 number of radical electrons set to zero\n",
      "[22:07:30] Unusual charge on atom 0 number of radical electrons set to zero\n",
      "[22:07:30] Unusual charge on atom 0 number of radical electrons set to zero\n",
      "[22:08:23] Can't kekulize mol.  Unkekulized atoms: 3 5 33 34 35 36\n",
      "[22:08:53] Can't kekulize mol.  Unkekulized atoms: 0 3 6\n",
      "[22:11:19] Can't kekulize mol.  Unkekulized atoms: 3 15\n",
      "[22:11:43] Can't kekulize mol.  Unkekulized atoms: 3 5 25 26 27 28\n",
      "[22:11:45] Can't kekulize mol.  Unkekulized atoms: 3 9 10 11 12 13\n",
      "[22:13:03] Can't kekulize mol.  Unkekulized atoms: 3 5 27 28 29 30\n",
      "[22:13:05] Can't kekulize mol.  Unkekulized atoms: 3 7\n",
      "[22:16:09] Unusual charge on atom 4 number of radical electrons set to zero\n",
      "[22:16:09] Unusual charge on atom 0 number of radical electrons set to zero\n",
      "[22:16:09] Unusual charge on atom 16 number of radical electrons set to zero\n",
      "[22:16:09] Unusual charge on atom 16 number of radical electrons set to zero\n"
     ]
    },
    {
     "name": "stdout",
     "output_type": "stream",
     "text": [
      "Error: [S] is invalid\n",
      "Error: N is invalid\n",
      "Error: [Zn+2] is invalid\n",
      "Error: [Ba+2] is invalid\n",
      "Error: [K+] is invalid\n"
     ]
    },
    {
     "name": "stderr",
     "output_type": "stream",
     "text": [
      "[22:18:30] Can't kekulize mol.  Unkekulized atoms: 3 10\n"
     ]
    },
    {
     "name": "stdout",
     "output_type": "stream",
     "text": [
      "Error: [Cs+] is invalid\n",
      "Error: [Na+] is invalid\n"
     ]
    },
    {
     "name": "stderr",
     "output_type": "stream",
     "text": [
      "[22:20:51] Unusual charge on atom 4 number of radical electrons set to zero\n",
      "[22:20:51] Unusual charge on atom 0 number of radical electrons set to zero\n",
      "[22:20:51] Unusual charge on atom 16 number of radical electrons set to zero\n",
      "[22:20:51] Unusual charge on atom 16 number of radical electrons set to zero\n"
     ]
    },
    {
     "name": "stdout",
     "output_type": "stream",
     "text": [
      "Number of neg. log data: 9331434\n",
      "Number of % data: 443099\n",
      "Number of invalid SMILES in df_neglog: 1303\n",
      "Number of invalid SMILES in df_percentile: 59\n"
     ]
    }
   ],
   "source": [
    "# data V5: filter invalid molecule structure represented by SMILES\n",
    "# it will cost about 1 hour\n",
    "\n",
    "import molvs\n",
    "\n",
    "df_neglog = pd.read_csv('bioactive_data_v4.csv')\n",
    "df_percentage = pd.read_csv('nonbinder_data_v4.csv')\n",
    "len_neglog = len(df_neglog)\n",
    "len_percentage = len(df_percentage)\n",
    "\n",
    "def check_molecule(smiles):\n",
    "    try:\n",
    "        mol = molvs.Standardizer().standardize(Chem.MolFromSmiles(smiles))\n",
    "        if mol is None:\n",
    "            return None\n",
    "        else:\n",
    "            if mol.GetNumAtoms() <= 1:\n",
    "                print(f'Error: {smiles} is invalid')\n",
    "                return None\n",
    "            else:\n",
    "                return Chem.MolToSmiles(mol, isomericSmiles=True)\n",
    "    except:\n",
    "        print(f'Error: {smiles} is invalid')\n",
    "        return None\n",
    "\n",
    "\n",
    "smiles_neglog = df_neglog['SMILES'].unique()\n",
    "smiles_percentage = df_percentage['SMILES'].unique()\n",
    "smiles_dict_neglog = dict(zip(smiles_neglog, [check_molecule(smiles) for smiles in smiles_neglog]))\n",
    "smiles_dict_percentage = dict(zip(smiles_percentage, [check_molecule(smiles) for smiles in smiles_percentage]))\n",
    "\n",
    "df_neglog['SMILES'] = df_neglog['SMILES'].map(smiles_dict_neglog)\n",
    "df_percentage['SMILES'] = df_percentage['SMILES'].map(smiles_dict_percentage)\n",
    "df_neglog = df_neglog.dropna(subset=['SMILES'])\n",
    "df_percentage = df_percentage.dropna(subset=['SMILES'])\n",
    "\n",
    "print('Number of neg. log data:', len(df_neglog))\n",
    "print('Number of % data:', len(df_percentage))\n",
    "print('Number of invalid molecule structure in df_neglog:', len_neglog - len(df_neglog))\n",
    "print('Number of invalid molecule structure in df_percentage:', len_percentage - len(df_percentage))\n",
    "\n",
    "df_neglog.to_csv('bioactive_data_v5.csv', index=None)\n",
    "df_percentage.to_csv('nonbinder_data_v5.csv', index=None)"
   ]
  },
  {
   "cell_type": "code",
   "execution_count": 133,
   "metadata": {},
   "outputs": [
    {
     "name": "stderr",
     "output_type": "stream",
     "text": [
      "/tmp/ipykernel_1357100/568406889.py:4: DtypeWarning: Columns (2,9,10,11,12,13) have mixed types. Specify dtype option on import or set low_memory=False.\n",
      "  df_neglog = pd.read_csv('bioactive_data_v5.csv')\n",
      "/tmp/ipykernel_1357100/568406889.py:5: DtypeWarning: Columns (7,8,9,10,11,12,13,14,15,16,17,18,19,20,21,22,23,24,25,26,27,28,29,30,31,32,33,34,35,36,37,38,39,40,41,42,43,44,45,46,47,48,49,50,51,52,53,54,55,56,57,58,59,60,61,62,63,64,65,66,67,68,69,70,71,72,73,74,75,76,77,78,79,80,81,82,83,84,85,86,87,88,89,90,155,156,157,158,159,160,161,162,163,164,165,166,167,168,169,170,171,172,173,174,175,176,177,178,179,180,181,182,183,184,185,186,187,188,189,190,191,192,193,194,195,196,197,198,199,200,201,202,203,204,205,206,207,208,209,210,211,212,213,214,215,216,217,218,219,220,221,222,223,224,225,226,227,228,229,230,231,232,233,234,235,236,237,238,239,240,241,244,245,248) have mixed types. Specify dtype option on import or set low_memory=False.\n",
      "  df_percentile = pd.read_csv('nonbinder_data_v5.csv')\n"
     ]
    },
    {
     "name": "stdout",
     "output_type": "stream",
     "text": [
      "Number of neg. log data: 7582260\n",
      "Number of % data: 408294\n",
      "Number of invalid protein data in df_neglog: 1749174\n",
      "Number of invalid protein data in df_percentile: 34805\n"
     ]
    }
   ],
   "source": [
    "# data V6: filter invalid protein data without an available Uniprot ID\n",
    "# first transfer HGNC symbol to Uniprot ID using UniPort ID mapping\n",
    "\n",
    "df_neglog = pd.read_csv('bioactive_data_v5.csv')\n",
    "df_percentage = pd.read_csv('nonbinder_data_v5.csv')\n",
    "len_neglog = len(df_neglog)\n",
    "len_percentage = len(df_percentage)\n",
    "\n",
    "hgnc = set(df_neglog['Target'].unique()) | set(df_percentage['Target'].unique())\n",
    "hgnc = list(hgnc)\n",
    "hgnc = [i.upper() for i in hgnc]\n",
    "# with open('hgnc.txt', 'w') as f:\n",
    "#     f.write('\\n'.join(hgnc))\n",
    "# f.close()\n",
    "\n",
    "# download HGNC-UniProt ID mapping .txt file from url\n",
    "\n",
    "# import requests\n",
    "\n",
    "# url = \"https://www.genenames.org/cgi-bin/download/custom?col=gd_hgnc_id&col=gd_app_sym&col=gd_app_name&col=gd_status&col=gd_prev_sym&col=gd_aliases&col=gd_pub_chrom_map&col=gd_pub_acc_ids&col=gd_pub_refseq_ids&col=md_prot_id&status=Approved&status=Entry%20Withdrawn&hgnc_dbtag=on&order_by=gd_app_sym_sort&format=text&submit=submit\"\n",
    "\n",
    "# response = requests.get(url)\n",
    "\n",
    "# if response.status_code == 200:\n",
    "#     filename = \"hgnc_uniprot.txt\"\n",
    "#     with open(filename, 'w') as file:\n",
    "#         file.write(response.text)\n",
    "#     print(f\"File {filename} has been downloaded\")\n",
    "# else:\n",
    "#     print(\"Error\")\n",
    "\n",
    "df_neglog = df_neglog.dropna(subset=['Target'])\n",
    "df_percentage = df_percentage.dropna(subset=['Target'])\n",
    "\n",
    "hgnc_uni_df  = pd.read_csv('hgnc_uniprot.txt', sep='\\t')\n",
    "all_hgnc = hgnc_uni_df ['Approved symbol'].unique()\n",
    "match_hgnc = list(set(hgnc) & set(all_hgnc))\n",
    "match_hgnc_uni_df = hgnc_uni_df[hgnc_uni_df['Approved symbol'].isin(match_hgnc)]\n",
    "match_hgnc_uni_df = match_hgnc_uni_df.dropna(subset=['UniProt ID(supplied by UniProt)'])\n",
    "hgnc_uni_dict = dict(zip(match_hgnc_uni_df['Approved symbol'],\n",
    "                     match_hgnc_uni_df['UniProt ID(supplied by UniProt)']))\n",
    "\n",
    "df_neglog['Uniprot ID'] = df_neglog['Target'].map(\n",
    "                          lambda x: hgnc_uni_dict[x.upper()] \n",
    "                          if x.upper() in hgnc_uni_dict else None)\n",
    "df_percentage['Uniprot ID'] = df_percentage['Target'].map(\n",
    "                          lambda x: hgnc_uni_dict[x.upper()] \n",
    "                          if x.upper() in hgnc_uni_dict else None)\n",
    "df_neglog = df_neglog.dropna(subset=['Uniprot ID'])\n",
    "df_percentage = df_percentage.dropna(subset=['Uniprot ID'])\n",
    "\n",
    "print('Number of neg. log data:', len(df_neglog))\n",
    "print('Number of % data:', len(df_percentage))\n",
    "print('Number of invalid protein data in df_neglog:', len_neglog - len(df_neglog))\n",
    "print('Number of invalid protein data in df_percentage:', len_percentage - len(df_percentage))\n",
    "\n",
    "df_neglog.to_csv('bioactive_data_v6.csv', index=None)\n",
    "df_percentage.to_csv('nonbinder_data_v6.csv', index=None)"
   ]
  },
  {
   "cell_type": "code",
   "execution_count": 30,
   "metadata": {},
   "outputs": [
    {
     "name": "stderr",
     "output_type": "stream",
     "text": [
      "/tmp/ipykernel_1982178/2096120634.py:2: DtypeWarning: Columns (2,9,10,11,12,13) have mixed types. Specify dtype option on import or set low_memory=False.\n",
      "  df_neglog = pd.read_csv('bioactive_data_v6.csv')\n",
      "/tmp/ipykernel_1982178/2096120634.py:3: DtypeWarning: Columns (7,8,9,10,11,12,13,14,15,16,17,18,19,20,21,22,23,24,25,26,27,28,29,30,31,32,33,34,35,36,37,38,39,40,41,42,43,44,45,46,47,48,49,50,51,52,53,54,55,56,57,58,59,60,61,62,63,64,65,66,67,68,69,70,71,72,73,74,75,76,77,78,79,80,81,82,83,84,85,86,87,88,89,90,155,156,157,158,159,160,161,162,163,164,165,166,167,168,169,170,171,172,173,174,175,176,177,178,179,180,181,182,183,184,185,186,187,188,189,190,191,192,193,194,195,196,197,198,199,200,201,202,203,204,205,206,207,208,209,210,211,212,213,214,215,216,217,218,219,220,221,222,223,224,225,226,227,228,229,230,231,232,233,234,235,236,237,238,239,240,241,244,245,248) have mixed types. Specify dtype option on import or set low_memory=False.\n",
      "  df_percentile = pd.read_csv('nonbinder_data_v6.csv')\n",
      "100%|██████████| 290097/290097 [02:14<00:00, 2154.57it/s]\n",
      "100%|██████████| 16629/16629 [00:07<00:00, 2104.48it/s]\n"
     ]
    },
    {
     "name": "stdout",
     "output_type": "stream",
     "text": [
      "Number of neg. log data: 3892867\n",
      "Number of % data: 386745\n",
      "Number of duplicated data in df_neglog: 3689393\n",
      "Number of duplicated data in df_percentile: 21549\n"
     ]
    }
   ],
   "source": [
    "# data V7: filter duplicated data with the same SMILES, Uniprot ID, Activity and Activity type\n",
    "df_neglog = pd.read_csv('bioactive_data_v6.csv')\n",
    "df_percentage = pd.read_csv('nonbinder_data_v6.csv')\n",
    "\n",
    "def process_duplicate_df(df):\n",
    "    result = []\n",
    "    for group in tqdm(df.groupby(['Uniprot ID', 'SMILES', 'Activity type'])):\n",
    "        if group[1]['Final Activity'].max() - group[1]['Final Activity'].min() <= 1:\n",
    "            group[1]['Final Activity'] = group[1]['Final Activity'].mean()\n",
    "            result.append(group[1].iloc[0, :].values)\n",
    "    df = pd.DataFrame(result, columns=df.columns)\n",
    "    return df\n",
    "\n",
    "len_neglog = len(df_neglog)\n",
    "len_percentage = len(df_percentage)\n",
    "df_neglog_ = df_neglog.drop_duplicates(\n",
    "                subset=['Uniprot ID', 'SMILES', 'Activity type'], keep=False)\n",
    "df_neglog_duplicate = df_neglog[~df_neglog.index.isin(df_neglog_.index)]\n",
    "df_neglog_duplicate = process_duplicate_df(df_neglog_duplicate)\n",
    "df_neglog = pd.concat([df_neglog_, df_neglog_duplicate])\n",
    "\n",
    "df_percentage_ = df_percentage.drop_duplicates(\n",
    "                subset=['Uniprot ID', 'SMILES', 'Activity type'], keep=False)\n",
    "df_percentage_duplicate = df_percentage[~df_percentage.index.isin(df_percentage_.index)]\n",
    "df_percentage_duplicate = process_duplicate_df(df_percentage_duplicate)\n",
    "df_percentage = pd.concat([df_percentage_, df_percentage_duplicate])\n",
    "\n",
    "print('Number of neg. log data:', len(df_neglog))\n",
    "print('Number of % data:', len(df_percentage))\n",
    "print('Number of duplicated data in df_neglog:', len_neglog - len(df_neglog))\n",
    "print('Number of duplicated data in df_percentage:', len_percentage - len(df_percentage))\n",
    "\n",
    "df_neglog.to_csv('bioactive_data_v7.csv', index=None)\n",
    "df_percentage.to_csv('nonbinder_data_v7.csv', index=None)"
   ]
  },
  {
   "cell_type": "code",
   "execution_count": 49,
   "metadata": {},
   "outputs": [
    {
     "name": "stderr",
     "output_type": "stream",
     "text": [
      "/tmp/ipykernel_1982178/840250947.py:2: DtypeWarning: Columns (2,10,11,12,13) have mixed types. Specify dtype option on import or set low_memory=False.\n",
      "  df_neglog = pd.read_csv('bioactive_data_v7.csv')\n",
      "/tmp/ipykernel_1982178/840250947.py:5: DtypeWarning: Columns (7,8,9,10,11,12,13,14,15,16,17,18,19,20,21,22,23,24,25,26,27,28,29,30,31,32,33,34,35,36,37,38,39,40,41,42,43,44,45,52,63,74,85,90,155,156,157,158,159,160,161,162,163,164,165,166,167,168,169,170,171,172,173,174,175,176,177,178,179,180,181,182,183,184,185,186,187,188,189,190,191,192,193,200,211,222,233,241,244,245,248) have mixed types. Specify dtype option on import or set low_memory=False.\n",
      "  df_percentile = pd.read_csv('nonbinder_data_v7.csv')\n"
     ]
    },
    {
     "name": "stdout",
     "output_type": "stream",
     "text": [
      "Number of neg. log data: 3892867\n",
      "Number of % data: 386745\n"
     ]
    }
   ],
   "source": [
    "# final data: simply the data columns\n",
    "df_neglog = pd.read_csv('bioactive_data_v7.csv')\n",
    "df_neglog = df_neglog.dropna(\n",
    "                    subset=['Uniprot ID', 'SMILES', 'Final Activity', 'Activity type'])\n",
    "df_percentage = pd.read_csv('nonbinder_data_v7.csv')\n",
    "df_percentage = df_percentage.dropna(\n",
    "                    subset=['Uniprot ID', 'SMILES', 'Final Activity', 'Activity type'])\n",
    "col_list = ['ChEMBL ID', 'PubChem ID', 'IUPHAR ID', 'Activity type',\n",
    "            'Assay type', 'Unit', 'Ligand names', 'Source', 'Final Activity', \n",
    "            'SMILES', 'Uniprot ID']\n",
    "df_neglog_simply = df_neglog[col_list]\n",
    "df_percentage_simply = df_percentage[col_list]\n",
    "\n",
    "print('Number of neg. log data:', len(df_neglog_simply))\n",
    "print('Number of % data:', len(df_percentage_simply))\n",
    "\n",
    "df_neglog_simply.to_csv('bioactive_data_final.csv', index=None)\n",
    "df_percentage_simply.to_csv('nonbinder_data_final.csv', index=None)"
   ]
  },
  {
   "cell_type": "code",
   "execution_count": 50,
   "metadata": {},
   "outputs": [],
   "source": [
    "del df_neglog, df_percentage, df_neglog_simply, df_percentage_simply"
   ]
  },
  {
   "cell_type": "code",
   "execution_count": 15,
   "metadata": {},
   "outputs": [],
   "source": [
    "# Get protein sequences from Uniprot\n",
    "protein_data = pd.read_csv('EquiVS_data/protein_seq.tsv', sep='\\t')\n",
    "protein_data['Organism'] = protein_data['Entry Name'].str.split('_').str[1]\n",
    "protein_data['UniProt_ID'] = protein_data['Entry']\n",
    "\n",
    "target_hgnc = dict(zip(df['UniProt'], df['HGNC gene symbol']))\n",
    "protein_data['HGNC_ID'] = protein_data['From'].map(target_hgnc)\n",
    "protein_data = protein_data[['UniProt_ID', 'HGNC_ID', 'Sequence', 'Organism']]"
   ]
  },
  {
   "cell_type": "code",
   "execution_count": 54,
   "metadata": {},
   "outputs": [],
   "source": [
    "df_all = pd.DataFrame()\n",
    "for target in os.listdir(path='EquiVS_data/target/'):\n",
    "    df = pd.read_csv('EquiVS_data/target/' + target)\n",
    "    df['HGNC gene symbol'] = target.split('.')[0].upper()\n",
    "    df_all = pd.concat([df_all, df], axis=0)"
   ]
  },
  {
   "cell_type": "code",
   "execution_count": 55,
   "metadata": {},
   "outputs": [],
   "source": [
    "hgnc_uni = dict(zip(protein_data['HGNC_ID'], protein_data['UniProt_ID']))\n",
    "hgnc_seq = dict(zip(protein_data['HGNC_ID'], protein_data['Sequence']))\n",
    "hgnc_org = dict(zip(protein_data['HGNC_ID'], protein_data['Organism']))\n",
    "df_all['UniProt_ID'] = df_all['HGNC gene symbol'].map(hgnc_uni)\n",
    "df_all['Sequence'] = df_all['HGNC gene symbol'].map(hgnc_seq)\n",
    "df_all['Organism'] = df_all['HGNC gene symbol'].map(hgnc_org)"
   ]
  },
  {
   "cell_type": "code",
   "execution_count": 110,
   "metadata": {},
   "outputs": [
    {
     "name": "stdout",
     "output_type": "stream",
     "text": [
      "1353120\n",
      "1353120\n",
      "1312515\n"
     ]
    }
   ],
   "source": [
    "print(len(df_all))\n",
    "df_all = df_all[df_all['Activity type'].isin(['pIC50', 'pEC50', 'pKi', 'pKd'])]\n",
    "print(len(df_all))\n",
    "data_curated = df_all[df_all['UniProt_ID'].notnull()]\n",
    "print(len(data_curated))"
   ]
  },
  {
   "cell_type": "code",
   "execution_count": 111,
   "metadata": {},
   "outputs": [],
   "source": [
    "data_curated['PubChem ID'] = data_curated['PubChem ID'].astype(str)\n",
    "data_curated['IUPHAR ID'] = data_curated['IUPHAR ID'].astype(str)\n",
    "\n",
    "def join_strings(arr):\n",
    "    valid_strings = [str(x) for x in arr if x != \"nan\"]\n",
    "    return \";\".join(valid_strings)\n",
    "\n",
    "activity_id = np.apply_along_axis(join_strings, axis=1, arr=data_curated.iloc[:, :3].values)\n",
    "data_curated['Activity_ID'] = activity_id"
   ]
  },
  {
   "cell_type": "code",
   "execution_count": 112,
   "metadata": {},
   "outputs": [],
   "source": [
    "data_curated = data_curated.rename(columns={'Activity type': 'Activity_Type',\n",
    "                                            'Final Activity': 'Activity_Value',\n",
    "                                            'HGNC gene symbol': 'HGNC_ID',\n",
    "                                            'Source': 'source'})"
   ]
  },
  {
   "cell_type": "code",
   "execution_count": 114,
   "metadata": {},
   "outputs": [],
   "source": [
    "data_curated['CID'] = None\n",
    "data_curated['target_id'] = None\n",
    "data_curated[['Activity_ID', 'source', 'Activity_Type',\n",
    "              'Activity_Value', 'SMILES',\n",
    "              'CID', 'target_id', 'UniProt_ID', \n",
    "              'HGNC_ID', 'Sequence', 'Organism']].to_csv('Integrated_dataset/equiVS.csv', index=False)"
   ]
  },
  {
   "cell_type": "markdown",
   "metadata": {},
   "source": [
    "# Papyrus data"
   ]
  },
  {
   "cell_type": "code",
   "execution_count": 68,
   "metadata": {},
   "outputs": [
    {
     "name": "stdout",
     "output_type": "stream",
     "text": [
      "Latest version: 05.6\n",
      "Number of files to be downloaded: 11\n",
      "Total size: 8.62GB\n"
     ]
    },
    {
     "data": {
      "application/vnd.jupyter.widget-view+json": {
       "model_id": "327093d3fd4748eaad2309207904b4cc",
       "version_major": 2,
       "version_minor": 0
      },
      "text/plain": [
       "Downloading version 05.6:   0%|          | 0.00/8.62G [00:00<?, ?B/s]"
      ]
     },
     "metadata": {},
     "output_type": "display_data"
    }
   ],
   "source": [
    "# download papyrus data\n",
    "from papyrus_scripts import download_papyrus\n",
    "os.chdir('/scratch/yg3191/Activity_Cliff_data/')\n",
    "download_papyrus(version='latest', only_pp=False, structures=True, descriptors='all')"
   ]
  },
  {
   "cell_type": "code",
   "execution_count": 4,
   "metadata": {},
   "outputs": [
    {
     "name": "stdout",
     "output_type": "stream",
     "text": [
      "59348304\n"
     ]
    }
   ],
   "source": [
    "dataset = read_papyrus(is3d=False, version='latest',\n",
    "                       plusplus=False, source_path='Papyrus')\n",
    "print(len(dataset))\n",
    "\n",
    "# print('select only the dataset with relation =, <, <=')\n",
    "# dataset = dataset[dataset['relation'].isin(['=', '<', '<='])]\n",
    "# print(len(dataset))\n",
    "\n",
    "# print('select only the dataset with type in [IC50, EC50, Ki, Kd]')\n",
    "# dataset = dataset[dataset['type_other'] == '0']\n",
    "# print(len(dataset))\n",
    "\n",
    "# print('select only the dataset with pchembl_value_StdDev < 0.1 (high confidence)')\n",
    "# dataset = dataset[dataset['pchembl_value_StdDev'] < 0.1]\n",
    "# print(len(dataset))\n",
    "\n",
    "# def get_activity_type(df):\n",
    "#     if '1' in df['type_KD']:\n",
    "#         return 'pKD'\n",
    "#     elif '1' in df['type_Ki']:\n",
    "#         return 'pKi'\n",
    "#     elif '1' in df['type_IC50']:\n",
    "#         return 'pIC50'\n",
    "#     elif '1' in df['type_EC50']:\n",
    "#         return 'pEC50'\n",
    "#     return None\n",
    "\n",
    "# dataset['Activity_Type'] = dataset.apply(get_activity_type, axis=1)\n",
    "# dataset.to_csv('Papyrus/papyrus.csv', index=False)"
   ]
  },
  {
   "cell_type": "code",
   "execution_count": 2,
   "metadata": {},
   "outputs": [
    {
     "data": {
      "text/plain": [
       "Index(['Activity_ID', 'Quality', 'source', 'CID', 'SMILES', 'connectivity',\n",
       "       'InChIKey', 'InChI', 'InChI_AuxInfo', 'target_id', 'TID', 'accession',\n",
       "       'Protein_Type', 'AID', 'doc_id', 'Year', 'all_doc_ids', 'all_years',\n",
       "       'type_IC50', 'type_EC50', 'type_KD', 'type_Ki', 'type_other',\n",
       "       'Activity_class', 'relation', 'pchembl_value', 'pchembl_value_Mean',\n",
       "       'pchembl_value_StdDev', 'pchembl_value_SEM', 'pchembl_value_N',\n",
       "       'pchembl_value_Median', 'pchembl_value_MAD', 'Activity_Type'],\n",
       "      dtype='object')"
      ]
     },
     "execution_count": 2,
     "metadata": {},
     "output_type": "execute_result"
    }
   ],
   "source": [
    "df = pd.read_csv('Papyrus/papyrus2.csv')\n",
    "df.columns"
   ]
  },
  {
   "cell_type": "code",
   "execution_count": 3,
   "metadata": {},
   "outputs": [
    {
     "data": {
      "text/plain": [
       "0         AAAAEENPAALFRN_on_P49654_WT\n",
       "1         AAACBXVBBDAYRQ_on_Q5S007_WT\n",
       "2         AAACGYYPWMUUFL_on_O75116_WT\n",
       "3         AAACGYYPWMUUFL_on_Q13464_WT\n",
       "4         AAAFGBNICGQDQE_on_O08786_WT\n",
       "                     ...             \n",
       "817741    ZZZYHIMVKOHVIH_on_P34707_WT\n",
       "817742    ZZZYHIMVKOHVIH_on_Q16236_WT\n",
       "817743    ZZZYPDPSUIAZGL_on_P20272_WT\n",
       "817744    ZZZYUEUIXFBSTB_on_P20292_WT\n",
       "817745    ZZZZEECYUGCIIB_on_Q16539_WT\n",
       "Name: Activity_ID, Length: 817746, dtype: object"
      ]
     },
     "execution_count": 3,
     "metadata": {},
     "output_type": "execute_result"
    }
   ],
   "source": [
    "df['source']"
   ]
  },
  {
   "cell_type": "code",
   "execution_count": null,
   "metadata": {},
   "outputs": [],
   "source": []
  },
  {
   "cell_type": "code",
   "execution_count": 10,
   "metadata": {},
   "outputs": [
    {
     "name": "stdout",
     "output_type": "stream",
     "text": [
      "select only the dataset with relation =, <=\n",
      "2695165\n",
      "select only the dataset with type in [IC50, EC50, Ki, Kd]\n",
      "1254669\n",
      "select only the dataset with pchembl_value_StdDev < 0.1 (high confidence)\n",
      "1108337\n"
     ]
    }
   ],
   "source": [
    "print('select only the dataset with relation =, <=')\n",
    "dataset = dataset[dataset['relation'].isin(['=', '<='])]\n",
    "print(len(dataset))\n",
    "\n",
    "print('select only the dataset with type in [IC50, EC50, Ki, Kd]')\n",
    "dataset = dataset[dataset['type_other'] == '0']\n",
    "print(len(dataset))\n",
    "\n",
    "print('select only the dataset with pchembl_value_StdDev < 0.1 (high confidence)')\n",
    "dataset = dataset[dataset['pchembl_value_StdDev'] < 0.1]\n",
    "print(len(dataset))\n",
    "\n",
    "def get_activity_type(df):\n",
    "    if '1' in df['type_KD']:\n",
    "        return 'pKD'\n",
    "    elif '1' in df['type_Ki']:\n",
    "        return 'pKi'\n",
    "    elif '1' in df['type_IC50']:\n",
    "        return 'pIC50'\n",
    "    elif '1' in df['type_EC50']:\n",
    "        return 'pEC50'\n",
    "    return None\n",
    "\n",
    "dataset['Activity_Type'] = dataset.apply(get_activity_type, axis=1)\n",
    "\n",
    "print('filter data with high or medium quality')\n",
    "dataset = dataset[dataset['Quality'] != 'Low']\n",
    "print(len(dataset))\n",
    "\n",
    "dataset.to_csv('Papyrus/papyrus2.csv', index=False)"
   ]
  },
  {
   "cell_type": "code",
   "execution_count": 13,
   "metadata": {},
   "outputs": [],
   "source": [
    "dataset = dataset[dataset['Quality'] != 'Low']\n",
    "dataset.to_csv('Papyrus/papyrus2.csv', index=False)"
   ]
  },
  {
   "cell_type": "code",
   "execution_count": 14,
   "metadata": {},
   "outputs": [
    {
     "name": "stdout",
     "output_type": "stream",
     "text": [
      "Number of papyrus data: 817746\n",
      "Number of invalid molecule structure in papyrus: 0\n"
     ]
    }
   ],
   "source": [
    "# filter invalid molecule structure represented by SMILES\n",
    "from rdkit import Chem\n",
    "import molvs\n",
    "dataset = pd.read_csv('Papyrus/papyrus2.csv')\n",
    "len_neglog = len(dataset)\n",
    "\n",
    "def check_molecule(smiles):\n",
    "    try:\n",
    "        mol = molvs.Standardizer().standardize(Chem.MolFromSmiles(smiles))\n",
    "        if mol is None:\n",
    "            return None\n",
    "        else:\n",
    "            if mol.GetNumAtoms() <= 1:\n",
    "                print(f'Error: {smiles} is invalid')\n",
    "                return None\n",
    "            else:\n",
    "                return Chem.MolToSmiles(mol, isomericSmiles=True)\n",
    "    except:\n",
    "        print(f'Error: {smiles} is invalid')\n",
    "        return None\n",
    "\n",
    "smiles_list = dataset['SMILES'].unique()\n",
    "smiles_dict = dict(zip(smiles_list, [check_molecule(smiles) for smiles in smiles_list]))\n",
    "\n",
    "dataset['SMILES'] = dataset['SMILES'].map(smiles_dict)\n",
    "dataset = dataset.dropna(subset=['SMILES'])\n",
    "\n",
    "print('Number of papyrus data:', len(dataset))\n",
    "print('Number of invalid molecule structure in papyrus:', len_neglog - len(dataset))"
   ]
  },
  {
   "cell_type": "code",
   "execution_count": 15,
   "metadata": {},
   "outputs": [
    {
     "name": "stdout",
     "output_type": "stream",
     "text": [
      "Number of papyrus data: 817746\n"
     ]
    }
   ],
   "source": [
    "dataset['Activity_Type'] = dataset['Activity_Type'].map(lambda x: 'pKd' if x == 'pKD' else x)\n",
    "dataset['target_id'] = dataset['target_id'].map(lambda x: x.split('_')[0])\n",
    "dataset = dataset.dropna(subset=['SMILES', 'Activity_Type', 'pchembl_value_Mean', 'target_id'])\n",
    "print('Number of papyrus data:', len(dataset))\n",
    "dataset.to_csv('Papyrus/papyrus2.csv', index=False)\n",
    "col_list = ['Activity_ID', 'Quality', 'source', 'SMILES',\n",
    "            'target_id', 'pchembl_value_Mean', 'Activity_Type']\n",
    "dataset_simply = dataset[col_list].to_csv('Papyrus/papyrus2_simply.csv', index=False)"
   ]
  },
  {
   "cell_type": "markdown",
   "metadata": {},
   "source": [
    "# data integration"
   ]
  },
  {
   "cell_type": "code",
   "execution_count": 16,
   "metadata": {},
   "outputs": [
    {
     "name": "stderr",
     "output_type": "stream",
     "text": [
      "/tmp/ipykernel_4192563/624227966.py:2: DtypeWarning: Columns (2) have mixed types. Specify dtype option on import or set low_memory=False.\n",
      "  equivs_neglog = pd.read_csv('EquiVS/bioactive_data_final.csv')\n"
     ]
    }
   ],
   "source": [
    "# os.chdir('/scratch/yg3191/Activity_Cliff_data/')\n",
    "equivs_neglog = pd.read_csv('EquiVS/bioactive_data_final.csv')\n",
    "equivs_percentage = pd.read_csv('EquiVS/nonbinder_data_final.csv')\n",
    "papyrus = pd.read_csv('Papyrus/papyrus2_simply.csv')"
   ]
  },
  {
   "cell_type": "code",
   "execution_count": 2,
   "metadata": {},
   "outputs": [
    {
     "name": "stdout",
     "output_type": "stream",
     "text": [
      "386745\n"
     ]
    }
   ],
   "source": [
    "equivs_percentage = pd.read_csv('EquiVS/nonbinder_data_final.csv')\n",
    "print(len(equivs_percentage))"
   ]
  },
  {
   "cell_type": "code",
   "execution_count": 17,
   "metadata": {},
   "outputs": [
    {
     "name": "stdout",
     "output_type": "stream",
     "text": [
      "Index(['ChEMBL ID', 'PubChem ID', 'IUPHAR ID', 'Activity type', 'Assay type',\n",
      "       'Unit', 'Ligand names', 'Source', 'Final Activity', 'SMILES',\n",
      "       'Uniprot ID'],\n",
      "      dtype='object')\n",
      "Index(['Activity_ID', 'Quality', 'source', 'SMILES', 'target_id',\n",
      "       'pchembl_value_Mean', 'Activity_Type'],\n",
      "      dtype='object')\n"
     ]
    }
   ],
   "source": [
    "# rename columns\n",
    "print(equivs_neglog.columns)\n",
    "print(papyrus.columns)\n",
    "equivs_neglog['Source'] = equivs_neglog['ChEMBL ID'].astype(str) + ',' + \\\n",
    "                          equivs_neglog['PubChem ID'].astype(str) + ',' + \\\n",
    "                          equivs_neglog['IUPHAR ID'].astype(str)\n",
    "equivs_percentage['Source'] = equivs_percentage['ChEMBL ID'].astype(str) + ',' + \\\n",
    "                              equivs_percentage['PubChem ID'].astype(str) + ',' + \\\n",
    "                              equivs_percentage['IUPHAR ID'].astype(str)\n",
    "equivs_neglog = equivs_neglog.rename(columns={'Activity type': 'Activity_Type',\n",
    "                                              'Final Activity': 'Activity',\n",
    "                                              'Uniprot ID': 'Uniprot_ID'})\n",
    "equivs_percentage = equivs_percentage.rename(columns={'Activity type': 'Activity_Type',\n",
    "                                                      'Final Activity': 'Activity',\n",
    "                                                      'Uniprot ID': 'Uniprot_ID'})\n",
    "papyrus = papyrus.rename(columns={'target_id': 'Uniprot_ID',\n",
    "                                  'pchembl_value_Mean': 'Activity',\n",
    "                                  'source': 'Source'})"
   ]
  },
  {
   "cell_type": "code",
   "execution_count": 18,
   "metadata": {},
   "outputs": [
    {
     "name": "stdout",
     "output_type": "stream",
     "text": [
      "Number of integrated data: 4710613\n",
      "Number of duplicated data: 664012\n"
     ]
    },
    {
     "name": "stderr",
     "output_type": "stream",
     "text": [
      "100%|██████████| 249033/249033 [01:39<00:00, 2495.18it/s]\n"
     ]
    },
    {
     "name": "stdout",
     "output_type": "stream",
     "text": [
      "Number of integrated data after processing duplicates: 4295520\n"
     ]
    }
   ],
   "source": [
    "equivs_neglog['Uniprot_ID'] = equivs_neglog['Uniprot_ID'].str.split(',').str[0]\n",
    "equivs_percentage['Uniprot_ID'] = equivs_percentage['Uniprot_ID'].str.split(',').str[0]\n",
    "df_integrated = pd.concat([equivs_neglog, papyrus], axis=0)\n",
    "\n",
    "def process_duplicate_df(df):\n",
    "    result = []\n",
    "    for group in tqdm(df.groupby(['Uniprot_ID', 'SMILES', 'Activity_Type'])):\n",
    "        if group[1]['Activity'].max() - group[1]['Activity'].min() <= 1:\n",
    "            group[1]['Activity'] = group[1]['Activity'].mean()\n",
    "            result.append(group[1].iloc[0, :].values)\n",
    "    df = pd.DataFrame(result, columns=df.columns)\n",
    "    return df\n",
    "\n",
    "len_integrated = len(df_integrated)\n",
    "print('Number of integrated data:', len_integrated)\n",
    "df_integrated_ = df_integrated.drop_duplicates(\n",
    "                    subset=['Uniprot_ID', 'SMILES', 'Activity_Type'], keep=False)\n",
    "print('Number of duplicated data:', len_integrated - len(df_integrated_))\n",
    "df_integrated_duplicate = df_integrated[~df_integrated.index.isin(df_integrated_.index)]\n",
    "df_integrated_duplicate = process_duplicate_df(df_integrated_duplicate)\n",
    "df_integrated = pd.concat([df_integrated_, df_integrated_duplicate])\n",
    "print('Number of integrated data after processing duplicates:', len(df_integrated))\n",
    "df_integrated.to_csv('Integrated_dataset/integrated2.csv', index=False)\n",
    "equivs_percentage.to_csv('Integrated_dataset/percentage2.csv', index=False)"
   ]
  },
  {
   "cell_type": "code",
   "execution_count": 19,
   "metadata": {},
   "outputs": [
    {
     "name": "stdout",
     "output_type": "stream",
     "text": [
      "Number of pKi data: 463162\n",
      "Number of pKd data: 60863\n",
      "Number of pIC50 data: 1116889\n",
      "Number of pEC50 data: 149431\n",
      "Number of pPotency data: 2505175\n",
      "Number of percentage data: 386745\n"
     ]
    }
   ],
   "source": [
    "# split the integrated dataset into 5 subsets based on activity types\n",
    "df_ki = df_integrated[df_integrated['Activity_Type'] == 'pKi']\n",
    "df_kd = df_integrated[df_integrated['Activity_Type'] == 'pKd']\n",
    "df_ic50 = df_integrated[df_integrated['Activity_Type'] == 'pIC50']\n",
    "df_ec50 = df_integrated[df_integrated['Activity_Type'] == 'pEC50']\n",
    "df_potency = df_integrated[df_integrated['Activity_Type'] == 'pPotency']\n",
    "\n",
    "print('Number of pKi data:', len(df_ki))\n",
    "print('Number of pKd data:', len(df_kd))\n",
    "print('Number of pIC50 data:', len(df_ic50))\n",
    "print('Number of pEC50 data:', len(df_ec50))\n",
    "print('Number of pPotency data:', len(df_potency))\n",
    "print('Number of percentage data:', len(equivs_percentage))\n",
    "\n",
    "df_ki.to_csv('Integrated_dataset/ki2.csv', index=False)\n",
    "df_kd.to_csv('Integrated_dataset/kd2.csv', index=False)\n",
    "df_ic50.to_csv('Integrated_dataset/ic502.csv', index=False)\n",
    "df_ec50.to_csv('Integrated_dataset/ec502.csv', index=False)\n",
    "df_potency.to_csv('Integrated_dataset/potency2.csv', index=False)\n",
    "equivs_percentage.to_csv('Integrated_dataset/percentage2.csv', index=False)"
   ]
  },
  {
   "cell_type": "code",
   "execution_count": 179,
   "metadata": {},
   "outputs": [
    {
     "name": "stdout",
     "output_type": "stream",
     "text": [
      "Number of pKi data: 518288\n",
      "Number of pKd data: 115269\n",
      "Number of pIC50 data: 1297984\n",
      "Number of pEC50 data: 170360\n",
      "Number of pPotency data: 2505175\n",
      "Number of percentage data: 386745\n"
     ]
    }
   ],
   "source": [
    "# split the integrated dataset into 5 subsets based on activity types\n",
    "df_ki = df_integrated[df_integrated['Activity_Type'] == 'pKi']\n",
    "df_kd = df_integrated[df_integrated['Activity_Type'] == 'pKd']\n",
    "df_ic50 = df_integrated[df_integrated['Activity_Type'] == 'pIC50']\n",
    "df_ec50 = df_integrated[df_integrated['Activity_Type'] == 'pEC50']\n",
    "df_potency = df_integrated[df_integrated['Activity_Type'] == 'pPotency']\n",
    "\n",
    "print('Number of pKi data:', len(df_ki))\n",
    "print('Number of pKd data:', len(df_kd))\n",
    "print('Number of pIC50 data:', len(df_ic50))\n",
    "print('Number of pEC50 data:', len(df_ec50))\n",
    "print('Number of pPotency data:', len(df_potency))\n",
    "print('Number of percentage data:', len(equivs_percentage))\n",
    "\n",
    "df_ki.to_csv('Integrated_dataset/ki.csv', index=False)\n",
    "df_kd.to_csv('Integrated_dataset/kd.csv', index=False)\n",
    "df_ic50.to_csv('Integrated_dataset/ic50.csv', index=False)\n",
    "df_ec50.to_csv('Integrated_dataset/ec50.csv', index=False)\n",
    "df_potency.to_csv('Integrated_dataset/potency.csv', index=False)\n",
    "equivs_percentage.to_csv('Integrated_dataset/percentage.csv', index=False)"
   ]
  },
  {
   "cell_type": "code",
   "execution_count": 20,
   "metadata": {},
   "outputs": [
    {
     "name": "stderr",
     "output_type": "stream",
     "text": [
      "/tmp/ipykernel_4192563/2991079432.py:4: DtypeWarning: Columns (0,2,4,5,6,11,12) have mixed types. Specify dtype option on import or set low_memory=False.\n",
      "  df = pd.read_csv('Integrated_dataset/integrated.csv')[['Uniprot_ID', 'SMILES', 'Activity_Type', 'Activity']]\n"
     ]
    },
    {
     "name": "stdout",
     "output_type": "stream",
     "text": [
      "Number of data in kd dataset: 60863\n"
     ]
    },
    {
     "name": "stderr",
     "output_type": "stream",
     "text": [
      "/tmp/ipykernel_4192563/2991079432.py:20: DtypeWarning: Columns (0,2,4,5,6,11,12) have mixed types. Specify dtype option on import or set low_memory=False.\n",
      "  df = pd.read_csv('Integrated_dataset/ki.csv')\n"
     ]
    },
    {
     "name": "stdout",
     "output_type": "stream",
     "text": [
      "Number of data in ki dataset: 514449\n"
     ]
    },
    {
     "name": "stderr",
     "output_type": "stream",
     "text": [
      "/tmp/ipykernel_4192563/2991079432.py:25: DtypeWarning: Columns (0,2,4,5,6,11,12) have mixed types. Specify dtype option on import or set low_memory=False.\n",
      "  df = pd.read_csv('Integrated_dataset/ic50.csv')\n"
     ]
    },
    {
     "name": "stdout",
     "output_type": "stream",
     "text": [
      "Number of data in ic50 dataset: 1272069\n"
     ]
    },
    {
     "name": "stderr",
     "output_type": "stream",
     "text": [
      "/tmp/ipykernel_4192563/2991079432.py:30: DtypeWarning: Columns (11,12) have mixed types. Specify dtype option on import or set low_memory=False.\n",
      "  df = pd.read_csv('Integrated_dataset/ec50.csv')\n"
     ]
    },
    {
     "name": "stdout",
     "output_type": "stream",
     "text": [
      "Number of data in ec50 dataset: 168440\n",
      "Number of data in potency dataset: 2428246\n"
     ]
    }
   ],
   "source": [
    "# check protein availability by Graphein\n",
    "import pickle\n",
    "\n",
    "df = pd.read_csv('Integrated_dataset/integrated.csv')[['Uniprot_ID', 'SMILES', 'Activity_Type', 'Activity']]\n",
    "df2 = pd.read_csv('Integrated_dataset/percentage.csv')[['Uniprot_ID', 'SMILES', 'Activity_Type', 'Activity']]\n",
    "# df2['Uniprot_ID'] = df2['Uniprot_ID'].str.split(',').str[0]\n",
    "df = pd.concat([df, df2], axis=0)\n",
    "if not os.path.exists('data/Protein_pretrained_feat'):\n",
    "    os.makedirs('data/Protein_pretrained_feat')\n",
    "valid_uni = []\n",
    "for f in os.listdir('../Activity-cliff-prediction/data/Protein_pretrained_feat'):\n",
    "    if f.endswith('.pkl'):\n",
    "        valid_uni.append(f.split('.')[0])\n",
    "\n",
    "df = pd.read_csv('Integrated_dataset/kd2.csv')\n",
    "print('Number of data in kd dataset:', len(df))\n",
    "df = df[df['Uniprot_ID'].isin(valid_uni)]\n",
    "df.to_csv('Integrated_dataset/kd2_v2.csv', index=False)\n",
    "\n",
    "df = pd.read_csv('Integrated_dataset/ki.csv')\n",
    "print('Number of data in ki dataset:', len(df))\n",
    "df = df[df['Uniprot_ID'].isin(valid_uni)]\n",
    "df.to_csv('Integrated_dataset/ki2_v2.csv', index=False)\n",
    "\n",
    "df = pd.read_csv('Integrated_dataset/ic50.csv')\n",
    "print('Number of data in ic50 dataset:', len(df))\n",
    "df = df[df['Uniprot_ID'].isin(valid_uni)]\n",
    "df.to_csv('Integrated_dataset/ic502_v2.csv', index=False)\n",
    "\n",
    "df = pd.read_csv('Integrated_dataset/ec50.csv')\n",
    "print('Number of data in ec50 dataset:', len(df))\n",
    "df = df[df['Uniprot_ID'].isin(valid_uni)]\n",
    "df.to_csv('Integrated_dataset/ec502_v2.csv', index=False)\n",
    "\n",
    "df = pd.read_csv('Integrated_dataset/potency.csv')\n",
    "print('Number of data in potency dataset:', len(df))\n",
    "df = df[df['Uniprot_ID'].isin(valid_uni)]\n",
    "df.to_csv('Integrated_dataset/potency2_v2.csv', index=False)"
   ]
  },
  {
   "cell_type": "code",
   "execution_count": 23,
   "metadata": {},
   "outputs": [
    {
     "name": "stderr",
     "output_type": "stream",
     "text": [
      "/tmp/ipykernel_2134884/113628121.py:19: DtypeWarning: Columns (0,2,4,5,6,11,12) have mixed types. Specify dtype option on import or set low_memory=False.\n",
      "  df = pd.read_csv('Integrated_dataset/integrated.csv')[['Uniprot_ID', 'SMILES', 'Activity_Type', 'Activity']]\n",
      "  4%|▍         | 320/7268 [02:59<59:15,  1.95it/s]  "
     ]
    },
    {
     "name": "stdout",
     "output_type": "stream",
     "text": [
      "HTTP Error 404\n"
     ]
    },
    {
     "name": "stderr",
     "output_type": "stream",
     "text": [
      " 12%|█▏        | 860/7268 [08:41<1:01:12,  1.74it/s]"
     ]
    },
    {
     "name": "stdout",
     "output_type": "stream",
     "text": [
      "HTTP Error 404\n"
     ]
    },
    {
     "name": "stderr",
     "output_type": "stream",
     "text": [
      " 14%|█▍        | 1000/7268 [10:08<1:07:17,  1.55it/s]"
     ]
    },
    {
     "name": "stdout",
     "output_type": "stream",
     "text": [
      "HTTP Error 404\n"
     ]
    },
    {
     "name": "stderr",
     "output_type": "stream",
     "text": [
      " 16%|█▌        | 1140/7268 [11:27<1:01:07,  1.67it/s]"
     ]
    },
    {
     "name": "stdout",
     "output_type": "stream",
     "text": [
      "HTTP Error 404\n",
      "HTTP Error 404\n",
      "HTTP Error 404\n"
     ]
    },
    {
     "name": "stderr",
     "output_type": "stream",
     "text": [
      " 18%|█▊        | 1290/7268 [12:58<1:10:09,  1.42it/s]"
     ]
    },
    {
     "name": "stdout",
     "output_type": "stream",
     "text": [
      "HTTP Error 404\n"
     ]
    },
    {
     "name": "stderr",
     "output_type": "stream",
     "text": [
      " 19%|█▉        | 1390/7268 [14:11<1:06:18,  1.48it/s]"
     ]
    },
    {
     "name": "stdout",
     "output_type": "stream",
     "text": [
      "HTTP Error 404\n"
     ]
    },
    {
     "name": "stderr",
     "output_type": "stream",
     "text": [
      " 21%|██        | 1500/7268 [15:19<1:02:50,  1.53it/s]"
     ]
    },
    {
     "name": "stdout",
     "output_type": "stream",
     "text": [
      "HTTP Error 404\n"
     ]
    },
    {
     "name": "stderr",
     "output_type": "stream",
     "text": [
      " 22%|██▏       | 1630/7268 [16:24<52:46,  1.78it/s]  "
     ]
    },
    {
     "name": "stdout",
     "output_type": "stream",
     "text": [
      "HTTP Error 404\n"
     ]
    },
    {
     "name": "stderr",
     "output_type": "stream",
     "text": [
      " 23%|██▎       | 1660/7268 [16:40<50:49,  1.84it/s]"
     ]
    },
    {
     "name": "stdout",
     "output_type": "stream",
     "text": [
      "HTTP Error 404\n"
     ]
    },
    {
     "name": "stderr",
     "output_type": "stream",
     "text": [
      " 24%|██▎       | 1710/7268 [17:10<50:24,  1.84it/s]"
     ]
    },
    {
     "name": "stdout",
     "output_type": "stream",
     "text": [
      "HTTP Error 404\n"
     ]
    },
    {
     "name": "stderr",
     "output_type": "stream",
     "text": [
      " 26%|██▌       | 1880/7268 [18:47<50:45,  1.77it/s]"
     ]
    },
    {
     "name": "stdout",
     "output_type": "stream",
     "text": [
      "HTTP Error 404\n"
     ]
    },
    {
     "name": "stderr",
     "output_type": "stream",
     "text": [
      " 26%|██▋       | 1920/7268 [19:11<54:57,  1.62it/s]"
     ]
    },
    {
     "name": "stdout",
     "output_type": "stream",
     "text": [
      "HTTP Error 404\n"
     ]
    },
    {
     "name": "stderr",
     "output_type": "stream",
     "text": [
      " 29%|██▉       | 2100/7268 [21:02<46:18,  1.86it/s]  "
     ]
    },
    {
     "name": "stdout",
     "output_type": "stream",
     "text": [
      "HTTP Error 404\n"
     ]
    },
    {
     "name": "stderr",
     "output_type": "stream",
     "text": [
      " 32%|███▏      | 2310/7268 [22:44<29:16,  2.82it/s]"
     ]
    },
    {
     "name": "stdout",
     "output_type": "stream",
     "text": [
      "HTTP Error 404\n"
     ]
    },
    {
     "name": "stderr",
     "output_type": "stream",
     "text": [
      " 32%|███▏      | 2360/7268 [23:15<47:15,  1.73it/s]"
     ]
    },
    {
     "name": "stdout",
     "output_type": "stream",
     "text": [
      "HTTP Error 404\n"
     ]
    },
    {
     "name": "stderr",
     "output_type": "stream",
     "text": [
      " 34%|███▍      | 2500/7268 [24:42<43:42,  1.82it/s]"
     ]
    },
    {
     "name": "stdout",
     "output_type": "stream",
     "text": [
      "HTTP Error 404\n"
     ]
    },
    {
     "name": "stderr",
     "output_type": "stream",
     "text": [
      " 35%|███▍      | 2510/7268 [24:49<48:02,  1.65it/s]"
     ]
    },
    {
     "name": "stdout",
     "output_type": "stream",
     "text": [
      "HTTP Error 404\n"
     ]
    },
    {
     "name": "stderr",
     "output_type": "stream",
     "text": [
      " 36%|███▌      | 2620/7268 [26:01<52:58,  1.46it/s]"
     ]
    },
    {
     "name": "stdout",
     "output_type": "stream",
     "text": [
      "HTTP Error 404\n"
     ]
    },
    {
     "name": "stderr",
     "output_type": "stream",
     "text": [
      " 37%|███▋      | 2720/7268 [26:54<40:54,  1.85it/s]"
     ]
    },
    {
     "name": "stdout",
     "output_type": "stream",
     "text": [
      "HTTP Error 404\n"
     ]
    },
    {
     "name": "stderr",
     "output_type": "stream",
     "text": [
      " 38%|███▊      | 2730/7268 [27:00<41:51,  1.81it/s]"
     ]
    },
    {
     "name": "stdout",
     "output_type": "stream",
     "text": [
      "HTTP Error 404\n"
     ]
    },
    {
     "name": "stderr",
     "output_type": "stream",
     "text": [
      " 38%|███▊      | 2770/7268 [27:23<45:26,  1.65it/s]"
     ]
    },
    {
     "name": "stdout",
     "output_type": "stream",
     "text": [
      "HTTP Error 404\n",
      "HTTP Error 404\n"
     ]
    },
    {
     "name": "stderr",
     "output_type": "stream",
     "text": [
      " 40%|███▉      | 2890/7268 [28:23<34:11,  2.13it/s]"
     ]
    },
    {
     "name": "stdout",
     "output_type": "stream",
     "text": [
      "HTTP Error 404\n"
     ]
    },
    {
     "name": "stderr",
     "output_type": "stream",
     "text": [
      " 40%|███▉      | 2900/7268 [28:29<35:34,  2.05it/s]"
     ]
    },
    {
     "name": "stdout",
     "output_type": "stream",
     "text": [
      "HTTP Error 404\n"
     ]
    },
    {
     "name": "stderr",
     "output_type": "stream",
     "text": [
      " 40%|████      | 2920/7268 [28:38<34:04,  2.13it/s]"
     ]
    },
    {
     "name": "stdout",
     "output_type": "stream",
     "text": [
      "HTTP Error 404\n"
     ]
    },
    {
     "name": "stderr",
     "output_type": "stream",
     "text": [
      " 42%|████▏     | 3060/7268 [30:04<46:59,  1.49it/s]"
     ]
    },
    {
     "name": "stdout",
     "output_type": "stream",
     "text": [
      "HTTP Error 404\n"
     ]
    },
    {
     "name": "stderr",
     "output_type": "stream",
     "text": [
      " 44%|████▍     | 3212/7268 [31:46<42:37,  1.59it/s]  "
     ]
    },
    {
     "name": "stdout",
     "output_type": "stream",
     "text": [
      "HTTP Error 404\n"
     ]
    },
    {
     "name": "stderr",
     "output_type": "stream",
     "text": [
      " 45%|████▍     | 3263/7268 [32:17<29:03,  2.30it/s]  "
     ]
    },
    {
     "name": "stdout",
     "output_type": "stream",
     "text": [
      "HTTP Error 404\n"
     ]
    },
    {
     "name": "stderr",
     "output_type": "stream",
     "text": [
      " 45%|████▌     | 3274/7268 [32:24<25:05,  2.65it/s]"
     ]
    },
    {
     "name": "stdout",
     "output_type": "stream",
     "text": [
      "HTTP Error 404\n"
     ]
    },
    {
     "name": "stderr",
     "output_type": "stream",
     "text": [
      " 46%|████▌     | 3325/7268 [32:51<21:58,  2.99it/s]"
     ]
    },
    {
     "name": "stdout",
     "output_type": "stream",
     "text": [
      "HTTP Error 404\n",
      "HTTP Error 404\n"
     ]
    },
    {
     "name": "stderr",
     "output_type": "stream",
     "text": [
      " 46%|████▌     | 3332/7268 [32:54<23:03,  2.85it/s]"
     ]
    },
    {
     "name": "stdout",
     "output_type": "stream",
     "text": [
      "HTTP Error 404\n"
     ]
    },
    {
     "name": "stderr",
     "output_type": "stream",
     "text": [
      " 46%|████▌     | 3334/7268 [32:55<25:35,  2.56it/s]"
     ]
    },
    {
     "name": "stdout",
     "output_type": "stream",
     "text": [
      "HTTP Error 404\n"
     ]
    },
    {
     "name": "stderr",
     "output_type": "stream",
     "text": [
      " 46%|████▋     | 3367/7268 [33:11<23:18,  2.79it/s]"
     ]
    },
    {
     "name": "stdout",
     "output_type": "stream",
     "text": [
      "HTTP Error 404\n"
     ]
    },
    {
     "name": "stderr",
     "output_type": "stream",
     "text": [
      " 47%|████▋     | 3406/7268 [33:36<34:40,  1.86it/s]  "
     ]
    },
    {
     "name": "stdout",
     "output_type": "stream",
     "text": [
      "HTTP Error 404\n"
     ]
    },
    {
     "name": "stderr",
     "output_type": "stream",
     "text": [
      " 47%|████▋     | 3408/7268 [33:36<23:31,  2.73it/s]"
     ]
    },
    {
     "name": "stdout",
     "output_type": "stream",
     "text": [
      "HTTP Error 404\n"
     ]
    },
    {
     "name": "stderr",
     "output_type": "stream",
     "text": [
      " 47%|████▋     | 3413/7268 [33:38<23:18,  2.76it/s]"
     ]
    },
    {
     "name": "stdout",
     "output_type": "stream",
     "text": [
      "HTTP Error 404\n"
     ]
    },
    {
     "name": "stderr",
     "output_type": "stream",
     "text": [
      " 47%|████▋     | 3415/7268 [33:39<19:02,  3.37it/s]"
     ]
    },
    {
     "name": "stdout",
     "output_type": "stream",
     "text": [
      "HTTP Error 404\n"
     ]
    },
    {
     "name": "stderr",
     "output_type": "stream",
     "text": [
      " 47%|████▋     | 3441/7268 [33:52<21:32,  2.96it/s]  "
     ]
    },
    {
     "name": "stdout",
     "output_type": "stream",
     "text": [
      "HTTP Error 404\n"
     ]
    },
    {
     "name": "stderr",
     "output_type": "stream",
     "text": [
      " 48%|████▊     | 3459/7268 [34:07<50:39,  1.25it/s]  "
     ]
    },
    {
     "name": "stdout",
     "output_type": "stream",
     "text": [
      "HTTP Error 404\n"
     ]
    },
    {
     "name": "stderr",
     "output_type": "stream",
     "text": [
      " 48%|████▊     | 3499/7268 [34:29<24:14,  2.59it/s]"
     ]
    },
    {
     "name": "stdout",
     "output_type": "stream",
     "text": [
      "HTTP Error 404\n"
     ]
    },
    {
     "name": "stderr",
     "output_type": "stream",
     "text": [
      " 48%|████▊     | 3505/7268 [34:31<22:15,  2.82it/s]"
     ]
    },
    {
     "name": "stdout",
     "output_type": "stream",
     "text": [
      "HTTP Error 404\n"
     ]
    },
    {
     "name": "stderr",
     "output_type": "stream",
     "text": [
      " 48%|████▊     | 3509/7268 [34:33<19:41,  3.18it/s]"
     ]
    },
    {
     "name": "stdout",
     "output_type": "stream",
     "text": [
      "HTTP Error 404\n"
     ]
    },
    {
     "name": "stderr",
     "output_type": "stream",
     "text": [
      " 48%|████▊     | 3521/7268 [34:42<31:40,  1.97it/s]"
     ]
    },
    {
     "name": "stdout",
     "output_type": "stream",
     "text": [
      "HTTP Error 404\n",
      "HTTP Error 404\n"
     ]
    },
    {
     "name": "stderr",
     "output_type": "stream",
     "text": [
      " 49%|████▉     | 3559/7268 [35:04<24:18,  2.54it/s]"
     ]
    },
    {
     "name": "stdout",
     "output_type": "stream",
     "text": [
      "HTTP Error 404\n"
     ]
    },
    {
     "name": "stderr",
     "output_type": "stream",
     "text": [
      " 49%|████▉     | 3574/7268 [35:11<18:49,  3.27it/s]"
     ]
    },
    {
     "name": "stdout",
     "output_type": "stream",
     "text": [
      "HTTP Error 404\n"
     ]
    },
    {
     "name": "stderr",
     "output_type": "stream",
     "text": [
      " 49%|████▉     | 3589/7268 [35:18<18:37,  3.29it/s]"
     ]
    },
    {
     "name": "stdout",
     "output_type": "stream",
     "text": [
      "HTTP Error 404\n",
      "HTTP Error 404\n"
     ]
    },
    {
     "name": "stderr",
     "output_type": "stream",
     "text": [
      " 50%|████▉     | 3598/7268 [35:22<22:35,  2.71it/s]"
     ]
    },
    {
     "name": "stdout",
     "output_type": "stream",
     "text": [
      "HTTP Error 404\n"
     ]
    },
    {
     "name": "stderr",
     "output_type": "stream",
     "text": [
      " 50%|████▉     | 3605/7268 [35:31<37:22,  1.63it/s]  "
     ]
    },
    {
     "name": "stdout",
     "output_type": "stream",
     "text": [
      "HTTP Error 404\n"
     ]
    },
    {
     "name": "stderr",
     "output_type": "stream",
     "text": [
      " 50%|████▉     | 3618/7268 [35:40<32:52,  1.85it/s]  "
     ]
    },
    {
     "name": "stdout",
     "output_type": "stream",
     "text": [
      "HTTP Error 404\n"
     ]
    },
    {
     "name": "stderr",
     "output_type": "stream",
     "text": [
      " 50%|█████     | 3662/7268 [36:03<23:06,  2.60it/s]"
     ]
    },
    {
     "name": "stdout",
     "output_type": "stream",
     "text": [
      "HTTP Error 404\n"
     ]
    },
    {
     "name": "stderr",
     "output_type": "stream",
     "text": [
      " 51%|█████     | 3679/7268 [36:12<23:45,  2.52it/s]"
     ]
    },
    {
     "name": "stdout",
     "output_type": "stream",
     "text": [
      "HTTP Error 404\n"
     ]
    },
    {
     "name": "stderr",
     "output_type": "stream",
     "text": [
      " 51%|█████     | 3703/7268 [36:26<19:50,  2.99it/s]"
     ]
    },
    {
     "name": "stdout",
     "output_type": "stream",
     "text": [
      "HTTP Error 404\n"
     ]
    },
    {
     "name": "stderr",
     "output_type": "stream",
     "text": [
      " 52%|█████▏    | 3773/7268 [36:47<17:16,  3.37it/s]"
     ]
    },
    {
     "name": "stdout",
     "output_type": "stream",
     "text": [
      "HTTP Error 404\n"
     ]
    },
    {
     "name": "stderr",
     "output_type": "stream",
     "text": [
      " 52%|█████▏    | 3791/7268 [36:57<22:09,  2.62it/s]"
     ]
    },
    {
     "name": "stdout",
     "output_type": "stream",
     "text": [
      "HTTP Error 404\n",
      "HTTP Error 404\n"
     ]
    },
    {
     "name": "stderr",
     "output_type": "stream",
     "text": [
      " 52%|█████▏    | 3792/7268 [36:57<18:01,  3.21it/s]"
     ]
    },
    {
     "name": "stdout",
     "output_type": "stream",
     "text": [
      "HTTP Error 404\n"
     ]
    },
    {
     "name": "stderr",
     "output_type": "stream",
     "text": [
      " 52%|█████▏    | 3805/7268 [37:04<24:04,  2.40it/s]"
     ]
    },
    {
     "name": "stdout",
     "output_type": "stream",
     "text": [
      "HTTP Error 404\n"
     ]
    },
    {
     "name": "stderr",
     "output_type": "stream",
     "text": [
      " 52%|█████▏    | 3812/7268 [37:07<21:29,  2.68it/s]"
     ]
    },
    {
     "name": "stdout",
     "output_type": "stream",
     "text": [
      "HTTP Error 404\n",
      "HTTP Error 404\n"
     ]
    },
    {
     "name": "stderr",
     "output_type": "stream",
     "text": [
      " 53%|█████▎    | 3821/7268 [37:13<25:10,  2.28it/s]"
     ]
    },
    {
     "name": "stdout",
     "output_type": "stream",
     "text": [
      "HTTP Error 404\n"
     ]
    },
    {
     "name": "stderr",
     "output_type": "stream",
     "text": [
      " 53%|█████▎    | 3823/7268 [37:13<19:59,  2.87it/s]"
     ]
    },
    {
     "name": "stdout",
     "output_type": "stream",
     "text": [
      "HTTP Error 404\n"
     ]
    },
    {
     "name": "stderr",
     "output_type": "stream",
     "text": [
      " 53%|█████▎    | 3830/7268 [37:17<23:53,  2.40it/s]"
     ]
    },
    {
     "name": "stdout",
     "output_type": "stream",
     "text": [
      "HTTP Error 404\n"
     ]
    },
    {
     "name": "stderr",
     "output_type": "stream",
     "text": [
      " 53%|█████▎    | 3863/7268 [37:38<31:13,  1.82it/s]"
     ]
    },
    {
     "name": "stdout",
     "output_type": "stream",
     "text": [
      "HTTP Error 404\n"
     ]
    },
    {
     "name": "stderr",
     "output_type": "stream",
     "text": [
      " 53%|█████▎    | 3878/7268 [37:46<24:22,  2.32it/s]"
     ]
    },
    {
     "name": "stdout",
     "output_type": "stream",
     "text": [
      "HTTP Error 404\n"
     ]
    },
    {
     "name": "stderr",
     "output_type": "stream",
     "text": [
      " 54%|█████▎    | 3901/7268 [37:57<19:22,  2.90it/s]"
     ]
    },
    {
     "name": "stdout",
     "output_type": "stream",
     "text": [
      "HTTP Error 404\n"
     ]
    },
    {
     "name": "stderr",
     "output_type": "stream",
     "text": [
      " 54%|█████▍    | 3908/7268 [37:59<17:00,  3.29it/s]"
     ]
    },
    {
     "name": "stdout",
     "output_type": "stream",
     "text": [
      "HTTP Error 404\n",
      "HTTP Error 404\n"
     ]
    },
    {
     "name": "stderr",
     "output_type": "stream",
     "text": [
      " 54%|█████▍    | 3909/7268 [37:59<14:18,  3.91it/s]"
     ]
    },
    {
     "name": "stdout",
     "output_type": "stream",
     "text": [
      "HTTP Error 404\n"
     ]
    },
    {
     "name": "stderr",
     "output_type": "stream",
     "text": [
      " 54%|█████▍    | 3957/7268 [38:27<29:04,  1.90it/s]"
     ]
    },
    {
     "name": "stdout",
     "output_type": "stream",
     "text": [
      "HTTP Error 404\n"
     ]
    },
    {
     "name": "stderr",
     "output_type": "stream",
     "text": [
      " 55%|█████▍    | 3995/7268 [38:49<29:48,  1.83it/s]  "
     ]
    },
    {
     "name": "stdout",
     "output_type": "stream",
     "text": [
      "HTTP Error 404\n"
     ]
    },
    {
     "name": "stderr",
     "output_type": "stream",
     "text": [
      " 55%|█████▌    | 4007/7268 [38:55<15:37,  3.48it/s]"
     ]
    },
    {
     "name": "stdout",
     "output_type": "stream",
     "text": [
      "HTTP Error 404\n",
      "HTTP Error 404\n"
     ]
    },
    {
     "name": "stderr",
     "output_type": "stream",
     "text": [
      " 55%|█████▌    | 4008/7268 [38:55<13:20,  4.07it/s]"
     ]
    },
    {
     "name": "stdout",
     "output_type": "stream",
     "text": [
      "HTTP Error 404\n"
     ]
    },
    {
     "name": "stderr",
     "output_type": "stream",
     "text": [
      " 55%|█████▌    | 4028/7268 [39:07<23:04,  2.34it/s]"
     ]
    },
    {
     "name": "stdout",
     "output_type": "stream",
     "text": [
      "HTTP Error 404\n"
     ]
    },
    {
     "name": "stderr",
     "output_type": "stream",
     "text": [
      " 56%|█████▌    | 4035/7268 [39:10<16:46,  3.21it/s]"
     ]
    },
    {
     "name": "stdout",
     "output_type": "stream",
     "text": [
      "HTTP Error 404\n"
     ]
    },
    {
     "name": "stderr",
     "output_type": "stream",
     "text": [
      " 56%|█████▌    | 4057/7268 [39:25<33:19,  1.61it/s]  "
     ]
    },
    {
     "name": "stdout",
     "output_type": "stream",
     "text": [
      "HTTP Error 404\n"
     ]
    },
    {
     "name": "stderr",
     "output_type": "stream",
     "text": [
      " 56%|█████▌    | 4060/7268 [39:26<19:38,  2.72it/s]"
     ]
    },
    {
     "name": "stdout",
     "output_type": "stream",
     "text": [
      "HTTP Error 404\n"
     ]
    },
    {
     "name": "stderr",
     "output_type": "stream",
     "text": [
      " 56%|█████▋    | 4099/7268 [39:52<19:16,  2.74it/s]  "
     ]
    },
    {
     "name": "stdout",
     "output_type": "stream",
     "text": [
      "HTTP Error 404\n"
     ]
    },
    {
     "name": "stderr",
     "output_type": "stream",
     "text": [
      " 56%|█████▋    | 4104/7268 [39:54<22:04,  2.39it/s]"
     ]
    },
    {
     "name": "stdout",
     "output_type": "stream",
     "text": [
      "HTTP Error 404\n"
     ]
    },
    {
     "name": "stderr",
     "output_type": "stream",
     "text": [
      " 57%|█████▋    | 4116/7268 [40:01<29:09,  1.80it/s]"
     ]
    },
    {
     "name": "stdout",
     "output_type": "stream",
     "text": [
      "HTTP Error 404\n"
     ]
    },
    {
     "name": "stderr",
     "output_type": "stream",
     "text": [
      " 57%|█████▋    | 4133/7268 [40:09<20:21,  2.57it/s]"
     ]
    },
    {
     "name": "stdout",
     "output_type": "stream",
     "text": [
      "HTTP Error 404\n"
     ]
    },
    {
     "name": "stderr",
     "output_type": "stream",
     "text": [
      " 57%|█████▋    | 4150/7268 [40:17<20:52,  2.49it/s]"
     ]
    },
    {
     "name": "stdout",
     "output_type": "stream",
     "text": [
      "HTTP Error 404\n"
     ]
    },
    {
     "name": "stderr",
     "output_type": "stream",
     "text": [
      " 57%|█████▋    | 4168/7268 [40:27<19:47,  2.61it/s]"
     ]
    },
    {
     "name": "stdout",
     "output_type": "stream",
     "text": [
      "HTTP Error 404\n"
     ]
    },
    {
     "name": "stderr",
     "output_type": "stream",
     "text": [
      " 57%|█████▋    | 4173/7268 [40:28<15:49,  3.26it/s]"
     ]
    },
    {
     "name": "stdout",
     "output_type": "stream",
     "text": [
      "HTTP Error 404\n"
     ]
    },
    {
     "name": "stderr",
     "output_type": "stream",
     "text": [
      " 57%|█████▋    | 4176/7268 [40:29<13:52,  3.72it/s]"
     ]
    },
    {
     "name": "stdout",
     "output_type": "stream",
     "text": [
      "HTTP Error 404\n"
     ]
    },
    {
     "name": "stderr",
     "output_type": "stream",
     "text": [
      " 58%|█████▊    | 4187/7268 [40:34<19:18,  2.66it/s]"
     ]
    },
    {
     "name": "stdout",
     "output_type": "stream",
     "text": [
      "HTTP Error 404\n"
     ]
    },
    {
     "name": "stderr",
     "output_type": "stream",
     "text": [
      " 58%|█████▊    | 4210/7268 [40:46<18:26,  2.76it/s]"
     ]
    },
    {
     "name": "stdout",
     "output_type": "stream",
     "text": [
      "HTTP Error 404\n"
     ]
    },
    {
     "name": "stderr",
     "output_type": "stream",
     "text": [
      " 58%|█████▊    | 4219/7268 [40:49<20:18,  2.50it/s]"
     ]
    },
    {
     "name": "stdout",
     "output_type": "stream",
     "text": [
      "HTTP Error 404\n"
     ]
    },
    {
     "name": "stderr",
     "output_type": "stream",
     "text": [
      " 59%|█████▊    | 4260/7268 [41:08<18:37,  2.69it/s]"
     ]
    },
    {
     "name": "stdout",
     "output_type": "stream",
     "text": [
      "HTTP Error 404\n",
      "HTTP Error 404\n"
     ]
    },
    {
     "name": "stderr",
     "output_type": "stream",
     "text": [
      " 59%|█████▉    | 4277/7268 [41:16<14:02,  3.55it/s]"
     ]
    },
    {
     "name": "stdout",
     "output_type": "stream",
     "text": [
      "HTTP Error 404\n"
     ]
    },
    {
     "name": "stderr",
     "output_type": "stream",
     "text": [
      " 59%|█████▉    | 4284/7268 [41:20<26:54,  1.85it/s]"
     ]
    },
    {
     "name": "stdout",
     "output_type": "stream",
     "text": [
      "HTTP Error 404\n"
     ]
    },
    {
     "name": "stderr",
     "output_type": "stream",
     "text": [
      " 59%|█████▉    | 4287/7268 [41:22<20:57,  2.37it/s]"
     ]
    },
    {
     "name": "stdout",
     "output_type": "stream",
     "text": [
      "HTTP Error 404\n"
     ]
    },
    {
     "name": "stderr",
     "output_type": "stream",
     "text": [
      " 59%|█████▉    | 4290/7268 [41:23<18:40,  2.66it/s]"
     ]
    },
    {
     "name": "stdout",
     "output_type": "stream",
     "text": [
      "HTTP Error 404\n"
     ]
    },
    {
     "name": "stderr",
     "output_type": "stream",
     "text": [
      " 59%|█████▉    | 4293/7268 [41:24<18:52,  2.63it/s]"
     ]
    },
    {
     "name": "stdout",
     "output_type": "stream",
     "text": [
      "HTTP Error 404\n"
     ]
    },
    {
     "name": "stderr",
     "output_type": "stream",
     "text": [
      " 60%|█████▉    | 4344/7268 [41:53<10:57,  4.45it/s]  "
     ]
    },
    {
     "name": "stdout",
     "output_type": "stream",
     "text": [
      "HTTP Error 404\n",
      "HTTP Error 404\n"
     ]
    },
    {
     "name": "stderr",
     "output_type": "stream",
     "text": [
      " 60%|█████▉    | 4355/7268 [41:59<21:07,  2.30it/s]"
     ]
    },
    {
     "name": "stdout",
     "output_type": "stream",
     "text": [
      "HTTP Error 404\n"
     ]
    },
    {
     "name": "stderr",
     "output_type": "stream",
     "text": [
      " 60%|██████    | 4381/7268 [42:14<19:49,  2.43it/s]"
     ]
    },
    {
     "name": "stdout",
     "output_type": "stream",
     "text": [
      "HTTP Error 404\n",
      "HTTP Error 404\n"
     ]
    },
    {
     "name": "stderr",
     "output_type": "stream",
     "text": [
      " 60%|██████    | 4388/7268 [42:17<16:20,  2.94it/s]"
     ]
    },
    {
     "name": "stdout",
     "output_type": "stream",
     "text": [
      "HTTP Error 404\n"
     ]
    },
    {
     "name": "stderr",
     "output_type": "stream",
     "text": [
      " 60%|██████    | 4391/7268 [42:18<14:03,  3.41it/s]"
     ]
    },
    {
     "name": "stdout",
     "output_type": "stream",
     "text": [
      "HTTP Error 404\n",
      "HTTP Error 404\n"
     ]
    },
    {
     "name": "stderr",
     "output_type": "stream",
     "text": [
      " 61%|██████    | 4412/7268 [42:28<16:10,  2.94it/s]"
     ]
    },
    {
     "name": "stdout",
     "output_type": "stream",
     "text": [
      "HTTP Error 404\n"
     ]
    },
    {
     "name": "stderr",
     "output_type": "stream",
     "text": [
      " 61%|██████    | 4414/7268 [42:28<15:25,  3.08it/s]"
     ]
    },
    {
     "name": "stdout",
     "output_type": "stream",
     "text": [
      "HTTP Error 404\n"
     ]
    },
    {
     "name": "stderr",
     "output_type": "stream",
     "text": [
      " 61%|██████    | 4429/7268 [42:36<16:50,  2.81it/s]"
     ]
    },
    {
     "name": "stdout",
     "output_type": "stream",
     "text": [
      "HTTP Error 404\n"
     ]
    },
    {
     "name": "stderr",
     "output_type": "stream",
     "text": [
      " 61%|██████    | 4435/7268 [42:38<14:28,  3.26it/s]"
     ]
    },
    {
     "name": "stdout",
     "output_type": "stream",
     "text": [
      "HTTP Error 404\n"
     ]
    },
    {
     "name": "stderr",
     "output_type": "stream",
     "text": [
      " 61%|██████    | 4440/7268 [42:39<12:24,  3.80it/s]"
     ]
    },
    {
     "name": "stdout",
     "output_type": "stream",
     "text": [
      "HTTP Error 404\n"
     ]
    },
    {
     "name": "stderr",
     "output_type": "stream",
     "text": [
      " 61%|██████▏   | 4456/7268 [42:47<16:25,  2.85it/s]"
     ]
    },
    {
     "name": "stdout",
     "output_type": "stream",
     "text": [
      "HTTP Error 404\n"
     ]
    },
    {
     "name": "stderr",
     "output_type": "stream",
     "text": [
      " 61%|██████▏   | 4462/7268 [42:50<16:14,  2.88it/s]"
     ]
    },
    {
     "name": "stdout",
     "output_type": "stream",
     "text": [
      "HTTP Error 404\n"
     ]
    },
    {
     "name": "stderr",
     "output_type": "stream",
     "text": [
      " 62%|██████▏   | 4478/7268 [43:01<30:43,  1.51it/s]"
     ]
    },
    {
     "name": "stdout",
     "output_type": "stream",
     "text": [
      "HTTP Error 404\n"
     ]
    },
    {
     "name": "stderr",
     "output_type": "stream",
     "text": [
      " 62%|██████▏   | 4503/7268 [43:16<24:25,  1.89it/s]"
     ]
    },
    {
     "name": "stdout",
     "output_type": "stream",
     "text": [
      "HTTP Error 404\n"
     ]
    },
    {
     "name": "stderr",
     "output_type": "stream",
     "text": [
      " 63%|██████▎   | 4564/7268 [43:53<23:47,  1.89it/s]"
     ]
    },
    {
     "name": "stdout",
     "output_type": "stream",
     "text": [
      "HTTP Error 404\n"
     ]
    },
    {
     "name": "stderr",
     "output_type": "stream",
     "text": [
      " 63%|██████▎   | 4601/7268 [44:12<14:48,  3.00it/s]"
     ]
    },
    {
     "name": "stdout",
     "output_type": "stream",
     "text": [
      "HTTP Error 404\n",
      "HTTP Error 404\n"
     ]
    },
    {
     "name": "stderr",
     "output_type": "stream",
     "text": [
      " 64%|██████▍   | 4658/7268 [44:42<14:26,  3.01it/s]"
     ]
    },
    {
     "name": "stdout",
     "output_type": "stream",
     "text": [
      "HTTP Error 404\n"
     ]
    },
    {
     "name": "stderr",
     "output_type": "stream",
     "text": [
      " 64%|██████▍   | 4661/7268 [44:43<14:06,  3.08it/s]"
     ]
    },
    {
     "name": "stdout",
     "output_type": "stream",
     "text": [
      "HTTP Error 404\n"
     ]
    },
    {
     "name": "stderr",
     "output_type": "stream",
     "text": [
      " 64%|██████▍   | 4669/7268 [44:47<14:53,  2.91it/s]"
     ]
    },
    {
     "name": "stdout",
     "output_type": "stream",
     "text": [
      "HTTP Error 404\n",
      "HTTP Error 404\n"
     ]
    },
    {
     "name": "stderr",
     "output_type": "stream",
     "text": [
      " 64%|██████▍   | 4670/7268 [44:47<12:14,  3.54it/s]"
     ]
    },
    {
     "name": "stdout",
     "output_type": "stream",
     "text": [
      "HTTP Error 404\n"
     ]
    },
    {
     "name": "stderr",
     "output_type": "stream",
     "text": [
      " 64%|██████▍   | 4676/7268 [44:51<15:18,  2.82it/s]"
     ]
    },
    {
     "name": "stdout",
     "output_type": "stream",
     "text": [
      "HTTP Error 404\n"
     ]
    },
    {
     "name": "stderr",
     "output_type": "stream",
     "text": [
      " 64%|██████▍   | 4687/7268 [44:57<16:11,  2.66it/s]"
     ]
    },
    {
     "name": "stdout",
     "output_type": "stream",
     "text": [
      "HTTP Error 404\n"
     ]
    },
    {
     "name": "stderr",
     "output_type": "stream",
     "text": [
      " 65%|██████▍   | 4714/7268 [45:13<14:09,  3.01it/s]"
     ]
    },
    {
     "name": "stdout",
     "output_type": "stream",
     "text": [
      "HTTP Error 404\n"
     ]
    },
    {
     "name": "stderr",
     "output_type": "stream",
     "text": [
      " 65%|██████▍   | 4720/7268 [45:16<17:44,  2.39it/s]"
     ]
    },
    {
     "name": "stdout",
     "output_type": "stream",
     "text": [
      "HTTP Error 404\n"
     ]
    },
    {
     "name": "stderr",
     "output_type": "stream",
     "text": [
      " 65%|██████▌   | 4742/7268 [45:28<14:00,  3.01it/s]"
     ]
    },
    {
     "name": "stdout",
     "output_type": "stream",
     "text": [
      "HTTP Error 404\n"
     ]
    },
    {
     "name": "stderr",
     "output_type": "stream",
     "text": [
      " 65%|██████▌   | 4750/7268 [45:34<19:41,  2.13it/s]"
     ]
    },
    {
     "name": "stdout",
     "output_type": "stream",
     "text": [
      "HTTP Error 404\n"
     ]
    },
    {
     "name": "stderr",
     "output_type": "stream",
     "text": [
      " 65%|██████▌   | 4753/7268 [45:36<22:10,  1.89it/s]"
     ]
    },
    {
     "name": "stdout",
     "output_type": "stream",
     "text": [
      "HTTP Error 404\n"
     ]
    },
    {
     "name": "stderr",
     "output_type": "stream",
     "text": [
      " 66%|██████▌   | 4773/7268 [45:45<19:24,  2.14it/s]"
     ]
    },
    {
     "name": "stdout",
     "output_type": "stream",
     "text": [
      "HTTP Error 404\n"
     ]
    },
    {
     "name": "stderr",
     "output_type": "stream",
     "text": [
      " 66%|██████▌   | 4792/7268 [45:56<14:27,  2.85it/s]"
     ]
    },
    {
     "name": "stdout",
     "output_type": "stream",
     "text": [
      "HTTP Error 404\n",
      "HTTP Error 404\n"
     ]
    },
    {
     "name": "stderr",
     "output_type": "stream",
     "text": [
      " 66%|██████▌   | 4794/7268 [45:56<10:00,  4.12it/s]"
     ]
    },
    {
     "name": "stdout",
     "output_type": "stream",
     "text": [
      "HTTP Error 404\n",
      "HTTP Error 404\n"
     ]
    },
    {
     "name": "stderr",
     "output_type": "stream",
     "text": [
      " 66%|██████▌   | 4796/7268 [45:56<07:53,  5.22it/s]"
     ]
    },
    {
     "name": "stdout",
     "output_type": "stream",
     "text": [
      "HTTP Error 404\n",
      "HTTP Error 404\n"
     ]
    },
    {
     "name": "stderr",
     "output_type": "stream",
     "text": [
      " 66%|██████▌   | 4797/7268 [45:56<07:42,  5.34it/s]"
     ]
    },
    {
     "name": "stdout",
     "output_type": "stream",
     "text": [
      "HTTP Error 404\n"
     ]
    },
    {
     "name": "stderr",
     "output_type": "stream",
     "text": [
      " 66%|██████▋   | 4826/7268 [46:11<13:02,  3.12it/s]"
     ]
    },
    {
     "name": "stdout",
     "output_type": "stream",
     "text": [
      "HTTP Error 404\n",
      "HTTP Error 404\n"
     ]
    },
    {
     "name": "stderr",
     "output_type": "stream",
     "text": [
      " 67%|██████▋   | 4870/7268 [46:36<16:06,  2.48it/s]"
     ]
    },
    {
     "name": "stdout",
     "output_type": "stream",
     "text": [
      "HTTP Error 404\n",
      "HTTP Error 404\n"
     ]
    },
    {
     "name": "stderr",
     "output_type": "stream",
     "text": [
      " 68%|██████▊   | 4915/7268 [46:59<13:41,  2.86it/s]"
     ]
    },
    {
     "name": "stdout",
     "output_type": "stream",
     "text": [
      "HTTP Error 404\n"
     ]
    },
    {
     "name": "stderr",
     "output_type": "stream",
     "text": [
      " 68%|██████▊   | 4918/7268 [47:00<13:43,  2.85it/s]"
     ]
    },
    {
     "name": "stdout",
     "output_type": "stream",
     "text": [
      "HTTP Error 404\n"
     ]
    },
    {
     "name": "stderr",
     "output_type": "stream",
     "text": [
      " 68%|██████▊   | 4923/7268 [47:02<13:26,  2.91it/s]"
     ]
    },
    {
     "name": "stdout",
     "output_type": "stream",
     "text": [
      "HTTP Error 404\n"
     ]
    },
    {
     "name": "stderr",
     "output_type": "stream",
     "text": [
      " 69%|██████▊   | 4993/7268 [47:42<20:27,  1.85it/s]"
     ]
    },
    {
     "name": "stdout",
     "output_type": "stream",
     "text": [
      "HTTP Error 404\n"
     ]
    },
    {
     "name": "stderr",
     "output_type": "stream",
     "text": [
      " 69%|██████▉   | 5001/7268 [47:45<12:56,  2.92it/s]"
     ]
    },
    {
     "name": "stdout",
     "output_type": "stream",
     "text": [
      "HTTP Error 404\n",
      "HTTP Error 404\n"
     ]
    },
    {
     "name": "stderr",
     "output_type": "stream",
     "text": [
      " 69%|██████▉   | 5017/7268 [47:54<17:33,  2.14it/s]"
     ]
    },
    {
     "name": "stdout",
     "output_type": "stream",
     "text": [
      "HTTP Error 404\n"
     ]
    },
    {
     "name": "stderr",
     "output_type": "stream",
     "text": [
      " 70%|██████▉   | 5074/7268 [48:27<18:27,  1.98it/s]"
     ]
    },
    {
     "name": "stdout",
     "output_type": "stream",
     "text": [
      "HTTP Error 404\n"
     ]
    },
    {
     "name": "stderr",
     "output_type": "stream",
     "text": [
      " 70%|███████   | 5089/7268 [48:37<20:22,  1.78it/s]"
     ]
    },
    {
     "name": "stdout",
     "output_type": "stream",
     "text": [
      "HTTP Error 404\n"
     ]
    },
    {
     "name": "stderr",
     "output_type": "stream",
     "text": [
      " 71%|███████   | 5148/7268 [49:10<10:10,  3.47it/s]"
     ]
    },
    {
     "name": "stdout",
     "output_type": "stream",
     "text": [
      "HTTP Error 404\n",
      "HTTP Error 404\n"
     ]
    },
    {
     "name": "stderr",
     "output_type": "stream",
     "text": [
      " 71%|███████▏  | 5191/7268 [49:35<22:46,  1.52it/s]"
     ]
    },
    {
     "name": "stdout",
     "output_type": "stream",
     "text": [
      "HTTP Error 404\n"
     ]
    },
    {
     "name": "stderr",
     "output_type": "stream",
     "text": [
      " 72%|███████▏  | 5200/7268 [49:41<15:48,  2.18it/s]"
     ]
    },
    {
     "name": "stdout",
     "output_type": "stream",
     "text": [
      "HTTP Error 404\n"
     ]
    },
    {
     "name": "stderr",
     "output_type": "stream",
     "text": [
      " 72%|███████▏  | 5212/7268 [49:51<21:32,  1.59it/s]"
     ]
    },
    {
     "name": "stdout",
     "output_type": "stream",
     "text": [
      "HTTP Error 404\n",
      "HTTP Error 404\n"
     ]
    },
    {
     "name": "stderr",
     "output_type": "stream",
     "text": [
      " 72%|███████▏  | 5216/7268 [49:54<20:27,  1.67it/s]"
     ]
    },
    {
     "name": "stdout",
     "output_type": "stream",
     "text": [
      "HTTP Error 404\n"
     ]
    },
    {
     "name": "stderr",
     "output_type": "stream",
     "text": [
      " 72%|███████▏  | 5228/7268 [50:03<15:01,  2.26it/s]"
     ]
    },
    {
     "name": "stdout",
     "output_type": "stream",
     "text": [
      "HTTP Error 404\n"
     ]
    },
    {
     "name": "stderr",
     "output_type": "stream",
     "text": [
      " 72%|███████▏  | 5232/7268 [50:05<12:57,  2.62it/s]"
     ]
    },
    {
     "name": "stdout",
     "output_type": "stream",
     "text": [
      "HTTP Error 404\n"
     ]
    },
    {
     "name": "stderr",
     "output_type": "stream",
     "text": [
      " 73%|███████▎  | 5275/7268 [50:27<11:09,  2.98it/s]"
     ]
    },
    {
     "name": "stdout",
     "output_type": "stream",
     "text": [
      "HTTP Error 404\n",
      "HTTP Error 404\n"
     ]
    },
    {
     "name": "stderr",
     "output_type": "stream",
     "text": [
      " 73%|███████▎  | 5276/7268 [50:27<09:10,  3.62it/s]"
     ]
    },
    {
     "name": "stdout",
     "output_type": "stream",
     "text": [
      "HTTP Error 404\n"
     ]
    },
    {
     "name": "stderr",
     "output_type": "stream",
     "text": [
      " 73%|███████▎  | 5280/7268 [50:29<10:37,  3.12it/s]"
     ]
    },
    {
     "name": "stdout",
     "output_type": "stream",
     "text": [
      "HTTP Error 404\n"
     ]
    },
    {
     "name": "stderr",
     "output_type": "stream",
     "text": [
      " 73%|███████▎  | 5289/7268 [50:33<14:34,  2.26it/s]"
     ]
    },
    {
     "name": "stdout",
     "output_type": "stream",
     "text": [
      "HTTP Error 404\n"
     ]
    },
    {
     "name": "stderr",
     "output_type": "stream",
     "text": [
      " 73%|███████▎  | 5309/7268 [50:45<14:06,  2.31it/s]"
     ]
    },
    {
     "name": "stdout",
     "output_type": "stream",
     "text": [
      "HTTP Error 404\n"
     ]
    },
    {
     "name": "stderr",
     "output_type": "stream",
     "text": [
      " 74%|███████▍  | 5371/7268 [51:18<15:36,  2.02it/s]"
     ]
    },
    {
     "name": "stdout",
     "output_type": "stream",
     "text": [
      "HTTP Error 404\n"
     ]
    },
    {
     "name": "stderr",
     "output_type": "stream",
     "text": [
      " 74%|███████▍  | 5379/7268 [51:25<14:42,  2.14it/s]"
     ]
    },
    {
     "name": "stdout",
     "output_type": "stream",
     "text": [
      "HTTP Error 404\n"
     ]
    },
    {
     "name": "stderr",
     "output_type": "stream",
     "text": [
      " 74%|███████▍  | 5383/7268 [51:27<17:15,  1.82it/s]"
     ]
    },
    {
     "name": "stdout",
     "output_type": "stream",
     "text": [
      "HTTP Error 404\n"
     ]
    },
    {
     "name": "stderr",
     "output_type": "stream",
     "text": [
      " 75%|███████▍  | 5424/7268 [51:49<10:31,  2.92it/s]"
     ]
    },
    {
     "name": "stdout",
     "output_type": "stream",
     "text": [
      "HTTP Error 404\n"
     ]
    },
    {
     "name": "stderr",
     "output_type": "stream",
     "text": [
      " 75%|███████▌  | 5484/7268 [52:17<13:27,  2.21it/s]"
     ]
    },
    {
     "name": "stdout",
     "output_type": "stream",
     "text": [
      "HTTP Error 404\n"
     ]
    },
    {
     "name": "stderr",
     "output_type": "stream",
     "text": [
      " 76%|███████▌  | 5499/7268 [52:25<13:58,  2.11it/s]"
     ]
    },
    {
     "name": "stdout",
     "output_type": "stream",
     "text": [
      "HTTP Error 404\n"
     ]
    },
    {
     "name": "stderr",
     "output_type": "stream",
     "text": [
      " 76%|███████▌  | 5502/7268 [52:27<16:36,  1.77it/s]"
     ]
    },
    {
     "name": "stdout",
     "output_type": "stream",
     "text": [
      "HTTP Error 404\n"
     ]
    },
    {
     "name": "stderr",
     "output_type": "stream",
     "text": [
      " 76%|███████▌  | 5506/7268 [52:28<09:44,  3.01it/s]"
     ]
    },
    {
     "name": "stdout",
     "output_type": "stream",
     "text": [
      "HTTP Error 404\n"
     ]
    },
    {
     "name": "stderr",
     "output_type": "stream",
     "text": [
      " 76%|███████▌  | 5509/7268 [52:32<24:45,  1.18it/s]"
     ]
    },
    {
     "name": "stdout",
     "output_type": "stream",
     "text": [
      "HTTP Error 404\n"
     ]
    },
    {
     "name": "stderr",
     "output_type": "stream",
     "text": [
      " 76%|███████▋  | 5545/7268 [52:53<11:19,  2.54it/s]"
     ]
    },
    {
     "name": "stdout",
     "output_type": "stream",
     "text": [
      "HTTP Error 404\n"
     ]
    },
    {
     "name": "stderr",
     "output_type": "stream",
     "text": [
      " 76%|███████▋  | 5555/7268 [52:57<08:08,  3.51it/s]"
     ]
    },
    {
     "name": "stdout",
     "output_type": "stream",
     "text": [
      "HTTP Error 404\n"
     ]
    },
    {
     "name": "stderr",
     "output_type": "stream",
     "text": [
      " 77%|███████▋  | 5564/7268 [53:03<12:53,  2.20it/s]"
     ]
    },
    {
     "name": "stdout",
     "output_type": "stream",
     "text": [
      "HTTP Error 404\n"
     ]
    },
    {
     "name": "stderr",
     "output_type": "stream",
     "text": [
      " 77%|███████▋  | 5566/7268 [53:03<08:56,  3.17it/s]"
     ]
    },
    {
     "name": "stdout",
     "output_type": "stream",
     "text": [
      "HTTP Error 404\n"
     ]
    },
    {
     "name": "stderr",
     "output_type": "stream",
     "text": [
      " 77%|███████▋  | 5569/7268 [53:04<08:43,  3.24it/s]"
     ]
    },
    {
     "name": "stdout",
     "output_type": "stream",
     "text": [
      "HTTP Error 404\n"
     ]
    },
    {
     "name": "stderr",
     "output_type": "stream",
     "text": [
      " 77%|███████▋  | 5587/7268 [53:17<12:30,  2.24it/s]"
     ]
    },
    {
     "name": "stdout",
     "output_type": "stream",
     "text": [
      "HTTP Error 404\n"
     ]
    },
    {
     "name": "stderr",
     "output_type": "stream",
     "text": [
      " 77%|███████▋  | 5603/7268 [53:25<10:22,  2.67it/s]"
     ]
    },
    {
     "name": "stdout",
     "output_type": "stream",
     "text": [
      "HTTP Error 404\n"
     ]
    },
    {
     "name": "stderr",
     "output_type": "stream",
     "text": [
      " 77%|███████▋  | 5617/7268 [53:33<10:02,  2.74it/s]"
     ]
    },
    {
     "name": "stdout",
     "output_type": "stream",
     "text": [
      "HTTP Error 404\n"
     ]
    },
    {
     "name": "stderr",
     "output_type": "stream",
     "text": [
      " 78%|███████▊  | 5651/7268 [53:52<13:02,  2.07it/s]"
     ]
    },
    {
     "name": "stdout",
     "output_type": "stream",
     "text": [
      "HTTP Error 404\n"
     ]
    },
    {
     "name": "stderr",
     "output_type": "stream",
     "text": [
      " 78%|███████▊  | 5670/7268 [54:01<11:12,  2.38it/s]"
     ]
    },
    {
     "name": "stdout",
     "output_type": "stream",
     "text": [
      "HTTP Error 404\n"
     ]
    },
    {
     "name": "stderr",
     "output_type": "stream",
     "text": [
      " 78%|███████▊  | 5683/7268 [54:10<13:55,  1.90it/s]"
     ]
    },
    {
     "name": "stdout",
     "output_type": "stream",
     "text": [
      "HTTP Error 404\n"
     ]
    },
    {
     "name": "stderr",
     "output_type": "stream",
     "text": [
      " 79%|███████▊  | 5712/7268 [54:26<10:41,  2.43it/s]"
     ]
    },
    {
     "name": "stdout",
     "output_type": "stream",
     "text": [
      "HTTP Error 404\n"
     ]
    },
    {
     "name": "stderr",
     "output_type": "stream",
     "text": [
      " 79%|███████▊  | 5722/7268 [54:32<15:42,  1.64it/s]"
     ]
    },
    {
     "name": "stdout",
     "output_type": "stream",
     "text": [
      "HTTP Error 404\n"
     ]
    },
    {
     "name": "stderr",
     "output_type": "stream",
     "text": [
      " 79%|███████▉  | 5726/7268 [54:35<16:52,  1.52it/s]"
     ]
    },
    {
     "name": "stdout",
     "output_type": "stream",
     "text": [
      "HTTP Error 404\n"
     ]
    },
    {
     "name": "stderr",
     "output_type": "stream",
     "text": [
      " 79%|███████▉  | 5746/7268 [54:43<07:36,  3.33it/s]"
     ]
    },
    {
     "name": "stdout",
     "output_type": "stream",
     "text": [
      "HTTP Error 404\n",
      "HTTP Error 404\n"
     ]
    },
    {
     "name": "stderr",
     "output_type": "stream",
     "text": [
      " 79%|███████▉  | 5774/7268 [54:57<09:47,  2.54it/s]"
     ]
    },
    {
     "name": "stdout",
     "output_type": "stream",
     "text": [
      "HTTP Error 404\n"
     ]
    },
    {
     "name": "stderr",
     "output_type": "stream",
     "text": [
      " 80%|███████▉  | 5782/7268 [55:01<10:21,  2.39it/s]"
     ]
    },
    {
     "name": "stdout",
     "output_type": "stream",
     "text": [
      "HTTP Error 404\n"
     ]
    },
    {
     "name": "stderr",
     "output_type": "stream",
     "text": [
      " 80%|███████▉  | 5790/7268 [55:04<09:03,  2.72it/s]"
     ]
    },
    {
     "name": "stdout",
     "output_type": "stream",
     "text": [
      "HTTP Error 404\n"
     ]
    },
    {
     "name": "stderr",
     "output_type": "stream",
     "text": [
      " 80%|███████▉  | 5806/7268 [55:12<11:22,  2.14it/s]"
     ]
    },
    {
     "name": "stdout",
     "output_type": "stream",
     "text": [
      "HTTP Error 404\n"
     ]
    },
    {
     "name": "stderr",
     "output_type": "stream",
     "text": [
      " 80%|███████▉  | 5810/7268 [55:14<10:30,  2.31it/s]"
     ]
    },
    {
     "name": "stdout",
     "output_type": "stream",
     "text": [
      "HTTP Error 404\n"
     ]
    },
    {
     "name": "stderr",
     "output_type": "stream",
     "text": [
      " 81%|████████  | 5878/7268 [55:56<11:01,  2.10it/s]"
     ]
    },
    {
     "name": "stdout",
     "output_type": "stream",
     "text": [
      "HTTP Error 404\n"
     ]
    },
    {
     "name": "stderr",
     "output_type": "stream",
     "text": [
      " 82%|████████▏ | 5927/7268 [56:22<08:35,  2.60it/s]"
     ]
    },
    {
     "name": "stdout",
     "output_type": "stream",
     "text": [
      "HTTP Error 404\n"
     ]
    },
    {
     "name": "stderr",
     "output_type": "stream",
     "text": [
      " 82%|████████▏ | 5933/7268 [56:24<07:09,  3.11it/s]"
     ]
    },
    {
     "name": "stdout",
     "output_type": "stream",
     "text": [
      "HTTP Error 404\n"
     ]
    },
    {
     "name": "stderr",
     "output_type": "stream",
     "text": [
      " 82%|████████▏ | 5956/7268 [56:37<11:09,  1.96it/s]"
     ]
    },
    {
     "name": "stdout",
     "output_type": "stream",
     "text": [
      "HTTP Error 404\n"
     ]
    },
    {
     "name": "stderr",
     "output_type": "stream",
     "text": [
      " 82%|████████▏ | 5985/7268 [56:53<10:42,  2.00it/s]"
     ]
    },
    {
     "name": "stdout",
     "output_type": "stream",
     "text": [
      "HTTP Error 404\n"
     ]
    },
    {
     "name": "stderr",
     "output_type": "stream",
     "text": [
      " 82%|████████▏ | 5988/7268 [56:55<10:31,  2.03it/s]"
     ]
    },
    {
     "name": "stdout",
     "output_type": "stream",
     "text": [
      "HTTP Error 404\n"
     ]
    },
    {
     "name": "stderr",
     "output_type": "stream",
     "text": [
      " 82%|████████▏ | 5991/7268 [56:56<07:41,  2.77it/s]"
     ]
    },
    {
     "name": "stdout",
     "output_type": "stream",
     "text": [
      "HTTP Error 404\n"
     ]
    },
    {
     "name": "stderr",
     "output_type": "stream",
     "text": [
      " 83%|████████▎ | 6018/7268 [57:14<13:24,  1.55it/s]"
     ]
    },
    {
     "name": "stdout",
     "output_type": "stream",
     "text": [
      "HTTP Error 404\n"
     ]
    },
    {
     "name": "stderr",
     "output_type": "stream",
     "text": [
      " 83%|████████▎ | 6024/7268 [57:17<08:21,  2.48it/s]"
     ]
    },
    {
     "name": "stdout",
     "output_type": "stream",
     "text": [
      "HTTP Error 404\n"
     ]
    },
    {
     "name": "stderr",
     "output_type": "stream",
     "text": [
      " 83%|████████▎ | 6041/7268 [57:26<09:11,  2.23it/s]"
     ]
    },
    {
     "name": "stdout",
     "output_type": "stream",
     "text": [
      "HTTP Error 404\n"
     ]
    },
    {
     "name": "stderr",
     "output_type": "stream",
     "text": [
      " 83%|████████▎ | 6061/7268 [57:38<12:48,  1.57it/s]"
     ]
    },
    {
     "name": "stdout",
     "output_type": "stream",
     "text": [
      "HTTP Error 404\n"
     ]
    },
    {
     "name": "stderr",
     "output_type": "stream",
     "text": [
      " 84%|████████▎ | 6069/7268 [57:42<07:03,  2.83it/s]"
     ]
    },
    {
     "name": "stdout",
     "output_type": "stream",
     "text": [
      "HTTP Error 404\n"
     ]
    },
    {
     "name": "stderr",
     "output_type": "stream",
     "text": [
      " 84%|████████▎ | 6071/7268 [57:42<06:22,  3.13it/s]"
     ]
    },
    {
     "name": "stdout",
     "output_type": "stream",
     "text": [
      "HTTP Error 404\n"
     ]
    },
    {
     "name": "stderr",
     "output_type": "stream",
     "text": [
      " 84%|████████▎ | 6077/7268 [57:45<07:51,  2.53it/s]"
     ]
    },
    {
     "name": "stdout",
     "output_type": "stream",
     "text": [
      "HTTP Error 404\n"
     ]
    },
    {
     "name": "stderr",
     "output_type": "stream",
     "text": [
      " 84%|████████▍ | 6090/7268 [57:52<07:49,  2.51it/s]"
     ]
    },
    {
     "name": "stdout",
     "output_type": "stream",
     "text": [
      "HTTP Error 404\n"
     ]
    },
    {
     "name": "stderr",
     "output_type": "stream",
     "text": [
      " 84%|████████▍ | 6101/7268 [57:57<07:29,  2.60it/s]"
     ]
    },
    {
     "name": "stdout",
     "output_type": "stream",
     "text": [
      "HTTP Error 404\n"
     ]
    },
    {
     "name": "stderr",
     "output_type": "stream",
     "text": [
      " 85%|████████▍ | 6149/7268 [58:23<07:59,  2.33it/s]"
     ]
    },
    {
     "name": "stdout",
     "output_type": "stream",
     "text": [
      "HTTP Error 404\n"
     ]
    },
    {
     "name": "stderr",
     "output_type": "stream",
     "text": [
      " 85%|████████▌ | 6181/7268 [58:41<09:20,  1.94it/s]"
     ]
    },
    {
     "name": "stdout",
     "output_type": "stream",
     "text": [
      "HTTP Error 404\n"
     ]
    },
    {
     "name": "stderr",
     "output_type": "stream",
     "text": [
      " 85%|████████▌ | 6183/7268 [58:41<07:59,  2.26it/s]"
     ]
    },
    {
     "name": "stdout",
     "output_type": "stream",
     "text": [
      "HTTP Error 404\n"
     ]
    },
    {
     "name": "stderr",
     "output_type": "stream",
     "text": [
      " 86%|████████▌ | 6223/7268 [59:10<15:14,  1.14it/s]"
     ]
    },
    {
     "name": "stdout",
     "output_type": "stream",
     "text": [
      "HTTP Error 404\n"
     ]
    },
    {
     "name": "stderr",
     "output_type": "stream",
     "text": [
      " 86%|████████▌ | 6239/7268 [59:19<10:16,  1.67it/s]"
     ]
    },
    {
     "name": "stdout",
     "output_type": "stream",
     "text": [
      "HTTP Error 404\n"
     ]
    },
    {
     "name": "stderr",
     "output_type": "stream",
     "text": [
      " 86%|████████▌ | 6256/7268 [59:30<05:01,  3.35it/s]"
     ]
    },
    {
     "name": "stdout",
     "output_type": "stream",
     "text": [
      "HTTP Error 404\n",
      "HTTP Error 404\n"
     ]
    },
    {
     "name": "stderr",
     "output_type": "stream",
     "text": [
      " 86%|████████▋ | 6279/7268 [59:40<06:04,  2.71it/s]"
     ]
    },
    {
     "name": "stdout",
     "output_type": "stream",
     "text": [
      "HTTP Error 404\n"
     ]
    },
    {
     "name": "stderr",
     "output_type": "stream",
     "text": [
      " 86%|████████▋ | 6286/7268 [59:42<04:08,  3.96it/s]"
     ]
    },
    {
     "name": "stdout",
     "output_type": "stream",
     "text": [
      "HTTP Error 404\n"
     ]
    },
    {
     "name": "stderr",
     "output_type": "stream",
     "text": [
      " 87%|████████▋ | 6316/7268 [59:57<07:39,  2.07it/s]"
     ]
    },
    {
     "name": "stdout",
     "output_type": "stream",
     "text": [
      "HTTP Error 404\n"
     ]
    },
    {
     "name": "stderr",
     "output_type": "stream",
     "text": [
      " 87%|████████▋ | 6328/7268 [1:00:03<05:11,  3.02it/s]"
     ]
    },
    {
     "name": "stdout",
     "output_type": "stream",
     "text": [
      "HTTP Error 404\n"
     ]
    },
    {
     "name": "stderr",
     "output_type": "stream",
     "text": [
      " 88%|████████▊ | 6407/7268 [1:00:46<03:23,  4.23it/s]"
     ]
    },
    {
     "name": "stdout",
     "output_type": "stream",
     "text": [
      "HTTP Error 404\n"
     ]
    },
    {
     "name": "stderr",
     "output_type": "stream",
     "text": [
      " 88%|████████▊ | 6413/7268 [1:00:48<04:06,  3.47it/s]"
     ]
    },
    {
     "name": "stdout",
     "output_type": "stream",
     "text": [
      "HTTP Error 404\n",
      "HTTP Error 404\n"
     ]
    },
    {
     "name": "stderr",
     "output_type": "stream",
     "text": [
      " 88%|████████▊ | 6414/7268 [1:00:48<03:28,  4.09it/s]"
     ]
    },
    {
     "name": "stdout",
     "output_type": "stream",
     "text": [
      "HTTP Error 404\n"
     ]
    },
    {
     "name": "stderr",
     "output_type": "stream",
     "text": [
      " 88%|████████▊ | 6430/7268 [1:00:57<05:32,  2.52it/s]"
     ]
    },
    {
     "name": "stdout",
     "output_type": "stream",
     "text": [
      "HTTP Error 404\n"
     ]
    },
    {
     "name": "stderr",
     "output_type": "stream",
     "text": [
      " 89%|████████▉ | 6501/7268 [1:01:47<05:46,  2.22it/s]"
     ]
    },
    {
     "name": "stdout",
     "output_type": "stream",
     "text": [
      "HTTP Error 404\n"
     ]
    },
    {
     "name": "stderr",
     "output_type": "stream",
     "text": [
      " 90%|████████▉ | 6515/7268 [1:02:04<16:57,  1.35s/it]"
     ]
    },
    {
     "name": "stdout",
     "output_type": "stream",
     "text": [
      "HTTP Error 404\n"
     ]
    },
    {
     "name": "stderr",
     "output_type": "stream",
     "text": [
      " 90%|████████▉ | 6526/7268 [1:02:13<06:04,  2.03it/s]"
     ]
    },
    {
     "name": "stdout",
     "output_type": "stream",
     "text": [
      "HTTP Error 404\n"
     ]
    },
    {
     "name": "stderr",
     "output_type": "stream",
     "text": [
      " 90%|████████▉ | 6532/7268 [1:02:16<05:55,  2.07it/s]"
     ]
    },
    {
     "name": "stdout",
     "output_type": "stream",
     "text": [
      "HTTP Error 404\n"
     ]
    },
    {
     "name": "stderr",
     "output_type": "stream",
     "text": [
      " 90%|█████████ | 6547/7268 [1:02:23<03:55,  3.07it/s]"
     ]
    },
    {
     "name": "stdout",
     "output_type": "stream",
     "text": [
      "HTTP Error 404\n"
     ]
    },
    {
     "name": "stderr",
     "output_type": "stream",
     "text": [
      " 90%|█████████ | 6555/7268 [1:02:29<07:25,  1.60it/s]"
     ]
    },
    {
     "name": "stdout",
     "output_type": "stream",
     "text": [
      "HTTP Error 404\n"
     ]
    },
    {
     "name": "stderr",
     "output_type": "stream",
     "text": [
      " 91%|█████████ | 6596/7268 [1:02:50<04:40,  2.40it/s]"
     ]
    },
    {
     "name": "stdout",
     "output_type": "stream",
     "text": [
      "HTTP Error 404\n"
     ]
    },
    {
     "name": "stderr",
     "output_type": "stream",
     "text": [
      " 91%|█████████ | 6617/7268 [1:03:01<05:05,  2.13it/s]"
     ]
    },
    {
     "name": "stdout",
     "output_type": "stream",
     "text": [
      "HTTP Error 404\n"
     ]
    },
    {
     "name": "stderr",
     "output_type": "stream",
     "text": [
      " 91%|█████████▏| 6648/7268 [1:03:18<04:54,  2.11it/s]"
     ]
    },
    {
     "name": "stdout",
     "output_type": "stream",
     "text": [
      "HTTP Error 404\n"
     ]
    },
    {
     "name": "stderr",
     "output_type": "stream",
     "text": [
      " 92%|█████████▏| 6706/7268 [1:03:52<03:44,  2.51it/s]"
     ]
    },
    {
     "name": "stdout",
     "output_type": "stream",
     "text": [
      "HTTP Error 404\n"
     ]
    },
    {
     "name": "stderr",
     "output_type": "stream",
     "text": [
      " 92%|█████████▏| 6717/7268 [1:03:58<03:45,  2.45it/s]"
     ]
    },
    {
     "name": "stdout",
     "output_type": "stream",
     "text": [
      "HTTP Error 404\n",
      "HTTP Error 404\n"
     ]
    },
    {
     "name": "stderr",
     "output_type": "stream",
     "text": [
      " 92%|█████████▏| 6718/7268 [1:03:58<03:02,  3.01it/s]"
     ]
    },
    {
     "name": "stdout",
     "output_type": "stream",
     "text": [
      "HTTP Error 404\n"
     ]
    },
    {
     "name": "stderr",
     "output_type": "stream",
     "text": [
      " 93%|█████████▎| 6733/7268 [1:04:06<04:52,  1.83it/s]"
     ]
    },
    {
     "name": "stdout",
     "output_type": "stream",
     "text": [
      "HTTP Error 404\n"
     ]
    },
    {
     "name": "stderr",
     "output_type": "stream",
     "text": [
      " 93%|█████████▎| 6738/7268 [1:04:09<04:17,  2.06it/s]"
     ]
    },
    {
     "name": "stdout",
     "output_type": "stream",
     "text": [
      "HTTP Error 404\n"
     ]
    },
    {
     "name": "stderr",
     "output_type": "stream",
     "text": [
      " 93%|█████████▎| 6742/7268 [1:04:11<02:56,  2.97it/s]"
     ]
    },
    {
     "name": "stdout",
     "output_type": "stream",
     "text": [
      "HTTP Error 404\n"
     ]
    },
    {
     "name": "stderr",
     "output_type": "stream",
     "text": [
      " 94%|█████████▎| 6805/7268 [1:04:44<03:05,  2.50it/s]"
     ]
    },
    {
     "name": "stdout",
     "output_type": "stream",
     "text": [
      "HTTP Error 404\n"
     ]
    },
    {
     "name": "stderr",
     "output_type": "stream",
     "text": [
      " 94%|█████████▍| 6853/7268 [1:05:09<02:53,  2.39it/s]"
     ]
    },
    {
     "name": "stdout",
     "output_type": "stream",
     "text": [
      "HTTP Error 404\n"
     ]
    },
    {
     "name": "stderr",
     "output_type": "stream",
     "text": [
      " 94%|█████████▍| 6856/7268 [1:05:10<01:53,  3.64it/s]"
     ]
    },
    {
     "name": "stdout",
     "output_type": "stream",
     "text": [
      "HTTP Error 404\n",
      "HTTP Error 404\n"
     ]
    },
    {
     "name": "stderr",
     "output_type": "stream",
     "text": [
      " 94%|█████████▍| 6867/7268 [1:05:15<02:50,  2.35it/s]"
     ]
    },
    {
     "name": "stdout",
     "output_type": "stream",
     "text": [
      "HTTP Error 404\n"
     ]
    },
    {
     "name": "stderr",
     "output_type": "stream",
     "text": [
      " 95%|█████████▍| 6869/7268 [1:05:15<02:18,  2.87it/s]"
     ]
    },
    {
     "name": "stdout",
     "output_type": "stream",
     "text": [
      "HTTP Error 404\n"
     ]
    },
    {
     "name": "stderr",
     "output_type": "stream",
     "text": [
      " 95%|█████████▍| 6877/7268 [1:05:18<01:51,  3.49it/s]"
     ]
    },
    {
     "name": "stdout",
     "output_type": "stream",
     "text": [
      "HTTP Error 404\n"
     ]
    },
    {
     "name": "stderr",
     "output_type": "stream",
     "text": [
      " 95%|█████████▍| 6897/7268 [1:05:29<02:53,  2.14it/s]"
     ]
    },
    {
     "name": "stdout",
     "output_type": "stream",
     "text": [
      "HTTP Error 404\n"
     ]
    },
    {
     "name": "stderr",
     "output_type": "stream",
     "text": [
      " 95%|█████████▌| 6908/7268 [1:05:35<02:37,  2.29it/s]"
     ]
    },
    {
     "name": "stdout",
     "output_type": "stream",
     "text": [
      "HTTP Error 404\n"
     ]
    },
    {
     "name": "stderr",
     "output_type": "stream",
     "text": [
      " 95%|█████████▌| 6935/7268 [1:05:46<01:37,  3.42it/s]"
     ]
    },
    {
     "name": "stdout",
     "output_type": "stream",
     "text": [
      "HTTP Error 404\n"
     ]
    },
    {
     "name": "stderr",
     "output_type": "stream",
     "text": [
      " 96%|█████████▌| 6955/7268 [1:05:58<01:27,  3.56it/s]"
     ]
    },
    {
     "name": "stdout",
     "output_type": "stream",
     "text": [
      "HTTP Error 404\n",
      "HTTP Error 404\n"
     ]
    },
    {
     "name": "stderr",
     "output_type": "stream",
     "text": [
      " 96%|█████████▌| 6960/7268 [1:06:00<01:12,  4.24it/s]"
     ]
    },
    {
     "name": "stdout",
     "output_type": "stream",
     "text": [
      "HTTP Error 404\n",
      "HTTP Error 404\n"
     ]
    },
    {
     "name": "stderr",
     "output_type": "stream",
     "text": [
      " 98%|█████████▊| 7112/7268 [1:07:26<01:45,  1.47it/s]"
     ]
    },
    {
     "name": "stdout",
     "output_type": "stream",
     "text": [
      "HTTP Error 404\n"
     ]
    },
    {
     "name": "stderr",
     "output_type": "stream",
     "text": [
      " 98%|█████████▊| 7123/7268 [1:07:32<00:56,  2.55it/s]"
     ]
    },
    {
     "name": "stdout",
     "output_type": "stream",
     "text": [
      "HTTP Error 404\n"
     ]
    },
    {
     "name": "stderr",
     "output_type": "stream",
     "text": [
      " 98%|█████████▊| 7151/7268 [1:07:55<00:44,  2.62it/s]"
     ]
    },
    {
     "name": "stdout",
     "output_type": "stream",
     "text": [
      "HTTP Error 404\n"
     ]
    },
    {
     "name": "stderr",
     "output_type": "stream",
     "text": [
      " 99%|█████████▊| 7172/7268 [1:08:09<00:37,  2.58it/s]"
     ]
    },
    {
     "name": "stdout",
     "output_type": "stream",
     "text": [
      "HTTP Error 404\n"
     ]
    },
    {
     "name": "stderr",
     "output_type": "stream",
     "text": [
      " 99%|█████████▉| 7199/7268 [1:08:25<00:29,  2.36it/s]"
     ]
    },
    {
     "name": "stdout",
     "output_type": "stream",
     "text": [
      "HTTP Error 404\n"
     ]
    },
    {
     "name": "stderr",
     "output_type": "stream",
     "text": [
      "100%|██████████| 7268/7268 [1:09:08<00:00,  1.75it/s]\n",
      "/tmp/ipykernel_2134884/113628121.py:51: DtypeWarning: Columns (2) have mixed types. Specify dtype option on import or set low_memory=False.\n",
      "  df = pd.read_csv('Integrated_dataset/kd.csv')\n"
     ]
    },
    {
     "name": "stdout",
     "output_type": "stream",
     "text": [
      "Number of invalid protein in kd dataset: 265\n"
     ]
    },
    {
     "name": "stderr",
     "output_type": "stream",
     "text": [
      "/tmp/ipykernel_2134884/113628121.py:56: DtypeWarning: Columns (0,2,4,5,6,11,12) have mixed types. Specify dtype option on import or set low_memory=False.\n",
      "  df = pd.read_csv('Integrated_dataset/ki.csv')\n"
     ]
    },
    {
     "name": "stdout",
     "output_type": "stream",
     "text": [
      "Number of invalid protein in ki dataset: 265\n"
     ]
    },
    {
     "name": "stderr",
     "output_type": "stream",
     "text": [
      "/tmp/ipykernel_2134884/113628121.py:61: DtypeWarning: Columns (0,2,4,5,6,11,12) have mixed types. Specify dtype option on import or set low_memory=False.\n",
      "  df = pd.read_csv('Integrated_dataset/ic50.csv')\n"
     ]
    },
    {
     "name": "stdout",
     "output_type": "stream",
     "text": [
      "Number of invalid protein in ki dataset: 265\n"
     ]
    },
    {
     "name": "stderr",
     "output_type": "stream",
     "text": [
      "/tmp/ipykernel_2134884/113628121.py:66: DtypeWarning: Columns (11,12) have mixed types. Specify dtype option on import or set low_memory=False.\n",
      "  df = pd.read_csv('Integrated_dataset/ec50.csv')\n"
     ]
    },
    {
     "name": "stdout",
     "output_type": "stream",
     "text": [
      "Number of invalid protein in ki dataset: 265\n",
      "Number of invalid protein in ki dataset: 265\n"
     ]
    }
   ],
   "source": [
    "# check protein availability by Graphein\n",
    "import pickle\n",
    "from loguru import logger\n",
    "logger.remove()\n",
    "logger.add(lambda msg: None)\n",
    "from graphein.protein.graphs import construct_graph\n",
    "from graphein.protein.config import ProteinGraphConfig\n",
    "from graphein.ml import GraphFormatConvertor\n",
    "from graphein.protein.utils import download_alphafold_structure\n",
    "from graphein.protein.edges.distance import (add_peptide_bonds,\n",
    "                                             add_hydrogen_bond_interactions,\n",
    "                                             add_disulfide_interactions,\n",
    "                                             add_ionic_interactions,\n",
    "                                             add_aromatic_interactions,\n",
    "                                             add_aromatic_sulphur_interactions,\n",
    "                                             add_cation_pi_interactions\n",
    "                                            )\n",
    "\n",
    "df = pd.read_csv('Integrated_dataset/integrated.csv')[['Uniprot_ID', 'SMILES', 'Activity_Type', 'Activity']]\n",
    "df2 = pd.read_csv('Integrated_dataset/percentage.csv')[['Uniprot_ID', 'SMILES', 'Activity_Type', 'Activity']]\n",
    "# df2['Uniprot_ID'] = df2['Uniprot_ID'].str.split(',').str[0]\n",
    "df = pd.concat([df, df2], axis=0)\n",
    "if not os.path.exists('data/Protein_pretrained_feat'):\n",
    "    os.makedirs('data/Protein_pretrained_feat')\n",
    "\n",
    "def construct_protein_graph(df):\n",
    "    new_edge_funcs = {\"edge_construction_functions\": [add_peptide_bonds,\n",
    "                                                    # add_aromatic_interactions,\n",
    "                                                    add_hydrogen_bond_interactions,\n",
    "                                                    add_disulfide_interactions,\n",
    "                                                    add_ionic_interactions,\n",
    "                                                    add_aromatic_sulphur_interactions,\n",
    "                                                    add_cation_pi_interactions]\n",
    "                        }\n",
    "    config = ProteinGraphConfig(**new_edge_funcs, verbose=0)\n",
    "    convertor = GraphFormatConvertor(src_format=\"nx\", dst_format=\"pyg\")\n",
    "    invalid_uni = []\n",
    "    for uni_id in tqdm(df['Uniprot_ID'].unique(), miniters=10):\n",
    "        uni = uni_id.split('_')[0]\n",
    "        try:\n",
    "            g = construct_graph(config=config, uniprot_id=uni, verbose=False)\n",
    "            with open(f'data/Protein_pretrained_feat/{uni_id}.pkl', 'wb') as f:\n",
    "                pickle.dump({uni_id: convertor(g)}, f)\n",
    "        except:\n",
    "            # print(f'Error: {uni_id} is invalid')\n",
    "            invalid_uni.append(uni_id)\n",
    "            pass\n",
    "    return invalid_uni\n",
    "\n",
    "invalid_uni = construct_protein_graph(df)\n",
    "df = pd.read_csv('Integrated_dataset/kd.csv')\n",
    "print('Number of data in kd dataset:', len(df))\n",
    "df = df[~df['Uniprot_ID'].isin(invalid_uni)]\n",
    "df.to_csv('Integrated_dataset/kd_v2.csv', index=False)\n",
    "\n",
    "df = pd.read_csv('Integrated_dataset/ki.csv')\n",
    "print('Number of data in ki dataset:', len(df))\n",
    "df = df[~df['Uniprot_ID'].isin(invalid_uni)]\n",
    "df.to_csv('Integrated_dataset/ki_v2.csv', index=False)\n",
    "\n",
    "df = pd.read_csv('Integrated_dataset/ic50.csv')\n",
    "print('Number of data in ic50 dataset:', len(df))\n",
    "df = df[~df['Uniprot_ID'].isin(invalid_uni)]\n",
    "df.to_csv('Integrated_dataset/ic50_v2.csv', index=False)\n",
    "\n",
    "df = pd.read_csv('Integrated_dataset/ec50.csv')\n",
    "print('Number of data in ec50 dataset:', len(df))\n",
    "df = df[~df['Uniprot_ID'].isin(invalid_uni)]\n",
    "df.to_csv('Integrated_dataset/ec50_v2.csv', index=False)\n",
    "\n",
    "df = pd.read_csv('Integrated_dataset/potency.csv')\n",
    "print('Number of data in potency dataset:', len(df))\n",
    "df = df[~df['Uniprot_ID'].isin(invalid_uni)]\n",
    "df.to_csv('Integrated_dataset/potency_v2.csv', index=False)"
   ]
  },
  {
   "cell_type": "code",
   "execution_count": 35,
   "metadata": {},
   "outputs": [
    {
     "name": "stdout",
     "output_type": "stream",
     "text": [
      "Number of invalid protein: 265\n"
     ]
    }
   ],
   "source": [
    "with open('data/Protein_pretrained_feat/invalid_uni.txt', 'w') as f:\n",
    "    f.write('\\n'.join(invalid_uni))\n",
    "print('Number of invalid protein:', len(invalid_uni))\n",
    "f.close()"
   ]
  },
  {
   "cell_type": "code",
   "execution_count": 34,
   "metadata": {},
   "outputs": [
    {
     "name": "stderr",
     "output_type": "stream",
     "text": [
      "/tmp/ipykernel_2134884/622287512.py:1: DtypeWarning: Columns (2) have mixed types. Specify dtype option on import or set low_memory=False.\n",
      "  df = pd.read_csv('Integrated_dataset/kd_v2.csv')\n"
     ]
    },
    {
     "name": "stdout",
     "output_type": "stream",
     "text": [
      "Number of data in kd dataset: 114680\n"
     ]
    },
    {
     "name": "stderr",
     "output_type": "stream",
     "text": [
      "/tmp/ipykernel_2134884/622287512.py:3: DtypeWarning: Columns (0,2,4,5,6,11,12) have mixed types. Specify dtype option on import or set low_memory=False.\n",
      "  df = pd.read_csv('Integrated_dataset/ki_v2.csv')\n"
     ]
    },
    {
     "name": "stdout",
     "output_type": "stream",
     "text": [
      "Number of data in ki dataset: 514509\n"
     ]
    },
    {
     "name": "stderr",
     "output_type": "stream",
     "text": [
      "/tmp/ipykernel_2134884/622287512.py:5: DtypeWarning: Columns (0,2,4,5,6,11,12) have mixed types. Specify dtype option on import or set low_memory=False.\n",
      "  df = pd.read_csv('Integrated_dataset/ic50_v2.csv')\n"
     ]
    },
    {
     "name": "stdout",
     "output_type": "stream",
     "text": [
      "Number of data in ic50 dataset: 1272075\n"
     ]
    },
    {
     "name": "stderr",
     "output_type": "stream",
     "text": [
      "/tmp/ipykernel_2134884/622287512.py:7: DtypeWarning: Columns (11,12) have mixed types. Specify dtype option on import or set low_memory=False.\n",
      "  df = pd.read_csv('Integrated_dataset/ec50_v2.csv')\n"
     ]
    },
    {
     "name": "stdout",
     "output_type": "stream",
     "text": [
      "Number of data in ec50 dataset: 168445\n",
      "Number of data in potency dataset: 2428246\n",
      "Number of data in percentage dataset: 386263\n"
     ]
    }
   ],
   "source": [
    "df = pd.read_csv('Integrated_dataset/kd_v2.csv')\n",
    "print('Number of data in kd dataset:', len(df))\n",
    "df = pd.read_csv('Integrated_dataset/ki_v2.csv')\n",
    "print('Number of data in ki dataset:', len(df))\n",
    "df = pd.read_csv('Integrated_dataset/ic50_v2.csv')\n",
    "print('Number of data in ic50 dataset:', len(df))\n",
    "df = pd.read_csv('Integrated_dataset/ec50_v2.csv')\n",
    "print('Number of data in ec50 dataset:', len(df))\n",
    "df = pd.read_csv('Integrated_dataset/potency_v2.csv')\n",
    "print('Number of data in potency dataset:', len(df))\n",
    "\n",
    "df = pd.read_csv('Integrated_dataset/percentage.csv')\n",
    "df = df[~df['Uniprot_ID'].isin(invalid_uni)]\n",
    "df.to_csv('Integrated_dataset/percentage_v2.csv', index=False)\n",
    "print('Number of data in percentage dataset:', len(df))"
   ]
  },
  {
   "cell_type": "code",
   "execution_count": null,
   "metadata": {},
   "outputs": [
    {
     "data": {
      "text/html": [
       "<pre style=\"white-space:pre;overflow-x:auto;line-height:normal;font-family:Menlo,'DejaVu Sans Mono',consolas,'Courier New',monospace\"><span style=\"color: #7fbfbf; text-decoration-color: #7fbfbf\">[02/11/24 20:19:28] </span><span style=\"color: #800000; text-decoration-color: #800000\">WARNING </span> To use the Graphein submodule                                         <a href=\"file:///ext3/miniconda3/envs/chem_gyw/lib/python3.8/site-packages/graphein/protein/features/sequence/embeddings.py\" target=\"_blank\"><span style=\"color: #7f7f7f; text-decoration-color: #7f7f7f\">embeddings.py</span></a><span style=\"color: #7f7f7f; text-decoration-color: #7f7f7f\">:</span><a href=\"file:///ext3/miniconda3/envs/chem_gyw/lib/python3.8/site-packages/graphein/protein/features/sequence/embeddings.py#44\" target=\"_blank\"><span style=\"color: #7f7f7f; text-decoration-color: #7f7f7f\">44</span></a>\n",
       "<span style=\"color: #7fbfbf; text-decoration-color: #7fbfbf\">                    </span>         graphein.protein.features.sequence.embeddings, you need to install:   <span style=\"color: #7f7f7f; text-decoration-color: #7f7f7f\">                </span>\n",
       "<span style=\"color: #7fbfbf; text-decoration-color: #7fbfbf\">                    </span>         biovec                                                                <span style=\"color: #7f7f7f; text-decoration-color: #7f7f7f\">                </span>\n",
       "<span style=\"color: #7fbfbf; text-decoration-color: #7fbfbf\">                    </span>         biovec cannot be installed via conda                                  <span style=\"color: #7f7f7f; text-decoration-color: #7f7f7f\">                </span>\n",
       "<span style=\"color: #7fbfbf; text-decoration-color: #7fbfbf\">                    </span>         Alternatively, you can install graphein with the extras:              <span style=\"color: #7f7f7f; text-decoration-color: #7f7f7f\">                </span>\n",
       "<span style=\"color: #7fbfbf; text-decoration-color: #7fbfbf\">                    </span>                                                                               <span style=\"color: #7f7f7f; text-decoration-color: #7f7f7f\">                </span>\n",
       "<span style=\"color: #7fbfbf; text-decoration-color: #7fbfbf\">                    </span>         pip install graphein<span style=\"font-weight: bold\">[</span>extras<span style=\"font-weight: bold\">]</span>                                          <span style=\"color: #7f7f7f; text-decoration-color: #7f7f7f\">                </span>\n",
       "</pre>\n"
      ],
      "text/plain": [
       "\u001b[2;36m[02/11/24 20:19:28]\u001b[0m\u001b[2;36m \u001b[0m\u001b[31mWARNING \u001b[0m To use the Graphein submodule                                         \u001b]8;id=65168;file:///ext3/miniconda3/envs/chem_gyw/lib/python3.8/site-packages/graphein/protein/features/sequence/embeddings.py\u001b\\\u001b[2membeddings.py\u001b[0m\u001b]8;;\u001b\\\u001b[2m:\u001b[0m\u001b]8;id=894238;file:///ext3/miniconda3/envs/chem_gyw/lib/python3.8/site-packages/graphein/protein/features/sequence/embeddings.py#44\u001b\\\u001b[2m44\u001b[0m\u001b]8;;\u001b\\\n",
       "\u001b[2;36m                    \u001b[0m         graphein.protein.features.sequence.embeddings, you need to install:   \u001b[2m                \u001b[0m\n",
       "\u001b[2;36m                    \u001b[0m         biovec                                                                \u001b[2m                \u001b[0m\n",
       "\u001b[2;36m                    \u001b[0m         biovec cannot be installed via conda                                  \u001b[2m                \u001b[0m\n",
       "\u001b[2;36m                    \u001b[0m         Alternatively, you can install graphein with the extras:              \u001b[2m                \u001b[0m\n",
       "\u001b[2;36m                    \u001b[0m                                                                               \u001b[2m                \u001b[0m\n",
       "\u001b[2;36m                    \u001b[0m         pip install graphein\u001b[1m[\u001b[0mextras\u001b[1m]\u001b[0m                                          \u001b[2m                \u001b[0m\n"
      ]
     },
     "metadata": {},
     "output_type": "display_data"
    },
    {
     "data": {
      "text/html": [
       "<pre style=\"white-space:pre;overflow-x:auto;line-height:normal;font-family:Menlo,'DejaVu Sans Mono',consolas,'Courier New',monospace\"><span style=\"color: #7fbfbf; text-decoration-color: #7fbfbf\">[02/11/24 20:19:30] </span><span style=\"color: #800000; text-decoration-color: #800000\">WARNING </span> To use the Graphein submodule graphein.protein.visualisation, you  <a href=\"file:///ext3/miniconda3/envs/chem_gyw/lib/python3.8/site-packages/graphein/protein/visualisation.py\" target=\"_blank\"><span style=\"color: #7f7f7f; text-decoration-color: #7f7f7f\">visualisation.py</span></a><span style=\"color: #7f7f7f; text-decoration-color: #7f7f7f\">:</span><a href=\"file:///ext3/miniconda3/envs/chem_gyw/lib/python3.8/site-packages/graphein/protein/visualisation.py#35\" target=\"_blank\"><span style=\"color: #7f7f7f; text-decoration-color: #7f7f7f\">35</span></a>\n",
       "<span style=\"color: #7fbfbf; text-decoration-color: #7fbfbf\">                    </span>         need to install: pytorch3d                                         <span style=\"color: #7f7f7f; text-decoration-color: #7f7f7f\">                   </span>\n",
       "<span style=\"color: #7fbfbf; text-decoration-color: #7fbfbf\">                    </span>         To do so, use the following command: conda install -c pytorch3d    <span style=\"color: #7f7f7f; text-decoration-color: #7f7f7f\">                   </span>\n",
       "<span style=\"color: #7fbfbf; text-decoration-color: #7fbfbf\">                    </span>         pytorch3d                                                          <span style=\"color: #7f7f7f; text-decoration-color: #7f7f7f\">                   </span>\n",
       "</pre>\n"
      ],
      "text/plain": [
       "\u001b[2;36m[02/11/24 20:19:30]\u001b[0m\u001b[2;36m \u001b[0m\u001b[31mWARNING \u001b[0m To use the Graphein submodule graphein.protein.visualisation, you  \u001b]8;id=45288;file:///ext3/miniconda3/envs/chem_gyw/lib/python3.8/site-packages/graphein/protein/visualisation.py\u001b\\\u001b[2mvisualisation.py\u001b[0m\u001b]8;;\u001b\\\u001b[2m:\u001b[0m\u001b]8;id=737408;file:///ext3/miniconda3/envs/chem_gyw/lib/python3.8/site-packages/graphein/protein/visualisation.py#35\u001b\\\u001b[2m35\u001b[0m\u001b]8;;\u001b\\\n",
       "\u001b[2;36m                    \u001b[0m         need to install: pytorch3d                                         \u001b[2m                   \u001b[0m\n",
       "\u001b[2;36m                    \u001b[0m         To do so, use the following command: conda install -c pytorch3d    \u001b[2m                   \u001b[0m\n",
       "\u001b[2;36m                    \u001b[0m         pytorch3d                                                          \u001b[2m                   \u001b[0m\n"
      ]
     },
     "metadata": {},
     "output_type": "display_data"
    },
    {
     "data": {
      "text/html": [
       "<pre style=\"white-space:pre;overflow-x:auto;line-height:normal;font-family:Menlo,'DejaVu Sans Mono',consolas,'Courier New',monospace\"><span style=\"color: #7fbfbf; text-decoration-color: #7fbfbf\">                    </span><span style=\"color: #800000; text-decoration-color: #800000\">WARNING </span> To use the Graphein submodule graphein.protein.meshes, you need to        <a href=\"file:///ext3/miniconda3/envs/chem_gyw/lib/python3.8/site-packages/graphein/protein/meshes.py\" target=\"_blank\"><span style=\"color: #7f7f7f; text-decoration-color: #7f7f7f\">meshes.py</span></a><span style=\"color: #7f7f7f; text-decoration-color: #7f7f7f\">:</span><a href=\"file:///ext3/miniconda3/envs/chem_gyw/lib/python3.8/site-packages/graphein/protein/meshes.py#29\" target=\"_blank\"><span style=\"color: #7f7f7f; text-decoration-color: #7f7f7f\">29</span></a>\n",
       "<span style=\"color: #7fbfbf; text-decoration-color: #7fbfbf\">                    </span>         install: pytorch3d                                                        <span style=\"color: #7f7f7f; text-decoration-color: #7f7f7f\">            </span>\n",
       "<span style=\"color: #7fbfbf; text-decoration-color: #7fbfbf\">                    </span>         To do so, use the following command: conda install -c pytorch3d pytorch3d <span style=\"color: #7f7f7f; text-decoration-color: #7f7f7f\">            </span>\n",
       "</pre>\n"
      ],
      "text/plain": [
       "\u001b[2;36m                   \u001b[0m\u001b[2;36m \u001b[0m\u001b[31mWARNING \u001b[0m To use the Graphein submodule graphein.protein.meshes, you need to        \u001b]8;id=252430;file:///ext3/miniconda3/envs/chem_gyw/lib/python3.8/site-packages/graphein/protein/meshes.py\u001b\\\u001b[2mmeshes.py\u001b[0m\u001b]8;;\u001b\\\u001b[2m:\u001b[0m\u001b]8;id=810662;file:///ext3/miniconda3/envs/chem_gyw/lib/python3.8/site-packages/graphein/protein/meshes.py#29\u001b\\\u001b[2m29\u001b[0m\u001b]8;;\u001b\\\n",
       "\u001b[2;36m                    \u001b[0m         install: pytorch3d                                                        \u001b[2m            \u001b[0m\n",
       "\u001b[2;36m                    \u001b[0m         To do so, use the following command: conda install -c pytorch3d pytorch3d \u001b[2m            \u001b[0m\n"
      ]
     },
     "metadata": {},
     "output_type": "display_data"
    },
    {
     "name": "stderr",
     "output_type": "stream",
     "text": [
      "/tmp/ipykernel_3107667/2949742354.py:50: DtypeWarning: Columns (0,2,4,5,6,11,12) have mixed types. Specify dtype option on import or set low_memory=False.\n",
      "  df1 = pd.read_csv('Integrated_dataset/ki_v2.csv')\n",
      "/tmp/ipykernel_3107667/2949742354.py:51: DtypeWarning: Columns (2) have mixed types. Specify dtype option on import or set low_memory=False.\n",
      "  df2 = pd.read_csv('Integrated_dataset/kd_v2.csv')\n",
      "/tmp/ipykernel_3107667/2949742354.py:52: DtypeWarning: Columns (0,2,4,5,6,11,12) have mixed types. Specify dtype option on import or set low_memory=False.\n",
      "  df3 = pd.read_csv('Integrated_dataset/ic50_v2.csv')\n",
      "/tmp/ipykernel_3107667/2949742354.py:53: DtypeWarning: Columns (11,12) have mixed types. Specify dtype option on import or set low_memory=False.\n",
      "  df4 = pd.read_csv('Integrated_dataset/ec50_v2.csv')\n",
      " 30%|██▉       | 2079/7007 [00:00<00:02, 2140.55it/s]"
     ]
    },
    {
     "name": "stdout",
     "output_type": "stream",
     "text": [
      "Error: Unable to fetch sequence for UniProt ID B2V8E3\n",
      "Error: Unable to fetch sequence for UniProt ID F1SH20\n",
      "Error: Unable to fetch sequence for UniProt ID O57585\n"
     ]
    },
    {
     "name": "stderr",
     "output_type": "stream",
     "text": [
      " 33%|███▎      | 2294/7007 [00:02<00:05, 918.36it/s] "
     ]
    },
    {
     "name": "stdout",
     "output_type": "stream",
     "text": [
      "Error: Unable to fetch sequence for UniProt ID Q98UH1\n"
     ]
    },
    {
     "name": "stderr",
     "output_type": "stream",
     "text": [
      " 82%|████████▏ | 5774/7007 [38:42<15:57,  1.29it/s]   "
     ]
    },
    {
     "name": "stdout",
     "output_type": "stream",
     "text": [
      "Error: Unable to fetch sequence for UniProt ID E2R517\n"
     ]
    },
    {
     "name": "stderr",
     "output_type": "stream",
     "text": [
      " 84%|████████▍ | 5886/7007 [42:59<18:28,  1.01it/s]  "
     ]
    },
    {
     "name": "stdout",
     "output_type": "stream",
     "text": [
      "Error: Unable to fetch sequence for UniProt ID F8W336\n"
     ]
    },
    {
     "name": "stderr",
     "output_type": "stream",
     "text": [
      " 96%|█████████▋| 6760/7007 [1:14:13<03:37,  1.14it/s]  "
     ]
    },
    {
     "name": "stdout",
     "output_type": "stream",
     "text": [
      "Error: Unable to fetch sequence for UniProt ID B3DHD6\n"
     ]
    },
    {
     "name": "stderr",
     "output_type": "stream",
     "text": [
      " 96%|█████████▋| 6761/7007 [1:14:13<02:59,  1.37it/s]"
     ]
    },
    {
     "name": "stdout",
     "output_type": "stream",
     "text": [
      "Error: Unable to fetch sequence for UniProt ID Q568G5\n"
     ]
    },
    {
     "name": "stderr",
     "output_type": "stream",
     "text": [
      " 98%|█████████▊| 6865/7007 [1:15:49<02:30,  1.06s/it]"
     ]
    },
    {
     "name": "stdout",
     "output_type": "stream",
     "text": [
      "Error: Unable to fetch sequence for UniProt ID B1AH88, P30536. Status code: 400\n"
     ]
    },
    {
     "name": "stderr",
     "output_type": "stream",
     "text": [
      " 98%|█████████▊| 6898/7007 [1:17:01<01:45,  1.03it/s]"
     ]
    },
    {
     "name": "stdout",
     "output_type": "stream",
     "text": [
      "Error: Unable to fetch sequence for UniProt ID P01258, P06881. Status code: 400\n"
     ]
    },
    {
     "name": "stderr",
     "output_type": "stream",
     "text": [
      " 99%|█████████▉| 6960/7007 [1:18:39<00:41,  1.13it/s]"
     ]
    },
    {
     "name": "stdout",
     "output_type": "stream",
     "text": [
      "Error: Unable to fetch sequence for UniProt ID P60896, Q6ZVN7. Status code: 400\n"
     ]
    },
    {
     "name": "stderr",
     "output_type": "stream",
     "text": [
      "100%|█████████▉| 6987/7007 [1:19:00<00:13,  1.53it/s]"
     ]
    },
    {
     "name": "stdout",
     "output_type": "stream",
     "text": [
      "Error: Unable to fetch sequence for UniProt ID C0HM02, P24723. Status code: 400\n"
     ]
    },
    {
     "name": "stderr",
     "output_type": "stream",
     "text": [
      "100%|██████████| 7007/7007 [1:19:24<00:00,  1.47it/s]\n"
     ]
    }
   ],
   "source": [
    "import os\n",
    "import esm\n",
    "import torch\n",
    "import pickle\n",
    "import requests\n",
    "from tqdm import tqdm\n",
    "import torch_geometric\n",
    "\n",
    "from graphein.protein.graphs import construct_graph\n",
    "from graphein.protein.config import ProteinGraphConfig\n",
    "from graphein.ml import GraphFormatConvertor\n",
    "from graphein.protein.utils import download_alphafold_structure\n",
    "from graphein.protein.edges.distance import (add_peptide_bonds,\n",
    "                                             add_hydrogen_bond_interactions,\n",
    "                                             add_disulfide_interactions,\n",
    "                                             add_ionic_interactions,\n",
    "                                             add_aromatic_interactions,\n",
    "                                             add_aromatic_sulphur_interactions,\n",
    "                                             add_cation_pi_interactions\n",
    "                                            )\n",
    "new_edge_funcs = {\"edge_construction_functions\": [add_peptide_bonds,\n",
    "                                                # add_aromatic_interactions,\n",
    "                                                add_hydrogen_bond_interactions,\n",
    "                                                add_disulfide_interactions,\n",
    "                                                add_ionic_interactions,\n",
    "                                                add_aromatic_sulphur_interactions,\n",
    "                                                add_cation_pi_interactions]\n",
    "                    }\n",
    "config = ProteinGraphConfig(**new_edge_funcs, verbose=0)\n",
    "convertor = GraphFormatConvertor(src_format=\"nx\", dst_format=\"pyg\")\n",
    "from loguru import logger\n",
    "logger.remove()\n",
    "logger.add(lambda msg: None)\n",
    "\n",
    "def get_protein_sequence(uniprot_id):\n",
    "    url = f\"https://rest.uniprot.org/uniprotkb/{uniprot_id}.fasta\"\n",
    "    response = requests.get(url)\n",
    "    \n",
    "    if response.status_code == 200:\n",
    "        try:\n",
    "            sequence = response.text.split('\\n', 1)[1].replace('\\n', '')\n",
    "            return sequence\n",
    "        except:\n",
    "            print(f\"Error: Unable to fetch sequence for UniProt ID {uniprot_id}\")\n",
    "            return None\n",
    "    else:\n",
    "        print(f\"Error: Unable to fetch sequence for UniProt ID {uniprot_id}. Status code: {response.status_code}\")\n",
    "        return None\n",
    "\n",
    "df1 = pd.read_csv('Integrated_dataset/ki_v2.csv')\n",
    "df2 = pd.read_csv('Integrated_dataset/kd_v2.csv')\n",
    "df3 = pd.read_csv('Integrated_dataset/ic50_v2.csv')\n",
    "df4 = pd.read_csv('Integrated_dataset/ec50_v2.csv')\n",
    "df5 = pd.read_csv('Integrated_dataset/potency_v2.csv')\n",
    "df6 = pd.read_csv('Integrated_dataset/percentage_v2.csv')\n",
    "df = pd.concat([df1, df2, df3, df4, df5, df6], axis=0)\n",
    "uni_list = df['Uniprot_ID'].unique()\n",
    "exist_list = os.listdir('data/Protein_pretrained_feat/')\n",
    "exist_list = [i.split('.')[0] for i in exist_list]\n",
    "\n",
    "# Load ESM-2 model\n",
    "model, alphabet = esm.pretrained.esm2_t33_650M_UR50D()\n",
    "# model, alphabet = esm.pretrained.esm2_t36_3B_UR50D()\n",
    "model = model.cuda()\n",
    "batch_converter = alphabet.get_batch_converter()\n",
    "model.eval()  # disables dropout for deterministic results\n",
    "token_representations = []\n",
    "\n",
    "convertor = GraphFormatConvertor(src_format=\"nx\", dst_format=\"pyg\")\n",
    "for idx, uni in tqdm(enumerate(uni_list), total=len(uni_list)):\n",
    "    if uni in exist_list:\n",
    "        continue\n",
    "    prot_feat = {}\n",
    "    seq = get_protein_sequence(uni)\n",
    "    if seq == None:\n",
    "        continue\n",
    "    g = construct_graph(config=config, uniprot_id=uni, verbose=False)\n",
    "    g = convertor(g)\n",
    "    if g == None:\n",
    "        continue\n",
    "    batch_labels, batch_strs, batch_tokens = batch_converter([(uni, seq)])\n",
    "    batch_lens = (batch_tokens != alphabet.padding_idx).sum(1)\n",
    "    with torch.no_grad():\n",
    "        try:\n",
    "            results = model(batch_tokens.cuda(), repr_layers=[33], return_contacts=True)\n",
    "        except:\n",
    "            model = model.cpu()\n",
    "            results = model(batch_tokens, repr_layers=[33], return_contacts=True)\n",
    "            model = model.cuda()\n",
    "    prot_feat[uni] = [seq] + [results[\"representations\"][33][0, 1: batch_lens-1].cpu().numpy()] + [g]\n",
    "    with open(f'data/Protein_pretrained_feat/{uni}.pkl', 'wb') as f:\n",
    "        pickle.dump(prot_feat, f)\n",
    "    del results, prot_feat"
   ]
  },
  {
   "cell_type": "code",
   "execution_count": 10,
   "metadata": {},
   "outputs": [
    {
     "name": "stderr",
     "output_type": "stream",
     "text": [
      "/tmp/ipykernel_894822/3269705759.py:4: DtypeWarning: Columns (0,2,4,5,6,11,12) have mixed types. Specify dtype option on import or set low_memory=False.\n",
      "  df1 = pd.read_csv('Integrated_dataset/ki_v2.csv')\n",
      "/tmp/ipykernel_894822/3269705759.py:6: DtypeWarning: Columns (2) have mixed types. Specify dtype option on import or set low_memory=False.\n",
      "  df2 = pd.read_csv('Integrated_dataset/kd_v2.csv')\n",
      "/tmp/ipykernel_894822/3269705759.py:8: DtypeWarning: Columns (0,2,4,5,6,11,12) have mixed types. Specify dtype option on import or set low_memory=False.\n",
      "  df3 = pd.read_csv('Integrated_dataset/ic50_v2.csv')\n",
      "/tmp/ipykernel_894822/3269705759.py:10: DtypeWarning: Columns (11,12) have mixed types. Specify dtype option on import or set low_memory=False.\n",
      "  df4 = pd.read_csv('Integrated_dataset/ec50_v2.csv')\n"
     ]
    },
    {
     "name": "stdout",
     "output_type": "stream",
     "text": [
      "Number of data in ki dataset: 514449\n",
      "Number of data in kd dataset: 114680\n",
      "Number of data in ic50 dataset: 1272069\n",
      "Number of data in ec50 dataset: 168440\n",
      "Number of data in potency dataset: 2428246\n",
      "Number of data in percentage dataset: 385762\n"
     ]
    }
   ],
   "source": [
    "# exclude data with invalid protein (invalid sequence/protein graph/ESM-2 representation)\n",
    "\n",
    "exist_list = os.listdir('data/Protein_pretrained_feat/')\n",
    "exist_list = [i.split('.')[0] for i in exist_list]\n",
    "\n",
    "df1 = pd.read_csv('Integrated_dataset/ki_v2.csv')\n",
    "df1 = df1[df1['Uniprot_ID'].isin(exist_list)]\n",
    "df2 = pd.read_csv('Integrated_dataset/kd_v2.csv')\n",
    "df2 = df2[df2['Uniprot_ID'].isin(exist_list)]\n",
    "df3 = pd.read_csv('Integrated_dataset/ic50_v2.csv')\n",
    "df3 = df3[df3['Uniprot_ID'].isin(exist_list)]\n",
    "df4 = pd.read_csv('Integrated_dataset/ec50_v2.csv')\n",
    "df4 = df4[df4['Uniprot_ID'].isin(exist_list)]\n",
    "df5 = pd.read_csv('Integrated_dataset/potency_v2.csv')\n",
    "df5 = df5[df5['Uniprot_ID'].isin(exist_list)]\n",
    "df6 = pd.read_csv('Integrated_dataset/percentage_v2.csv')\n",
    "df6 = df6[df6['Uniprot_ID'].isin(exist_list)]\n",
    "\n",
    "print('Number of data in ki dataset:', len(df1))\n",
    "print('Number of data in kd dataset:', len(df2))\n",
    "print('Number of data in ic50 dataset:', len(df3))\n",
    "print('Number of data in ec50 dataset:', len(df4))\n",
    "print('Number of data in potency dataset:', len(df5))\n",
    "print('Number of data in percentage dataset:', len(df6))\n",
    "\n",
    "df1.to_csv('Integrated_dataset/ki.csv', index=False)\n",
    "df2.to_csv('Integrated_dataset/kd.csv', index=False)\n",
    "df3.to_csv('Integrated_dataset/ic50.csv', index=False)\n",
    "df4.to_csv('Integrated_dataset/ec50.csv', index=False)\n",
    "df5.to_csv('Integrated_dataset/potency.csv', index=False)\n",
    "df6.to_csv('Integrated_dataset/percentage.csv', index=False)"
   ]
  },
  {
   "cell_type": "code",
   "execution_count": 13,
   "metadata": {},
   "outputs": [
    {
     "data": {
      "text/plain": [
       "'/scratch/yg3191/Activity_Cliff_data'"
      ]
     },
     "execution_count": 13,
     "metadata": {},
     "output_type": "execute_result"
    }
   ],
   "source": [
    "pwd"
   ]
  },
  {
   "cell_type": "code",
   "execution_count": null,
   "metadata": {},
   "outputs": [],
   "source": [
    "df = pd.read_csv('../Activity-cliff-prediction/CPI_baseline/PerceiverCPI/dataset/ki_val.csv')"
   ]
  },
  {
   "cell_type": "code",
   "execution_count": 1,
   "metadata": {},
   "outputs": [
    {
     "name": "stderr",
     "output_type": "stream",
     "text": [
      "/tmp/ipykernel_364833/1601734859.py:5: DtypeWarning: Columns (0,2,4,5,6,11,12) have mixed types. Specify dtype option on import or set low_memory=False.\n",
      "  df = pd.read_csv('Integrated_dataset/ic50.csv')\n"
     ]
    },
    {
     "name": "stdout",
     "output_type": "stream",
     "text": [
      "1272069\n"
     ]
    },
    {
     "name": "stderr",
     "output_type": "stream",
     "text": [
      "/tmp/ipykernel_364833/1601734859.py:7: DtypeWarning: Columns (0,2,4,5,6,11,12) have mixed types. Specify dtype option on import or set low_memory=False.\n",
      "  df = pd.read_csv('Integrated_dataset/ic50_v2.csv')\n"
     ]
    },
    {
     "name": "stdout",
     "output_type": "stream",
     "text": [
      "1272075\n"
     ]
    },
    {
     "name": "stderr",
     "output_type": "stream",
     "text": [
      "/tmp/ipykernel_364833/1601734859.py:9: DtypeWarning: Columns (0,2,4,5,6,11,12) have mixed types. Specify dtype option on import or set low_memory=False.\n",
      "  df = pd.read_csv('Integrated_dataset/ic502_v2.csv')\n"
     ]
    },
    {
     "name": "stdout",
     "output_type": "stream",
     "text": [
      "1272069\n"
     ]
    }
   ],
   "source": [
    "import pandas as pd\n",
    "import os\n",
    "import pickle\n",
    "from tqdm import tqdm\n",
    "df = pd.read_csv('Integrated_dataset/ic50.csv')\n",
    "print(len(df))\n",
    "df = pd.read_csv('Integrated_dataset/ic50_v2.csv')\n",
    "print(len(df))\n",
    "df = pd.read_csv('Integrated_dataset/ic502_v2.csv')\n",
    "print(len(df))"
   ]
  },
  {
   "cell_type": "code",
   "execution_count": 2,
   "metadata": {},
   "outputs": [
    {
     "name": "stderr",
     "output_type": "stream",
     "text": [
      "/tmp/ipykernel_364833/597701987.py:14: DtypeWarning: Columns (0,2,4,5,6,11,12) have mixed types. Specify dtype option on import or set low_memory=False.\n",
      "  df2 = pd.read_csv(f'Integrated_dataset/{end}2_v2.csv')\n"
     ]
    },
    {
     "name": "stdout",
     "output_type": "stream",
     "text": [
      "1272069\n",
      "Number of data in dataset: 148929\n"
     ]
    },
    {
     "name": "stderr",
     "output_type": "stream",
     "text": [
      "  0%|          | 0/4562 [00:00<?, ?it/s]"
     ]
    },
    {
     "data": {
      "text/html": [
       "<pre style=\"white-space:pre;overflow-x:auto;line-height:normal;font-family:Menlo,'DejaVu Sans Mono',consolas,'Courier New',monospace\"><span style=\"color: #7fbfbf; text-decoration-color: #7fbfbf\">[04/30/24 01:33:33] </span><span style=\"color: #800000; text-decoration-color: #800000\">WARNING </span> To use the Graphein submodule                                         <a href=\"file:///ext3/miniconda3/envs/chem_gyw/lib/python3.8/site-packages/graphein/protein/features/sequence/embeddings.py\" target=\"_blank\"><span style=\"color: #7f7f7f; text-decoration-color: #7f7f7f\">embeddings.py</span></a><span style=\"color: #7f7f7f; text-decoration-color: #7f7f7f\">:</span><a href=\"file:///ext3/miniconda3/envs/chem_gyw/lib/python3.8/site-packages/graphein/protein/features/sequence/embeddings.py#44\" target=\"_blank\"><span style=\"color: #7f7f7f; text-decoration-color: #7f7f7f\">44</span></a>\n",
       "<span style=\"color: #7fbfbf; text-decoration-color: #7fbfbf\">                    </span>         graphein.protein.features.sequence.embeddings, you need to install:   <span style=\"color: #7f7f7f; text-decoration-color: #7f7f7f\">                </span>\n",
       "<span style=\"color: #7fbfbf; text-decoration-color: #7fbfbf\">                    </span>         biovec                                                                <span style=\"color: #7f7f7f; text-decoration-color: #7f7f7f\">                </span>\n",
       "<span style=\"color: #7fbfbf; text-decoration-color: #7fbfbf\">                    </span>         biovec cannot be installed via conda                                  <span style=\"color: #7f7f7f; text-decoration-color: #7f7f7f\">                </span>\n",
       "<span style=\"color: #7fbfbf; text-decoration-color: #7fbfbf\">                    </span>         Alternatively, you can install graphein with the extras:              <span style=\"color: #7f7f7f; text-decoration-color: #7f7f7f\">                </span>\n",
       "<span style=\"color: #7fbfbf; text-decoration-color: #7fbfbf\">                    </span>                                                                               <span style=\"color: #7f7f7f; text-decoration-color: #7f7f7f\">                </span>\n",
       "<span style=\"color: #7fbfbf; text-decoration-color: #7fbfbf\">                    </span>         pip install graphein<span style=\"font-weight: bold\">[</span>extras<span style=\"font-weight: bold\">]</span>                                          <span style=\"color: #7f7f7f; text-decoration-color: #7f7f7f\">                </span>\n",
       "</pre>\n"
      ],
      "text/plain": [
       "\u001b[2;36m[04/30/24 01:33:33]\u001b[0m\u001b[2;36m \u001b[0m\u001b[31mWARNING \u001b[0m To use the Graphein submodule                                         \u001b]8;id=593815;file:///ext3/miniconda3/envs/chem_gyw/lib/python3.8/site-packages/graphein/protein/features/sequence/embeddings.py\u001b\\\u001b[2membeddings.py\u001b[0m\u001b]8;;\u001b\\\u001b[2m:\u001b[0m\u001b]8;id=916341;file:///ext3/miniconda3/envs/chem_gyw/lib/python3.8/site-packages/graphein/protein/features/sequence/embeddings.py#44\u001b\\\u001b[2m44\u001b[0m\u001b]8;;\u001b\\\n",
       "\u001b[2;36m                    \u001b[0m         graphein.protein.features.sequence.embeddings, you need to install:   \u001b[2m                \u001b[0m\n",
       "\u001b[2;36m                    \u001b[0m         biovec                                                                \u001b[2m                \u001b[0m\n",
       "\u001b[2;36m                    \u001b[0m         biovec cannot be installed via conda                                  \u001b[2m                \u001b[0m\n",
       "\u001b[2;36m                    \u001b[0m         Alternatively, you can install graphein with the extras:              \u001b[2m                \u001b[0m\n",
       "\u001b[2;36m                    \u001b[0m                                                                               \u001b[2m                \u001b[0m\n",
       "\u001b[2;36m                    \u001b[0m         pip install graphein\u001b[1m[\u001b[0mextras\u001b[1m]\u001b[0m                                          \u001b[2m                \u001b[0m\n"
      ]
     },
     "metadata": {},
     "output_type": "display_data"
    },
    {
     "data": {
      "text/html": [
       "<pre style=\"white-space:pre;overflow-x:auto;line-height:normal;font-family:Menlo,'DejaVu Sans Mono',consolas,'Courier New',monospace\"><span style=\"color: #7fbfbf; text-decoration-color: #7fbfbf\">[04/30/24 01:33:36] </span><span style=\"color: #800000; text-decoration-color: #800000\">WARNING </span> To use the Graphein submodule graphein.protein.visualisation, you  <a href=\"file:///ext3/miniconda3/envs/chem_gyw/lib/python3.8/site-packages/graphein/protein/visualisation.py\" target=\"_blank\"><span style=\"color: #7f7f7f; text-decoration-color: #7f7f7f\">visualisation.py</span></a><span style=\"color: #7f7f7f; text-decoration-color: #7f7f7f\">:</span><a href=\"file:///ext3/miniconda3/envs/chem_gyw/lib/python3.8/site-packages/graphein/protein/visualisation.py#35\" target=\"_blank\"><span style=\"color: #7f7f7f; text-decoration-color: #7f7f7f\">35</span></a>\n",
       "<span style=\"color: #7fbfbf; text-decoration-color: #7fbfbf\">                    </span>         need to install: pytorch3d                                         <span style=\"color: #7f7f7f; text-decoration-color: #7f7f7f\">                   </span>\n",
       "<span style=\"color: #7fbfbf; text-decoration-color: #7fbfbf\">                    </span>         To do so, use the following command: conda install -c pytorch3d    <span style=\"color: #7f7f7f; text-decoration-color: #7f7f7f\">                   </span>\n",
       "<span style=\"color: #7fbfbf; text-decoration-color: #7fbfbf\">                    </span>         pytorch3d                                                          <span style=\"color: #7f7f7f; text-decoration-color: #7f7f7f\">                   </span>\n",
       "</pre>\n"
      ],
      "text/plain": [
       "\u001b[2;36m[04/30/24 01:33:36]\u001b[0m\u001b[2;36m \u001b[0m\u001b[31mWARNING \u001b[0m To use the Graphein submodule graphein.protein.visualisation, you  \u001b]8;id=155164;file:///ext3/miniconda3/envs/chem_gyw/lib/python3.8/site-packages/graphein/protein/visualisation.py\u001b\\\u001b[2mvisualisation.py\u001b[0m\u001b]8;;\u001b\\\u001b[2m:\u001b[0m\u001b]8;id=119599;file:///ext3/miniconda3/envs/chem_gyw/lib/python3.8/site-packages/graphein/protein/visualisation.py#35\u001b\\\u001b[2m35\u001b[0m\u001b]8;;\u001b\\\n",
       "\u001b[2;36m                    \u001b[0m         need to install: pytorch3d                                         \u001b[2m                   \u001b[0m\n",
       "\u001b[2;36m                    \u001b[0m         To do so, use the following command: conda install -c pytorch3d    \u001b[2m                   \u001b[0m\n",
       "\u001b[2;36m                    \u001b[0m         pytorch3d                                                          \u001b[2m                   \u001b[0m\n"
      ]
     },
     "metadata": {},
     "output_type": "display_data"
    },
    {
     "data": {
      "text/html": [
       "<pre style=\"white-space:pre;overflow-x:auto;line-height:normal;font-family:Menlo,'DejaVu Sans Mono',consolas,'Courier New',monospace\"><span style=\"color: #7fbfbf; text-decoration-color: #7fbfbf\">                    </span><span style=\"color: #800000; text-decoration-color: #800000\">WARNING </span> To use the Graphein submodule graphein.protein.meshes, you need to        <a href=\"file:///ext3/miniconda3/envs/chem_gyw/lib/python3.8/site-packages/graphein/protein/meshes.py\" target=\"_blank\"><span style=\"color: #7f7f7f; text-decoration-color: #7f7f7f\">meshes.py</span></a><span style=\"color: #7f7f7f; text-decoration-color: #7f7f7f\">:</span><a href=\"file:///ext3/miniconda3/envs/chem_gyw/lib/python3.8/site-packages/graphein/protein/meshes.py#29\" target=\"_blank\"><span style=\"color: #7f7f7f; text-decoration-color: #7f7f7f\">29</span></a>\n",
       "<span style=\"color: #7fbfbf; text-decoration-color: #7fbfbf\">                    </span>         install: pytorch3d                                                        <span style=\"color: #7f7f7f; text-decoration-color: #7f7f7f\">            </span>\n",
       "<span style=\"color: #7fbfbf; text-decoration-color: #7fbfbf\">                    </span>         To do so, use the following command: conda install -c pytorch3d pytorch3d <span style=\"color: #7f7f7f; text-decoration-color: #7f7f7f\">            </span>\n",
       "</pre>\n"
      ],
      "text/plain": [
       "\u001b[2;36m                   \u001b[0m\u001b[2;36m \u001b[0m\u001b[31mWARNING \u001b[0m To use the Graphein submodule graphein.protein.meshes, you need to        \u001b]8;id=486735;file:///ext3/miniconda3/envs/chem_gyw/lib/python3.8/site-packages/graphein/protein/meshes.py\u001b\\\u001b[2mmeshes.py\u001b[0m\u001b]8;;\u001b\\\u001b[2m:\u001b[0m\u001b]8;id=939131;file:///ext3/miniconda3/envs/chem_gyw/lib/python3.8/site-packages/graphein/protein/meshes.py#29\u001b\\\u001b[2m29\u001b[0m\u001b]8;;\u001b\\\n",
       "\u001b[2;36m                    \u001b[0m         install: pytorch3d                                                        \u001b[2m            \u001b[0m\n",
       "\u001b[2;36m                    \u001b[0m         To do so, use the following command: conda install -c pytorch3d pytorch3d \u001b[2m            \u001b[0m\n"
      ]
     },
     "metadata": {},
     "output_type": "display_data"
    },
    {
     "name": "stderr",
     "output_type": "stream",
     "text": [
      "100%|██████████| 4562/4562 [10:09<00:00,  7.48it/s]\n"
     ]
    }
   ],
   "source": [
    "import pandas as pd\n",
    "import os\n",
    "import pickle\n",
    "from tqdm import tqdm\n",
    "\n",
    "\n",
    "def select_by_NumProt(df, num_prot):\n",
    "    candidate = df['Uniprot_ID'].value_counts()[df['Uniprot_ID'].value_counts() < 200].index\n",
    "    df = df[df['Uniprot_ID'].isin(candidate)]\n",
    "    return df\n",
    "\n",
    "endpoint = ['ic50']\n",
    "for end in endpoint:\n",
    "    df2 = pd.read_csv(f'Integrated_dataset/{end}2_v2.csv')\n",
    "    print(len(df2))\n",
    "    df2 = select_by_NumProt(df2, 200)\n",
    "    print('Number of data in dataset:', len(df2))\n",
    "    df2['exp_mean [nM]'] = df2['Activity'].map(lambda x: 10**-x)\n",
    "    df2['cliff_mol'] = 0\n",
    "    df2['split'] = 'test'\n",
    "    df2 = df2.rename(columns={'SMILES':'smiles', 'Uniprot_ID': 'Uniprot_id', 'Activity': 'y'})\n",
    "\n",
    "    df2 = df2[['smiles', 'exp_mean [nM]', 'y', 'cliff_mol', 'split', 'Uniprot_id']]\n",
    "    prot = df2['Uniprot_id'].unique()\n",
    "    f = os.listdir('data/Protein_pretrained_feat/')\n",
    "    f = [i.split('.')[0] for i in f]\n",
    "    invalid = []\n",
    "    for p in tqdm(prot):\n",
    "        if p in f:\n",
    "            file = pickle.load(open(f'data/Protein_pretrained_feat/{p}.pkl', 'rb'))\n",
    "            df2.loc[df2['Uniprot_id'] == p, 'Sequence'] = file[p][0]\n",
    "    df2.to_csv(f'data/{end}_last.csv', index=False)"
   ]
  },
  {
   "cell_type": "code",
   "execution_count": 4,
   "metadata": {},
   "outputs": [],
   "source": [
    "df2 = df2.dropna(subset=['Sequence'])\n",
    "df2.to_csv(f'data/{end}_last.csv', index=False)"
   ]
  },
  {
   "cell_type": "code",
   "execution_count": 22,
   "metadata": {},
   "outputs": [
    {
     "name": "stderr",
     "output_type": "stream",
     "text": [
      "/tmp/ipykernel_4192563/76613302.py:6: DtypeWarning: Columns (0,2,4,5,6,11,12) have mixed types. Specify dtype option on import or set low_memory=False.\n",
      "  df1 = pd.read_csv('Integrated_dataset/ki2_v2.csv')\n"
     ]
    },
    {
     "name": "stdout",
     "output_type": "stream",
     "text": [
      "Number of data in ki dataset: 448920\n",
      "Number of data in kd dataset: 5531\n"
     ]
    },
    {
     "name": "stderr",
     "output_type": "stream",
     "text": [
      "/tmp/ipykernel_4192563/76613302.py:16: DtypeWarning: Columns (0,2,4,5,6,11,12) have mixed types. Specify dtype option on import or set low_memory=False.\n",
      "  df3 = pd.read_csv('Integrated_dataset/ic502_v2.csv')\n"
     ]
    },
    {
     "name": "stdout",
     "output_type": "stream",
     "text": [
      "Number of data in ic50 dataset: 1123140\n"
     ]
    },
    {
     "name": "stderr",
     "output_type": "stream",
     "text": [
      "/tmp/ipykernel_4192563/76613302.py:21: DtypeWarning: Columns (11,12) have mixed types. Specify dtype option on import or set low_memory=False.\n",
      "  df4 = pd.read_csv('Integrated_dataset/ec502_v2.csv')\n"
     ]
    },
    {
     "name": "stdout",
     "output_type": "stream",
     "text": [
      "Number of data in ec50 dataset: 126139\n",
      "Number of data in potency dataset: 2426632\n",
      "Number of data in percentage dataset: 321119\n"
     ]
    }
   ],
   "source": [
    "def select_by_NumProt(df, num_prot):\n",
    "    candidate = df['Uniprot_ID'].value_counts()[df['Uniprot_ID'].value_counts() >= 200].index\n",
    "    df = df[df['Uniprot_ID'].isin(candidate)]\n",
    "    return df\n",
    "\n",
    "df1 = pd.read_csv('Integrated_dataset/ki2_v2.csv')\n",
    "df1 = select_by_NumProt(df1, 200)\n",
    "print('Number of data in ki dataset:', len(df1))\n",
    "df1.to_csv('data/ki2_v3.csv', index=False)\n",
    "\n",
    "df2 = pd.read_csv('Integrated_dataset/kd2_v2.csv')\n",
    "df2 = select_by_NumProt(df2, 200)\n",
    "print('Number of data in kd dataset:', len(df2))\n",
    "df2.to_csv('data/kd2_v3.csv', index=False)\n",
    "\n",
    "df3 = pd.read_csv('Integrated_dataset/ic502_v2.csv')\n",
    "df3 = select_by_NumProt(df3, 200)\n",
    "print('Number of data in ic50 dataset:', len(df3))\n",
    "df3.to_csv('data/ic502_v3.csv', index=False)\n",
    "\n",
    "df4 = pd.read_csv('Integrated_dataset/ec502_v2.csv')\n",
    "df4 = select_by_NumProt(df4, 200)\n",
    "print('Number of data in ec50 dataset:', len(df4))\n",
    "df4.to_csv('data/ec502_v3.csv', index=False)\n",
    "\n",
    "df5 = pd.read_csv('Integrated_dataset/potency2_v2.csv')\n",
    "df5 = select_by_NumProt(df5, 200)\n",
    "print('Number of data in potency dataset:', len(df5))\n",
    "df5.to_csv('data/potency2_v3.csv', index=False)\n",
    "\n",
    "df6 = pd.read_csv('Integrated_dataset/percentage_v2.csv')\n",
    "df6 = select_by_NumProt(df6, 200)\n",
    "print('Number of data in percentage dataset:', len(df6))\n",
    "df6.to_csv('data/percentage2_v3.csv', index=False)"
   ]
  },
  {
   "cell_type": "code",
   "execution_count": 20,
   "metadata": {},
   "outputs": [
    {
     "name": "stderr",
     "output_type": "stream",
     "text": [
      "/tmp/ipykernel_899829/3498227342.py:6: DtypeWarning: Columns (0,2,4,5,6,11,12) have mixed types. Specify dtype option on import or set low_memory=False.\n",
      "  df1 = pd.read_csv('Integrated_dataset/ki.csv')\n"
     ]
    },
    {
     "name": "stdout",
     "output_type": "stream",
     "text": [
      "Number of data in ki dataset: 448920\n"
     ]
    },
    {
     "name": "stderr",
     "output_type": "stream",
     "text": [
      "/tmp/ipykernel_899829/3498227342.py:11: DtypeWarning: Columns (2) have mixed types. Specify dtype option on import or set low_memory=False.\n",
      "  df2 = pd.read_csv('Integrated_dataset/kd.csv')\n"
     ]
    },
    {
     "name": "stdout",
     "output_type": "stream",
     "text": [
      "Number of data in kd dataset: 66262\n"
     ]
    },
    {
     "name": "stderr",
     "output_type": "stream",
     "text": [
      "/tmp/ipykernel_899829/3498227342.py:16: DtypeWarning: Columns (0,2,4,5,6,11,12) have mixed types. Specify dtype option on import or set low_memory=False.\n",
      "  df3 = pd.read_csv('Integrated_dataset/ic50.csv')\n"
     ]
    },
    {
     "name": "stdout",
     "output_type": "stream",
     "text": [
      "Number of data in ic50 dataset: 1123140\n"
     ]
    },
    {
     "name": "stderr",
     "output_type": "stream",
     "text": [
      "/tmp/ipykernel_899829/3498227342.py:21: DtypeWarning: Columns (11,12) have mixed types. Specify dtype option on import or set low_memory=False.\n",
      "  df4 = pd.read_csv('Integrated_dataset/ec50.csv')\n"
     ]
    },
    {
     "name": "stdout",
     "output_type": "stream",
     "text": [
      "Number of data in ec50 dataset: 126139\n",
      "Number of data in potency dataset: 2426632\n",
      "Number of data in percentage dataset: 320676\n"
     ]
    }
   ],
   "source": [
    "def select_by_NumProt(df, num_prot):\n",
    "    candidate = df['Uniprot_ID'].value_counts()[df['Uniprot_ID'].value_counts() >= 200].index\n",
    "    df = df[df['Uniprot_ID'].isin(candidate)]\n",
    "    return df\n",
    "\n",
    "df1 = pd.read_csv('Integrated_dataset/ki.csv')\n",
    "df1 = select_by_NumProt(df1, 200)\n",
    "print('Number of data in ki dataset:', len(df1))\n",
    "df1.to_csv('data/ki.csv', index=False)\n",
    "\n",
    "df2 = pd.read_csv('Integrated_dataset/kd.csv')\n",
    "df2 = select_by_NumProt(df2, 200)\n",
    "print('Number of data in kd dataset:', len(df2))\n",
    "df2.to_csv('data/kd.csv', index=False)\n",
    "\n",
    "df3 = pd.read_csv('Integrated_dataset/ic50.csv')\n",
    "df3 = select_by_NumProt(df3, 200)\n",
    "print('Number of data in ic50 dataset:', len(df3))\n",
    "df3.to_csv('data/ic502.csv', index=False)\n",
    "\n",
    "df4 = pd.read_csv('Integrated_dataset/ec50.csv')\n",
    "df4 = select_by_NumProt(df4, 200)\n",
    "print('Number of data in ec50 dataset:', len(df4))\n",
    "df4.to_csv('data/ec50.csv', index=False)\n",
    "\n",
    "df5 = pd.read_csv('Integrated_dataset/potency.csv')\n",
    "df5 = select_by_NumProt(df5, 200)\n",
    "print('Number of data in potency dataset:', len(df5))\n",
    "df5.to_csv('data/potency.csv', index=False)\n",
    "\n",
    "df6 = pd.read_csv('Integrated_dataset/percentage.csv')\n",
    "df6 = select_by_NumProt(df6, 200)\n",
    "print('Number of data in percentage dataset:', len(df6))\n",
    "df6.to_csv('data/percentage.csv', index=False)"
   ]
  },
  {
   "cell_type": "code",
   "execution_count": 2,
   "metadata": {},
   "outputs": [
    {
     "name": "stderr",
     "output_type": "stream",
     "text": [
      "2024-04-22 22:06:34.555014: I tensorflow/core/platform/cpu_feature_guard.cc:193] This TensorFlow binary is optimized with oneAPI Deep Neural Network Library (oneDNN) to use the following CPU instructions in performance-critical operations:  AVX2 AVX512F AVX512_VNNI FMA\n",
      "To enable them in other operations, rebuild TensorFlow with the appropriate compiler flags.\n",
      "2024-04-22 22:06:36.554228: I tensorflow/core/util/port.cc:104] oneDNN custom operations are on. You may see slightly different numerical results due to floating-point round-off errors from different computation orders. To turn them off, set the environment variable `TF_ENABLE_ONEDNN_OPTS=0`.\n",
      "2024-04-22 22:06:39.840449: W tensorflow/compiler/xla/stream_executor/platform/default/dso_loader.cc:64] Could not load dynamic library 'libnvinfer.so.7'; dlerror: libnvinfer.so.7: cannot open shared object file: No such file or directory; LD_LIBRARY_PATH: /usr/local/nvidia/lib:/usr/local/nvidia/lib64:/.singularity.d/libs\n",
      "2024-04-22 22:06:39.840746: W tensorflow/compiler/xla/stream_executor/platform/default/dso_loader.cc:64] Could not load dynamic library 'libnvinfer_plugin.so.7'; dlerror: libnvinfer_plugin.so.7: cannot open shared object file: No such file or directory; LD_LIBRARY_PATH: /usr/local/nvidia/lib:/usr/local/nvidia/lib64:/.singularity.d/libs\n",
      "2024-04-22 22:06:39.840751: W tensorflow/compiler/tf2tensorrt/utils/py_utils.cc:38] TF-TRT Warning: Cannot dlopen some TensorRT libraries. If you would like to use Nvidia GPU with TensorRT, please make sure the missing libraries mentioned above are installed properly.\n"
     ]
    }
   ],
   "source": [
    "# split the data into train/test by activity cliffs\n",
    "# it will cost over one day as the data size is super large\n",
    "\n",
    "from MoleculeACE.benchmark.cliffs import ActivityCliffs, get_tanimoto_matrix, \\\n",
    "                                        moleculeace_similarity, get_fc\n",
    "from sklearn.cluster import SpectralClustering\n",
    "from typing import List\n",
    "import requests\n",
    "from sklearn.model_selection import train_test_split\n",
    "import os\n",
    "import numpy as np\n",
    "import pandas as pd\n",
    "from tqdm import tqdm\n",
    "import papyrus_scripts\n",
    "import matplotlib.pyplot as plt\n",
    "from papyrus_scripts.reader import read_papyrus, read_protein_set\n",
    "\n",
    "\n",
    "def get_protein_sequence(uniprot_id):\n",
    "    url = f\"https://rest.uniprot.org/uniprotkb/{uniprot_id}.fasta\"\n",
    "    response = requests.get(url)\n",
    "    \n",
    "    if response.status_code == 200:\n",
    "        try:\n",
    "            sequence = response.text.split('\\n', 1)[1].replace('\\n', '')\n",
    "            return sequence\n",
    "        except:\n",
    "            print(f\"Error: Unable to fetch sequence for UniProt ID {uniprot_id}\")\n",
    "            return None\n",
    "    else:\n",
    "        print(f\"Error: Unable to fetch sequence for UniProt ID {uniprot_id}. Status code: {response.status_code}\")\n",
    "        return None\n",
    "\n",
    "def check_matching(original_smiles, original_bioactivity, smiles, bioactivity):\n",
    "    assert len(smiles) == len(bioactivity), \"length doesn't match\"\n",
    "    for smi, label in zip(original_smiles, original_bioactivity):\n",
    "        if smi in smiles:\n",
    "            assert bioactivity[smiles.index(smi)] == label, f\"{smi} doesn't match label {label}\"\n",
    "\n",
    "def is_cliff(smiles1, smiles2, y1, y2, similarity: float = 0.9, potency_fold: float = 10):\n",
    "    \"\"\" Calculates if two molecules are activity cliffs \"\"\"\n",
    "    sim = moleculeace_similarity([smiles1, smiles2], similarity=similarity)[0][1]\n",
    "    fc = get_fc([y1, y2])[0][1]\n",
    "\n",
    "    return sim == 1 and fc >= potency_fold\n",
    "    \n",
    "def check_cliffs(cliffs, n: int = 10):\n",
    "\n",
    "    # Find the location of 10 random cliffs and check if they are actually cliffs\n",
    "    m = n\n",
    "    if np.sum(cliffs.cliffs) < 2*n:\n",
    "        n = int(np.sum(cliffs.cliffs)/2)\n",
    "\n",
    "    cliff_loc = np.where(cliffs.cliffs == 1)\n",
    "    random_cliffs = np.random.randint(0, len(cliff_loc[0]), n)\n",
    "    cliff_loc = [(cliff_loc[0][c], cliff_loc[1][c]) for c in random_cliffs]\n",
    "\n",
    "    for i, j in cliff_loc:\n",
    "        assert is_cliff(cliffs.smiles[i], cliffs.smiles[j], cliffs.bioactivity[i], cliffs.bioactivity[j])\n",
    "\n",
    "    if len(cliffs.cliffs)-n < m:\n",
    "        m = len(cliffs.cliffs)-n\n",
    "    # Find the location of 10 random non-cliffs and check if they are actually non-cliffs\n",
    "    non_cliff_loc = np.where(cliffs.cliffs == 0)\n",
    "    random_non_cliffs = np.random.randint(0, len(non_cliff_loc[0]), m)\n",
    "    non_cliff_loc = [(non_cliff_loc[0][c], non_cliff_loc[1][c]) for c in random_non_cliffs]\n",
    "\n",
    "    for i, j in non_cliff_loc:\n",
    "        assert not is_cliff(cliffs.smiles[i], cliffs.smiles[j], cliffs.bioactivity[i], cliffs.bioactivity[j])\n",
    "\n",
    "def find_stereochemical_siblings(smiles: List[str]):\n",
    "    \"\"\" Detects molecules that have different SMILES strings, but ecode for the same molecule with\n",
    "    different stereochemistry. For racemic mixtures it is often unclear which one is measured/active\n",
    "\n",
    "    Args:\n",
    "        smiles: (lst) list of SMILES strings\n",
    "\n",
    "    Returns: (lst) List of SMILES having a similar molecule with different stereochemistry\n",
    "\n",
    "    \"\"\"\n",
    "    from MoleculeACE.benchmark.cliffs import get_tanimoto_matrix\n",
    "\n",
    "    lower = np.tril(get_tanimoto_matrix(smiles, radius=4, nBits=4096), k=0)\n",
    "    identical = np.where(lower == 1)\n",
    "    identical_pairs = [[smiles[identical[0][i]], smiles[identical[1][i]]] for i, j in enumerate(identical[0])]\n",
    "\n",
    "    return list(set(sum(identical_pairs, [])))\n",
    "              \n",
    "def split_data(smiles: List[str], bioactivity: List[float], n_clusters: int = 5,\n",
    "               in_log10 = True, test_size: float = 0.2, random_state: int = 0,\n",
    "               similarity: float = 0.9, potency_fold: int = 10, remove_stereo: bool = True):\n",
    "    \"\"\" Split data into train/test according to activity cliffs and compounds characteristics.\n",
    "\n",
    "    :param smiles: (List[str]) list of SMILES strings\n",
    "    :param bioactivity: (List[float]) list of bioactivity values\n",
    "    :param n_clusters: (int) number of clusters the data is split into for getting homogeneous data splits\n",
    "    :param in_log10: (bool) are the bioactivity values in log10?\n",
    "    :param test_size: (float) test split\n",
    "    :param similarity:  (float) similarity threshold for calculating activity cliffs\n",
    "    :param potency_fold: (float) potency difference threshold for calculating activity cliffs\n",
    "    :param remove_stereo: (bool) Remove racemic mixtures altogether?\n",
    "\n",
    "    :return: df[smiles, exp_mean [nM], y, cliff_mol, split]\n",
    "    \"\"\"\n",
    "\n",
    "    original_smiles = smiles\n",
    "    original_bioactivity = bioactivity\n",
    "\n",
    "    if remove_stereo:\n",
    "        stereo_smiles_idx = [smiles.index(i) for i in find_stereochemical_siblings(smiles)]\n",
    "        smiles = [smi for i, smi in enumerate(smiles) if i not in stereo_smiles_idx]\n",
    "        bioactivity = [act for i, act in enumerate(bioactivity) if i not in stereo_smiles_idx]\n",
    "        if len(stereo_smiles_idx) > 0:\n",
    "            print(f\"Removed {len(stereo_smiles_idx)} stereoisomers\")\n",
    "\n",
    "    check_matching(original_smiles, original_bioactivity, smiles, bioactivity)\n",
    "    if not in_log10:\n",
    "        y_log = -np.log10(bioactivity)\n",
    "    else:\n",
    "        y_log = bioactivity\n",
    "\n",
    "    cliffs = ActivityCliffs(smiles, bioactivity)\n",
    "    cliff_mols = cliffs.get_cliff_molecules(return_smiles=False, similarity=similarity, potency_fold=potency_fold)\n",
    "\n",
    "    check_cliffs(cliffs)\n",
    "\n",
    "    # Perform spectral clustering on a tanimoto distance matrix\n",
    "    spectral = SpectralClustering(n_clusters=n_clusters, random_state=random_state, affinity='precomputed')\n",
    "    clusters = spectral.fit(get_tanimoto_matrix(smiles)).labels_\n",
    "\n",
    "    train_idx, test_idx = [], []\n",
    "    for cluster in range(n_clusters):\n",
    "\n",
    "        cluster_idx = np.where(clusters == cluster)[0]\n",
    "        clust_cliff_mols = [cliff_mols[i] for i in cluster_idx]\n",
    "\n",
    "        # Can only split stratiefied on cliffs if there are at least 2 cliffs present, else do it randomly\n",
    "        if sum(clust_cliff_mols) > 2:\n",
    "            clust_train_idx, clust_test_idx = train_test_split(cluster_idx, test_size=test_size,\n",
    "                                                               random_state=random_state,\n",
    "                                                               stratify=clust_cliff_mols, shuffle=True)\n",
    "        else:\n",
    "            clust_train_idx, clust_test_idx = train_test_split(cluster_idx, test_size=test_size,\n",
    "                                                               random_state=random_state,\n",
    "                                                               shuffle=True)\n",
    "\n",
    "        train_idx.extend(clust_train_idx)\n",
    "        test_idx.extend(clust_test_idx)\n",
    "\n",
    "    train_test = []\n",
    "    for i in range(len(smiles)):\n",
    "        if i in train_idx:\n",
    "            train_test.append('train')\n",
    "        elif i in test_idx:\n",
    "            train_test.append('test')\n",
    "        else:\n",
    "            raise ValueError(f\"Can't find molecule {i} in train or test\")\n",
    "\n",
    "    # Check if there is any intersection between train and test molecules\n",
    "    assert len(np.intersect1d(train_idx, test_idx)) == 0, 'train and test intersect'\n",
    "    assert len(np.intersect1d(np.array(smiles)[np.where(np.array(train_test) == 'train')],\n",
    "                              np.array(smiles)[np.where(np.array(train_test) == 'test')])) == 0, \\\n",
    "        'train and test intersect'\n",
    "\n",
    "    df_out = pd.DataFrame({'smiles': smiles,\n",
    "                         'exp_mean [nM]': bioactivity,\n",
    "                         'y': y_log,\n",
    "                         'cliff_mol': cliff_mols,\n",
    "                         'split': train_test})\n",
    "\n",
    "    return df_out\n",
    "\n",
    "def process_df(df, bioassay, uni):\n",
    "    if not os.path.exists(f'data/{bioassay}'):\n",
    "        os.makedirs(f'data/{bioassay}')\n",
    "        \n",
    "    df = df.rename(columns={'SMILES': 'smiles',\n",
    "                            'Activity': 'y'})\n",
    "    try:\n",
    "        df = split_data(df['smiles'].values.tolist(),\n",
    "                    bioactivity=df['y'].values.tolist(),\n",
    "                    in_log10=True, similarity=0.9, test_size=0.2, random_state=0)\n",
    "    except:\n",
    "        split = list(np.random.choice(['train', 'test'], len(df), p=[0.8, 0.2]))\n",
    "        df['split'] = split\n",
    "        df['cliff_mol'] = 0\n",
    "    df['Uniprot_id'] = uni\n",
    "    df['Sequence'] = get_protein_sequence(uni)\n",
    "    # transfer -lognM to nM\n",
    "    df['exp_mean [nM]'] = df['y'].map(lambda x: 10**-x)\n",
    "    df[['smiles', 'exp_mean [nM]', 'y',\n",
    "        'cliff_mol', 'split', 'Uniprot_id',\n",
    "        'Sequence']].to_csv(f'data/{bioassay}/{uni}.csv', index=False)\n",
    "    return df"
   ]
  },
  {
   "cell_type": "code",
   "execution_count": 11,
   "metadata": {},
   "outputs": [
    {
     "name": "stderr",
     "output_type": "stream",
     "text": [
      "100%|██████████| 16414/16414 [04:57<00:00, 55.14it/s]  \n"
     ]
    },
    {
     "name": "stdout",
     "output_type": "stream",
     "text": [
      "Removed 788 stereoisomers\n"
     ]
    },
    {
     "name": "stderr",
     "output_type": "stream",
     "text": [
      "100%|██████████| 15626/15626 [04:14<00:00, 61.28it/s]  \n",
      "100%|██████████| 15626/15626 [04:17<00:00, 60.76it/s]  \n",
      "100%|██████████| 15626/15626 [02:26<00:00, 106.53it/s] \n",
      "/ext3/miniconda3/envs/chem_gyw/lib/python3.8/site-packages/MoleculeACE/benchmark/cliffs.py:87: RuntimeWarning: invalid value encountered in scalar divide\n",
      "  return max([a, b]) / min([a, b])\n",
      "100%|██████████| 2/2 [00:00<00:00, 14614.30it/s]\n",
      "100%|██████████| 2/2 [00:00<00:00, 33156.55it/s]\n",
      "100%|██████████| 2/2 [00:00<00:00, 26296.58it/s]\n",
      "100%|██████████| 2/2 [00:00<00:00, 31655.12it/s]\n",
      "100%|██████████| 2/2 [00:00<00:00, 31895.85it/s]\n",
      "100%|██████████| 2/2 [00:00<00:00, 29433.71it/s]\n",
      "100%|██████████| 2/2 [00:00<00:00, 28630.06it/s]\n",
      "100%|██████████| 2/2 [00:00<00:00, 28826.83it/s]\n",
      "100%|██████████| 2/2 [00:00<00:00, 36314.32it/s]\n",
      "100%|██████████| 2/2 [00:00<00:00, 28926.23it/s]\n",
      "100%|██████████| 2/2 [00:00<00:00, 28435.96it/s]\n",
      "100%|██████████| 2/2 [00:00<00:00, 37117.73it/s]\n",
      "100%|██████████| 2/2 [00:00<00:00, 35848.75it/s]\n",
      "100%|██████████| 2/2 [00:00<00:00, 20311.40it/s]\n",
      "100%|██████████| 2/2 [00:00<00:00, 26715.31it/s]\n",
      "100%|██████████| 2/2 [00:00<00:00, 22310.13it/s]\n",
      "100%|██████████| 2/2 [00:00<00:00, 27503.63it/s]\n",
      "100%|██████████| 2/2 [00:00<00:00, 29330.80it/s]\n",
      "100%|██████████| 2/2 [00:00<00:00, 28055.55it/s]\n",
      "100%|██████████| 2/2 [00:00<00:00, 28532.68it/s]\n",
      "100%|██████████| 2/2 [00:00<00:00, 33554.43it/s]\n",
      "100%|██████████| 2/2 [00:00<00:00, 28630.06it/s]\n",
      "100%|██████████| 2/2 [00:00<00:00, 26715.31it/s]\n",
      "100%|██████████| 2/2 [00:00<00:00, 33825.03it/s]\n",
      "100%|██████████| 2/2 [00:00<00:00, 24036.13it/s]\n",
      "100%|██████████| 2/2 [00:00<00:00, 27776.85it/s]\n",
      "100%|██████████| 2/2 [00:00<00:00, 30954.27it/s]\n",
      "100%|██████████| 2/2 [00:00<00:00, 24244.53it/s]\n",
      "100%|██████████| 2/2 [00:00<00:00, 35394.97it/s]\n",
      "100%|██████████| 2/2 [00:00<00:00, 36157.79it/s]\n",
      "100%|██████████| 2/2 [00:00<00:00, 25343.23it/s]\n",
      "100%|██████████| 2/2 [00:00<00:00, 21788.59it/s]\n",
      "100%|██████████| 2/2 [00:00<00:00, 29959.31it/s]\n",
      "100%|██████████| 2/2 [00:00<00:00, 24036.13it/s]\n",
      "100%|██████████| 2/2 [00:00<00:00, 27869.13it/s]\n",
      "100%|██████████| 2/2 [00:00<00:00, 33825.03it/s]\n",
      "100%|██████████| 2/2 [00:00<00:00, 24174.66it/s]\n",
      "100%|██████████| 2/2 [00:00<00:00, 25115.59it/s]\n",
      "100%|██████████| 2/2 [00:00<00:00, 27594.11it/s]\n",
      "100%|██████████| 2/2 [00:00<00:00, 23045.63it/s]\n",
      "100%|██████████| 2/2 [00:00<00:00, 26214.40it/s]\n",
      "100%|██████████| 2/2 [00:00<00:00, 42799.02it/s]\n",
      "100%|██████████| 2/2 [00:00<00:00, 25115.59it/s]\n",
      "100%|██████████| 2/2 [00:00<00:00, 36157.79it/s]\n",
      "100%|██████████| 2/2 [00:00<00:00, 30727.50it/s]\n",
      "100%|██████████| 2/2 [00:00<00:00, 31655.12it/s]\n",
      "100%|██████████| 2/2 [00:00<00:00, 30283.78it/s]\n",
      "100%|██████████| 2/2 [00:00<00:00, 32017.59it/s]\n",
      "100%|██████████| 2/2 [00:00<00:00, 28339.89it/s]\n",
      "100%|██████████| 2/2 [00:00<00:00, 28630.06it/s]\n",
      "100%|██████████| 2/2 [00:00<00:00, 39383.14it/s]\n",
      "100%|██████████| 2/2 [00:00<00:00, 23045.63it/s]\n",
      "100%|██████████| 2/2 [00:00<00:00, 30954.27it/s]\n",
      "100%|██████████| 2/2 [00:00<00:00, 41120.63it/s]\n",
      "100%|██████████| 2/2 [00:00<00:00, 27413.75it/s]\n",
      "100%|██████████| 2/2 [00:00<00:00, 36954.22it/s]\n",
      "100%|██████████| 2/2 [00:00<00:00, 43018.50it/s]\n",
      "100%|██████████| 2/2 [00:00<00:00, 31536.12it/s]\n",
      "100%|██████████| 2/2 [00:00<00:00, 36954.22it/s]\n",
      "100%|██████████| 2/2 [00:00<00:00, 46345.90it/s]\n",
      "100%|██████████| 15626/15626 [04:18<00:00, 60.50it/s]  \n"
     ]
    }
   ],
   "source": [
    "df = pd.read_csv('/scratch/yg3191/Activity-cliff-prediction/data/MIC.csv')\n",
    "df_simp = df[['SMILES', 'Standard Value']]\n",
    "df_simp = df_simp.rename(columns={'SMILES': 'smiles',\n",
    "                                  'Standard Value': 'y'})\n",
    "df_simp.drop_duplicates(subset=['smiles'], keep='first', inplace=True)\n",
    "# df_simp['y'] = df_simp['y'].round(3)\n",
    "df_simp = split_data(df_simp['smiles'].values.tolist(),\n",
    "                    bioactivity=df_simp['y'].values.tolist(),\n",
    "                    in_log10=True, similarity=0.9, test_size=0.2, random_state=0)"
   ]
  },
  {
   "cell_type": "code",
   "execution_count": 14,
   "metadata": {},
   "outputs": [],
   "source": [
    "df_simp.to_csv('/scratch/yg3191/Activity-cliff-prediction/data/MIC_cliff.csv')"
   ]
  },
  {
   "cell_type": "code",
   "execution_count": 33,
   "metadata": {},
   "outputs": [
    {
     "data": {
      "text/plain": [
       "Index(['smiles', 'exp_mean [nM]', 'y', 'cliff_mol', 'split'], dtype='object')"
      ]
     },
     "execution_count": 33,
     "metadata": {},
     "output_type": "execute_result"
    }
   ],
   "source": [
    "df_simp.columns"
   ]
  },
  {
   "cell_type": "code",
   "execution_count": 31,
   "metadata": {},
   "outputs": [],
   "source": [
    "from chemprop.data import MoleculeDataset, split_data\n",
    "from chemprop.data.utils import get_data\n",
    "\n",
    "data = get_data(path='/scratch/yg3191/Activity-cliff-prediction/data/MIC_cliff.csv', \n",
    "         smiles_columns='smiles',\n",
    "         target_columns='y',\n",
    "         ignore_columns=['exp_mean [nM]', 'cliff_mol', 'split'])\n",
    "data = MoleculeDataset(data)\n",
    "result = split_data(data, split_type='scaffold_balanced', sizes=[0.8, 0.0, 0.2], seed=0)\n",
    "\n",
    "df_simp['split'] = None\n",
    "smiles = np.array(result[0].smiles()).flatten()\n",
    "df_simp['split'] = df_simp['smiles'].map(lambda x: 'train' if x in smiles else 'test')\n",
    "df_simp.to_csv('/scratch/yg3191/Activity-cliff-prediction/data/MIC_scaffold.csv', index=False)"
   ]
  },
  {
   "cell_type": "code",
   "execution_count": 39,
   "metadata": {},
   "outputs": [
    {
     "name": "stderr",
     "output_type": "stream",
     "text": [
      "15626it [00:00, 116047.79it/s]\n",
      "100%|██████████| 15626/15626 [00:00<00:00, 36016.06it/s]\n",
      "100%|██████████| 15626/15626 [00:00<00:00, 119821.48it/s]\n",
      "100%|██████████| 15626/15626 [00:03<00:00, 4488.02it/s]\n"
     ]
    }
   ],
   "source": [
    "data = get_data(path='/scratch/yg3191/Activity-cliff-prediction/data/MIC_cliff.csv', \n",
    "         smiles_columns='smiles',\n",
    "         target_columns='y',\n",
    "         ignore_columns=['exp_mean [nM]', 'cliff_mol', 'split'])\n",
    "data = MoleculeDataset(data)\n",
    "result = split_data(data, split_type='scaffold_balanced', sizes=[0.8, 0.0, 0.2], seed=0)\n",
    "\n",
    "df_simp['split'] = None\n",
    "smiles = np.array(result[0].smiles()).flatten()\n",
    "df_simp['split'] = df_simp['smiles'].map(lambda x: 'train' if x in smiles else 'test')\n",
    "df_simp.to_csv('/scratch/yg3191/Activity-cliff-prediction/data/MIC_scaffold.csv', index=False)"
   ]
  },
  {
   "cell_type": "code",
   "execution_count": 9,
   "metadata": {},
   "outputs": [
    {
     "data": {
      "text/html": [
       "<div>\n",
       "<style scoped>\n",
       "    .dataframe tbody tr th:only-of-type {\n",
       "        vertical-align: middle;\n",
       "    }\n",
       "\n",
       "    .dataframe tbody tr th {\n",
       "        vertical-align: top;\n",
       "    }\n",
       "\n",
       "    .dataframe thead th {\n",
       "        text-align: right;\n",
       "    }\n",
       "</style>\n",
       "<table border=\"1\" class=\"dataframe\">\n",
       "  <thead>\n",
       "    <tr style=\"text-align: right;\">\n",
       "      <th></th>\n",
       "      <th>ChEMBL ID</th>\n",
       "      <th>PubChem ID</th>\n",
       "      <th>IUPHAR ID</th>\n",
       "      <th>Activity_Type</th>\n",
       "      <th>Assay type</th>\n",
       "      <th>Unit</th>\n",
       "      <th>Ligand names</th>\n",
       "      <th>Source</th>\n",
       "      <th>Activity</th>\n",
       "      <th>SMILES</th>\n",
       "      <th>Uniprot_ID</th>\n",
       "      <th>Activity_ID</th>\n",
       "      <th>Quality</th>\n",
       "    </tr>\n",
       "  </thead>\n",
       "  <tbody>\n",
       "    <tr>\n",
       "      <th>0</th>\n",
       "      <td>CHEMBL1271639</td>\n",
       "      <td>49843539.0</td>\n",
       "      <td>NaN</td>\n",
       "      <td>pKd</td>\n",
       "      <td>cell-free</td>\n",
       "      <td>neg. log</td>\n",
       "      <td>2-chloro-5-[(1h-imidazo[4,5-c]quinolin-2-ylsul...</td>\n",
       "      <td>CHEMBL1271639,49843539.0,nan</td>\n",
       "      <td>7.500</td>\n",
       "      <td>NS(=O)(=O)c1cc(C(=O)CSc2nc3c(cnc4ccccc43)[nH]2...</td>\n",
       "      <td>P00918</td>\n",
       "      <td>NaN</td>\n",
       "      <td>NaN</td>\n",
       "    </tr>\n",
       "    <tr>\n",
       "      <th>1</th>\n",
       "      <td>CHEMBL1271638</td>\n",
       "      <td>49843540.0</td>\n",
       "      <td>NaN</td>\n",
       "      <td>pKd</td>\n",
       "      <td>cell-free</td>\n",
       "      <td>neg. log</td>\n",
       "      <td>5-{[(5-bromo-1h-benzimidazol-2-yl)sulfanyl]ace...</td>\n",
       "      <td>CHEMBL1271638,49843540.0,nan</td>\n",
       "      <td>7.200</td>\n",
       "      <td>NS(=O)(=O)c1cc(C(=O)CSc2nc3cc(Br)ccc3[nH]2)ccc1Cl</td>\n",
       "      <td>P00918</td>\n",
       "      <td>NaN</td>\n",
       "      <td>NaN</td>\n",
       "    </tr>\n",
       "    <tr>\n",
       "      <th>2</th>\n",
       "      <td>CHEMBL158725</td>\n",
       "      <td>9801627.0</td>\n",
       "      <td>NaN</td>\n",
       "      <td>pKd</td>\n",
       "      <td>cell-free</td>\n",
       "      <td>neg. log</td>\n",
       "      <td>2-butyl-3-[2-(1h-tetrazol-5-yl)-biphenyl-4-ylm...</td>\n",
       "      <td>CHEMBL158725,9801627.0,nan</td>\n",
       "      <td>8.500</td>\n",
       "      <td>CCCCc1nc2cccnc2n1Cc1ccc(-c2ccccc2-c2nn[nH]n2)cc1</td>\n",
       "      <td>P30556</td>\n",
       "      <td>NaN</td>\n",
       "      <td>NaN</td>\n",
       "    </tr>\n",
       "    <tr>\n",
       "      <th>3</th>\n",
       "      <td>CHEMBL158725</td>\n",
       "      <td>9801627.0</td>\n",
       "      <td>NaN</td>\n",
       "      <td>pKd</td>\n",
       "      <td>cell-free</td>\n",
       "      <td>neg. log</td>\n",
       "      <td>2-butyl-3-[2-(1h-tetrazol-5-yl)-biphenyl-4-ylm...</td>\n",
       "      <td>CHEMBL158725,9801627.0,nan</td>\n",
       "      <td>8.500</td>\n",
       "      <td>CCCCc1nc2cccnc2n1Cc1ccc(-c2ccccc2-c2nn[nH]n2)cc1</td>\n",
       "      <td>P50052</td>\n",
       "      <td>NaN</td>\n",
       "      <td>NaN</td>\n",
       "    </tr>\n",
       "    <tr>\n",
       "      <th>4</th>\n",
       "      <td>CHEMBL1721885</td>\n",
       "      <td>10138259.0</td>\n",
       "      <td>NaN</td>\n",
       "      <td>pKd</td>\n",
       "      <td>cell-free</td>\n",
       "      <td>neg. log</td>\n",
       "      <td>(z)-5-((5-fluoro-2-oxoindolin-3-ylidene)methyl...</td>\n",
       "      <td>CHEMBL1721885,10138259.0,nan</td>\n",
       "      <td>5.000</td>\n",
       "      <td>C=c1[nH]c(=Cc2c(O)[nH]c3ccc(F)cc23)c(C)c1C(=O)...</td>\n",
       "      <td>O14965</td>\n",
       "      <td>NaN</td>\n",
       "      <td>NaN</td>\n",
       "    </tr>\n",
       "    <tr>\n",
       "      <th>...</th>\n",
       "      <td>...</td>\n",
       "      <td>...</td>\n",
       "      <td>...</td>\n",
       "      <td>...</td>\n",
       "      <td>...</td>\n",
       "      <td>...</td>\n",
       "      <td>...</td>\n",
       "      <td>...</td>\n",
       "      <td>...</td>\n",
       "      <td>...</td>\n",
       "      <td>...</td>\n",
       "      <td>...</td>\n",
       "      <td>...</td>\n",
       "    </tr>\n",
       "    <tr>\n",
       "      <th>5526</th>\n",
       "      <td>CHEMBL474429</td>\n",
       "      <td>11574091.0</td>\n",
       "      <td>NaN</td>\n",
       "      <td>pKd</td>\n",
       "      <td>cell-free</td>\n",
       "      <td>neg. log</td>\n",
       "      <td>(4-chlorophenyl)(1-methyl-2-(3-(piperidin-1-yl...</td>\n",
       "      <td>CHEMBL474429,11574091.0,nan</td>\n",
       "      <td>7.900</td>\n",
       "      <td>Cn1c(C(=O)c2ccc(Cl)cc2)cnc1OCCCN1CCCCC1</td>\n",
       "      <td>Q9Y5N1</td>\n",
       "      <td>NaN</td>\n",
       "      <td>NaN</td>\n",
       "    </tr>\n",
       "    <tr>\n",
       "      <th>5527</th>\n",
       "      <td>CHEMBL2441945</td>\n",
       "      <td>73352625.0</td>\n",
       "      <td>NaN</td>\n",
       "      <td>pKd</td>\n",
       "      <td>cell-free</td>\n",
       "      <td>neg. log</td>\n",
       "      <td>3-(piperidin-1-yl)propyl 4-(4-cyanophenyl)buty...</td>\n",
       "      <td>CHEMBL2441945,73352625.0,nan</td>\n",
       "      <td>8.700</td>\n",
       "      <td>N#Cc1ccc(CCCCNC(=N)SCCCN2CCCCC2)cc1</td>\n",
       "      <td>Q9Y5N1</td>\n",
       "      <td>NaN</td>\n",
       "      <td>NaN</td>\n",
       "    </tr>\n",
       "    <tr>\n",
       "      <th>5528</th>\n",
       "      <td>CHEMBL2441944</td>\n",
       "      <td>73352624.0</td>\n",
       "      <td>NaN</td>\n",
       "      <td>pKd</td>\n",
       "      <td>cell-free</td>\n",
       "      <td>neg. log</td>\n",
       "      <td>3-(piperidin-1-yl)propyl 4-(4-(trifluoromethyl...</td>\n",
       "      <td>CHEMBL2441944,73352624.0,nan</td>\n",
       "      <td>7.900</td>\n",
       "      <td>N=C(NCCCCc1ccc(C(F)(F)F)cc1)SCCCN1CCCCC1</td>\n",
       "      <td>Q9Y5N1</td>\n",
       "      <td>NaN</td>\n",
       "      <td>NaN</td>\n",
       "    </tr>\n",
       "    <tr>\n",
       "      <th>5529</th>\n",
       "      <td>CHEMBL1171002</td>\n",
       "      <td>24771419.0</td>\n",
       "      <td>NaN</td>\n",
       "      <td>pKd</td>\n",
       "      <td>functional</td>\n",
       "      <td>neg. log</td>\n",
       "      <td>(6-(3-chlorophenoxy)pyridin-3-yl)(4-cyclobutyl...</td>\n",
       "      <td>CHEMBL1171002,24771419.0,nan</td>\n",
       "      <td>9.065</td>\n",
       "      <td>O=C(c1ccc(Oc2cccc(Cl)c2)nc1)N1CCCN(C2CCC2)CC1</td>\n",
       "      <td>Q9Y5N1</td>\n",
       "      <td>NaN</td>\n",
       "      <td>NaN</td>\n",
       "    </tr>\n",
       "    <tr>\n",
       "      <th>5530</th>\n",
       "      <td>CHEMBL247062</td>\n",
       "      <td>15983456.0</td>\n",
       "      <td>NaN</td>\n",
       "      <td>pKd</td>\n",
       "      <td>cell-free</td>\n",
       "      <td>neg. log</td>\n",
       "      <td>4-phenyl-7-(3-(piperidin-1-yl)propoxy)-1,2,3,4...</td>\n",
       "      <td>CHEMBL247062,15983456.0,nan</td>\n",
       "      <td>9.100</td>\n",
       "      <td>c1ccc(C2CNCc3cc(OCCCN4CCCCC4)ncc32)cc1</td>\n",
       "      <td>Q9Y5N1</td>\n",
       "      <td>NaN</td>\n",
       "      <td>NaN</td>\n",
       "    </tr>\n",
       "  </tbody>\n",
       "</table>\n",
       "<p>5531 rows × 13 columns</p>\n",
       "</div>"
      ],
      "text/plain": [
       "          ChEMBL ID  PubChem ID  IUPHAR ID Activity_Type  Assay type  \\\n",
       "0     CHEMBL1271639  49843539.0        NaN           pKd   cell-free   \n",
       "1     CHEMBL1271638  49843540.0        NaN           pKd   cell-free   \n",
       "2      CHEMBL158725   9801627.0        NaN           pKd   cell-free   \n",
       "3      CHEMBL158725   9801627.0        NaN           pKd   cell-free   \n",
       "4     CHEMBL1721885  10138259.0        NaN           pKd   cell-free   \n",
       "...             ...         ...        ...           ...         ...   \n",
       "5526   CHEMBL474429  11574091.0        NaN           pKd   cell-free   \n",
       "5527  CHEMBL2441945  73352625.0        NaN           pKd   cell-free   \n",
       "5528  CHEMBL2441944  73352624.0        NaN           pKd   cell-free   \n",
       "5529  CHEMBL1171002  24771419.0        NaN           pKd  functional   \n",
       "5530   CHEMBL247062  15983456.0        NaN           pKd   cell-free   \n",
       "\n",
       "          Unit                                       Ligand names  \\\n",
       "0     neg. log  2-chloro-5-[(1h-imidazo[4,5-c]quinolin-2-ylsul...   \n",
       "1     neg. log  5-{[(5-bromo-1h-benzimidazol-2-yl)sulfanyl]ace...   \n",
       "2     neg. log  2-butyl-3-[2-(1h-tetrazol-5-yl)-biphenyl-4-ylm...   \n",
       "3     neg. log  2-butyl-3-[2-(1h-tetrazol-5-yl)-biphenyl-4-ylm...   \n",
       "4     neg. log  (z)-5-((5-fluoro-2-oxoindolin-3-ylidene)methyl...   \n",
       "...        ...                                                ...   \n",
       "5526  neg. log  (4-chlorophenyl)(1-methyl-2-(3-(piperidin-1-yl...   \n",
       "5527  neg. log  3-(piperidin-1-yl)propyl 4-(4-cyanophenyl)buty...   \n",
       "5528  neg. log  3-(piperidin-1-yl)propyl 4-(4-(trifluoromethyl...   \n",
       "5529  neg. log  (6-(3-chlorophenoxy)pyridin-3-yl)(4-cyclobutyl...   \n",
       "5530  neg. log  4-phenyl-7-(3-(piperidin-1-yl)propoxy)-1,2,3,4...   \n",
       "\n",
       "                            Source  Activity  \\\n",
       "0     CHEMBL1271639,49843539.0,nan     7.500   \n",
       "1     CHEMBL1271638,49843540.0,nan     7.200   \n",
       "2       CHEMBL158725,9801627.0,nan     8.500   \n",
       "3       CHEMBL158725,9801627.0,nan     8.500   \n",
       "4     CHEMBL1721885,10138259.0,nan     5.000   \n",
       "...                            ...       ...   \n",
       "5526   CHEMBL474429,11574091.0,nan     7.900   \n",
       "5527  CHEMBL2441945,73352625.0,nan     8.700   \n",
       "5528  CHEMBL2441944,73352624.0,nan     7.900   \n",
       "5529  CHEMBL1171002,24771419.0,nan     9.065   \n",
       "5530   CHEMBL247062,15983456.0,nan     9.100   \n",
       "\n",
       "                                                 SMILES Uniprot_ID  \\\n",
       "0     NS(=O)(=O)c1cc(C(=O)CSc2nc3c(cnc4ccccc43)[nH]2...     P00918   \n",
       "1     NS(=O)(=O)c1cc(C(=O)CSc2nc3cc(Br)ccc3[nH]2)ccc1Cl     P00918   \n",
       "2      CCCCc1nc2cccnc2n1Cc1ccc(-c2ccccc2-c2nn[nH]n2)cc1     P30556   \n",
       "3      CCCCc1nc2cccnc2n1Cc1ccc(-c2ccccc2-c2nn[nH]n2)cc1     P50052   \n",
       "4     C=c1[nH]c(=Cc2c(O)[nH]c3ccc(F)cc23)c(C)c1C(=O)...     O14965   \n",
       "...                                                 ...        ...   \n",
       "5526            Cn1c(C(=O)c2ccc(Cl)cc2)cnc1OCCCN1CCCCC1     Q9Y5N1   \n",
       "5527                N#Cc1ccc(CCCCNC(=N)SCCCN2CCCCC2)cc1     Q9Y5N1   \n",
       "5528           N=C(NCCCCc1ccc(C(F)(F)F)cc1)SCCCN1CCCCC1     Q9Y5N1   \n",
       "5529      O=C(c1ccc(Oc2cccc(Cl)c2)nc1)N1CCCN(C2CCC2)CC1     Q9Y5N1   \n",
       "5530             c1ccc(C2CNCc3cc(OCCCN4CCCCC4)ncc32)cc1     Q9Y5N1   \n",
       "\n",
       "     Activity_ID Quality  \n",
       "0            NaN     NaN  \n",
       "1            NaN     NaN  \n",
       "2            NaN     NaN  \n",
       "3            NaN     NaN  \n",
       "4            NaN     NaN  \n",
       "...          ...     ...  \n",
       "5526         NaN     NaN  \n",
       "5527         NaN     NaN  \n",
       "5528         NaN     NaN  \n",
       "5529         NaN     NaN  \n",
       "5530         NaN     NaN  \n",
       "\n",
       "[5531 rows x 13 columns]"
      ]
     },
     "execution_count": 9,
     "metadata": {},
     "output_type": "execute_result"
    }
   ],
   "source": [
    "df2 = pd.read_csv('data/kd2_v3.csv')\n",
    "df2"
   ]
  },
  {
   "cell_type": "code",
   "execution_count": 27,
   "metadata": {},
   "outputs": [
    {
     "name": "stderr",
     "output_type": "stream",
     "text": [
      "100%|██████████| 250/250 [00:00<00:00, 4681.41it/s]\n"
     ]
    },
    {
     "name": "stdout",
     "output_type": "stream",
     "text": [
      "Removed 27 stereoisomers\n"
     ]
    },
    {
     "name": "stderr",
     "output_type": "stream",
     "text": [
      "100%|██████████| 223/223 [00:00<00:00, 5476.78it/s]\n",
      "100%|██████████| 223/223 [00:00<00:00, 5453.12it/s]\n",
      "100%|██████████| 223/223 [00:00<00:00, 8079.35it/s]\n",
      "100%|██████████| 2/2 [00:00<00:00, 38479.85it/s]\n",
      "100%|██████████| 2/2 [00:00<00:00, 39016.78it/s]\n",
      "100%|██████████| 2/2 [00:00<00:00, 45839.39it/s]\n",
      "100%|██████████| 2/2 [00:00<00:00, 37449.14it/s]\n",
      "100%|██████████| 2/2 [00:00<00:00, 38304.15it/s]\n",
      "100%|██████████| 2/2 [00:00<00:00, 36631.48it/s]\n",
      "100%|██████████| 2/2 [00:00<00:00, 37282.70it/s]\n",
      "100%|██████████| 2/2 [00:00<00:00, 37786.52it/s]\n",
      "100%|██████████| 2/2 [00:00<00:00, 48770.98it/s]\n",
      "100%|██████████| 2/2 [00:00<00:00, 37617.08it/s]\n",
      "100%|██████████| 2/2 [00:00<00:00, 39568.91it/s]\n",
      "100%|██████████| 2/2 [00:00<00:00, 47662.55it/s]\n",
      "100%|██████████| 2/2 [00:00<00:00, 36792.14it/s]\n",
      "100%|██████████| 2/2 [00:00<00:00, 40329.85it/s]\n",
      "100%|██████████| 2/2 [00:00<00:00, 50533.78it/s]\n",
      "100%|██████████| 2/2 [00:00<00:00, 37786.52it/s]\n",
      "100%|██████████| 2/2 [00:00<00:00, 34521.02it/s]\n",
      "100%|██████████| 2/2 [00:00<00:00, 43464.29it/s]\n",
      "100%|██████████| 2/2 [00:00<00:00, 38130.04it/s]\n",
      "100%|██████████| 2/2 [00:00<00:00, 39756.44it/s]\n",
      "100%|██████████| 2/2 [00:00<00:00, 49344.75it/s]\n",
      "100%|██████████| 2/2 [00:00<00:00, 37957.50it/s]\n",
      "100%|██████████| 2/2 [00:00<00:00, 38130.04it/s]\n",
      "100%|██████████| 2/2 [00:00<00:00, 46091.25it/s]\n",
      "100%|██████████| 2/2 [00:00<00:00, 39199.10it/s]\n",
      "100%|██████████| 2/2 [00:00<00:00, 38304.15it/s]\n",
      "100%|██████████| 2/2 [00:00<00:00, 50231.19it/s]\n",
      "100%|██████████| 2/2 [00:00<00:00, 36314.32it/s]\n",
      "100%|██████████| 2/2 [00:00<00:00, 36792.14it/s]\n",
      "100%|██████████| 2/2 [00:00<00:00, 49932.19it/s]\n",
      "100%|██████████| 2/2 [00:00<00:00, 36631.48it/s]\n",
      "100%|██████████| 2/2 [00:00<00:00, 40136.88it/s]\n",
      "100%|██████████| 2/2 [00:00<00:00, 50840.05it/s]\n",
      "100%|██████████| 2/2 [00:00<00:00, 37786.52it/s]\n",
      "100%|██████████| 2/2 [00:00<00:00, 38836.15it/s]\n",
      "100%|██████████| 2/2 [00:00<00:00, 49932.19it/s]\n",
      "100%|██████████| 2/2 [00:00<00:00, 38836.15it/s]\n",
      "100%|██████████| 2/2 [00:00<00:00, 39945.75it/s]\n",
      "100%|██████████| 2/2 [00:00<00:00, 50533.78it/s]\n",
      "100%|██████████| 2/2 [00:00<00:00, 9269.18it/s]\n",
      "100%|██████████| 2/2 [00:00<00:00, 36954.22it/s]\n",
      "100%|██████████| 2/2 [00:00<00:00, 46345.90it/s]\n",
      "100%|██████████| 2/2 [00:00<00:00, 35098.78it/s]\n",
      "100%|██████████| 2/2 [00:00<00:00, 35848.75it/s]\n",
      "100%|██████████| 2/2 [00:00<00:00, 43464.29it/s]\n",
      "100%|██████████| 2/2 [00:00<00:00, 35394.97it/s]\n",
      "100%|██████████| 2/2 [00:00<00:00, 35848.75it/s]\n",
      "100%|██████████| 2/2 [00:00<00:00, 49056.19it/s]\n",
      "100%|██████████| 2/2 [00:00<00:00, 37449.14it/s]\n",
      "100%|██████████| 2/2 [00:00<00:00, 36631.48it/s]\n",
      "100%|██████████| 2/2 [00:00<00:00, 33420.75it/s]\n",
      "100%|██████████| 2/2 [00:00<00:00, 38836.15it/s]\n",
      "100%|██████████| 2/2 [00:00<00:00, 38657.18it/s]\n",
      "100%|██████████| 2/2 [00:00<00:00, 47662.55it/s]\n",
      "100%|██████████| 2/2 [00:00<00:00, 27962.03it/s]\n",
      "100%|██████████| 2/2 [00:00<00:00, 29026.33it/s]\n",
      "100%|██████████| 2/2 [00:00<00:00, 31655.12it/s]\n",
      "100%|██████████| 2/2 [00:00<00:00, 36631.48it/s]\n",
      "100%|██████████| 2/2 [00:00<00:00, 9187.96it/s]\n",
      "100%|██████████| 2/2 [00:00<00:00, 46345.90it/s]\n",
      "100%|██████████| 223/223 [00:00<00:00, 5433.70it/s]\n",
      "100%|██████████| 201/201 [00:00<00:00, 5882.37it/s]\n"
     ]
    },
    {
     "name": "stdout",
     "output_type": "stream",
     "text": [
      "Removed 108 stereoisomers\n"
     ]
    },
    {
     "name": "stderr",
     "output_type": "stream",
     "text": [
      "100%|██████████| 93/93 [00:00<00:00, 12928.65it/s]\n",
      "100%|██████████| 93/93 [00:00<00:00, 12925.65it/s]\n",
      "100%|██████████| 93/93 [00:00<00:00, 21635.71it/s]\n",
      "100%|██████████| 2/2 [00:00<00:00, 39756.44it/s]\n",
      "100%|██████████| 2/2 [00:00<00:00, 35098.78it/s]\n",
      "100%|██████████| 2/2 [00:00<00:00, 41527.76it/s]\n",
      "100%|██████████| 2/2 [00:00<00:00, 36157.79it/s]\n",
      "100%|██████████| 2/2 [00:00<00:00, 36157.79it/s]\n",
      "100%|██████████| 2/2 [00:00<00:00, 47934.90it/s]\n",
      "100%|██████████| 2/2 [00:00<00:00, 36314.32it/s]\n",
      "100%|██████████| 2/2 [00:00<00:00, 37449.14it/s]\n",
      "100%|██████████| 2/2 [00:00<00:00, 42366.71it/s]\n",
      "100%|██████████| 2/2 [00:00<00:00, 37617.08it/s]\n",
      "100%|██████████| 2/2 [00:00<00:00, 33288.13it/s]\n",
      "100%|██████████| 2/2 [00:00<00:00, 47393.27it/s]\n",
      "100%|██████████| 2/2 [00:00<00:00, 38130.04it/s]\n",
      "100%|██████████| 2/2 [00:00<00:00, 40329.85it/s]\n",
      "100%|██████████| 2/2 [00:00<00:00, 48770.98it/s]\n",
      "100%|██████████| 2/2 [00:00<00:00, 39016.78it/s]\n",
      "100%|██████████| 2/2 [00:00<00:00, 36314.32it/s]\n",
      "100%|██████████| 2/2 [00:00<00:00, 44150.57it/s]\n",
      "100%|██████████| 2/2 [00:00<00:00, 29641.72it/s]\n",
      "100%|██████████| 2/2 [00:00<00:00, 39199.10it/s]\n",
      "100%|██████████| 2/2 [00:00<00:00, 47393.27it/s]\n",
      "100%|██████████| 2/2 [00:00<00:00, 38479.85it/s]\n",
      "100%|██████████| 2/2 [00:00<00:00, 21788.59it/s]\n",
      "100%|██████████| 2/2 [00:00<00:00, 41527.76it/s]\n",
      "100%|██████████| 2/2 [00:00<00:00, 38304.15it/s]\n",
      "100%|██████████| 2/2 [00:00<00:00, 37282.70it/s]\n",
      "100%|██████████| 2/2 [00:00<00:00, 45590.26it/s]\n",
      "100%|██████████| 2/2 [00:00<00:00, 36792.14it/s]\n",
      "100%|██████████| 2/2 [00:00<00:00, 38130.04it/s]\n",
      "100%|██████████| 2/2 [00:00<00:00, 48770.98it/s]\n",
      "100%|██████████| 2/2 [00:00<00:00, 39383.14it/s]\n",
      "100%|██████████| 2/2 [00:00<00:00, 40524.68it/s]\n",
      "100%|██████████| 2/2 [00:00<00:00, 49056.19it/s]\n",
      "100%|██████████| 2/2 [00:00<00:00, 39016.78it/s]\n",
      "100%|██████████| 2/2 [00:00<00:00, 36314.32it/s]\n",
      "100%|██████████| 2/2 [00:00<00:00, 46091.25it/s]\n",
      "100%|██████████| 2/2 [00:00<00:00, 38836.15it/s]\n",
      "100%|██████████| 2/2 [00:00<00:00, 36631.48it/s]\n",
      "100%|██████████| 2/2 [00:00<00:00, 47934.90it/s]\n",
      "100%|██████████| 2/2 [00:00<00:00, 35696.20it/s]\n",
      "100%|██████████| 2/2 [00:00<00:00, 34952.53it/s]\n",
      "100%|██████████| 2/2 [00:00<00:00, 43464.29it/s]\n",
      "100%|██████████| 2/2 [00:00<00:00, 38657.18it/s]\n",
      "100%|██████████| 2/2 [00:00<00:00, 40136.88it/s]\n",
      "100%|██████████| 2/2 [00:00<00:00, 48489.06it/s]\n",
      "100%|██████████| 2/2 [00:00<00:00, 29959.31it/s]\n",
      "100%|██████████| 2/2 [00:00<00:00, 34379.54it/s]\n",
      "100%|██████████| 2/2 [00:00<00:00, 43919.41it/s]\n",
      "100%|██████████| 2/2 [00:00<00:00, 33825.03it/s]\n",
      "100%|██████████| 2/2 [00:00<00:00, 34521.02it/s]\n",
      "100%|██████████| 2/2 [00:00<00:00, 47934.90it/s]\n",
      "100%|██████████| 2/2 [00:00<00:00, 39199.10it/s]\n",
      "100%|██████████| 2/2 [00:00<00:00, 40136.88it/s]\n",
      "100%|██████████| 2/2 [00:00<00:00, 41734.37it/s]\n",
      "100%|██████████| 2/2 [00:00<00:00, 38304.15it/s]\n",
      "100%|██████████| 2/2 [00:00<00:00, 25497.29it/s]\n",
      "100%|██████████| 2/2 [00:00<00:00, 49344.75it/s]\n",
      "100%|██████████| 2/2 [00:00<00:00, 38836.15it/s]\n",
      "100%|██████████| 2/2 [00:00<00:00, 36314.32it/s]\n",
      "100%|██████████| 2/2 [00:00<00:00, 46091.25it/s]\n",
      "100%|██████████| 93/93 [00:00<00:00, 12954.41it/s]\n",
      "100%|██████████| 229/229 [00:00<00:00, 5184.67it/s]\n"
     ]
    },
    {
     "name": "stdout",
     "output_type": "stream",
     "text": [
      "Removed 35 stereoisomers\n"
     ]
    },
    {
     "name": "stderr",
     "output_type": "stream",
     "text": [
      "100%|██████████| 194/194 [00:00<00:00, 6236.79it/s]\n",
      "100%|██████████| 194/194 [00:00<00:00, 6298.24it/s]\n",
      "100%|██████████| 194/194 [00:00<00:00, 9899.33it/s]\n",
      "100%|██████████| 2/2 [00:00<00:00, 40136.88it/s]\n",
      "100%|██████████| 2/2 [00:00<00:00, 33554.43it/s]\n",
      "100%|██████████| 2/2 [00:00<00:00, 47662.55it/s]\n",
      "100%|██████████| 2/2 [00:00<00:00, 36954.22it/s]\n",
      "100%|██████████| 2/2 [00:00<00:00, 35098.78it/s]\n",
      "100%|██████████| 2/2 [00:00<00:00, 47127.01it/s]\n",
      "100%|██████████| 2/2 [00:00<00:00, 36314.32it/s]\n",
      "100%|██████████| 2/2 [00:00<00:00, 36157.79it/s]\n",
      "100%|██████████| 2/2 [00:00<00:00, 44858.87it/s]\n",
      "100%|██████████| 2/2 [00:00<00:00, 36792.14it/s]\n",
      "100%|██████████| 2/2 [00:00<00:00, 37786.52it/s]\n",
      "100%|██████████| 2/2 [00:00<00:00, 42799.02it/s]\n",
      "100%|██████████| 2/2 [00:00<00:00, 39568.91it/s]\n",
      "100%|██████████| 2/2 [00:00<00:00, 34239.22it/s]\n",
      "100%|██████████| 2/2 [00:00<00:00, 43919.41it/s]\n",
      "100%|██████████| 2/2 [00:00<00:00, 35696.20it/s]\n",
      "100%|██████████| 2/2 [00:00<00:00, 34100.03it/s]\n",
      "100%|██████████| 2/2 [00:00<00:00, 45100.04it/s]\n",
      "100%|██████████| 2/2 [00:00<00:00, 39199.10it/s]\n",
      "100%|██████████| 2/2 [00:00<00:00, 39016.78it/s]\n",
      "100%|██████████| 2/2 [00:00<00:00, 32768.00it/s]\n",
      "100%|██████████| 2/2 [00:00<00:00, 37282.70it/s]\n",
      "100%|██████████| 2/2 [00:00<00:00, 36792.14it/s]\n",
      "100%|██████████| 2/2 [00:00<00:00, 48489.06it/s]\n",
      "100%|██████████| 2/2 [00:00<00:00, 37282.70it/s]\n",
      "100%|██████████| 2/2 [00:00<00:00, 39016.78it/s]\n",
      "100%|██████████| 2/2 [00:00<00:00, 46603.38it/s]\n",
      "100%|██████████| 2/2 [00:00<00:00, 36002.61it/s]\n",
      "100%|██████████| 2/2 [00:00<00:00, 39756.44it/s]\n",
      "100%|██████████| 2/2 [00:00<00:00, 44384.17it/s]\n",
      "100%|██████████| 2/2 [00:00<00:00, 36792.14it/s]\n",
      "100%|██████████| 2/2 [00:00<00:00, 39199.10it/s]\n",
      "100%|██████████| 2/2 [00:00<00:00, 51150.05it/s]\n",
      "100%|██████████| 2/2 [00:00<00:00, 36792.14it/s]\n",
      "100%|██████████| 2/2 [00:00<00:00, 38657.18it/s]\n",
      "100%|██████████| 2/2 [00:00<00:00, 41120.63it/s]\n",
      "100%|██████████| 2/2 [00:00<00:00, 39383.14it/s]\n",
      "100%|██████████| 2/2 [00:00<00:00, 35246.25it/s]\n",
      "100%|██████████| 2/2 [00:00<00:00, 49344.75it/s]\n",
      "100%|██████████| 2/2 [00:00<00:00, 37117.73it/s]\n",
      "100%|██████████| 2/2 [00:00<00:00, 36954.22it/s]\n",
      "100%|██████████| 2/2 [00:00<00:00, 47393.27it/s]\n",
      "100%|██████████| 2/2 [00:00<00:00, 25731.93it/s]\n",
      "100%|██████████| 2/2 [00:00<00:00, 30174.85it/s]\n",
      "100%|██████████| 2/2 [00:00<00:00, 46091.25it/s]\n",
      "100%|██████████| 2/2 [00:00<00:00, 39568.91it/s]\n",
      "100%|██████████| 2/2 [00:00<00:00, 40136.88it/s]\n",
      "100%|██████████| 2/2 [00:00<00:00, 51463.85it/s]\n",
      "100%|██████████| 2/2 [00:00<00:00, 38130.04it/s]\n",
      "100%|██████████| 2/2 [00:00<00:00, 39756.44it/s]\n",
      "100%|██████████| 2/2 [00:00<00:00, 35696.20it/s]\n",
      "100%|██████████| 2/2 [00:00<00:00, 34952.53it/s]\n",
      "100%|██████████| 2/2 [00:00<00:00, 32388.45it/s]\n",
      "100%|██████████| 2/2 [00:00<00:00, 48489.06it/s]\n",
      "100%|██████████| 2/2 [00:00<00:00, 40524.68it/s]\n",
      "100%|██████████| 2/2 [00:00<00:00, 36157.79it/s]\n",
      "100%|██████████| 2/2 [00:00<00:00, 45839.39it/s]\n",
      "100%|██████████| 2/2 [00:00<00:00, 34663.67it/s]\n",
      "100%|██████████| 2/2 [00:00<00:00, 37449.14it/s]\n",
      "100%|██████████| 2/2 [00:00<00:00, 48770.98it/s]\n",
      "100%|██████████| 194/194 [00:00<00:00, 6270.82it/s]\n",
      "100%|██████████| 378/378 [00:00<00:00, 3133.98it/s]\n"
     ]
    },
    {
     "name": "stdout",
     "output_type": "stream",
     "text": [
      "Removed 118 stereoisomers\n"
     ]
    },
    {
     "name": "stderr",
     "output_type": "stream",
     "text": [
      "100%|██████████| 260/260 [00:00<00:00, 4704.04it/s]\n",
      "100%|██████████| 260/260 [00:00<00:00, 4626.82it/s]\n",
      "100%|██████████| 260/260 [00:00<00:00, 8056.49it/s]\n",
      "100%|██████████| 2/2 [00:00<00:00, 39756.44it/s]\n",
      "100%|██████████| 2/2 [00:00<00:00, 35848.75it/s]\n",
      "100%|██████████| 2/2 [00:00<00:00, 44384.17it/s]\n",
      "100%|██████████| 2/2 [00:00<00:00, 33689.19it/s]\n",
      "100%|██████████| 2/2 [00:00<00:00, 34521.02it/s]\n",
      "100%|██████████| 2/2 [00:00<00:00, 47934.90it/s]\n",
      "100%|██████████| 2/2 [00:00<00:00, 39756.44it/s]\n",
      "100%|██████████| 2/2 [00:00<00:00, 38836.15it/s]\n",
      "100%|██████████| 2/2 [00:00<00:00, 48489.06it/s]\n",
      "100%|██████████| 2/2 [00:00<00:00, 37786.52it/s]\n",
      "100%|██████████| 2/2 [00:00<00:00, 40136.88it/s]\n",
      "100%|██████████| 2/2 [00:00<00:00, 50533.78it/s]\n",
      "100%|██████████| 2/2 [00:00<00:00, 37449.14it/s]\n",
      "100%|██████████| 2/2 [00:00<00:00, 39383.14it/s]\n",
      "100%|██████████| 2/2 [00:00<00:00, 44384.17it/s]\n",
      "100%|██████████| 2/2 [00:00<00:00, 38479.85it/s]\n",
      "100%|██████████| 2/2 [00:00<00:00, 33961.98it/s]\n",
      "100%|██████████| 2/2 [00:00<00:00, 47934.90it/s]\n",
      "100%|██████████| 2/2 [00:00<00:00, 39756.44it/s]\n",
      "100%|██████████| 2/2 [00:00<00:00, 35098.78it/s]\n",
      "100%|██████████| 2/2 [00:00<00:00, 49636.73it/s]\n",
      "100%|██████████| 2/2 [00:00<00:00, 40721.40it/s]\n",
      "100%|██████████| 2/2 [00:00<00:00, 34663.67it/s]\n",
      "100%|██████████| 2/2 [00:00<00:00, 46603.38it/s]\n",
      "100%|██████████| 2/2 [00:00<00:00, 34663.67it/s]\n",
      "100%|██████████| 2/2 [00:00<00:00, 39568.91it/s]\n",
      "100%|██████████| 2/2 [00:00<00:00, 43919.41it/s]\n",
      "100%|██████████| 2/2 [00:00<00:00, 38130.04it/s]\n",
      "100%|██████████| 2/2 [00:00<00:00, 37957.50it/s]\n",
      "100%|██████████| 2/2 [00:00<00:00, 44384.17it/s]\n",
      "100%|██████████| 2/2 [00:00<00:00, 39199.10it/s]\n",
      "100%|██████████| 2/2 [00:00<00:00, 38304.15it/s]\n",
      "100%|██████████| 2/2 [00:00<00:00, 37617.08it/s]\n",
      "100%|██████████| 2/2 [00:00<00:00, 29026.33it/s]\n",
      "100%|██████████| 2/2 [00:00<00:00, 34100.03it/s]\n",
      "100%|██████████| 2/2 [00:00<00:00, 46091.25it/s]\n",
      "100%|██████████| 2/2 [00:00<00:00, 35848.75it/s]\n",
      "100%|██████████| 2/2 [00:00<00:00, 38130.04it/s]\n",
      "100%|██████████| 2/2 [00:00<00:00, 51781.53it/s]\n",
      "100%|██████████| 2/2 [00:00<00:00, 39945.75it/s]\n",
      "100%|██████████| 2/2 [00:00<00:00, 39199.10it/s]\n",
      "100%|██████████| 2/2 [00:00<00:00, 33825.03it/s]\n",
      "100%|██████████| 2/2 [00:00<00:00, 38130.04it/s]\n",
      "100%|██████████| 2/2 [00:00<00:00, 38836.15it/s]\n",
      "100%|██████████| 2/2 [00:00<00:00, 42366.71it/s]\n",
      "100%|██████████| 2/2 [00:00<00:00, 8924.05it/s]\n",
      "100%|██████████| 2/2 [00:00<00:00, 35848.75it/s]\n",
      "100%|██████████| 2/2 [00:00<00:00, 49344.75it/s]\n",
      "100%|██████████| 2/2 [00:00<00:00, 29852.70it/s]\n",
      "100%|██████████| 2/2 [00:00<00:00, 9510.89it/s]\n",
      "100%|██████████| 2/2 [00:00<00:00, 40721.40it/s]\n",
      "100%|██████████| 2/2 [00:00<00:00, 36314.32it/s]\n",
      "100%|██████████| 2/2 [00:00<00:00, 35696.20it/s]\n",
      "100%|██████████| 2/2 [00:00<00:00, 43018.50it/s]\n",
      "100%|██████████| 2/2 [00:00<00:00, 34952.53it/s]\n",
      "100%|██████████| 2/2 [00:00<00:00, 38836.15it/s]\n",
      "100%|██████████| 2/2 [00:00<00:00, 43018.50it/s]\n",
      "100%|██████████| 2/2 [00:00<00:00, 37617.08it/s]\n",
      "100%|██████████| 2/2 [00:00<00:00, 36314.32it/s]\n",
      "100%|██████████| 2/2 [00:00<00:00, 46863.73it/s]\n",
      "100%|██████████| 260/260 [00:00<00:00, 4672.44it/s]\n",
      "100%|██████████| 210/210 [00:00<00:00, 5628.68it/s]\n"
     ]
    },
    {
     "name": "stdout",
     "output_type": "stream",
     "text": [
      "Removed 74 stereoisomers\n"
     ]
    },
    {
     "name": "stderr",
     "output_type": "stream",
     "text": [
      "100%|██████████| 136/136 [00:00<00:00, 8801.91it/s]\n",
      "100%|██████████| 136/136 [00:00<00:00, 8791.46it/s]\n",
      "100%|██████████| 136/136 [00:00<00:00, 13466.45it/s]\n",
      "100%|██████████| 2/2 [00:00<00:00, 39568.91it/s]\n",
      "100%|██████████| 2/2 [00:00<00:00, 40524.68it/s]\n",
      "100%|██████████| 2/2 [00:00<00:00, 51150.05it/s]\n",
      "100%|██████████| 2/2 [00:00<00:00, 39199.10it/s]\n",
      "100%|██████████| 2/2 [00:00<00:00, 40721.40it/s]\n",
      "100%|██████████| 2/2 [00:00<00:00, 51150.05it/s]\n",
      "100%|██████████| 2/2 [00:00<00:00, 39945.75it/s]\n",
      "100%|██████████| 2/2 [00:00<00:00, 33825.03it/s]\n",
      "100%|██████████| 2/2 [00:00<00:00, 37786.52it/s]\n",
      "100%|██████████| 2/2 [00:00<00:00, 39383.14it/s]\n",
      "100%|██████████| 2/2 [00:00<00:00, 33825.03it/s]\n",
      "100%|██████████| 2/2 [00:00<00:00, 41323.19it/s]\n",
      "100%|██████████| 2/2 [00:00<00:00, 36002.61it/s]\n",
      "100%|██████████| 2/2 [00:00<00:00, 36157.79it/s]\n",
      "100%|██████████| 2/2 [00:00<00:00, 44150.57it/s]\n",
      "100%|██████████| 2/2 [00:00<00:00, 28435.96it/s]\n",
      "100%|██████████| 2/2 [00:00<00:00, 39756.44it/s]\n",
      "100%|██████████| 2/2 [00:00<00:00, 52103.16it/s]\n",
      "100%|██████████| 2/2 [00:00<00:00, 38479.85it/s]\n",
      "100%|██████████| 2/2 [00:00<00:00, 34807.50it/s]\n",
      "100%|██████████| 2/2 [00:00<00:00, 40920.04it/s]\n",
      "100%|██████████| 2/2 [00:00<00:00, 38479.85it/s]\n",
      "100%|██████████| 2/2 [00:00<00:00, 34663.67it/s]\n",
      "100%|██████████| 2/2 [00:00<00:00, 44858.87it/s]\n",
      "100%|██████████| 2/2 [00:00<00:00, 36314.32it/s]\n",
      "100%|██████████| 2/2 [00:00<00:00, 22919.69it/s]\n",
      "100%|██████████| 2/2 [00:00<00:00, 47934.90it/s]\n",
      "100%|██████████| 2/2 [00:00<00:00, 39756.44it/s]\n",
      "100%|██████████| 2/2 [00:00<00:00, 40329.85it/s]\n",
      "100%|██████████| 2/2 [00:00<00:00, 45839.39it/s]\n",
      "100%|██████████| 2/2 [00:00<00:00, 39568.91it/s]\n",
      "100%|██████████| 2/2 [00:00<00:00, 33156.55it/s]\n",
      "100%|██████████| 2/2 [00:00<00:00, 48489.06it/s]\n",
      "100%|██████████| 136/136 [00:00<00:00, 8745.90it/s]\n",
      "100%|██████████| 314/314 [00:00<00:00, 3733.32it/s]\n"
     ]
    },
    {
     "name": "stdout",
     "output_type": "stream",
     "text": [
      "Removed 74 stereoisomers\n"
     ]
    },
    {
     "name": "stderr",
     "output_type": "stream",
     "text": [
      "100%|██████████| 240/240 [00:00<00:00, 5065.10it/s]\n",
      "100%|██████████| 240/240 [00:00<00:00, 5008.97it/s]\n",
      "100%|██████████| 240/240 [00:00<00:00, 8918.20it/s]\n",
      "100%|██████████| 2/2 [00:00<00:00, 38657.18it/s]\n",
      "100%|██████████| 2/2 [00:00<00:00, 35848.75it/s]\n",
      "100%|██████████| 2/2 [00:00<00:00, 49056.19it/s]\n",
      "100%|██████████| 2/2 [00:00<00:00, 36002.61it/s]\n",
      "100%|██████████| 2/2 [00:00<00:00, 38304.15it/s]\n",
      "100%|██████████| 2/2 [00:00<00:00, 52428.80it/s]\n",
      "100%|██████████| 2/2 [00:00<00:00, 40329.85it/s]\n",
      "100%|██████████| 2/2 [00:00<00:00, 40329.85it/s]\n",
      "100%|██████████| 2/2 [00:00<00:00, 49932.19it/s]\n",
      "100%|██████████| 2/2 [00:00<00:00, 40920.04it/s]\n",
      "100%|██████████| 2/2 [00:00<00:00, 39945.75it/s]\n",
      "100%|██████████| 2/2 [00:00<00:00, 46345.90it/s]\n",
      "100%|██████████| 2/2 [00:00<00:00, 40329.85it/s]\n",
      "100%|██████████| 2/2 [00:00<00:00, 39016.78it/s]\n",
      "100%|██████████| 2/2 [00:00<00:00, 51781.53it/s]\n",
      "100%|██████████| 2/2 [00:00<00:00, 37117.73it/s]\n",
      "100%|██████████| 2/2 [00:00<00:00, 37449.14it/s]\n",
      "100%|██████████| 2/2 [00:00<00:00, 49344.75it/s]\n",
      "100%|██████████| 2/2 [00:00<00:00, 38657.18it/s]\n",
      "100%|██████████| 2/2 [00:00<00:00, 38479.85it/s]\n",
      "100%|██████████| 2/2 [00:00<00:00, 48489.06it/s]\n",
      "100%|██████████| 2/2 [00:00<00:00, 37786.52it/s]\n",
      "100%|██████████| 2/2 [00:00<00:00, 38304.15it/s]\n",
      "100%|██████████| 2/2 [00:00<00:00, 49636.73it/s]\n",
      "100%|██████████| 2/2 [00:00<00:00, 38304.15it/s]\n",
      "100%|██████████| 2/2 [00:00<00:00, 35394.97it/s]\n",
      "100%|██████████| 2/2 [00:00<00:00, 49932.19it/s]\n",
      "100%|██████████| 2/2 [00:00<00:00, 40136.88it/s]\n",
      "100%|██████████| 2/2 [00:00<00:00, 35544.95it/s]\n",
      "100%|██████████| 2/2 [00:00<00:00, 50533.78it/s]\n",
      "100%|██████████| 2/2 [00:00<00:00, 40329.85it/s]\n",
      "100%|██████████| 2/2 [00:00<00:00, 40136.88it/s]\n",
      "100%|██████████| 2/2 [00:00<00:00, 52428.80it/s]\n",
      "100%|██████████| 2/2 [00:00<00:00, 37957.50it/s]\n",
      "100%|██████████| 2/2 [00:00<00:00, 40920.04it/s]\n",
      "100%|██████████| 2/2 [00:00<00:00, 51463.85it/s]\n",
      "100%|██████████| 2/2 [00:00<00:00, 40136.88it/s]\n",
      "100%|██████████| 2/2 [00:00<00:00, 40136.88it/s]\n",
      "100%|██████████| 2/2 [00:00<00:00, 42153.81it/s]\n",
      "100%|██████████| 2/2 [00:00<00:00, 35544.95it/s]\n",
      "100%|██████████| 2/2 [00:00<00:00, 39756.44it/s]\n",
      "100%|██████████| 2/2 [00:00<00:00, 39016.78it/s]\n",
      "100%|██████████| 2/2 [00:00<00:00, 33288.13it/s]\n",
      "100%|██████████| 2/2 [00:00<00:00, 37786.52it/s]\n",
      "100%|██████████| 2/2 [00:00<00:00, 48770.98it/s]\n",
      "100%|██████████| 2/2 [00:00<00:00, 38479.85it/s]\n",
      "100%|██████████| 2/2 [00:00<00:00, 38479.85it/s]\n",
      "100%|██████████| 2/2 [00:00<00:00, 42799.02it/s]\n",
      "100%|██████████| 2/2 [00:00<00:00, 37957.50it/s]\n",
      "100%|██████████| 2/2 [00:00<00:00, 36792.14it/s]\n",
      "100%|██████████| 2/2 [00:00<00:00, 44620.26it/s]\n",
      "100%|██████████| 2/2 [00:00<00:00, 40136.88it/s]\n",
      "100%|██████████| 2/2 [00:00<00:00, 40920.04it/s]\n",
      "100%|██████████| 2/2 [00:00<00:00, 49636.73it/s]\n",
      "100%|██████████| 2/2 [00:00<00:00, 39383.14it/s]\n",
      "100%|██████████| 2/2 [00:00<00:00, 40329.85it/s]\n",
      "100%|██████████| 2/2 [00:00<00:00, 50231.19it/s]\n",
      "100%|██████████| 2/2 [00:00<00:00, 35098.78it/s]\n",
      "100%|██████████| 2/2 [00:00<00:00, 38657.18it/s]\n",
      "100%|██████████| 2/2 [00:00<00:00, 47393.27it/s]\n",
      "100%|██████████| 240/240 [00:00<00:00, 5086.45it/s]\n",
      "100%|██████████| 406/406 [00:00<00:00, 2874.62it/s]\n"
     ]
    },
    {
     "name": "stdout",
     "output_type": "stream",
     "text": [
      "Removed 48 stereoisomers\n"
     ]
    },
    {
     "name": "stderr",
     "output_type": "stream",
     "text": [
      "100%|██████████| 358/358 [00:00<00:00, 3408.17it/s]\n",
      "100%|██████████| 358/358 [00:00<00:00, 3344.81it/s]\n",
      "100%|██████████| 358/358 [00:00<00:00, 5295.11it/s]\n",
      "100%|██████████| 2/2 [00:00<00:00, 38836.15it/s]\n",
      "100%|██████████| 2/2 [00:00<00:00, 36314.32it/s]\n",
      "100%|██████████| 2/2 [00:00<00:00, 42581.77it/s]\n",
      "100%|██████████| 2/2 [00:00<00:00, 40329.85it/s]\n",
      "100%|██████████| 2/2 [00:00<00:00, 31895.85it/s]\n",
      "100%|██████████| 2/2 [00:00<00:00, 42799.02it/s]\n",
      "100%|██████████| 2/2 [00:00<00:00, 34239.22it/s]\n",
      "100%|██████████| 2/2 [00:00<00:00, 36002.61it/s]\n",
      "100%|██████████| 2/2 [00:00<00:00, 49636.73it/s]\n",
      "100%|██████████| 2/2 [00:00<00:00, 35544.95it/s]\n",
      "100%|██████████| 2/2 [00:00<00:00, 35848.75it/s]\n",
      "100%|██████████| 2/2 [00:00<00:00, 44150.57it/s]\n",
      "100%|██████████| 2/2 [00:00<00:00, 39199.10it/s]\n",
      "100%|██████████| 2/2 [00:00<00:00, 40920.04it/s]\n",
      "100%|██████████| 2/2 [00:00<00:00, 50533.78it/s]\n",
      "100%|██████████| 2/2 [00:00<00:00, 37449.14it/s]\n",
      "100%|██████████| 2/2 [00:00<00:00, 40721.40it/s]\n",
      "100%|██████████| 2/2 [00:00<00:00, 52428.80it/s]\n",
      "100%|██████████| 2/2 [00:00<00:00, 40136.88it/s]\n",
      "100%|██████████| 2/2 [00:00<00:00, 36792.14it/s]\n",
      "100%|██████████| 2/2 [00:00<00:00, 48489.06it/s]\n",
      "100%|██████████| 2/2 [00:00<00:00, 33156.55it/s]\n",
      "100%|██████████| 2/2 [00:00<00:00, 39199.10it/s]\n",
      "100%|██████████| 2/2 [00:00<00:00, 43919.41it/s]\n",
      "100%|██████████| 2/2 [00:00<00:00, 9868.95it/s]\n",
      "100%|██████████| 2/2 [00:00<00:00, 37449.14it/s]\n",
      "100%|██████████| 2/2 [00:00<00:00, 45839.39it/s]\n",
      "100%|██████████| 2/2 [00:00<00:00, 36002.61it/s]\n",
      "100%|██████████| 2/2 [00:00<00:00, 39756.44it/s]\n",
      "100%|██████████| 2/2 [00:00<00:00, 44150.57it/s]\n",
      "100%|██████████| 2/2 [00:00<00:00, 39016.78it/s]\n",
      "100%|██████████| 2/2 [00:00<00:00, 40329.85it/s]\n",
      "100%|██████████| 2/2 [00:00<00:00, 51781.53it/s]\n",
      "100%|██████████| 2/2 [00:00<00:00, 8073.73it/s]\n",
      "100%|██████████| 2/2 [00:00<00:00, 37957.50it/s]\n",
      "100%|██████████| 2/2 [00:00<00:00, 33961.98it/s]\n",
      "100%|██████████| 2/2 [00:00<00:00, 36792.14it/s]\n",
      "100%|██████████| 2/2 [00:00<00:00, 33288.13it/s]\n",
      "100%|██████████| 2/2 [00:00<00:00, 42153.81it/s]\n",
      "100%|██████████| 2/2 [00:00<00:00, 38479.85it/s]\n",
      "100%|██████████| 2/2 [00:00<00:00, 38657.18it/s]\n",
      "100%|██████████| 2/2 [00:00<00:00, 49932.19it/s]\n",
      "100%|██████████| 2/2 [00:00<00:00, 38836.15it/s]\n",
      "100%|██████████| 2/2 [00:00<00:00, 37786.52it/s]\n",
      "100%|██████████| 2/2 [00:00<00:00, 49056.19it/s]\n",
      "100%|██████████| 2/2 [00:00<00:00, 37117.73it/s]\n",
      "100%|██████████| 2/2 [00:00<00:00, 35246.25it/s]\n",
      "100%|██████████| 2/2 [00:00<00:00, 49056.19it/s]\n",
      "100%|██████████| 2/2 [00:00<00:00, 37786.52it/s]\n",
      "100%|██████████| 2/2 [00:00<00:00, 39945.75it/s]\n",
      "100%|██████████| 2/2 [00:00<00:00, 42366.71it/s]\n",
      "100%|██████████| 2/2 [00:00<00:00, 39199.10it/s]\n",
      "100%|██████████| 2/2 [00:00<00:00, 39383.14it/s]\n",
      "100%|██████████| 2/2 [00:00<00:00, 43690.67it/s]\n",
      "100%|██████████| 2/2 [00:00<00:00, 28728.11it/s]\n",
      "100%|██████████| 2/2 [00:00<00:00, 35544.95it/s]\n",
      "100%|██████████| 2/2 [00:00<00:00, 47393.27it/s]\n",
      "100%|██████████| 2/2 [00:00<00:00, 39945.75it/s]\n",
      "100%|██████████| 2/2 [00:00<00:00, 38130.04it/s]\n",
      "100%|██████████| 2/2 [00:00<00:00, 44620.26it/s]\n",
      "100%|██████████| 358/358 [00:00<00:00, 3419.62it/s]\n",
      "100%|██████████| 224/224 [00:00<00:00, 5290.38it/s]\n"
     ]
    },
    {
     "name": "stdout",
     "output_type": "stream",
     "text": [
      "Removed 59 stereoisomers\n"
     ]
    },
    {
     "name": "stderr",
     "output_type": "stream",
     "text": [
      "100%|██████████| 165/165 [00:00<00:00, 7262.67it/s]\n",
      "100%|██████████| 165/165 [00:00<00:00, 7353.35it/s]\n",
      "100%|██████████| 165/165 [00:00<00:00, 10465.15it/s]\n",
      "100%|██████████| 2/2 [00:00<00:00, 36314.32it/s]\n",
      "100%|██████████| 2/2 [00:00<00:00, 39199.10it/s]\n",
      "100%|██████████| 2/2 [00:00<00:00, 49056.19it/s]\n",
      "100%|██████████| 2/2 [00:00<00:00, 38479.85it/s]\n",
      "100%|██████████| 2/2 [00:00<00:00, 40920.04it/s]\n",
      "100%|██████████| 2/2 [00:00<00:00, 48210.39it/s]\n",
      "100%|██████████| 2/2 [00:00<00:00, 37617.08it/s]\n",
      "100%|██████████| 2/2 [00:00<00:00, 38836.15it/s]\n",
      "100%|██████████| 2/2 [00:00<00:00, 42581.77it/s]\n",
      "100%|██████████| 2/2 [00:00<00:00, 38657.18it/s]\n",
      "100%|██████████| 2/2 [00:00<00:00, 36954.22it/s]\n",
      "100%|██████████| 2/2 [00:00<00:00, 49932.19it/s]\n",
      "100%|██████████| 2/2 [00:00<00:00, 37449.14it/s]\n",
      "100%|██████████| 2/2 [00:00<00:00, 38479.85it/s]\n",
      "100%|██████████| 2/2 [00:00<00:00, 45839.39it/s]\n",
      "100%|██████████| 2/2 [00:00<00:00, 34239.22it/s]\n",
      "100%|██████████| 2/2 [00:00<00:00, 33554.43it/s]\n",
      "100%|██████████| 2/2 [00:00<00:00, 47662.55it/s]\n",
      "100%|██████████| 2/2 [00:00<00:00, 38304.15it/s]\n",
      "100%|██████████| 2/2 [00:00<00:00, 39568.91it/s]\n",
      "100%|██████████| 2/2 [00:00<00:00, 48210.39it/s]\n",
      "100%|██████████| 2/2 [00:00<00:00, 39016.78it/s]\n",
      "100%|██████████| 2/2 [00:00<00:00, 28532.68it/s]\n",
      "100%|██████████| 2/2 [00:00<00:00, 44620.26it/s]\n",
      "100%|██████████| 2/2 [00:00<00:00, 39756.44it/s]\n",
      "100%|██████████| 2/2 [00:00<00:00, 39945.75it/s]\n",
      "100%|██████████| 2/2 [00:00<00:00, 43919.41it/s]\n",
      "100%|██████████| 2/2 [00:00<00:00, 40136.88it/s]\n",
      "100%|██████████| 2/2 [00:00<00:00, 40136.88it/s]\n",
      "100%|██████████| 2/2 [00:00<00:00, 53092.46it/s]\n",
      "100%|██████████| 2/2 [00:00<00:00, 38479.85it/s]\n",
      "100%|██████████| 2/2 [00:00<00:00, 39945.75it/s]\n",
      "100%|██████████| 2/2 [00:00<00:00, 42581.77it/s]\n",
      "100%|██████████| 2/2 [00:00<00:00, 38130.04it/s]\n",
      "100%|██████████| 2/2 [00:00<00:00, 26462.49it/s]\n",
      "100%|██████████| 2/2 [00:00<00:00, 31418.01it/s]\n",
      "100%|██████████| 2/2 [00:00<00:00, 29959.31it/s]\n",
      "100%|██████████| 2/2 [00:00<00:00, 33288.13it/s]\n",
      "100%|██████████| 2/2 [00:00<00:00, 41943.04it/s]\n",
      "100%|██████████| 2/2 [00:00<00:00, 34521.02it/s]\n",
      "100%|██████████| 2/2 [00:00<00:00, 35098.78it/s]\n",
      "100%|██████████| 2/2 [00:00<00:00, 43018.50it/s]\n",
      "100%|██████████| 2/2 [00:00<00:00, 34952.53it/s]\n",
      "100%|██████████| 2/2 [00:00<00:00, 36002.61it/s]\n",
      "100%|██████████| 2/2 [00:00<00:00, 48770.98it/s]\n",
      "100%|██████████| 2/2 [00:00<00:00, 37957.50it/s]\n",
      "100%|██████████| 2/2 [00:00<00:00, 33288.13it/s]\n",
      "100%|██████████| 2/2 [00:00<00:00, 40920.04it/s]\n",
      "100%|██████████| 2/2 [00:00<00:00, 39383.14it/s]\n",
      "100%|██████████| 2/2 [00:00<00:00, 39945.75it/s]\n",
      "100%|██████████| 2/2 [00:00<00:00, 52428.80it/s]\n",
      "100%|██████████| 2/2 [00:00<00:00, 40329.85it/s]\n",
      "100%|██████████| 2/2 [00:00<00:00, 36472.21it/s]\n",
      "100%|██████████| 2/2 [00:00<00:00, 51463.85it/s]\n",
      "100%|██████████| 2/2 [00:00<00:00, 39756.44it/s]\n",
      "100%|██████████| 2/2 [00:00<00:00, 39756.44it/s]\n",
      "100%|██████████| 2/2 [00:00<00:00, 48770.98it/s]\n",
      "100%|██████████| 2/2 [00:00<00:00, 39383.14it/s]\n",
      "100%|██████████| 2/2 [00:00<00:00, 39945.75it/s]\n",
      "100%|██████████| 2/2 [00:00<00:00, 33420.75it/s]\n",
      "100%|██████████| 165/165 [00:00<00:00, 7215.65it/s]\n",
      "100%|██████████| 212/212 [00:00<00:00, 5609.98it/s]\n"
     ]
    },
    {
     "name": "stdout",
     "output_type": "stream",
     "text": [
      "Removed 6 stereoisomers\n"
     ]
    },
    {
     "name": "stderr",
     "output_type": "stream",
     "text": [
      "100%|██████████| 206/206 [00:00<00:00, 5937.18it/s]\n",
      "100%|██████████| 206/206 [00:00<00:00, 5960.28it/s]\n",
      "100%|██████████| 206/206 [00:00<00:00, 7629.37it/s]\n",
      "100%|██████████| 2/2 [00:00<00:00, 38479.85it/s]\n",
      "100%|██████████| 2/2 [00:00<00:00, 38657.18it/s]\n",
      "100%|██████████| 2/2 [00:00<00:00, 49636.73it/s]\n",
      "100%|██████████| 2/2 [00:00<00:00, 39383.14it/s]\n",
      "100%|██████████| 2/2 [00:00<00:00, 38479.85it/s]\n",
      "100%|██████████| 2/2 [00:00<00:00, 49344.75it/s]\n",
      "100%|██████████| 2/2 [00:00<00:00, 39568.91it/s]\n",
      "100%|██████████| 2/2 [00:00<00:00, 37617.08it/s]\n",
      "100%|██████████| 2/2 [00:00<00:00, 44384.17it/s]\n",
      "100%|██████████| 2/2 [00:00<00:00, 37617.08it/s]\n",
      "100%|██████████| 2/2 [00:00<00:00, 37449.14it/s]\n",
      "100%|██████████| 2/2 [00:00<00:00, 45343.83it/s]\n",
      "100%|██████████| 2/2 [00:00<00:00, 39568.91it/s]\n",
      "100%|██████████| 2/2 [00:00<00:00, 38657.18it/s]\n",
      "100%|██████████| 2/2 [00:00<00:00, 44620.26it/s]\n",
      "100%|██████████| 2/2 [00:00<00:00, 40136.88it/s]\n",
      "100%|██████████| 2/2 [00:00<00:00, 39383.14it/s]\n",
      "100%|██████████| 2/2 [00:00<00:00, 49932.19it/s]\n",
      "100%|██████████| 2/2 [00:00<00:00, 39383.14it/s]\n",
      "100%|██████████| 2/2 [00:00<00:00, 34952.53it/s]\n",
      "100%|██████████| 2/2 [00:00<00:00, 49932.19it/s]\n",
      "100%|██████████| 2/2 [00:00<00:00, 36792.14it/s]\n",
      "100%|██████████| 2/2 [00:00<00:00, 39756.44it/s]\n",
      "100%|██████████| 2/2 [00:00<00:00, 36472.21it/s]\n",
      "100%|██████████| 2/2 [00:00<00:00, 38836.15it/s]\n",
      "100%|██████████| 2/2 [00:00<00:00, 36002.61it/s]\n",
      "100%|██████████| 2/2 [00:00<00:00, 15827.56it/s]\n",
      "100%|██████████| 2/2 [00:00<00:00, 38836.15it/s]\n",
      "100%|██████████| 2/2 [00:00<00:00, 40136.88it/s]\n",
      "100%|██████████| 2/2 [00:00<00:00, 49636.73it/s]\n",
      "100%|██████████| 2/2 [00:00<00:00, 39383.14it/s]\n",
      "100%|██████████| 2/2 [00:00<00:00, 35696.20it/s]\n",
      "100%|██████████| 2/2 [00:00<00:00, 45590.26it/s]\n",
      "100%|██████████| 2/2 [00:00<00:00, 37617.08it/s]\n",
      "100%|██████████| 2/2 [00:00<00:00, 36472.21it/s]\n",
      "100%|██████████| 2/2 [00:00<00:00, 43919.41it/s]\n",
      "100%|██████████| 2/2 [00:00<00:00, 38130.04it/s]\n",
      "100%|██████████| 2/2 [00:00<00:00, 38130.04it/s]\n",
      "100%|██████████| 2/2 [00:00<00:00, 43240.25it/s]\n",
      "100%|██████████| 2/2 [00:00<00:00, 37617.08it/s]\n",
      "100%|██████████| 2/2 [00:00<00:00, 39199.10it/s]\n",
      "100%|██████████| 2/2 [00:00<00:00, 48770.98it/s]\n",
      "100%|██████████| 2/2 [00:00<00:00, 36002.61it/s]\n",
      "100%|██████████| 2/2 [00:00<00:00, 39199.10it/s]\n",
      "100%|██████████| 2/2 [00:00<00:00, 46863.73it/s]\n",
      "100%|██████████| 2/2 [00:00<00:00, 24528.09it/s]\n",
      "100%|██████████| 2/2 [00:00<00:00, 37957.50it/s]\n",
      "100%|██████████| 2/2 [00:00<00:00, 48489.06it/s]\n",
      "100%|██████████| 2/2 [00:00<00:00, 36157.79it/s]\n",
      "100%|██████████| 2/2 [00:00<00:00, 35394.97it/s]\n",
      "100%|██████████| 2/2 [00:00<00:00, 45100.04it/s]\n",
      "100%|██████████| 2/2 [00:00<00:00, 38130.04it/s]\n",
      "100%|██████████| 2/2 [00:00<00:00, 8128.50it/s]\n",
      "100%|██████████| 2/2 [00:00<00:00, 49344.75it/s]\n",
      "100%|██████████| 2/2 [00:00<00:00, 34379.54it/s]\n",
      "100%|██████████| 2/2 [00:00<00:00, 39383.14it/s]\n",
      "100%|██████████| 2/2 [00:00<00:00, 49056.19it/s]\n",
      "100%|██████████| 2/2 [00:00<00:00, 37786.52it/s]\n",
      "100%|██████████| 2/2 [00:00<00:00, 30840.47it/s]\n",
      "100%|██████████| 2/2 [00:00<00:00, 46345.90it/s]\n",
      "100%|██████████| 206/206 [00:00<00:00, 5804.60it/s]\n",
      "100%|██████████| 267/267 [00:00<00:00, 4393.11it/s]\n"
     ]
    },
    {
     "name": "stdout",
     "output_type": "stream",
     "text": [
      "Removed 39 stereoisomers\n"
     ]
    },
    {
     "name": "stderr",
     "output_type": "stream",
     "text": [
      "100%|██████████| 228/228 [00:00<00:00, 5289.80it/s]\n",
      "100%|██████████| 228/228 [00:00<00:00, 5368.17it/s]\n",
      "100%|██████████| 228/228 [00:00<00:00, 9408.62it/s]\n",
      "100%|██████████| 2/2 [00:00<00:00, 38657.18it/s]\n",
      "100%|██████████| 2/2 [00:00<00:00, 39016.78it/s]\n",
      "100%|██████████| 2/2 [00:00<00:00, 52428.80it/s]\n",
      "100%|██████████| 2/2 [00:00<00:00, 39383.14it/s]\n",
      "100%|██████████| 2/2 [00:00<00:00, 38479.85it/s]\n",
      "100%|██████████| 2/2 [00:00<00:00, 39945.75it/s]\n",
      "100%|██████████| 2/2 [00:00<00:00, 36314.32it/s]\n",
      "100%|██████████| 2/2 [00:00<00:00, 34379.54it/s]\n",
      "100%|██████████| 2/2 [00:00<00:00, 52103.16it/s]\n",
      "100%|██████████| 2/2 [00:00<00:00, 40524.68it/s]\n",
      "100%|██████████| 2/2 [00:00<00:00, 40721.40it/s]\n",
      "100%|██████████| 2/2 [00:00<00:00, 43464.29it/s]\n",
      "100%|██████████| 2/2 [00:00<00:00, 34807.50it/s]\n",
      "100%|██████████| 2/2 [00:00<00:00, 37617.08it/s]\n",
      "100%|██████████| 2/2 [00:00<00:00, 44384.17it/s]\n",
      "100%|██████████| 2/2 [00:00<00:00, 30840.47it/s]\n",
      "100%|██████████| 2/2 [00:00<00:00, 36954.22it/s]\n",
      "100%|██████████| 2/2 [00:00<00:00, 47127.01it/s]\n",
      "100%|██████████| 2/2 [00:00<00:00, 36314.32it/s]\n",
      "100%|██████████| 2/2 [00:00<00:00, 36631.48it/s]\n",
      "100%|██████████| 2/2 [00:00<00:00, 49344.75it/s]\n",
      "100%|██████████| 2/2 [00:00<00:00, 39568.91it/s]\n",
      "100%|██████████| 2/2 [00:00<00:00, 39199.10it/s]\n",
      "100%|██████████| 2/2 [00:00<00:00, 44150.57it/s]\n",
      "100%|██████████| 2/2 [00:00<00:00, 35544.95it/s]\n",
      "100%|██████████| 2/2 [00:00<00:00, 33554.43it/s]\n",
      "100%|██████████| 2/2 [00:00<00:00, 43464.29it/s]\n",
      "100%|██████████| 2/2 [00:00<00:00, 30504.03it/s]\n",
      "100%|██████████| 2/2 [00:00<00:00, 33554.43it/s]\n",
      "100%|██████████| 2/2 [00:00<00:00, 47127.01it/s]\n",
      "100%|██████████| 2/2 [00:00<00:00, 36157.79it/s]\n",
      "100%|██████████| 2/2 [00:00<00:00, 36314.32it/s]\n",
      "100%|██████████| 2/2 [00:00<00:00, 47393.27it/s]\n",
      "100%|██████████| 2/2 [00:00<00:00, 35394.97it/s]\n",
      "100%|██████████| 2/2 [00:00<00:00, 24745.16it/s]\n",
      "100%|██████████| 2/2 [00:00<00:00, 47127.01it/s]\n",
      "100%|██████████| 2/2 [00:00<00:00, 38130.04it/s]\n",
      "100%|██████████| 2/2 [00:00<00:00, 38657.18it/s]\n",
      "100%|██████████| 2/2 [00:00<00:00, 50533.78it/s]\n",
      "100%|██████████| 2/2 [00:00<00:00, 39568.91it/s]\n",
      "100%|██████████| 2/2 [00:00<00:00, 38657.18it/s]\n",
      "100%|██████████| 2/2 [00:00<00:00, 45590.26it/s]\n",
      "100%|██████████| 2/2 [00:00<00:00, 39568.91it/s]\n",
      "100%|██████████| 2/2 [00:00<00:00, 35848.75it/s]\n",
      "100%|██████████| 2/2 [00:00<00:00, 43690.67it/s]\n",
      "100%|██████████| 2/2 [00:00<00:00, 36472.21it/s]\n",
      "100%|██████████| 2/2 [00:00<00:00, 39016.78it/s]\n",
      "100%|██████████| 2/2 [00:00<00:00, 48210.39it/s]\n",
      "100%|██████████| 2/2 [00:00<00:00, 34807.50it/s]\n",
      "100%|██████████| 2/2 [00:00<00:00, 36157.79it/s]\n",
      "100%|██████████| 2/2 [00:00<00:00, 47393.27it/s]\n",
      "100%|██████████| 2/2 [00:00<00:00, 39199.10it/s]\n",
      "100%|██████████| 2/2 [00:00<00:00, 35246.25it/s]\n",
      "100%|██████████| 2/2 [00:00<00:00, 47127.01it/s]\n",
      "100%|██████████| 2/2 [00:00<00:00, 37449.14it/s]\n",
      "100%|██████████| 2/2 [00:00<00:00, 36792.14it/s]\n",
      "100%|██████████| 2/2 [00:00<00:00, 41734.37it/s]\n",
      "100%|██████████| 2/2 [00:00<00:00, 33689.19it/s]\n",
      "100%|██████████| 2/2 [00:00<00:00, 32896.50it/s]\n",
      "100%|██████████| 2/2 [00:00<00:00, 44384.17it/s]\n",
      "100%|██████████| 228/228 [00:00<00:00, 5319.55it/s]\n",
      "100%|██████████| 222/222 [00:00<00:00, 5319.68it/s]\n"
     ]
    },
    {
     "name": "stdout",
     "output_type": "stream",
     "text": [
      "Removed 17 stereoisomers\n"
     ]
    },
    {
     "name": "stderr",
     "output_type": "stream",
     "text": [
      "100%|██████████| 205/205 [00:00<00:00, 5875.26it/s]\n",
      "100%|██████████| 205/205 [00:00<00:00, 5964.02it/s]\n",
      "100%|██████████| 205/205 [00:00<00:00, 10329.43it/s]\n",
      "100%|██████████| 2/2 [00:00<00:00, 25266.89it/s]\n",
      "100%|██████████| 2/2 [00:00<00:00, 38836.15it/s]\n",
      "100%|██████████| 2/2 [00:00<00:00, 44384.17it/s]\n",
      "100%|██████████| 2/2 [00:00<00:00, 35246.25it/s]\n",
      "100%|██████████| 2/2 [00:00<00:00, 38657.18it/s]\n",
      "100%|██████████| 2/2 [00:00<00:00, 49932.19it/s]\n",
      "100%|██████████| 2/2 [00:00<00:00, 38836.15it/s]\n",
      "100%|██████████| 2/2 [00:00<00:00, 35394.97it/s]\n",
      "100%|██████████| 2/2 [00:00<00:00, 52103.16it/s]\n",
      "100%|██████████| 2/2 [00:00<00:00, 39945.75it/s]\n",
      "100%|██████████| 2/2 [00:00<00:00, 38657.18it/s]\n",
      "100%|██████████| 2/2 [00:00<00:00, 49344.75it/s]\n",
      "100%|██████████| 2/2 [00:00<00:00, 39756.44it/s]\n",
      "100%|██████████| 2/2 [00:00<00:00, 29026.33it/s]\n",
      "100%|██████████| 2/2 [00:00<00:00, 45590.26it/s]\n",
      "100%|██████████| 2/2 [00:00<00:00, 35544.95it/s]\n",
      "100%|██████████| 2/2 [00:00<00:00, 39383.14it/s]\n",
      "100%|██████████| 2/2 [00:00<00:00, 51150.05it/s]\n",
      "100%|██████████| 2/2 [00:00<00:00, 35696.20it/s]\n",
      "100%|██████████| 2/2 [00:00<00:00, 32768.00it/s]\n",
      "100%|██████████| 2/2 [00:00<00:00, 42799.02it/s]\n",
      "100%|██████████| 2/2 [00:00<00:00, 35696.20it/s]\n",
      "100%|██████████| 2/2 [00:00<00:00, 36631.48it/s]\n",
      "100%|██████████| 2/2 [00:00<00:00, 45839.39it/s]\n",
      "100%|██████████| 2/2 [00:00<00:00, 36472.21it/s]\n",
      "100%|██████████| 2/2 [00:00<00:00, 39756.44it/s]\n",
      "100%|██████████| 2/2 [00:00<00:00, 53092.46it/s]\n",
      "100%|██████████| 2/2 [00:00<00:00, 41527.76it/s]\n",
      "100%|██████████| 2/2 [00:00<00:00, 24244.53it/s]\n",
      "100%|██████████| 2/2 [00:00<00:00, 47127.01it/s]\n",
      "100%|██████████| 2/2 [00:00<00:00, 36002.61it/s]\n",
      "100%|██████████| 2/2 [00:00<00:00, 35098.78it/s]\n",
      "100%|██████████| 2/2 [00:00<00:00, 41323.19it/s]\n",
      "100%|██████████| 2/2 [00:00<00:00, 29433.71it/s]\n",
      "100%|██████████| 2/2 [00:00<00:00, 40524.68it/s]\n",
      "100%|██████████| 2/2 [00:00<00:00, 51463.85it/s]\n",
      "100%|██████████| 2/2 [00:00<00:00, 39945.75it/s]\n",
      "100%|██████████| 2/2 [00:00<00:00, 23831.27it/s]\n",
      "100%|██████████| 2/2 [00:00<00:00, 41527.76it/s]\n",
      "100%|██████████| 2/2 [00:00<00:00, 38836.15it/s]\n",
      "100%|██████████| 2/2 [00:00<00:00, 34807.50it/s]\n",
      "100%|██████████| 2/2 [00:00<00:00, 49636.73it/s]\n",
      "100%|██████████| 2/2 [00:00<00:00, 38479.85it/s]\n",
      "100%|██████████| 2/2 [00:00<00:00, 39756.44it/s]\n",
      "100%|██████████| 2/2 [00:00<00:00, 50840.05it/s]\n",
      "100%|██████████| 2/2 [00:00<00:00, 39383.14it/s]\n",
      "100%|██████████| 2/2 [00:00<00:00, 38130.04it/s]\n",
      "100%|██████████| 2/2 [00:00<00:00, 52103.16it/s]\n",
      "100%|██████████| 2/2 [00:00<00:00, 39945.75it/s]\n",
      "100%|██████████| 2/2 [00:00<00:00, 37957.50it/s]\n",
      "100%|██████████| 2/2 [00:00<00:00, 49636.73it/s]\n",
      "100%|██████████| 2/2 [00:00<00:00, 39383.14it/s]\n",
      "100%|██████████| 2/2 [00:00<00:00, 38304.15it/s]\n",
      "100%|██████████| 2/2 [00:00<00:00, 21509.25it/s]\n",
      "100%|██████████| 2/2 [00:00<00:00, 39016.78it/s]\n",
      "100%|██████████| 2/2 [00:00<00:00, 40524.68it/s]\n",
      "100%|██████████| 2/2 [00:00<00:00, 10699.76it/s]\n",
      "100%|██████████| 2/2 [00:00<00:00, 39945.75it/s]\n",
      "100%|██████████| 2/2 [00:00<00:00, 38304.15it/s]\n",
      "100%|██████████| 2/2 [00:00<00:00, 42153.81it/s]\n",
      "100%|██████████| 205/205 [00:00<00:00, 5915.31it/s]\n",
      "100%|██████████| 264/264 [00:00<00:00, 4446.21it/s]\n"
     ]
    },
    {
     "name": "stdout",
     "output_type": "stream",
     "text": [
      "Removed 28 stereoisomers\n"
     ]
    },
    {
     "name": "stderr",
     "output_type": "stream",
     "text": [
      "100%|██████████| 236/236 [00:00<00:00, 5116.83it/s]\n",
      "100%|██████████| 236/236 [00:00<00:00, 5186.07it/s]\n",
      "100%|██████████| 236/236 [00:00<00:00, 8094.07it/s]\n",
      "100%|██████████| 2/2 [00:00<00:00, 40329.85it/s]\n",
      "100%|██████████| 2/2 [00:00<00:00, 37957.50it/s]\n",
      "100%|██████████| 2/2 [00:00<00:00, 48210.39it/s]\n",
      "100%|██████████| 2/2 [00:00<00:00, 39568.91it/s]\n",
      "100%|██████████| 2/2 [00:00<00:00, 38657.18it/s]\n",
      "100%|██████████| 2/2 [00:00<00:00, 49344.75it/s]\n",
      "100%|██████████| 2/2 [00:00<00:00, 38130.04it/s]\n",
      "100%|██████████| 2/2 [00:00<00:00, 38657.18it/s]\n",
      "100%|██████████| 2/2 [00:00<00:00, 47127.01it/s]\n",
      "100%|██████████| 2/2 [00:00<00:00, 39568.91it/s]\n",
      "100%|██████████| 2/2 [00:00<00:00, 37957.50it/s]\n",
      "100%|██████████| 2/2 [00:00<00:00, 49636.73it/s]\n",
      "100%|██████████| 2/2 [00:00<00:00, 37786.52it/s]\n",
      "100%|██████████| 2/2 [00:00<00:00, 34663.67it/s]\n",
      "100%|██████████| 2/2 [00:00<00:00, 46345.90it/s]\n",
      "100%|██████████| 2/2 [00:00<00:00, 35394.97it/s]\n",
      "100%|██████████| 2/2 [00:00<00:00, 30954.27it/s]\n",
      "100%|██████████| 2/2 [00:00<00:00, 49056.19it/s]\n",
      "100%|██████████| 2/2 [00:00<00:00, 36157.79it/s]\n",
      "100%|██████████| 2/2 [00:00<00:00, 40136.88it/s]\n",
      "100%|██████████| 2/2 [00:00<00:00, 47393.27it/s]\n",
      "100%|██████████| 2/2 [00:00<00:00, 39383.14it/s]\n",
      "100%|██████████| 2/2 [00:00<00:00, 38304.15it/s]\n",
      "100%|██████████| 2/2 [00:00<00:00, 48770.98it/s]\n",
      "100%|██████████| 2/2 [00:00<00:00, 40329.85it/s]\n",
      "100%|██████████| 2/2 [00:00<00:00, 39756.44it/s]\n",
      "100%|██████████| 2/2 [00:00<00:00, 47127.01it/s]\n",
      "100%|██████████| 2/2 [00:00<00:00, 34239.22it/s]\n",
      "100%|██████████| 2/2 [00:00<00:00, 27147.60it/s]\n",
      "100%|██████████| 2/2 [00:00<00:00, 48770.98it/s]\n",
      "100%|██████████| 2/2 [00:00<00:00, 37957.50it/s]\n",
      "100%|██████████| 2/2 [00:00<00:00, 36002.61it/s]\n",
      "100%|██████████| 2/2 [00:00<00:00, 44620.26it/s]\n",
      "100%|██████████| 2/2 [00:00<00:00, 38479.85it/s]\n",
      "100%|██████████| 2/2 [00:00<00:00, 35848.75it/s]\n",
      "100%|██████████| 2/2 [00:00<00:00, 37117.73it/s]\n",
      "100%|██████████| 2/2 [00:00<00:00, 36954.22it/s]\n",
      "100%|██████████| 2/2 [00:00<00:00, 33026.02it/s]\n",
      "100%|██████████| 2/2 [00:00<00:00, 50533.78it/s]\n",
      "100%|██████████| 2/2 [00:00<00:00, 40721.40it/s]\n",
      "100%|██████████| 2/2 [00:00<00:00, 38836.15it/s]\n",
      "100%|██████████| 2/2 [00:00<00:00, 42581.77it/s]\n",
      "100%|██████████| 2/2 [00:00<00:00, 33420.75it/s]\n",
      "100%|██████████| 2/2 [00:00<00:00, 37617.08it/s]\n",
      "100%|██████████| 2/2 [00:00<00:00, 45100.04it/s]\n",
      "100%|██████████| 2/2 [00:00<00:00, 36002.61it/s]\n",
      "100%|██████████| 2/2 [00:00<00:00, 36314.32it/s]\n",
      "100%|██████████| 2/2 [00:00<00:00, 46345.90it/s]\n",
      "100%|██████████| 2/2 [00:00<00:00, 34663.67it/s]\n",
      "100%|██████████| 2/2 [00:00<00:00, 40329.85it/s]\n",
      "100%|██████████| 2/2 [00:00<00:00, 49636.73it/s]\n",
      "100%|██████████| 2/2 [00:00<00:00, 40920.04it/s]\n",
      "100%|██████████| 2/2 [00:00<00:00, 33961.98it/s]\n",
      "100%|██████████| 2/2 [00:00<00:00, 49636.73it/s]\n",
      "100%|██████████| 2/2 [00:00<00:00, 21236.98it/s]\n",
      "100%|██████████| 2/2 [00:00<00:00, 36002.61it/s]\n",
      "100%|██████████| 2/2 [00:00<00:00, 50231.19it/s]\n",
      "100%|██████████| 2/2 [00:00<00:00, 35848.75it/s]\n",
      "100%|██████████| 2/2 [00:00<00:00, 35696.20it/s]\n",
      "100%|██████████| 2/2 [00:00<00:00, 47662.55it/s]\n",
      "100%|██████████| 236/236 [00:00<00:00, 5170.93it/s]\n",
      "100%|██████████| 235/235 [00:00<00:00, 5050.92it/s]\n"
     ]
    },
    {
     "name": "stdout",
     "output_type": "stream",
     "text": [
      "Removed 133 stereoisomers\n"
     ]
    },
    {
     "name": "stderr",
     "output_type": "stream",
     "text": [
      "100%|██████████| 102/102 [00:00<00:00, 11208.84it/s]\n",
      "100%|██████████| 102/102 [00:00<00:00, 11576.76it/s]\n",
      "100%|██████████| 102/102 [00:00<00:00, 12080.16it/s]\n",
      "100%|██████████| 2/2 [00:00<00:00, 39016.78it/s]\n",
      "100%|██████████| 2/2 [00:00<00:00, 38836.15it/s]\n",
      "100%|██████████| 2/2 [00:00<00:00, 45343.83it/s]\n",
      "100%|██████████| 2/2 [00:00<00:00, 38836.15it/s]\n",
      "100%|██████████| 2/2 [00:00<00:00, 38304.15it/s]\n",
      "100%|██████████| 2/2 [00:00<00:00, 49056.19it/s]\n",
      "100%|██████████| 2/2 [00:00<00:00, 33288.13it/s]\n",
      "100%|██████████| 2/2 [00:00<00:00, 38304.15it/s]\n",
      "100%|██████████| 2/2 [00:00<00:00, 43018.50it/s]\n",
      "100%|██████████| 2/2 [00:00<00:00, 34379.54it/s]\n",
      "100%|██████████| 2/2 [00:00<00:00, 38130.04it/s]\n",
      "100%|██████████| 2/2 [00:00<00:00, 44150.57it/s]\n",
      "100%|██████████| 2/2 [00:00<00:00, 40329.85it/s]\n",
      "100%|██████████| 2/2 [00:00<00:00, 39568.91it/s]\n",
      "100%|██████████| 2/2 [00:00<00:00, 50533.78it/s]\n",
      "100%|██████████| 2/2 [00:00<00:00, 39756.44it/s]\n",
      "100%|██████████| 2/2 [00:00<00:00, 39383.14it/s]\n",
      "100%|██████████| 2/2 [00:00<00:00, 45100.04it/s]\n",
      "100%|██████████| 2/2 [00:00<00:00, 35246.25it/s]\n",
      "100%|██████████| 2/2 [00:00<00:00, 38304.15it/s]\n",
      "100%|██████████| 2/2 [00:00<00:00, 47393.27it/s]\n",
      "100%|██████████| 2/2 [00:00<00:00, 38479.85it/s]\n",
      "100%|██████████| 2/2 [00:00<00:00, 39383.14it/s]\n",
      "100%|██████████| 2/2 [00:00<00:00, 49932.19it/s]\n",
      "100%|██████████| 2/2 [00:00<00:00, 39756.44it/s]\n",
      "100%|██████████| 2/2 [00:00<00:00, 38657.18it/s]\n",
      "100%|██████████| 2/2 [00:00<00:00, 46091.25it/s]\n",
      "100%|██████████| 2/2 [00:00<00:00, 37617.08it/s]\n",
      "100%|██████████| 2/2 [00:00<00:00, 39383.14it/s]\n",
      "100%|██████████| 2/2 [00:00<00:00, 44858.87it/s]\n",
      "100%|██████████| 2/2 [00:00<00:00, 38304.15it/s]\n",
      "100%|██████████| 2/2 [00:00<00:00, 39016.78it/s]\n",
      "100%|██████████| 2/2 [00:00<00:00, 47934.90it/s]\n",
      "100%|██████████| 2/2 [00:00<00:00, 39016.78it/s]\n",
      "100%|██████████| 2/2 [00:00<00:00, 40136.88it/s]\n",
      "100%|██████████| 2/2 [00:00<00:00, 48770.98it/s]\n",
      "100%|██████████| 2/2 [00:00<00:00, 37957.50it/s]\n",
      "100%|██████████| 2/2 [00:00<00:00, 37957.50it/s]\n",
      "100%|██████████| 2/2 [00:00<00:00, 49056.19it/s]\n",
      "100%|██████████| 2/2 [00:00<00:00, 40329.85it/s]\n",
      "100%|██████████| 2/2 [00:00<00:00, 36002.61it/s]\n",
      "100%|██████████| 2/2 [00:00<00:00, 22075.28it/s]\n",
      "100%|██████████| 2/2 [00:00<00:00, 35848.75it/s]\n",
      "100%|██████████| 2/2 [00:00<00:00, 39568.91it/s]\n",
      "100%|██████████| 2/2 [00:00<00:00, 50231.19it/s]\n",
      "100%|██████████| 2/2 [00:00<00:00, 33825.03it/s]\n",
      "100%|██████████| 2/2 [00:00<00:00, 36631.48it/s]\n",
      "100%|██████████| 2/2 [00:00<00:00, 34239.22it/s]\n",
      "100%|██████████| 2/2 [00:00<00:00, 37617.08it/s]\n",
      "100%|██████████| 2/2 [00:00<00:00, 38479.85it/s]\n",
      "100%|██████████| 2/2 [00:00<00:00, 39016.78it/s]\n",
      "100%|██████████| 2/2 [00:00<00:00, 36954.22it/s]\n",
      "100%|██████████| 2/2 [00:00<00:00, 37282.70it/s]\n",
      "100%|██████████| 2/2 [00:00<00:00, 48489.06it/s]\n",
      "100%|██████████| 102/102 [00:00<00:00, 11484.15it/s]\n",
      "100%|██████████| 318/318 [00:00<00:00, 3784.13it/s]\n"
     ]
    },
    {
     "name": "stdout",
     "output_type": "stream",
     "text": [
      "Removed 249 stereoisomers\n"
     ]
    },
    {
     "name": "stderr",
     "output_type": "stream",
     "text": [
      "100%|██████████| 69/69 [00:00<00:00, 17244.06it/s]\n",
      "100%|██████████| 69/69 [00:00<00:00, 16727.76it/s]\n",
      "100%|██████████| 69/69 [00:00<00:00, 23462.26it/s]\n",
      "100%|██████████| 2/2 [00:00<00:00, 37117.73it/s]\n",
      "100%|██████████| 2/2 [00:00<00:00, 36002.61it/s]\n",
      "100%|██████████| 2/2 [00:00<00:00, 48770.98it/s]\n",
      "100%|██████████| 2/2 [00:00<00:00, 40136.88it/s]\n",
      "100%|██████████| 2/2 [00:00<00:00, 39383.14it/s]\n",
      "100%|██████████| 2/2 [00:00<00:00, 40329.85it/s]\n",
      "100%|██████████| 2/2 [00:00<00:00, 39383.14it/s]\n",
      "100%|██████████| 2/2 [00:00<00:00, 38836.15it/s]\n",
      "100%|██████████| 2/2 [00:00<00:00, 48770.98it/s]\n",
      "100%|██████████| 2/2 [00:00<00:00, 34379.54it/s]\n",
      "100%|██████████| 2/2 [00:00<00:00, 39568.91it/s]\n",
      "100%|██████████| 2/2 [00:00<00:00, 45343.83it/s]\n",
      "100%|██████████| 2/2 [00:00<00:00, 35696.20it/s]\n",
      "100%|██████████| 2/2 [00:00<00:00, 38657.18it/s]\n",
      "100%|██████████| 2/2 [00:00<00:00, 41943.04it/s]\n",
      "100%|██████████| 2/2 [00:00<00:00, 37617.08it/s]\n",
      "100%|██████████| 2/2 [00:00<00:00, 37957.50it/s]\n",
      "100%|██████████| 2/2 [00:00<00:00, 49344.75it/s]\n",
      "100%|██████████| 2/2 [00:00<00:00, 36472.21it/s]\n",
      "100%|██████████| 2/2 [00:00<00:00, 38130.04it/s]\n",
      "100%|██████████| 2/2 [00:00<00:00, 28630.06it/s]\n",
      "100%|██████████| 2/2 [00:00<00:00, 35696.20it/s]\n",
      "100%|██████████| 2/2 [00:00<00:00, 38836.15it/s]\n",
      "100%|██████████| 2/2 [00:00<00:00, 43464.29it/s]\n",
      "100%|██████████| 2/2 [00:00<00:00, 37786.52it/s]\n",
      "100%|██████████| 2/2 [00:00<00:00, 39383.14it/s]\n",
      "100%|██████████| 2/2 [00:00<00:00, 42581.77it/s]\n",
      "100%|██████████| 2/2 [00:00<00:00, 38836.15it/s]\n",
      "100%|██████████| 2/2 [00:00<00:00, 37786.52it/s]\n",
      "100%|██████████| 2/2 [00:00<00:00, 45839.39it/s]\n",
      "100%|██████████| 2/2 [00:00<00:00, 39945.75it/s]\n",
      "100%|██████████| 2/2 [00:00<00:00, 36472.21it/s]\n",
      "100%|██████████| 2/2 [00:00<00:00, 48770.98it/s]\n",
      "100%|██████████| 2/2 [00:00<00:00, 38657.18it/s]\n",
      "100%|██████████| 2/2 [00:00<00:00, 36157.79it/s]\n",
      "100%|██████████| 2/2 [00:00<00:00, 45839.39it/s]\n",
      "100%|██████████| 2/2 [00:00<00:00, 34521.02it/s]\n",
      "100%|██████████| 2/2 [00:00<00:00, 40329.85it/s]\n",
      "100%|██████████| 2/2 [00:00<00:00, 50231.19it/s]\n",
      "100%|██████████| 2/2 [00:00<00:00, 33554.43it/s]\n",
      "100%|██████████| 2/2 [00:00<00:00, 40920.04it/s]\n",
      "100%|██████████| 2/2 [00:00<00:00, 47934.90it/s]\n",
      "100%|██████████| 2/2 [00:00<00:00, 34521.02it/s]\n",
      "100%|██████████| 2/2 [00:00<00:00, 38304.15it/s]\n",
      "100%|██████████| 2/2 [00:00<00:00, 45100.04it/s]\n",
      "100%|██████████| 2/2 [00:00<00:00, 39568.91it/s]\n",
      "100%|██████████| 2/2 [00:00<00:00, 40721.40it/s]\n",
      "100%|██████████| 2/2 [00:00<00:00, 50840.05it/s]\n",
      "100%|██████████| 2/2 [00:00<00:00, 36314.32it/s]\n",
      "100%|██████████| 2/2 [00:00<00:00, 38479.85it/s]\n",
      "100%|██████████| 2/2 [00:00<00:00, 45100.04it/s]\n",
      "100%|██████████| 2/2 [00:00<00:00, 29537.35it/s]\n",
      "100%|██████████| 2/2 [00:00<00:00, 36472.21it/s]\n",
      "100%|██████████| 2/2 [00:00<00:00, 46603.38it/s]\n",
      "100%|██████████| 2/2 [00:00<00:00, 36157.79it/s]\n",
      "100%|██████████| 2/2 [00:00<00:00, 40329.85it/s]\n",
      "100%|██████████| 2/2 [00:00<00:00, 48770.98it/s]\n",
      "100%|██████████| 2/2 [00:00<00:00, 32640.50it/s]\n",
      "100%|██████████| 2/2 [00:00<00:00, 36631.48it/s]\n",
      "100%|██████████| 2/2 [00:00<00:00, 47127.01it/s]\n",
      "100%|██████████| 69/69 [00:00<00:00, 17269.78it/s]\n",
      "100%|██████████| 332/332 [00:00<00:00, 3504.75it/s]\n"
     ]
    },
    {
     "name": "stdout",
     "output_type": "stream",
     "text": [
      "Removed 4 stereoisomers\n"
     ]
    },
    {
     "name": "stderr",
     "output_type": "stream",
     "text": [
      "100%|██████████| 328/328 [00:00<00:00, 3676.12it/s]\n",
      "100%|██████████| 328/328 [00:00<00:00, 3701.42it/s]\n",
      "100%|██████████| 328/328 [00:00<00:00, 5316.96it/s]\n",
      "100%|██████████| 2/2 [00:00<00:00, 37786.52it/s]\n",
      "100%|██████████| 2/2 [00:00<00:00, 38304.15it/s]\n",
      "100%|██████████| 2/2 [00:00<00:00, 49932.19it/s]\n",
      "100%|██████████| 2/2 [00:00<00:00, 37282.70it/s]\n",
      "100%|██████████| 2/2 [00:00<00:00, 39945.75it/s]\n",
      "100%|██████████| 2/2 [00:00<00:00, 42366.71it/s]\n",
      "100%|██████████| 2/2 [00:00<00:00, 38479.85it/s]\n",
      "100%|██████████| 2/2 [00:00<00:00, 37282.70it/s]\n",
      "100%|██████████| 2/2 [00:00<00:00, 47127.01it/s]\n",
      "100%|██████████| 2/2 [00:00<00:00, 26546.23it/s]\n",
      "100%|██████████| 2/2 [00:00<00:00, 35848.75it/s]\n",
      "100%|██████████| 2/2 [00:00<00:00, 41734.37it/s]\n",
      "100%|██████████| 2/2 [00:00<00:00, 36002.61it/s]\n",
      "100%|██████████| 2/2 [00:00<00:00, 37786.52it/s]\n",
      "100%|██████████| 2/2 [00:00<00:00, 43919.41it/s]\n",
      "100%|██████████| 2/2 [00:00<00:00, 38836.15it/s]\n",
      "100%|██████████| 2/2 [00:00<00:00, 39568.91it/s]\n",
      "100%|██████████| 2/2 [00:00<00:00, 45100.04it/s]\n",
      "100%|██████████| 2/2 [00:00<00:00, 36954.22it/s]\n",
      "100%|██████████| 2/2 [00:00<00:00, 36792.14it/s]\n",
      "100%|██████████| 2/2 [00:00<00:00, 48770.98it/s]\n",
      "100%|██████████| 2/2 [00:00<00:00, 36472.21it/s]\n",
      "100%|██████████| 2/2 [00:00<00:00, 34100.03it/s]\n",
      "100%|██████████| 2/2 [00:00<00:00, 49932.19it/s]\n",
      "100%|██████████| 2/2 [00:00<00:00, 37617.08it/s]\n",
      "100%|██████████| 2/2 [00:00<00:00, 38130.04it/s]\n",
      "100%|██████████| 2/2 [00:00<00:00, 47127.01it/s]\n",
      "100%|██████████| 2/2 [00:00<00:00, 36792.14it/s]\n",
      "100%|██████████| 2/2 [00:00<00:00, 35848.75it/s]\n",
      "100%|██████████| 2/2 [00:00<00:00, 40136.88it/s]\n",
      "100%|██████████| 2/2 [00:00<00:00, 38836.15it/s]\n",
      "100%|██████████| 2/2 [00:00<00:00, 32896.50it/s]\n",
      "100%|██████████| 2/2 [00:00<00:00, 44150.57it/s]\n",
      "100%|██████████| 2/2 [00:00<00:00, 37957.50it/s]\n",
      "100%|██████████| 2/2 [00:00<00:00, 33961.98it/s]\n",
      "100%|██████████| 2/2 [00:00<00:00, 51463.85it/s]\n",
      "100%|██████████| 2/2 [00:00<00:00, 34807.50it/s]\n",
      "100%|██████████| 2/2 [00:00<00:00, 38130.04it/s]\n",
      "100%|██████████| 2/2 [00:00<00:00, 51150.05it/s]\n",
      "100%|██████████| 2/2 [00:00<00:00, 35098.78it/s]\n",
      "100%|██████████| 2/2 [00:00<00:00, 35696.20it/s]\n",
      "100%|██████████| 2/2 [00:00<00:00, 50533.78it/s]\n",
      "100%|██████████| 2/2 [00:00<00:00, 38836.15it/s]\n",
      "100%|██████████| 2/2 [00:00<00:00, 28055.55it/s]\n",
      "100%|██████████| 2/2 [00:00<00:00, 34807.50it/s]\n",
      "100%|██████████| 2/2 [00:00<00:00, 35544.95it/s]\n",
      "100%|██████████| 2/2 [00:00<00:00, 31068.92it/s]\n",
      "100%|██████████| 2/2 [00:00<00:00, 43690.67it/s]\n",
      "100%|██████████| 2/2 [00:00<00:00, 37282.70it/s]\n",
      "100%|██████████| 2/2 [00:00<00:00, 36314.32it/s]\n",
      "100%|██████████| 2/2 [00:00<00:00, 46603.38it/s]\n",
      "100%|██████████| 2/2 [00:00<00:00, 37449.14it/s]\n",
      "100%|██████████| 2/2 [00:00<00:00, 34379.54it/s]\n",
      "100%|██████████| 2/2 [00:00<00:00, 49932.19it/s]\n",
      "100%|██████████| 2/2 [00:00<00:00, 39383.14it/s]\n",
      "100%|██████████| 2/2 [00:00<00:00, 34100.03it/s]\n",
      "100%|██████████| 2/2 [00:00<00:00, 48489.06it/s]\n",
      "100%|██████████| 2/2 [00:00<00:00, 39199.10it/s]\n",
      "100%|██████████| 2/2 [00:00<00:00, 36314.32it/s]\n",
      "100%|██████████| 2/2 [00:00<00:00, 46863.73it/s]\n",
      "100%|██████████| 328/328 [00:00<00:00, 3715.96it/s]\n",
      "100%|██████████| 321/321 [00:00<00:00, 3669.39it/s]\n",
      "100%|██████████| 321/321 [00:00<00:00, 3790.66it/s]\n",
      "100%|██████████| 321/321 [00:00<00:00, 3793.74it/s]\n",
      "100%|██████████| 321/321 [00:00<00:00, 5452.09it/s]\n",
      "100%|██████████| 2/2 [00:00<00:00, 39383.14it/s]\n",
      "100%|██████████| 2/2 [00:00<00:00, 39756.44it/s]\n",
      "100%|██████████| 2/2 [00:00<00:00, 47393.27it/s]\n",
      "100%|██████████| 2/2 [00:00<00:00, 34100.03it/s]\n",
      "100%|██████████| 2/2 [00:00<00:00, 37617.08it/s]\n",
      "100%|██████████| 2/2 [00:00<00:00, 46345.90it/s]\n",
      "100%|██████████| 2/2 [00:00<00:00, 38130.04it/s]\n",
      "100%|██████████| 2/2 [00:00<00:00, 36314.32it/s]\n",
      "100%|██████████| 2/2 [00:00<00:00, 46345.90it/s]\n",
      "100%|██████████| 2/2 [00:00<00:00, 28339.89it/s]\n",
      "100%|██████████| 2/2 [00:00<00:00, 40136.88it/s]\n",
      "100%|██████████| 2/2 [00:00<00:00, 50840.05it/s]\n",
      "100%|██████████| 2/2 [00:00<00:00, 39756.44it/s]\n",
      "100%|██████████| 2/2 [00:00<00:00, 37786.52it/s]\n",
      "100%|██████████| 2/2 [00:00<00:00, 49932.19it/s]\n",
      "100%|██████████| 2/2 [00:00<00:00, 33689.19it/s]\n",
      "100%|██████████| 2/2 [00:00<00:00, 33554.43it/s]\n",
      "100%|██████████| 2/2 [00:00<00:00, 47934.90it/s]\n",
      "100%|██████████| 2/2 [00:00<00:00, 34952.53it/s]\n",
      "100%|██████████| 2/2 [00:00<00:00, 35696.20it/s]\n",
      "100%|██████████| 2/2 [00:00<00:00, 43464.29it/s]\n",
      "100%|██████████| 2/2 [00:00<00:00, 36002.61it/s]\n",
      "100%|██████████| 2/2 [00:00<00:00, 36314.32it/s]\n",
      "100%|██████████| 2/2 [00:00<00:00, 45839.39it/s]\n",
      "100%|██████████| 2/2 [00:00<00:00, 34952.53it/s]\n",
      "100%|██████████| 2/2 [00:00<00:00, 34663.67it/s]\n",
      "100%|██████████| 2/2 [00:00<00:00, 44620.26it/s]\n",
      "100%|██████████| 2/2 [00:00<00:00, 37957.50it/s]\n",
      "100%|██████████| 2/2 [00:00<00:00, 34521.02it/s]\n",
      "100%|██████████| 2/2 [00:00<00:00, 43690.67it/s]\n",
      "100%|██████████| 2/2 [00:00<00:00, 38657.18it/s]\n",
      "100%|██████████| 2/2 [00:00<00:00, 33554.43it/s]\n",
      "100%|██████████| 2/2 [00:00<00:00, 49344.75it/s]\n",
      "100%|██████████| 2/2 [00:00<00:00, 35848.75it/s]\n",
      "100%|██████████| 2/2 [00:00<00:00, 34100.03it/s]\n",
      "100%|██████████| 2/2 [00:00<00:00, 46091.25it/s]\n",
      "100%|██████████| 2/2 [00:00<00:00, 36472.21it/s]\n",
      "100%|██████████| 2/2 [00:00<00:00, 38479.85it/s]\n",
      "100%|██████████| 2/2 [00:00<00:00, 49636.73it/s]\n",
      "100%|██████████| 2/2 [00:00<00:00, 35544.95it/s]\n",
      "100%|██████████| 2/2 [00:00<00:00, 31184.42it/s]\n",
      "100%|██████████| 2/2 [00:00<00:00, 47662.55it/s]\n",
      "100%|██████████| 2/2 [00:00<00:00, 36002.61it/s]\n",
      "100%|██████████| 2/2 [00:00<00:00, 39756.44it/s]\n",
      "100%|██████████| 2/2 [00:00<00:00, 49344.75it/s]\n",
      "100%|██████████| 2/2 [00:00<00:00, 38657.18it/s]\n",
      "100%|██████████| 2/2 [00:00<00:00, 38657.18it/s]\n",
      "100%|██████████| 2/2 [00:00<00:00, 46091.25it/s]\n",
      "100%|██████████| 2/2 [00:00<00:00, 36472.21it/s]\n",
      "100%|██████████| 2/2 [00:00<00:00, 36314.32it/s]\n",
      "100%|██████████| 2/2 [00:00<00:00, 46091.25it/s]\n",
      "100%|██████████| 2/2 [00:00<00:00, 37117.73it/s]\n",
      "100%|██████████| 2/2 [00:00<00:00, 36314.32it/s]\n",
      "100%|██████████| 2/2 [00:00<00:00, 42366.71it/s]\n",
      "100%|██████████| 2/2 [00:00<00:00, 38130.04it/s]\n",
      "100%|██████████| 2/2 [00:00<00:00, 26630.50it/s]\n",
      "100%|██████████| 2/2 [00:00<00:00, 45590.26it/s]\n",
      "100%|██████████| 2/2 [00:00<00:00, 38479.85it/s]\n",
      "100%|██████████| 2/2 [00:00<00:00, 37786.52it/s]\n",
      "100%|██████████| 2/2 [00:00<00:00, 44620.26it/s]\n",
      "100%|██████████| 321/321 [00:00<00:00, 3792.33it/s]\n",
      "100%|██████████| 258/258 [00:00<00:00, 4624.94it/s]\n"
     ]
    },
    {
     "name": "stdout",
     "output_type": "stream",
     "text": [
      "Removed 2 stereoisomers\n"
     ]
    },
    {
     "name": "stderr",
     "output_type": "stream",
     "text": [
      "100%|██████████| 256/256 [00:00<00:00, 4760.70it/s]\n",
      "100%|██████████| 256/256 [00:00<00:00, 4805.65it/s]\n",
      "100%|██████████| 256/256 [00:00<00:00, 6194.35it/s]\n",
      "100%|██████████| 2/2 [00:00<00:00, 35544.95it/s]\n",
      "100%|██████████| 2/2 [00:00<00:00, 38657.18it/s]\n",
      "100%|██████████| 2/2 [00:00<00:00, 43464.29it/s]\n",
      "100%|██████████| 2/2 [00:00<00:00, 34952.53it/s]\n",
      "100%|██████████| 2/2 [00:00<00:00, 37449.14it/s]\n",
      "100%|██████████| 2/2 [00:00<00:00, 40920.04it/s]\n",
      "100%|██████████| 2/2 [00:00<00:00, 37449.14it/s]\n",
      "100%|██████████| 2/2 [00:00<00:00, 38836.15it/s]\n",
      "100%|██████████| 2/2 [00:00<00:00, 45100.04it/s]\n",
      "100%|██████████| 2/2 [00:00<00:00, 36792.14it/s]\n",
      "100%|██████████| 2/2 [00:00<00:00, 37117.73it/s]\n",
      "100%|██████████| 2/2 [00:00<00:00, 42366.71it/s]\n",
      "100%|██████████| 2/2 [00:00<00:00, 26973.02it/s]\n",
      "100%|██████████| 2/2 [00:00<00:00, 34952.53it/s]\n",
      "100%|██████████| 2/2 [00:00<00:00, 43919.41it/s]\n",
      "100%|██████████| 2/2 [00:00<00:00, 38657.18it/s]\n",
      "100%|██████████| 2/2 [00:00<00:00, 38130.04it/s]\n",
      "100%|██████████| 2/2 [00:00<00:00, 41734.37it/s]\n",
      "100%|██████████| 2/2 [00:00<00:00, 36314.32it/s]\n",
      "100%|██████████| 2/2 [00:00<00:00, 36157.79it/s]\n",
      "100%|██████████| 2/2 [00:00<00:00, 49932.19it/s]\n",
      "100%|██████████| 2/2 [00:00<00:00, 34379.54it/s]\n",
      "100%|██████████| 2/2 [00:00<00:00, 37786.52it/s]\n",
      "100%|██████████| 2/2 [00:00<00:00, 31418.01it/s]\n",
      "100%|██████████| 2/2 [00:00<00:00, 35394.97it/s]\n",
      "100%|██████████| 2/2 [00:00<00:00, 37786.52it/s]\n",
      "100%|██████████| 2/2 [00:00<00:00, 46345.90it/s]\n",
      "100%|██████████| 2/2 [00:00<00:00, 35246.25it/s]\n",
      "100%|██████████| 2/2 [00:00<00:00, 37117.73it/s]\n",
      "100%|██████████| 2/2 [00:00<00:00, 48210.39it/s]\n",
      "100%|██████████| 2/2 [00:00<00:00, 33961.98it/s]\n",
      "100%|██████████| 2/2 [00:00<00:00, 34239.22it/s]\n",
      "100%|██████████| 2/2 [00:00<00:00, 46091.25it/s]\n",
      "100%|██████████| 2/2 [00:00<00:00, 36472.21it/s]\n",
      "100%|██████████| 2/2 [00:00<00:00, 38657.18it/s]\n",
      "100%|██████████| 2/2 [00:00<00:00, 48489.06it/s]\n",
      "100%|██████████| 2/2 [00:00<00:00, 39199.10it/s]\n",
      "100%|██████████| 2/2 [00:00<00:00, 35848.75it/s]\n",
      "100%|██████████| 2/2 [00:00<00:00, 44620.26it/s]\n",
      "100%|██████████| 2/2 [00:00<00:00, 32513.98it/s]\n",
      "100%|██████████| 2/2 [00:00<00:00, 33961.98it/s]\n",
      "100%|██████████| 2/2 [00:00<00:00, 41734.37it/s]\n",
      "100%|██████████| 2/2 [00:00<00:00, 32140.26it/s]\n",
      "100%|██████████| 2/2 [00:00<00:00, 35098.78it/s]\n",
      "100%|██████████| 2/2 [00:00<00:00, 46091.25it/s]\n",
      "100%|██████████| 2/2 [00:00<00:00, 35246.25it/s]\n",
      "100%|██████████| 2/2 [00:00<00:00, 36472.21it/s]\n",
      "100%|██████████| 2/2 [00:00<00:00, 41943.04it/s]\n",
      "100%|██████████| 2/2 [00:00<00:00, 37617.08it/s]\n",
      "100%|██████████| 2/2 [00:00<00:00, 33961.98it/s]\n",
      "100%|██████████| 2/2 [00:00<00:00, 44858.87it/s]\n",
      "100%|██████████| 2/2 [00:00<00:00, 37449.14it/s]\n",
      "100%|██████████| 2/2 [00:00<00:00, 35696.20it/s]\n",
      "100%|██████████| 2/2 [00:00<00:00, 44620.26it/s]\n",
      "100%|██████████| 2/2 [00:00<00:00, 35394.97it/s]\n",
      "100%|██████████| 2/2 [00:00<00:00, 8551.08it/s]\n",
      "100%|██████████| 2/2 [00:00<00:00, 47393.27it/s]\n",
      "100%|██████████| 2/2 [00:00<00:00, 39568.91it/s]\n",
      "100%|██████████| 2/2 [00:00<00:00, 39945.75it/s]\n",
      "100%|██████████| 2/2 [00:00<00:00, 49344.75it/s]\n",
      "100%|██████████| 256/256 [00:00<00:00, 4719.97it/s]\n",
      "100%|██████████| 203/203 [00:00<00:00, 5853.13it/s]\n"
     ]
    },
    {
     "name": "stdout",
     "output_type": "stream",
     "text": [
      "Removed 156 stereoisomers\n"
     ]
    },
    {
     "name": "stderr",
     "output_type": "stream",
     "text": [
      "100%|██████████| 47/47 [00:00<00:00, 24981.91it/s]\n",
      "100%|██████████| 47/47 [00:00<00:00, 24694.01it/s]\n",
      "100%|██████████| 47/47 [00:00<00:00, 25299.32it/s]\n",
      "100%|██████████| 2/2 [00:00<00:00, 40329.85it/s]\n",
      "100%|██████████| 2/2 [00:00<00:00, 33288.13it/s]\n",
      "100%|██████████| 2/2 [00:00<00:00, 43464.29it/s]\n",
      "100%|██████████| 2/2 [00:00<00:00, 36314.32it/s]\n",
      "100%|██████████| 2/2 [00:00<00:00, 39756.44it/s]\n",
      "100%|██████████| 2/2 [00:00<00:00, 20460.02it/s]\n",
      "100%|██████████| 2/2 [00:00<00:00, 37786.52it/s]\n",
      "100%|██████████| 2/2 [00:00<00:00, 33825.03it/s]\n",
      "100%|██████████| 2/2 [00:00<00:00, 45100.04it/s]\n",
      "100%|██████████| 2/2 [00:00<00:00, 39199.10it/s]\n",
      "100%|██████████| 2/2 [00:00<00:00, 39568.91it/s]\n",
      "100%|██████████| 2/2 [00:00<00:00, 43240.25it/s]\n",
      "100%|██████████| 2/2 [00:00<00:00, 39756.44it/s]\n",
      "100%|██████████| 2/2 [00:00<00:00, 36002.61it/s]\n",
      "100%|██████████| 2/2 [00:00<00:00, 37117.73it/s]\n",
      "100%|██████████| 2/2 [00:00<00:00, 37957.50it/s]\n",
      "100%|██████████| 2/2 [00:00<00:00, 38304.15it/s]\n",
      "100%|██████████| 2/2 [00:00<00:00, 45590.26it/s]\n",
      "100%|██████████| 2/2 [00:00<00:00, 35848.75it/s]\n",
      "100%|██████████| 2/2 [00:00<00:00, 38657.18it/s]\n",
      "100%|██████████| 2/2 [00:00<00:00, 9664.29it/s]\n",
      "100%|██████████| 2/2 [00:00<00:00, 35098.78it/s]\n",
      "100%|██████████| 2/2 [00:00<00:00, 37957.50it/s]\n",
      "100%|██████████| 2/2 [00:00<00:00, 50231.19it/s]\n",
      "100%|██████████| 2/2 [00:00<00:00, 35098.78it/s]\n",
      "100%|██████████| 2/2 [00:00<00:00, 37617.08it/s]\n",
      "100%|██████████| 2/2 [00:00<00:00, 41527.76it/s]\n",
      "100%|██████████| 2/2 [00:00<00:00, 36792.14it/s]\n",
      "100%|██████████| 2/2 [00:00<00:00, 34379.54it/s]\n",
      "100%|██████████| 2/2 [00:00<00:00, 36792.14it/s]\n",
      "100%|██████████| 2/2 [00:00<00:00, 36314.32it/s]\n",
      "100%|██████████| 2/2 [00:00<00:00, 38657.18it/s]\n",
      "100%|██████████| 2/2 [00:00<00:00, 47127.01it/s]\n",
      "100%|██████████| 47/47 [00:00<00:00, 24837.13it/s]\n",
      "100%|██████████| 228/228 [00:00<00:00, 5199.61it/s]\n"
     ]
    },
    {
     "name": "stdout",
     "output_type": "stream",
     "text": [
      "Removed 2 stereoisomers\n"
     ]
    },
    {
     "name": "stderr",
     "output_type": "stream",
     "text": [
      "100%|██████████| 226/226 [00:00<00:00, 5363.71it/s]\n",
      "100%|██████████| 226/226 [00:00<00:00, 5370.49it/s]\n",
      "100%|██████████| 226/226 [00:00<00:00, 8509.32it/s]\n",
      "100%|██████████| 2/2 [00:00<00:00, 39756.44it/s]\n",
      "100%|██████████| 2/2 [00:00<00:00, 37957.50it/s]\n",
      "100%|██████████| 2/2 [00:00<00:00, 48210.39it/s]\n",
      "100%|██████████| 2/2 [00:00<00:00, 34952.53it/s]\n",
      "100%|██████████| 2/2 [00:00<00:00, 39016.78it/s]\n",
      "100%|██████████| 2/2 [00:00<00:00, 41734.37it/s]\n",
      "100%|██████████| 2/2 [00:00<00:00, 34239.22it/s]\n",
      "100%|██████████| 2/2 [00:00<00:00, 37117.73it/s]\n",
      "100%|██████████| 2/2 [00:00<00:00, 43018.50it/s]\n",
      "100%|██████████| 2/2 [00:00<00:00, 28826.83it/s]\n",
      "100%|██████████| 2/2 [00:00<00:00, 40136.88it/s]\n",
      "100%|██████████| 2/2 [00:00<00:00, 50533.78it/s]\n",
      "100%|██████████| 2/2 [00:00<00:00, 40329.85it/s]\n",
      "100%|██████████| 2/2 [00:00<00:00, 38130.04it/s]\n",
      "100%|██████████| 2/2 [00:00<00:00, 43690.67it/s]\n",
      "100%|██████████| 2/2 [00:00<00:00, 36954.22it/s]\n",
      "100%|██████████| 2/2 [00:00<00:00, 37449.14it/s]\n",
      "100%|██████████| 2/2 [00:00<00:00, 48770.98it/s]\n",
      "100%|██████████| 2/2 [00:00<00:00, 39756.44it/s]\n",
      "100%|██████████| 2/2 [00:00<00:00, 39016.78it/s]\n",
      "100%|██████████| 2/2 [00:00<00:00, 50840.05it/s]\n",
      "100%|██████████| 2/2 [00:00<00:00, 39756.44it/s]\n",
      "100%|██████████| 2/2 [00:00<00:00, 40920.04it/s]\n",
      "100%|██████████| 2/2 [00:00<00:00, 48489.06it/s]\n",
      "100%|██████████| 2/2 [00:00<00:00, 40721.40it/s]\n",
      "100%|██████████| 2/2 [00:00<00:00, 27413.75it/s]\n",
      "100%|██████████| 2/2 [00:00<00:00, 46345.90it/s]\n",
      "100%|██████████| 2/2 [00:00<00:00, 38130.04it/s]\n",
      "100%|██████████| 2/2 [00:00<00:00, 36954.22it/s]\n",
      "100%|██████████| 2/2 [00:00<00:00, 45343.83it/s]\n",
      "100%|██████████| 2/2 [00:00<00:00, 36472.21it/s]\n",
      "100%|██████████| 2/2 [00:00<00:00, 37282.70it/s]\n",
      "100%|██████████| 2/2 [00:00<00:00, 43240.25it/s]\n",
      "100%|██████████| 2/2 [00:00<00:00, 37449.14it/s]\n",
      "100%|██████████| 2/2 [00:00<00:00, 33420.75it/s]\n",
      "100%|██████████| 2/2 [00:00<00:00, 20610.83it/s]\n",
      "100%|██████████| 2/2 [00:00<00:00, 38304.15it/s]\n",
      "100%|██████████| 2/2 [00:00<00:00, 36157.79it/s]\n",
      "100%|██████████| 2/2 [00:00<00:00, 46863.73it/s]\n",
      "100%|██████████| 2/2 [00:00<00:00, 36631.48it/s]\n",
      "100%|██████████| 2/2 [00:00<00:00, 40920.04it/s]\n",
      "100%|██████████| 2/2 [00:00<00:00, 48770.98it/s]\n",
      "100%|██████████| 2/2 [00:00<00:00, 39383.14it/s]\n",
      "100%|██████████| 2/2 [00:00<00:00, 34100.03it/s]\n",
      "100%|██████████| 2/2 [00:00<00:00, 43240.25it/s]\n",
      "100%|██████████| 2/2 [00:00<00:00, 37117.73it/s]\n",
      "100%|██████████| 2/2 [00:00<00:00, 38304.15it/s]\n",
      "100%|██████████| 2/2 [00:00<00:00, 44150.57it/s]\n",
      "100%|██████████| 2/2 [00:00<00:00, 33689.19it/s]\n",
      "100%|██████████| 2/2 [00:00<00:00, 37957.50it/s]\n",
      "100%|██████████| 2/2 [00:00<00:00, 43690.67it/s]\n",
      "100%|██████████| 2/2 [00:00<00:00, 34807.50it/s]\n",
      "100%|██████████| 2/2 [00:00<00:00, 33554.43it/s]\n",
      "100%|██████████| 2/2 [00:00<00:00, 47934.90it/s]\n",
      "100%|██████████| 2/2 [00:00<00:00, 36954.22it/s]\n",
      "100%|██████████| 2/2 [00:00<00:00, 24456.58it/s]\n",
      "100%|██████████| 2/2 [00:00<00:00, 44858.87it/s]\n",
      "100%|██████████| 2/2 [00:00<00:00, 38304.15it/s]\n",
      "100%|██████████| 2/2 [00:00<00:00, 40329.85it/s]\n",
      "100%|██████████| 2/2 [00:00<00:00, 42366.71it/s]\n",
      "100%|██████████| 226/226 [00:00<00:00, 5361.19it/s]\n",
      "100%|██████████| 224/224 [00:00<00:00, 5294.23it/s]\n",
      "100%|██████████| 224/224 [00:00<00:00, 5436.90it/s]\n",
      "100%|██████████| 224/224 [00:00<00:00, 5460.38it/s]\n",
      "100%|██████████| 224/224 [00:00<00:00, 9237.28it/s]\n",
      "100%|██████████| 2/2 [00:00<00:00, 38304.15it/s]\n",
      "100%|██████████| 2/2 [00:00<00:00, 36157.79it/s]\n",
      "100%|██████████| 2/2 [00:00<00:00, 41734.37it/s]\n",
      "100%|██████████| 2/2 [00:00<00:00, 38130.04it/s]\n",
      "100%|██████████| 2/2 [00:00<00:00, 36314.32it/s]\n",
      "100%|██████████| 2/2 [00:00<00:00, 53092.46it/s]\n",
      "100%|██████████| 2/2 [00:00<00:00, 35394.97it/s]\n",
      "100%|██████████| 2/2 [00:00<00:00, 39016.78it/s]\n",
      "100%|██████████| 2/2 [00:00<00:00, 43690.67it/s]\n",
      "100%|██████████| 2/2 [00:00<00:00, 40329.85it/s]\n",
      "100%|██████████| 2/2 [00:00<00:00, 38836.15it/s]\n",
      "100%|██████████| 2/2 [00:00<00:00, 45343.83it/s]\n",
      "100%|██████████| 2/2 [00:00<00:00, 31536.12it/s]\n",
      "100%|██████████| 2/2 [00:00<00:00, 38479.85it/s]\n",
      "100%|██████████| 2/2 [00:00<00:00, 48210.39it/s]\n",
      "100%|██████████| 2/2 [00:00<00:00, 34239.22it/s]\n",
      "100%|██████████| 2/2 [00:00<00:00, 38657.18it/s]\n",
      "100%|██████████| 2/2 [00:00<00:00, 47662.55it/s]\n",
      "100%|██████████| 2/2 [00:00<00:00, 36314.32it/s]\n",
      "100%|██████████| 2/2 [00:00<00:00, 39383.14it/s]\n",
      "100%|██████████| 2/2 [00:00<00:00, 50840.05it/s]\n",
      "100%|██████████| 2/2 [00:00<00:00, 36792.14it/s]\n",
      "100%|██████████| 2/2 [00:00<00:00, 39945.75it/s]\n",
      "100%|██████████| 2/2 [00:00<00:00, 52758.54it/s]\n",
      "100%|██████████| 2/2 [00:00<00:00, 41527.76it/s]\n",
      "100%|██████████| 2/2 [00:00<00:00, 38657.18it/s]\n",
      "100%|██████████| 2/2 [00:00<00:00, 42153.81it/s]\n",
      "100%|██████████| 2/2 [00:00<00:00, 37117.73it/s]\n",
      "100%|██████████| 2/2 [00:00<00:00, 37449.14it/s]\n",
      "100%|██████████| 2/2 [00:00<00:00, 48770.98it/s]\n",
      "100%|██████████| 2/2 [00:00<00:00, 36954.22it/s]\n",
      "100%|██████████| 2/2 [00:00<00:00, 37786.52it/s]\n",
      "100%|██████████| 2/2 [00:00<00:00, 51150.05it/s]\n",
      "100%|██████████| 2/2 [00:00<00:00, 36954.22it/s]\n",
      "100%|██████████| 2/2 [00:00<00:00, 38304.15it/s]\n",
      "100%|██████████| 2/2 [00:00<00:00, 46091.25it/s]\n",
      "100%|██████████| 2/2 [00:00<00:00, 37117.73it/s]\n",
      "100%|██████████| 2/2 [00:00<00:00, 35696.20it/s]\n",
      "100%|██████████| 2/2 [00:00<00:00, 47662.55it/s]\n",
      "100%|██████████| 2/2 [00:00<00:00, 37786.52it/s]\n",
      "100%|██████████| 2/2 [00:00<00:00, 39383.14it/s]\n",
      "100%|██████████| 2/2 [00:00<00:00, 49344.75it/s]\n",
      "100%|██████████| 2/2 [00:00<00:00, 36954.22it/s]\n",
      "100%|██████████| 2/2 [00:00<00:00, 37786.52it/s]\n",
      "100%|██████████| 2/2 [00:00<00:00, 44150.57it/s]\n",
      "100%|██████████| 2/2 [00:00<00:00, 36002.61it/s]\n",
      "100%|██████████| 2/2 [00:00<00:00, 39016.78it/s]\n",
      "100%|██████████| 2/2 [00:00<00:00, 49344.75it/s]\n",
      "100%|██████████| 2/2 [00:00<00:00, 40329.85it/s]\n",
      "100%|██████████| 2/2 [00:00<00:00, 38657.18it/s]\n",
      "100%|██████████| 2/2 [00:00<00:00, 51781.53it/s]\n",
      "100%|██████████| 2/2 [00:00<00:00, 40136.88it/s]\n",
      "100%|██████████| 2/2 [00:00<00:00, 39199.10it/s]\n",
      "100%|██████████| 2/2 [00:00<00:00, 10022.23it/s]\n",
      "100%|██████████| 2/2 [00:00<00:00, 22429.43it/s]\n",
      "100%|██████████| 2/2 [00:00<00:00, 36314.32it/s]\n",
      "100%|██████████| 2/2 [00:00<00:00, 42581.77it/s]\n",
      "100%|██████████| 2/2 [00:00<00:00, 36472.21it/s]\n",
      "100%|██████████| 2/2 [00:00<00:00, 34807.50it/s]\n",
      "100%|██████████| 2/2 [00:00<00:00, 50840.05it/s]\n",
      "100%|██████████| 224/224 [00:00<00:00, 5392.71it/s]\n",
      "100%|██████████| 235/235 [00:00<00:00, 5054.44it/s]\n"
     ]
    },
    {
     "name": "stdout",
     "output_type": "stream",
     "text": [
      "Removed 15 stereoisomers\n"
     ]
    },
    {
     "name": "stderr",
     "output_type": "stream",
     "text": [
      "100%|██████████| 220/220 [00:00<00:00, 5532.22it/s]\n",
      "100%|██████████| 220/220 [00:00<00:00, 5583.78it/s]\n",
      "100%|██████████| 220/220 [00:00<00:00, 9576.04it/s]\n",
      "100%|██████████| 2/2 [00:00<00:00, 35696.20it/s]\n",
      "100%|██████████| 2/2 [00:00<00:00, 38836.15it/s]\n",
      "100%|██████████| 2/2 [00:00<00:00, 50231.19it/s]\n",
      "100%|██████████| 2/2 [00:00<00:00, 37957.50it/s]\n",
      "100%|██████████| 2/2 [00:00<00:00, 35696.20it/s]\n",
      "100%|██████████| 2/2 [00:00<00:00, 47393.27it/s]\n",
      "100%|██████████| 2/2 [00:00<00:00, 35394.97it/s]\n",
      "100%|██████████| 2/2 [00:00<00:00, 39945.75it/s]\n",
      "100%|██████████| 2/2 [00:00<00:00, 47934.90it/s]\n",
      "100%|██████████| 2/2 [00:00<00:00, 37786.52it/s]\n",
      "100%|██████████| 2/2 [00:00<00:00, 39756.44it/s]\n",
      "100%|██████████| 2/2 [00:00<00:00, 51781.53it/s]\n",
      "100%|██████████| 2/2 [00:00<00:00, 38657.18it/s]\n",
      "100%|██████████| 2/2 [00:00<00:00, 39945.75it/s]\n",
      "100%|██████████| 2/2 [00:00<00:00, 49932.19it/s]\n",
      "100%|██████████| 2/2 [00:00<00:00, 39016.78it/s]\n",
      "100%|██████████| 2/2 [00:00<00:00, 38657.18it/s]\n",
      "100%|██████████| 2/2 [00:00<00:00, 42153.81it/s]\n",
      "100%|██████████| 2/2 [00:00<00:00, 36314.32it/s]\n",
      "100%|██████████| 2/2 [00:00<00:00, 25731.93it/s]\n",
      "100%|██████████| 2/2 [00:00<00:00, 44384.17it/s]\n",
      "100%|██████████| 2/2 [00:00<00:00, 39756.44it/s]\n",
      "100%|██████████| 2/2 [00:00<00:00, 39756.44it/s]\n",
      "100%|██████████| 2/2 [00:00<00:00, 32017.59it/s]\n",
      "100%|██████████| 2/2 [00:00<00:00, 37282.70it/s]\n",
      "100%|██████████| 2/2 [00:00<00:00, 40524.68it/s]\n",
      "100%|██████████| 2/2 [00:00<00:00, 42799.02it/s]\n",
      "100%|██████████| 2/2 [00:00<00:00, 35848.75it/s]\n",
      "100%|██████████| 2/2 [00:00<00:00, 37449.14it/s]\n",
      "100%|██████████| 2/2 [00:00<00:00, 42799.02it/s]\n",
      "100%|██████████| 2/2 [00:00<00:00, 39199.10it/s]\n",
      "100%|██████████| 2/2 [00:00<00:00, 39383.14it/s]\n",
      "100%|██████████| 2/2 [00:00<00:00, 53430.62it/s]\n",
      "100%|██████████| 2/2 [00:00<00:00, 40329.85it/s]\n",
      "100%|██████████| 2/2 [00:00<00:00, 40721.40it/s]\n",
      "100%|██████████| 2/2 [00:00<00:00, 51781.53it/s]\n",
      "100%|██████████| 2/2 [00:00<00:00, 36631.48it/s]\n",
      "100%|██████████| 2/2 [00:00<00:00, 36314.32it/s]\n",
      "100%|██████████| 2/2 [00:00<00:00, 47127.01it/s]\n",
      "100%|██████████| 2/2 [00:00<00:00, 37117.73it/s]\n",
      "100%|██████████| 2/2 [00:00<00:00, 35696.20it/s]\n",
      "100%|██████████| 2/2 [00:00<00:00, 51781.53it/s]\n",
      "100%|██████████| 2/2 [00:00<00:00, 36002.61it/s]\n",
      "100%|██████████| 2/2 [00:00<00:00, 39016.78it/s]\n",
      "100%|██████████| 2/2 [00:00<00:00, 32768.00it/s]\n",
      "100%|██████████| 2/2 [00:00<00:00, 38657.18it/s]\n",
      "100%|██████████| 2/2 [00:00<00:00, 39568.91it/s]\n",
      "100%|██████████| 2/2 [00:00<00:00, 49636.73it/s]\n",
      "100%|██████████| 2/2 [00:00<00:00, 39945.75it/s]\n",
      "100%|██████████| 2/2 [00:00<00:00, 40329.85it/s]\n",
      "100%|██████████| 2/2 [00:00<00:00, 48770.98it/s]\n",
      "100%|██████████| 2/2 [00:00<00:00, 38304.15it/s]\n",
      "100%|██████████| 2/2 [00:00<00:00, 36472.21it/s]\n",
      "100%|██████████| 2/2 [00:00<00:00, 48489.06it/s]\n",
      "100%|██████████| 2/2 [00:00<00:00, 38304.15it/s]\n",
      "100%|██████████| 2/2 [00:00<00:00, 36157.79it/s]\n",
      "100%|██████████| 2/2 [00:00<00:00, 45343.83it/s]\n",
      "100%|██████████| 2/2 [00:00<00:00, 36314.32it/s]\n",
      "100%|██████████| 2/2 [00:00<00:00, 36954.22it/s]\n",
      "100%|██████████| 2/2 [00:00<00:00, 43018.50it/s]\n",
      "100%|██████████| 220/220 [00:00<00:00, 5491.36it/s]\n"
     ]
    }
   ],
   "source": [
    "# df1 = pd.read_csv('data/ki.csv')\n",
    "# df_concat = pd.DataFrame()\n",
    "# for df in df1.groupby('Uniprot_ID'):\n",
    "#     df = process_df(df[1], 'ki', df[0])\n",
    "#     df_concat = pd.concat([df_concat, df], axis=0)\n",
    "# df_concat.to_csv('data/ki.csv', index=False)\n",
    "\n",
    "df2 = pd.read_csv('data/kd2_v3.csv')\n",
    "df_concat = pd.DataFrame()\n",
    "for df in df2.groupby('Uniprot_ID'):\n",
    "    df = process_df(df[1], 'kd', df[0])\n",
    "    df_concat = pd.concat([df_concat, df], axis=0)\n",
    "df_concat.to_csv('data/kd.csv', index=False)\n",
    "\n",
    "# df3 = pd.read_csv('data/ic50.csv')\n",
    "# df_concat = pd.DataFrame()\n",
    "# for df in df3.groupby('Uniprot_ID'):\n",
    "#     df = process_df(df[1], 'ic50', df[0])\n",
    "#     df_concat = pd.concat([df_concat, df], axis=0)\n",
    "# df_concat.to_csv('data/ic50.csv', index=False)\n",
    "\n",
    "# df4 = pd.read_csv('data/ec50.csv')\n",
    "# df_concat = pd.DataFrame()\n",
    "# for df in df4.groupby('Uniprot_ID'):\n",
    "#     df = process_df(df[1], 'ec50', df[0])\n",
    "#     df_concat = pd.concat([df_concat, df], axis=0)\n",
    "# df_concat.to_csv('data/ec50.csv', index=False)\n",
    "\n",
    "# df5 = pd.read_csv('data/potency.csv')\n",
    "# # df_concat = pd.DataFrame()\n",
    "# uni_list = list(df5['Uniprot_ID'].value_counts()[::-1].index)\n",
    "# exist = os.listdir('data/potency/')\n",
    "# for uni in uni_list:\n",
    "#     if uni+'.csv' in exist:\n",
    "#         print(f'{uni} already exists')\n",
    "#         continue\n",
    "#     df = df5[df5['Uniprot_ID'] == uni]\n",
    "#     df = process_df(df, 'potency', uni)\n",
    "    # df_concat = pd.concat([df_concat, df], axis=0)\n",
    "# df_concat.to_csv('data/potency.csv', index=False)"
   ]
  },
  {
   "cell_type": "code",
   "execution_count": 8,
   "metadata": {},
   "outputs": [
    {
     "name": "stdout",
     "output_type": "stream",
     "text": [
      "48714\n",
      "35633\n",
      "29\n"
     ]
    }
   ],
   "source": [
    "import pandas as pd\n",
    "df = pd.read_csv('../Activity-cliff-prediction/data_/MoleculeACE_CPI_Integrated.csv')\n",
    "print(len(df))\n",
    "print(len(df['smiles'].unique()))\n",
    "print(len(df['UniProt_id'].unique()))"
   ]
  },
  {
   "cell_type": "code",
   "execution_count": 8,
   "metadata": {},
   "outputs": [
    {
     "name": "stdout",
     "output_type": "stream",
     "text": [
      "Number of data: 751941\n",
      "Number of unique molecule: 419985\n",
      "Number of unique protein: 1115\n",
      "Average bioactivity: 6.153589903347023\n",
      "STD bioactivity: 1.4720838507759542\n",
      "Percentage of cliff: 0.3060160305130323\n"
     ]
    }
   ],
   "source": [
    "import os\n",
    "import pandas as pd\n",
    "df = pd.read_csv('../Activity-cliff-prediction/data/ic50.csv')\n",
    "\n",
    "def stat(df):\n",
    "    # number of data\n",
    "    print('Number of data:', len(df))\n",
    "    # number of unique molecule\n",
    "    print('Number of unique molecule:', len(df['smiles'].unique()))\n",
    "    # number of unique protein\n",
    "    print('Number of unique protein:', len(df['Uniprot_id'].unique()))\n",
    "    # average bioactivity\n",
    "    print('Average bioactivity:', df['y'].mean())\n",
    "    # std bioactivity\n",
    "    print('STD bioactivity:', df['y'].std())\n",
    "    # % cliff\n",
    "    print('Percentage of cliff:', df['cliff_mol'].sum()/len(df))\n",
    "\n",
    "stat(df) "
   ]
  },
  {
   "cell_type": "code",
   "execution_count": 14,
   "metadata": {},
   "outputs": [
    {
     "data": {
      "text/plain": [
       "Uniprot_id\n",
       "P42336    10991\n",
       "P24941     8829\n",
       "P00533     8185\n",
       "Q16539     8012\n",
       "P35968     7673\n",
       "          ...  \n",
       "Q92743       33\n",
       "Q07889       29\n",
       "Q99538       20\n",
       "P19438       20\n",
       "P08686       19\n",
       "Name: count, Length: 1115, dtype: int64"
      ]
     },
     "execution_count": 14,
     "metadata": {},
     "output_type": "execute_result"
    }
   ],
   "source": [
    "df['Uniprot_id'].value_counts()"
   ]
  },
  {
   "cell_type": "code",
   "execution_count": 13,
   "metadata": {},
   "outputs": [
    {
     "data": {
      "text/plain": [
       "0.3565704641276828"
      ]
     },
     "execution_count": 13,
     "metadata": {},
     "output_type": "execute_result"
    }
   ],
   "source": [
    "(df.groupby('Chembl_id')['cliff_mol'].sum() / df.groupby('Chembl_id')['cliff_mol'].count()).mean()"
   ]
  },
  {
   "cell_type": "code",
   "execution_count": null,
   "metadata": {},
   "outputs": [],
   "source": [
    "df = pd.read_csv('data_/MoleculeACE_CPI_Integrated.csv')\n",
    "chembl_uni = dict(zip(df['Chembl_id'], df['UniProt_id']))\n",
    "uni_dict = dict(zip(df['UniProt_id'], df['Sequence']))\n",
    "ki, ec50, all = [], [], []\n",
    "for file in os.listdir(path='data_/MoleculeACE/'):\n",
    "    if file.startswith('CHEMBL') and file.endswith('.csv') and 'Integrated' not in file:\n",
    "        if 'Ki' in file:\n",
    "            df = pd.read_csv('data_/MoleculeACE/'+file)\n",
    "            file_chembl = file.split('_')[0]\n",
    "            df['Chembl_id'] = file_chembl\n",
    "            df['Uniprot_id'] = chembl_uni[file_chembl]\n",
    "            df['Sequence'] = uni_dict[chembl_uni[file_chembl]]\n",
    "            ki.append(df)\n",
    "            all.append(df)\n",
    "        elif 'EC50' in file and 'Integrated' not in file:\n",
    "            df = pd.read_csv('data_/MoleculeACE/'+file)\n",
    "            file_chembl = file.split('_')[0]\n",
    "            df['Chembl_id'] = file_chembl\n",
    "            df['Uniprot_id'] = chembl_uni[file_chembl]\n",
    "            df['Sequence'] = uni_dict[chembl_uni[file_chembl]]\n",
    "            ec50.append(df)\n",
    "            all.append(df)\n",
    "uni_adjust = {'A1A4V5': 'P35462', 'E5RHC9': 'P41145', 'B0FXJ1': 'P35372', \n",
    "              'Q4QRI7': 'Q9Y5N1', 'B2R7F7': 'P00734', 'B5B0B8': 'P41143', \n",
    "              'A8K3G6': 'P37231', 'B0M0J7': 'P21917', 'B0G0X3': 'Q07869', \n",
    "              'D3DRM7': 'Q99720', 'A8K6J6': 'Q03181', 'A2RUN4': 'Q01959', \n",
    "              'B2R9T4': 'P21554', 'O14636': 'O60674', 'A8K047': 'P35367', \n",
    "              'D3DN89': 'P49841', 'A3KFJ3': 'P00519', 'A0ZXF9': 'P04150', \n",
    "              'Q14D12': 'Q92847', 'A0A0B4J1T2': 'P10275', 'A1L4K5': 'Q96RI1'}\n",
    "ki = pd.concat(ki)\n",
    "ec50 = pd.concat(ec50)\n",
    "all = pd.concat(all)\n",
    "ki['Uniprot_id'] = ki['Uniprot_id'].apply(lambda x: uni_adjust[x] if x in uni_adjust.keys() else x)\n",
    "ec50['Uniprot_id'] = ec50['Uniprot_id'].apply(lambda x: uni_adjust[x] if x in uni_adjust.keys() else x)\n",
    "all['Uniprot_id'] = all['Uniprot_id'].apply(lambda x: uni_adjust[x] if x in uni_adjust.keys() else x)\n",
    "ki['y'] = ki['y'].apply(lambda x: x + 9)\n",
    "ki = ki.reset_index(drop=True)\n",
    "ec50['y'] = ec50['y'].apply(lambda x: x + 9)\n",
    "ec50 = ec50.reset_index(drop=True)\n",
    "ki.to_csv('data/MolACE_CPI_ki.csv', index=False)\n",
    "ec50.to_csv('data/MolACE_CPI_ec50.csv', index=False)"
   ]
  },
  {
   "cell_type": "code",
   "execution_count": 142,
   "metadata": {},
   "outputs": [],
   "source": [
    "# map current target id to Uniprot ID, HGNC ID, and protein sequence\n",
    "target_uniprot = dict(zip(protein_data['target_id'], protein_data['UniProtID']))\n",
    "target_hgnc = dict(zip(protein_data['target_id'], protein_data['HGNC_symbol']))\n",
    "target_seq = dict(zip(protein_data['target_id'], protein_data['Sequence']))\n",
    "dataset_curated['UniProt_ID'] = dataset['target_id'].map(target_uniprot)\n",
    "dataset_curated['HGNC_ID'] = dataset['target_id'].map(target_hgnc)\n",
    "dataset_curated['Sequence'] = dataset['target_id'].map(target_seq)"
   ]
  },
  {
   "cell_type": "code",
   "execution_count": 143,
   "metadata": {},
   "outputs": [],
   "source": [
    "# exract organism information from Uniprot ID\n",
    "dataset_curated['Organism'] = dataset_curated['UniProt_ID'].apply(lambda x: x.split('_')[1])\n",
    "dataset_curated['UniProt_ID'] = dataset_curated['UniProt_ID'].apply(lambda x: x.split('_')[0])"
   ]
  },
  {
   "cell_type": "code",
   "execution_count": 154,
   "metadata": {},
   "outputs": [],
   "source": [
    "dataset_curated['UniProt_ID'] = dataset_curated['target_id'].map(lambda x: x.split('_')[0])\n",
    "dataset_curated['Activity_Type'] = dataset_curated['Activity_Type'].map(lambda x: 'pKd' if x == 'pKD' else x)\n",
    "dataset_curated[['Activity_ID', 'source', 'Activity_Type', 'Activity_Value',\n",
    "                'SMILES', 'CID', 'target_id', 'UniProt_ID', 'HGNC_ID',\n",
    "                'Sequence', 'Organism']].to_csv('Integrated_dataset/papyrus.csv', index=False)"
   ]
  },
  {
   "cell_type": "code",
   "execution_count": null,
   "metadata": {},
   "outputs": [],
   "source": []
  },
  {
   "cell_type": "markdown",
   "metadata": {},
   "source": [
    "# Integration of datasets"
   ]
  },
  {
   "cell_type": "code",
   "execution_count": 3,
   "metadata": {},
   "outputs": [],
   "source": [
    "data_curated = pd.read_csv('Integrated_dataset/equiVS.csv')\n",
    "dataset_curated = pd.read_csv('Integrated_dataset/papyrus.csv')"
   ]
  },
  {
   "cell_type": "code",
   "execution_count": 12,
   "metadata": {},
   "outputs": [
    {
     "name": "stdout",
     "output_type": "stream",
     "text": [
      "EquiVS: 1312515\n",
      "Papyrus: 1114167\n"
     ]
    }
   ],
   "source": [
    "print(f'EquiVS: {len(data_curated)}')\n",
    "print(f'Papyrus: {len(dataset_curated)}')"
   ]
  },
  {
   "cell_type": "code",
   "execution_count": 4,
   "metadata": {},
   "outputs": [],
   "source": [
    "equivs = data_curated['UniProt_ID'].unique()\n",
    "papyrus = dataset_curated['UniProt_ID'].unique()"
   ]
  },
  {
   "cell_type": "code",
   "execution_count": 5,
   "metadata": {},
   "outputs": [],
   "source": [
    "import molvs\n",
    "from rdkit import Chem"
   ]
  },
  {
   "cell_type": "code",
   "execution_count": 7,
   "metadata": {},
   "outputs": [
    {
     "name": "stderr",
     "output_type": "stream",
     "text": [
      "[22:52:51] Can't kekulize mol.  Unkekulized atoms: 3 10\n",
      "[23:01:48] Unusual charge on atom 4 number of radical electrons set to zero\n",
      "[23:01:48] Unusual charge on atom 0 number of radical electrons set to zero\n",
      "[23:01:48] Unusual charge on atom 16 number of radical electrons set to zero\n",
      "[23:01:48] Unusual charge on atom 16 number of radical electrons set to zero\n"
     ]
    },
    {
     "name": "stdout",
     "output_type": "stream",
     "text": [
      "934863\n",
      "934863\n"
     ]
    }
   ],
   "source": [
    "# standardize SMILES using MolVS\n",
    "def molecule_standardizer(smiles):\n",
    "    if Chem.MolFromSmiles(smiles) is None:\n",
    "        return None\n",
    "    return molvs.standardize_smiles(smiles)\n",
    "\n",
    "smiles_list = pd.DataFrame(list(set(data_curated['SMILES'].unique()) \n",
    "                                | set(dataset_curated['SMILES'].unique())), columns=['Pre'])\n",
    "smiles_list['After'] = smiles_list['Pre'].map(molecule_standardizer)\n",
    "print(len(smiles_list))\n",
    "smiles_list = smiles_list[smiles_list['After'].notnull()]\n",
    "print(len(smiles_list))"
   ]
  },
  {
   "cell_type": "code",
   "execution_count": 8,
   "metadata": {},
   "outputs": [],
   "source": [
    "smiles_dict = dict(zip(smiles_list['Pre'], smiles_list['After']))\n",
    "data_curated['SMILES'] = data_curated['SMILES'].map(smiles_dict)\n",
    "dataset_curated['SMILES'] = dataset_curated['SMILES'].map(smiles_dict)"
   ]
  },
  {
   "cell_type": "code",
   "execution_count": 159,
   "metadata": {},
   "outputs": [
    {
     "data": {
      "text/plain": [
       "<Axes: ylabel='Frequency'>"
      ]
     },
     "execution_count": 159,
     "metadata": {},
     "output_type": "execute_result"
    },
    {
     "data": {
      "image/png": "[encoded data removed]",
      "text/plain": [
       "<Figure size 640x480 with 1 Axes>"
      ]
     },
     "metadata": {},
     "output_type": "display_data"
    }
   ],
   "source": [
    "# simple visualization\n",
    "data_curated[data_curated['Activity_Type']=='pKi']['Activity_Value'].plot.hist(bins=100)\n",
    "dataset_curated[dataset_curated['Activity_Type']=='pKi']['Activity_Value'].plot.hist(bins=100)"
   ]
  },
  {
   "cell_type": "code",
   "execution_count": 161,
   "metadata": {},
   "outputs": [
    {
     "data": {
      "text/plain": [
       "<Axes: ylabel='Frequency'>"
      ]
     },
     "execution_count": 161,
     "metadata": {},
     "output_type": "execute_result"
    },
    {
     "data": {
      "image/png": "[encoded data removed]",
      "text/plain": [
       "<Figure size 640x480 with 1 Axes>"
      ]
     },
     "metadata": {},
     "output_type": "display_data"
    }
   ],
   "source": [
    "data_curated[data_curated['Activity_Type']=='pKd']['Activity_Value'].plot.hist(bins=100)\n",
    "dataset_curated[dataset_curated['Activity_Type']=='pKd']['Activity_Value'].plot.hist(bins=100)"
   ]
  },
  {
   "cell_type": "code",
   "execution_count": 162,
   "metadata": {},
   "outputs": [
    {
     "data": {
      "text/plain": [
       "<Axes: ylabel='Frequency'>"
      ]
     },
     "execution_count": 162,
     "metadata": {},
     "output_type": "execute_result"
    },
    {
     "data": {
      "image/png": "[encoded data removed]",
      "text/plain": [
       "<Figure size 640x480 with 1 Axes>"
      ]
     },
     "metadata": {},
     "output_type": "display_data"
    }
   ],
   "source": [
    "data_curated[data_curated['Activity_Type']=='pIC50']['Activity_Value'].plot.hist(bins=100)\n",
    "dataset_curated[dataset_curated['Activity_Type']=='pIC50']['Activity_Value'].plot.hist(bins=100)"
   ]
  },
  {
   "cell_type": "code",
   "execution_count": 163,
   "metadata": {},
   "outputs": [
    {
     "data": {
      "text/plain": [
       "<Axes: ylabel='Frequency'>"
      ]
     },
     "execution_count": 163,
     "metadata": {},
     "output_type": "execute_result"
    },
    {
     "data": {
      "image/png": "[encoded data removed]",
      "text/plain": [
       "<Figure size 640x480 with 1 Axes>"
      ]
     },
     "metadata": {},
     "output_type": "display_data"
    }
   ],
   "source": [
    "data_curated[data_curated['Activity_Type']=='pEC50']['Activity_Value'].plot.hist(bins=100)\n",
    "dataset_curated[dataset_curated['Activity_Type']=='pEC50']['Activity_Value'].plot.hist(bins=100)"
   ]
  },
  {
   "cell_type": "code",
   "execution_count": 9,
   "metadata": {},
   "outputs": [],
   "source": [
    "# integrate data\n",
    "data_curated['Source_2'] = 'EquiVS'\n",
    "dataset_curated['Source_2'] = 'Papyrus'\n",
    "\n",
    "integrated_data = pd.concat([data_curated, dataset_curated], axis=0)\n",
    "integrated_data.to_csv('Integrated_dataset/integrated_data.csv', index=False)"
   ]
  },
  {
   "cell_type": "code",
   "execution_count": 10,
   "metadata": {},
   "outputs": [],
   "source": [
    "# save smiles dictionary\n",
    "import pickle\n",
    "\n",
    "def save_dict(obj, name):\n",
    "    with open(name + '.pkl', 'wb') as f:\n",
    "        pickle.dump(obj, f, pickle.HIGHEST_PROTOCOL)\n",
    "\n",
    "save_dict(dict(zip(smiles_list['After'], smiles_list.index)), 'Integrated_dataset/smiles_dict')"
   ]
  },
  {
   "cell_type": "code",
   "execution_count": 14,
   "metadata": {},
   "outputs": [
    {
     "data": {
      "text/plain": [
       "SMILES\n",
       "CN1C(=O)C(N2CCc3cn(CC4CCS(=O)(=O)CC4)nc3C2=O)COc2ccccc21                          319\n",
       "CN1C(=O)C(N2CCc3c(nn(Cc4ccccc4)c3Br)C2=O)COc2ccccc21                              276\n",
       "CN1C(=O)C(N2CCc3cn(Cc4ccccc4)nc3C2=O)COc2ccccc21                                  276\n",
       "CN[C@@H]1C[C@H]2O[C@@](C)([C@@H]1OC)n1c3ccccc3c3c4c(c5c6ccccc6n2c5c31)C(=O)NC4    257\n",
       "O=c1c(O)c(-c2ccc(O)c(O)c2)oc2cc(O)cc(O)c12                                        216\n",
       "                                                                                 ... \n",
       "Cc1ccc2[se]n(CCCCn3[se]c4ccc(C)cc4c3=O)c(=O)c2c1                                    1\n",
       "CC(C)(Oc1ccc(-n2cccn2)cn1)C(=O)N[C@H]1C2CC3CC1C[C@](C(N)=O)(C3)C2                   1\n",
       "CC(C)(Oc1ccc(Cl)cc1)C(=O)N[C@H]1C2CC3CC1C[C@](CC(=O)O)(C3)C2                        1\n",
       "CC(C)(Oc1ccc(Cl)cc1)C(=O)N[C@H]1C2CC3CC1C[C@](CCC(=O)O)(C3)C2                       1\n",
       "COc1ccc(C(=O)c2c(C)n(CCN3CCOCC3)c3cc(C)ccc23)cc1                                    1\n",
       "Name: count, Length: 676824, dtype: int64"
      ]
     },
     "execution_count": 14,
     "metadata": {},
     "output_type": "execute_result"
    }
   ],
   "source": [
    "integrated_data[integrated_data['Activity_Type'] == 'pIC50']['SMILES'].value_counts()"
   ]
  },
  {
   "cell_type": "code",
   "execution_count": 3,
   "metadata": {},
   "outputs": [],
   "source": [
    "os.chdir('../Activity-cliff-prediction/')"
   ]
  },
  {
   "cell_type": "code",
   "execution_count": 8,
   "metadata": {},
   "outputs": [],
   "source": [
    "kd = pd.read_csv('data/kd.csv')\n",
    "kd['type'] = 'kd'\n",
    "ki = pd.read_csv('data/ki.csv')\n",
    "ki['type'] = 'ki'\n",
    "ic50 = pd.read_csv('data/ic50.csv')\n",
    "ic50['type'] = 'ic50'\n",
    "ec50 = pd.read_csv('data/ec50.csv')\n",
    "ec50['type'] = 'ec50'"
   ]
  },
  {
   "cell_type": "code",
   "execution_count": 9,
   "metadata": {},
   "outputs": [],
   "source": [
    "df = pd.concat([kd, ki, ic50, ec50], axis=0)\n",
    "df.to_csv('data/integrated.csv', index=False)"
   ]
  },
  {
   "cell_type": "code",
   "execution_count": 4,
   "metadata": {},
   "outputs": [
    {
     "ename": "FileNotFoundError",
     "evalue": "[Errno 2] No such file or directory: 'MolACE_CPI_ki.csv'",
     "output_type": "error",
     "traceback": [
      "\u001b[0;31m---------------------------------------------------------------------------\u001b[0m",
      "\u001b[0;31mFileNotFoundError\u001b[0m                         Traceback (most recent call last)",
      "Cell \u001b[0;32mIn[4], line 2\u001b[0m\n\u001b[1;32m      1\u001b[0m ep \u001b[38;5;241m=\u001b[39m \u001b[38;5;124m'\u001b[39m\u001b[38;5;124mki\u001b[39m\u001b[38;5;124m'\u001b[39m\n\u001b[0;32m----> 2\u001b[0m df \u001b[38;5;241m=\u001b[39m \u001b[43mpd\u001b[49m\u001b[38;5;241;43m.\u001b[39;49m\u001b[43mread_csv\u001b[49m\u001b[43m(\u001b[49m\u001b[38;5;124;43mf\u001b[39;49m\u001b[38;5;124;43m'\u001b[39;49m\u001b[38;5;124;43mMolACE_CPI_\u001b[39;49m\u001b[38;5;132;43;01m{\u001b[39;49;00m\u001b[43mep\u001b[49m\u001b[38;5;132;43;01m}\u001b[39;49;00m\u001b[38;5;124;43m.csv\u001b[39;49m\u001b[38;5;124;43m'\u001b[39;49m\u001b[43m)\u001b[49m\n\u001b[1;32m      3\u001b[0m df[\u001b[38;5;124m'\u001b[39m\u001b[38;5;124msplit\u001b[39m\u001b[38;5;124m'\u001b[39m] \u001b[38;5;241m=\u001b[39m \u001b[38;5;124m'\u001b[39m\u001b[38;5;124mtest\u001b[39m\u001b[38;5;124m'\u001b[39m\n\u001b[1;32m      4\u001b[0m df\u001b[38;5;241m.\u001b[39mto_csv(\u001b[38;5;124mf\u001b[39m\u001b[38;5;124m'\u001b[39m\u001b[38;5;124mMolACE_CPI_\u001b[39m\u001b[38;5;132;01m{\u001b[39;00mep\u001b[38;5;132;01m}\u001b[39;00m\u001b[38;5;124m_alltest.csv\u001b[39m\u001b[38;5;124m'\u001b[39m, index\u001b[38;5;241m=\u001b[39m\u001b[38;5;28;01mFalse\u001b[39;00m)\n",
      "File \u001b[0;32m~/.local/lib/python3.8/site-packages/pandas/io/parsers/readers.py:912\u001b[0m, in \u001b[0;36mread_csv\u001b[0;34m(filepath_or_buffer, sep, delimiter, header, names, index_col, usecols, dtype, engine, converters, true_values, false_values, skipinitialspace, skiprows, skipfooter, nrows, na_values, keep_default_na, na_filter, verbose, skip_blank_lines, parse_dates, infer_datetime_format, keep_date_col, date_parser, date_format, dayfirst, cache_dates, iterator, chunksize, compression, thousands, decimal, lineterminator, quotechar, quoting, doublequote, escapechar, comment, encoding, encoding_errors, dialect, on_bad_lines, delim_whitespace, low_memory, memory_map, float_precision, storage_options, dtype_backend)\u001b[0m\n\u001b[1;32m    899\u001b[0m kwds_defaults \u001b[38;5;241m=\u001b[39m _refine_defaults_read(\n\u001b[1;32m    900\u001b[0m     dialect,\n\u001b[1;32m    901\u001b[0m     delimiter,\n\u001b[0;32m   (...)\u001b[0m\n\u001b[1;32m    908\u001b[0m     dtype_backend\u001b[38;5;241m=\u001b[39mdtype_backend,\n\u001b[1;32m    909\u001b[0m )\n\u001b[1;32m    910\u001b[0m kwds\u001b[38;5;241m.\u001b[39mupdate(kwds_defaults)\n\u001b[0;32m--> 912\u001b[0m \u001b[38;5;28;01mreturn\u001b[39;00m \u001b[43m_read\u001b[49m\u001b[43m(\u001b[49m\u001b[43mfilepath_or_buffer\u001b[49m\u001b[43m,\u001b[49m\u001b[43m \u001b[49m\u001b[43mkwds\u001b[49m\u001b[43m)\u001b[49m\n",
      "File \u001b[0;32m~/.local/lib/python3.8/site-packages/pandas/io/parsers/readers.py:577\u001b[0m, in \u001b[0;36m_read\u001b[0;34m(filepath_or_buffer, kwds)\u001b[0m\n\u001b[1;32m    574\u001b[0m _validate_names(kwds\u001b[38;5;241m.\u001b[39mget(\u001b[38;5;124m\"\u001b[39m\u001b[38;5;124mnames\u001b[39m\u001b[38;5;124m\"\u001b[39m, \u001b[38;5;28;01mNone\u001b[39;00m))\n\u001b[1;32m    576\u001b[0m \u001b[38;5;66;03m# Create the parser.\u001b[39;00m\n\u001b[0;32m--> 577\u001b[0m parser \u001b[38;5;241m=\u001b[39m \u001b[43mTextFileReader\u001b[49m\u001b[43m(\u001b[49m\u001b[43mfilepath_or_buffer\u001b[49m\u001b[43m,\u001b[49m\u001b[43m \u001b[49m\u001b[38;5;241;43m*\u001b[39;49m\u001b[38;5;241;43m*\u001b[39;49m\u001b[43mkwds\u001b[49m\u001b[43m)\u001b[49m\n\u001b[1;32m    579\u001b[0m \u001b[38;5;28;01mif\u001b[39;00m chunksize \u001b[38;5;129;01mor\u001b[39;00m iterator:\n\u001b[1;32m    580\u001b[0m     \u001b[38;5;28;01mreturn\u001b[39;00m parser\n",
      "File \u001b[0;32m~/.local/lib/python3.8/site-packages/pandas/io/parsers/readers.py:1407\u001b[0m, in \u001b[0;36mTextFileReader.__init__\u001b[0;34m(self, f, engine, **kwds)\u001b[0m\n\u001b[1;32m   1404\u001b[0m     \u001b[38;5;28mself\u001b[39m\u001b[38;5;241m.\u001b[39moptions[\u001b[38;5;124m\"\u001b[39m\u001b[38;5;124mhas_index_names\u001b[39m\u001b[38;5;124m\"\u001b[39m] \u001b[38;5;241m=\u001b[39m kwds[\u001b[38;5;124m\"\u001b[39m\u001b[38;5;124mhas_index_names\u001b[39m\u001b[38;5;124m\"\u001b[39m]\n\u001b[1;32m   1406\u001b[0m \u001b[38;5;28mself\u001b[39m\u001b[38;5;241m.\u001b[39mhandles: IOHandles \u001b[38;5;241m|\u001b[39m \u001b[38;5;28;01mNone\u001b[39;00m \u001b[38;5;241m=\u001b[39m \u001b[38;5;28;01mNone\u001b[39;00m\n\u001b[0;32m-> 1407\u001b[0m \u001b[38;5;28mself\u001b[39m\u001b[38;5;241m.\u001b[39m_engine \u001b[38;5;241m=\u001b[39m \u001b[38;5;28;43mself\u001b[39;49m\u001b[38;5;241;43m.\u001b[39;49m\u001b[43m_make_engine\u001b[49m\u001b[43m(\u001b[49m\u001b[43mf\u001b[49m\u001b[43m,\u001b[49m\u001b[43m \u001b[49m\u001b[38;5;28;43mself\u001b[39;49m\u001b[38;5;241;43m.\u001b[39;49m\u001b[43mengine\u001b[49m\u001b[43m)\u001b[49m\n",
      "File \u001b[0;32m~/.local/lib/python3.8/site-packages/pandas/io/parsers/readers.py:1661\u001b[0m, in \u001b[0;36mTextFileReader._make_engine\u001b[0;34m(self, f, engine)\u001b[0m\n\u001b[1;32m   1659\u001b[0m     \u001b[38;5;28;01mif\u001b[39;00m \u001b[38;5;124m\"\u001b[39m\u001b[38;5;124mb\u001b[39m\u001b[38;5;124m\"\u001b[39m \u001b[38;5;129;01mnot\u001b[39;00m \u001b[38;5;129;01min\u001b[39;00m mode:\n\u001b[1;32m   1660\u001b[0m         mode \u001b[38;5;241m+\u001b[39m\u001b[38;5;241m=\u001b[39m \u001b[38;5;124m\"\u001b[39m\u001b[38;5;124mb\u001b[39m\u001b[38;5;124m\"\u001b[39m\n\u001b[0;32m-> 1661\u001b[0m \u001b[38;5;28mself\u001b[39m\u001b[38;5;241m.\u001b[39mhandles \u001b[38;5;241m=\u001b[39m \u001b[43mget_handle\u001b[49m\u001b[43m(\u001b[49m\n\u001b[1;32m   1662\u001b[0m \u001b[43m    \u001b[49m\u001b[43mf\u001b[49m\u001b[43m,\u001b[49m\n\u001b[1;32m   1663\u001b[0m \u001b[43m    \u001b[49m\u001b[43mmode\u001b[49m\u001b[43m,\u001b[49m\n\u001b[1;32m   1664\u001b[0m \u001b[43m    \u001b[49m\u001b[43mencoding\u001b[49m\u001b[38;5;241;43m=\u001b[39;49m\u001b[38;5;28;43mself\u001b[39;49m\u001b[38;5;241;43m.\u001b[39;49m\u001b[43moptions\u001b[49m\u001b[38;5;241;43m.\u001b[39;49m\u001b[43mget\u001b[49m\u001b[43m(\u001b[49m\u001b[38;5;124;43m\"\u001b[39;49m\u001b[38;5;124;43mencoding\u001b[39;49m\u001b[38;5;124;43m\"\u001b[39;49m\u001b[43m,\u001b[49m\u001b[43m \u001b[49m\u001b[38;5;28;43;01mNone\u001b[39;49;00m\u001b[43m)\u001b[49m\u001b[43m,\u001b[49m\n\u001b[1;32m   1665\u001b[0m \u001b[43m    \u001b[49m\u001b[43mcompression\u001b[49m\u001b[38;5;241;43m=\u001b[39;49m\u001b[38;5;28;43mself\u001b[39;49m\u001b[38;5;241;43m.\u001b[39;49m\u001b[43moptions\u001b[49m\u001b[38;5;241;43m.\u001b[39;49m\u001b[43mget\u001b[49m\u001b[43m(\u001b[49m\u001b[38;5;124;43m\"\u001b[39;49m\u001b[38;5;124;43mcompression\u001b[39;49m\u001b[38;5;124;43m\"\u001b[39;49m\u001b[43m,\u001b[49m\u001b[43m \u001b[49m\u001b[38;5;28;43;01mNone\u001b[39;49;00m\u001b[43m)\u001b[49m\u001b[43m,\u001b[49m\n\u001b[1;32m   1666\u001b[0m \u001b[43m    \u001b[49m\u001b[43mmemory_map\u001b[49m\u001b[38;5;241;43m=\u001b[39;49m\u001b[38;5;28;43mself\u001b[39;49m\u001b[38;5;241;43m.\u001b[39;49m\u001b[43moptions\u001b[49m\u001b[38;5;241;43m.\u001b[39;49m\u001b[43mget\u001b[49m\u001b[43m(\u001b[49m\u001b[38;5;124;43m\"\u001b[39;49m\u001b[38;5;124;43mmemory_map\u001b[39;49m\u001b[38;5;124;43m\"\u001b[39;49m\u001b[43m,\u001b[49m\u001b[43m \u001b[49m\u001b[38;5;28;43;01mFalse\u001b[39;49;00m\u001b[43m)\u001b[49m\u001b[43m,\u001b[49m\n\u001b[1;32m   1667\u001b[0m \u001b[43m    \u001b[49m\u001b[43mis_text\u001b[49m\u001b[38;5;241;43m=\u001b[39;49m\u001b[43mis_text\u001b[49m\u001b[43m,\u001b[49m\n\u001b[1;32m   1668\u001b[0m \u001b[43m    \u001b[49m\u001b[43merrors\u001b[49m\u001b[38;5;241;43m=\u001b[39;49m\u001b[38;5;28;43mself\u001b[39;49m\u001b[38;5;241;43m.\u001b[39;49m\u001b[43moptions\u001b[49m\u001b[38;5;241;43m.\u001b[39;49m\u001b[43mget\u001b[49m\u001b[43m(\u001b[49m\u001b[38;5;124;43m\"\u001b[39;49m\u001b[38;5;124;43mencoding_errors\u001b[39;49m\u001b[38;5;124;43m\"\u001b[39;49m\u001b[43m,\u001b[49m\u001b[43m \u001b[49m\u001b[38;5;124;43m\"\u001b[39;49m\u001b[38;5;124;43mstrict\u001b[39;49m\u001b[38;5;124;43m\"\u001b[39;49m\u001b[43m)\u001b[49m\u001b[43m,\u001b[49m\n\u001b[1;32m   1669\u001b[0m \u001b[43m    \u001b[49m\u001b[43mstorage_options\u001b[49m\u001b[38;5;241;43m=\u001b[39;49m\u001b[38;5;28;43mself\u001b[39;49m\u001b[38;5;241;43m.\u001b[39;49m\u001b[43moptions\u001b[49m\u001b[38;5;241;43m.\u001b[39;49m\u001b[43mget\u001b[49m\u001b[43m(\u001b[49m\u001b[38;5;124;43m\"\u001b[39;49m\u001b[38;5;124;43mstorage_options\u001b[39;49m\u001b[38;5;124;43m\"\u001b[39;49m\u001b[43m,\u001b[49m\u001b[43m \u001b[49m\u001b[38;5;28;43;01mNone\u001b[39;49;00m\u001b[43m)\u001b[49m\u001b[43m,\u001b[49m\n\u001b[1;32m   1670\u001b[0m \u001b[43m\u001b[49m\u001b[43m)\u001b[49m\n\u001b[1;32m   1671\u001b[0m \u001b[38;5;28;01massert\u001b[39;00m \u001b[38;5;28mself\u001b[39m\u001b[38;5;241m.\u001b[39mhandles \u001b[38;5;129;01mis\u001b[39;00m \u001b[38;5;129;01mnot\u001b[39;00m \u001b[38;5;28;01mNone\u001b[39;00m\n\u001b[1;32m   1672\u001b[0m f \u001b[38;5;241m=\u001b[39m \u001b[38;5;28mself\u001b[39m\u001b[38;5;241m.\u001b[39mhandles\u001b[38;5;241m.\u001b[39mhandle\n",
      "File \u001b[0;32m~/.local/lib/python3.8/site-packages/pandas/io/common.py:859\u001b[0m, in \u001b[0;36mget_handle\u001b[0;34m(path_or_buf, mode, encoding, compression, memory_map, is_text, errors, storage_options)\u001b[0m\n\u001b[1;32m    854\u001b[0m \u001b[38;5;28;01melif\u001b[39;00m \u001b[38;5;28misinstance\u001b[39m(handle, \u001b[38;5;28mstr\u001b[39m):\n\u001b[1;32m    855\u001b[0m     \u001b[38;5;66;03m# Check whether the filename is to be opened in binary mode.\u001b[39;00m\n\u001b[1;32m    856\u001b[0m     \u001b[38;5;66;03m# Binary mode does not support 'encoding' and 'newline'.\u001b[39;00m\n\u001b[1;32m    857\u001b[0m     \u001b[38;5;28;01mif\u001b[39;00m ioargs\u001b[38;5;241m.\u001b[39mencoding \u001b[38;5;129;01mand\u001b[39;00m \u001b[38;5;124m\"\u001b[39m\u001b[38;5;124mb\u001b[39m\u001b[38;5;124m\"\u001b[39m \u001b[38;5;129;01mnot\u001b[39;00m \u001b[38;5;129;01min\u001b[39;00m ioargs\u001b[38;5;241m.\u001b[39mmode:\n\u001b[1;32m    858\u001b[0m         \u001b[38;5;66;03m# Encoding\u001b[39;00m\n\u001b[0;32m--> 859\u001b[0m         handle \u001b[38;5;241m=\u001b[39m \u001b[38;5;28;43mopen\u001b[39;49m\u001b[43m(\u001b[49m\n\u001b[1;32m    860\u001b[0m \u001b[43m            \u001b[49m\u001b[43mhandle\u001b[49m\u001b[43m,\u001b[49m\n\u001b[1;32m    861\u001b[0m \u001b[43m            \u001b[49m\u001b[43mioargs\u001b[49m\u001b[38;5;241;43m.\u001b[39;49m\u001b[43mmode\u001b[49m\u001b[43m,\u001b[49m\n\u001b[1;32m    862\u001b[0m \u001b[43m            \u001b[49m\u001b[43mencoding\u001b[49m\u001b[38;5;241;43m=\u001b[39;49m\u001b[43mioargs\u001b[49m\u001b[38;5;241;43m.\u001b[39;49m\u001b[43mencoding\u001b[49m\u001b[43m,\u001b[49m\n\u001b[1;32m    863\u001b[0m \u001b[43m            \u001b[49m\u001b[43merrors\u001b[49m\u001b[38;5;241;43m=\u001b[39;49m\u001b[43merrors\u001b[49m\u001b[43m,\u001b[49m\n\u001b[1;32m    864\u001b[0m \u001b[43m            \u001b[49m\u001b[43mnewline\u001b[49m\u001b[38;5;241;43m=\u001b[39;49m\u001b[38;5;124;43m\"\u001b[39;49m\u001b[38;5;124;43m\"\u001b[39;49m\u001b[43m,\u001b[49m\n\u001b[1;32m    865\u001b[0m \u001b[43m        \u001b[49m\u001b[43m)\u001b[49m\n\u001b[1;32m    866\u001b[0m     \u001b[38;5;28;01melse\u001b[39;00m:\n\u001b[1;32m    867\u001b[0m         \u001b[38;5;66;03m# Binary mode\u001b[39;00m\n\u001b[1;32m    868\u001b[0m         handle \u001b[38;5;241m=\u001b[39m \u001b[38;5;28mopen\u001b[39m(handle, ioargs\u001b[38;5;241m.\u001b[39mmode)\n",
      "\u001b[0;31mFileNotFoundError\u001b[0m: [Errno 2] No such file or directory: 'MolACE_CPI_ki.csv'"
     ]
    }
   ],
   "source": [
    "ep = 'ki'\n",
    "df = pd.read_csv(f'data/MolACE_CPI_{ep}.csv')\n",
    "df['split'] = 'test'\n",
    "df.to_csv(f'data/MolACE_CPI_{ep}_alltest.csv', index=False)"
   ]
  },
  {
   "cell_type": "code",
   "execution_count": 5,
   "metadata": {},
   "outputs": [],
   "source": [
    "os.chdir('/scratch/yg3191/Activity-cliff-prediction/data')\n",
    "ki = pd.read_csv('ki.csv')\n",
    "ki['type'] = 'ki'\n",
    "ic50 = pd.read_csv('ic50.csv')\n",
    "ic50['type'] = 'ic50'\n",
    "ec50 = pd.read_csv('ec50.csv')\n",
    "ec50['type'] = 'ec50'\n",
    "kd = pd.read_csv('kd.csv')\n",
    "kd['type'] = 'kd'\n",
    "\n",
    "combine = pd.concat([ki, ic50, ec50, kd], axis=0)\n",
    "combine_train = combine[combine['split'] == 'train']\n",
    "combine_test = combine[combine['split'] == 'test']\n",
    "duplicate = combine_train[combine_train.duplicated(subset=['smiles', 'Uniprot_id'], keep=False)]\n",
    "non_duplicate = combine_train[~combine_train.duplicated(subset=['smiles', 'Uniprot_id'], keep=False)]"
   ]
  },
  {
   "cell_type": "code",
   "execution_count": 7,
   "metadata": {},
   "outputs": [
    {
     "name": "stdout",
     "output_type": "stream",
     "text": [
      "Number of duplicate data: 44109\n"
     ]
    },
    {
     "name": "stderr",
     "output_type": "stream",
     "text": [
      "100%|██████████| 21827/21827 [00:17<00:00, 1282.70it/s]\n"
     ]
    },
    {
     "name": "stdout",
     "output_type": "stream",
     "text": [
      "Number of duplicate data after processing: 21827\n"
     ]
    }
   ],
   "source": [
    "def process_duplicate_df(df):\n",
    "    result = []\n",
    "    for group in tqdm(df.groupby(['Uniprot_id', 'smiles'])):\n",
    "        if 'ki' in group[1]['type'].values or 'kd' in group[1]['type'].values:\n",
    "            group[1]['y'] = group[1][group[1]['type'].isin(['ki', 'kd'])]['y'].mean()\n",
    "            result.append(group[1].iloc[0, :].values)\n",
    "        else:\n",
    "            group[1]['y'] = group[1][group[1]['type'].isin(['ic50', 'ec50'])]['y'].mean()\n",
    "            result.append(group[1].iloc[0, :].values)\n",
    "    df = pd.DataFrame(result, columns=df.columns)\n",
    "    return df\n",
    "\n",
    "print('Number of duplicate data:', len(duplicate))\n",
    "duplicate = process_duplicate_df(duplicate)\n",
    "print('Number of duplicate data after processing:', len(duplicate))"
   ]
  },
  {
   "cell_type": "code",
   "execution_count": 8,
   "metadata": {},
   "outputs": [
    {
     "data": {
      "text/plain": [
       "<Axes: ylabel='Frequency'>"
      ]
     },
     "execution_count": 8,
     "metadata": {},
     "output_type": "execute_result"
    },
    {
     "data": {
      "image/png": "[encoded data removed]",
      "text/plain": [
       "<Figure size 640x480 with 1 Axes>"
      ]
     },
     "metadata": {},
     "output_type": "display_data"
    }
   ],
   "source": [
    "combine = pd.concat([non_duplicate, duplicate, combine_test], axis=0)\n",
    "combine.to_csv('integrated.csv', index=False)"
   ]
  },
  {
   "cell_type": "code",
   "execution_count": 2,
   "metadata": {},
   "outputs": [
    {
     "data": {
      "text/html": [
       "<div>\n",
       "<style scoped>\n",
       "    .dataframe tbody tr th:only-of-type {\n",
       "        vertical-align: middle;\n",
       "    }\n",
       "\n",
       "    .dataframe tbody tr th {\n",
       "        vertical-align: top;\n",
       "    }\n",
       "\n",
       "    .dataframe thead th {\n",
       "        text-align: right;\n",
       "    }\n",
       "</style>\n",
       "<table border=\"1\" class=\"dataframe\">\n",
       "  <thead>\n",
       "    <tr style=\"text-align: right;\">\n",
       "      <th></th>\n",
       "      <th>smiles</th>\n",
       "      <th>exp_mean [nM]</th>\n",
       "      <th>y</th>\n",
       "      <th>cliff_mol</th>\n",
       "      <th>split</th>\n",
       "      <th>Uniprot_id</th>\n",
       "      <th>Sequence</th>\n",
       "    </tr>\n",
       "  </thead>\n",
       "  <tbody>\n",
       "    <tr>\n",
       "      <th>0</th>\n",
       "      <td>CC(C)CN(Cc1cc(Cl)c2c(c1)OCCCO2)C(=O)CCC1CCCN1</td>\n",
       "      <td>10000.000000</td>\n",
       "      <td>5.00</td>\n",
       "      <td>0</td>\n",
       "      <td>test</td>\n",
       "      <td>G3H407</td>\n",
       "      <td>MPPAGINMASQNKNTSFAPDLNPSQDHISSLPFNFSYSDYDLPLDG...</td>\n",
       "    </tr>\n",
       "    <tr>\n",
       "      <th>1</th>\n",
       "      <td>CC(C)CN(Cc1cc(Cl)c2c(c1)OCCCO2)C(=O)C1CCN(Cc2c...</td>\n",
       "      <td>7.244360</td>\n",
       "      <td>8.14</td>\n",
       "      <td>1</td>\n",
       "      <td>train</td>\n",
       "      <td>G3H407</td>\n",
       "      <td>MPPAGINMASQNKNTSFAPDLNPSQDHISSLPFNFSYSDYDLPLDG...</td>\n",
       "    </tr>\n",
       "    <tr>\n",
       "      <th>2</th>\n",
       "      <td>CC(C)CN(Cc1cc(Cl)c2c(c1)CCCCO2)C(=O)C1CCN(Cc2c...</td>\n",
       "      <td>11.220185</td>\n",
       "      <td>7.95</td>\n",
       "      <td>1</td>\n",
       "      <td>train</td>\n",
       "      <td>G3H407</td>\n",
       "      <td>MPPAGINMASQNKNTSFAPDLNPSQDHISSLPFNFSYSDYDLPLDG...</td>\n",
       "    </tr>\n",
       "    <tr>\n",
       "      <th>3</th>\n",
       "      <td>CC(C)CN(Cc1cc(Cl)c2c(c1)OCCCO2)C(=O)C1CN(Cc2cc...</td>\n",
       "      <td>14.125375</td>\n",
       "      <td>7.85</td>\n",
       "      <td>0</td>\n",
       "      <td>train</td>\n",
       "      <td>G3H407</td>\n",
       "      <td>MPPAGINMASQNKNTSFAPDLNPSQDHISSLPFNFSYSDYDLPLDG...</td>\n",
       "    </tr>\n",
       "    <tr>\n",
       "      <th>4</th>\n",
       "      <td>CC(C)CN(Cc1ccc2c(c1)OCCCO2)C(=O)C1CN(Cc2ccccc2...</td>\n",
       "      <td>588.843655</td>\n",
       "      <td>6.23</td>\n",
       "      <td>0</td>\n",
       "      <td>train</td>\n",
       "      <td>G3H407</td>\n",
       "      <td>MPPAGINMASQNKNTSFAPDLNPSQDHISSLPFNFSYSDYDLPLDG...</td>\n",
       "    </tr>\n",
       "    <tr>\n",
       "      <th>...</th>\n",
       "      <td>...</td>\n",
       "      <td>...</td>\n",
       "      <td>...</td>\n",
       "      <td>...</td>\n",
       "      <td>...</td>\n",
       "      <td>...</td>\n",
       "      <td>...</td>\n",
       "    </tr>\n",
       "    <tr>\n",
       "      <th>341239</th>\n",
       "      <td>Cc1cc(C(=O)NC(Cc2ccccc2)C(O)CNC(C(=O)NCC(C)C)C...</td>\n",
       "      <td>1.000000</td>\n",
       "      <td>9.00</td>\n",
       "      <td>0</td>\n",
       "      <td>train</td>\n",
       "      <td>Q9Y5Z0</td>\n",
       "      <td>MGALARALLLPLLAQWLLRAAPELAPAPFTLPLRVAAATNRVVAPT...</td>\n",
       "    </tr>\n",
       "    <tr>\n",
       "      <th>341240</th>\n",
       "      <td>Cc1ncsc1CN(C(=O)CCC(C1CCCCC1)N1Cc2cc(Oc3ccccc3...</td>\n",
       "      <td>50.118723</td>\n",
       "      <td>7.30</td>\n",
       "      <td>0</td>\n",
       "      <td>train</td>\n",
       "      <td>Q9Y5Z0</td>\n",
       "      <td>MGALARALLLPLLAQWLLRAAPELAPAPFTLPLRVAAATNRVVAPT...</td>\n",
       "    </tr>\n",
       "    <tr>\n",
       "      <th>341241</th>\n",
       "      <td>Cc1oncc1CN(C(=O)CCC(C1CCCCC1)N1Cc2cc(Oc3ccccc3...</td>\n",
       "      <td>63.095734</td>\n",
       "      <td>7.20</td>\n",
       "      <td>0</td>\n",
       "      <td>train</td>\n",
       "      <td>Q9Y5Z0</td>\n",
       "      <td>MGALARALLLPLLAQWLLRAAPELAPAPFTLPLRVAAATNRVVAPT...</td>\n",
       "    </tr>\n",
       "    <tr>\n",
       "      <th>341242</th>\n",
       "      <td>NC1=Nc2ccc(Oc3ccccc3)cc2CN1C(CCC(=O)N(CC1CCC(=...</td>\n",
       "      <td>50.118723</td>\n",
       "      <td>7.30</td>\n",
       "      <td>0</td>\n",
       "      <td>train</td>\n",
       "      <td>Q9Y5Z0</td>\n",
       "      <td>MGALARALLLPLLAQWLLRAAPELAPAPFTLPLRVAAATNRVVAPT...</td>\n",
       "    </tr>\n",
       "    <tr>\n",
       "      <th>341243</th>\n",
       "      <td>c1cc(-c2cn3ccccc3n2)cc(-c2nc3ccccc3[nH]2)c1</td>\n",
       "      <td>3981.071706</td>\n",
       "      <td>5.40</td>\n",
       "      <td>0</td>\n",
       "      <td>train</td>\n",
       "      <td>Q9Y5Z0</td>\n",
       "      <td>MGALARALLLPLLAQWLLRAAPELAPAPFTLPLRVAAATNRVVAPT...</td>\n",
       "    </tr>\n",
       "  </tbody>\n",
       "</table>\n",
       "<p>341244 rows × 7 columns</p>\n",
       "</div>"
      ],
      "text/plain": [
       "                                                   smiles  exp_mean [nM]  \\\n",
       "0           CC(C)CN(Cc1cc(Cl)c2c(c1)OCCCO2)C(=O)CCC1CCCN1   10000.000000   \n",
       "1       CC(C)CN(Cc1cc(Cl)c2c(c1)OCCCO2)C(=O)C1CCN(Cc2c...       7.244360   \n",
       "2       CC(C)CN(Cc1cc(Cl)c2c(c1)CCCCO2)C(=O)C1CCN(Cc2c...      11.220185   \n",
       "3       CC(C)CN(Cc1cc(Cl)c2c(c1)OCCCO2)C(=O)C1CN(Cc2cc...      14.125375   \n",
       "4       CC(C)CN(Cc1ccc2c(c1)OCCCO2)C(=O)C1CN(Cc2ccccc2...     588.843655   \n",
       "...                                                   ...            ...   \n",
       "341239  Cc1cc(C(=O)NC(Cc2ccccc2)C(O)CNC(C(=O)NCC(C)C)C...       1.000000   \n",
       "341240  Cc1ncsc1CN(C(=O)CCC(C1CCCCC1)N1Cc2cc(Oc3ccccc3...      50.118723   \n",
       "341241  Cc1oncc1CN(C(=O)CCC(C1CCCCC1)N1Cc2cc(Oc3ccccc3...      63.095734   \n",
       "341242  NC1=Nc2ccc(Oc3ccccc3)cc2CN1C(CCC(=O)N(CC1CCC(=...      50.118723   \n",
       "341243        c1cc(-c2cn3ccccc3n2)cc(-c2nc3ccccc3[nH]2)c1    3981.071706   \n",
       "\n",
       "           y  cliff_mol  split Uniprot_id  \\\n",
       "0       5.00          0   test     G3H407   \n",
       "1       8.14          1  train     G3H407   \n",
       "2       7.95          1  train     G3H407   \n",
       "3       7.85          0  train     G3H407   \n",
       "4       6.23          0  train     G3H407   \n",
       "...      ...        ...    ...        ...   \n",
       "341239  9.00          0  train     Q9Y5Z0   \n",
       "341240  7.30          0  train     Q9Y5Z0   \n",
       "341241  7.20          0  train     Q9Y5Z0   \n",
       "341242  7.30          0  train     Q9Y5Z0   \n",
       "341243  5.40          0  train     Q9Y5Z0   \n",
       "\n",
       "                                                 Sequence  \n",
       "0       MPPAGINMASQNKNTSFAPDLNPSQDHISSLPFNFSYSDYDLPLDG...  \n",
       "1       MPPAGINMASQNKNTSFAPDLNPSQDHISSLPFNFSYSDYDLPLDG...  \n",
       "2       MPPAGINMASQNKNTSFAPDLNPSQDHISSLPFNFSYSDYDLPLDG...  \n",
       "3       MPPAGINMASQNKNTSFAPDLNPSQDHISSLPFNFSYSDYDLPLDG...  \n",
       "4       MPPAGINMASQNKNTSFAPDLNPSQDHISSLPFNFSYSDYDLPLDG...  \n",
       "...                                                   ...  \n",
       "341239  MGALARALLLPLLAQWLLRAAPELAPAPFTLPLRVAAATNRVVAPT...  \n",
       "341240  MGALARALLLPLLAQWLLRAAPELAPAPFTLPLRVAAATNRVVAPT...  \n",
       "341241  MGALARALLLPLLAQWLLRAAPELAPAPFTLPLRVAAATNRVVAPT...  \n",
       "341242  MGALARALLLPLLAQWLLRAAPELAPAPFTLPLRVAAATNRVVAPT...  \n",
       "341243  MGALARALLLPLLAQWLLRAAPELAPAPFTLPLRVAAATNRVVAPT...  \n",
       "\n",
       "[341244 rows x 7 columns]"
      ]
     },
     "execution_count": 2,
     "metadata": {},
     "output_type": "execute_result"
    }
   ],
   "source": [
    "os.chdir('../Activity-cliff-prediction/')\n",
    "df = pd.read_csv('data/ki.csv')\n",
    "df"
   ]
  },
  {
   "cell_type": "code",
   "execution_count": 3,
   "metadata": {},
   "outputs": [],
   "source": [
    "df2 = pd.read_csv('data/MolACE_CPI_ki.csv')"
   ]
  },
  {
   "cell_type": "code",
   "execution_count": 5,
   "metadata": {},
   "outputs": [
    {
     "ename": "KeyError",
     "evalue": "'SMILES'",
     "output_type": "error",
     "traceback": [
      "\u001b[0;31m---------------------------------------------------------------------------\u001b[0m",
      "\u001b[0;31mKeyError\u001b[0m                                  Traceback (most recent call last)",
      "File \u001b[0;32m~/.local/lib/python3.8/site-packages/pandas/core/indexes/base.py:3653\u001b[0m, in \u001b[0;36mIndex.get_loc\u001b[0;34m(self, key)\u001b[0m\n\u001b[1;32m   3652\u001b[0m \u001b[38;5;28;01mtry\u001b[39;00m:\n\u001b[0;32m-> 3653\u001b[0m     \u001b[38;5;28;01mreturn\u001b[39;00m \u001b[38;5;28;43mself\u001b[39;49m\u001b[38;5;241;43m.\u001b[39;49m\u001b[43m_engine\u001b[49m\u001b[38;5;241;43m.\u001b[39;49m\u001b[43mget_loc\u001b[49m\u001b[43m(\u001b[49m\u001b[43mcasted_key\u001b[49m\u001b[43m)\u001b[49m\n\u001b[1;32m   3654\u001b[0m \u001b[38;5;28;01mexcept\u001b[39;00m \u001b[38;5;167;01mKeyError\u001b[39;00m \u001b[38;5;28;01mas\u001b[39;00m err:\n",
      "File \u001b[0;32m~/.local/lib/python3.8/site-packages/pandas/_libs/index.pyx:147\u001b[0m, in \u001b[0;36mpandas._libs.index.IndexEngine.get_loc\u001b[0;34m()\u001b[0m\n",
      "File \u001b[0;32m~/.local/lib/python3.8/site-packages/pandas/_libs/index.pyx:176\u001b[0m, in \u001b[0;36mpandas._libs.index.IndexEngine.get_loc\u001b[0;34m()\u001b[0m\n",
      "File \u001b[0;32mpandas/_libs/hashtable_class_helper.pxi:7080\u001b[0m, in \u001b[0;36mpandas._libs.hashtable.PyObjectHashTable.get_item\u001b[0;34m()\u001b[0m\n",
      "File \u001b[0;32mpandas/_libs/hashtable_class_helper.pxi:7088\u001b[0m, in \u001b[0;36mpandas._libs.hashtable.PyObjectHashTable.get_item\u001b[0;34m()\u001b[0m\n",
      "\u001b[0;31mKeyError\u001b[0m: 'SMILES'",
      "\nThe above exception was the direct cause of the following exception:\n",
      "\u001b[0;31mKeyError\u001b[0m                                  Traceback (most recent call last)",
      "Cell \u001b[0;32mIn[5], line 2\u001b[0m\n\u001b[1;32m      1\u001b[0m df[\u001b[38;5;124m'\u001b[39m\u001b[38;5;124mcombine\u001b[39m\u001b[38;5;124m'\u001b[39m] \u001b[38;5;241m=\u001b[39m df[\u001b[38;5;124m'\u001b[39m\u001b[38;5;124msmiles\u001b[39m\u001b[38;5;124m'\u001b[39m] \u001b[38;5;241m+\u001b[39m df[\u001b[38;5;124m'\u001b[39m\u001b[38;5;124mUniprot_id\u001b[39m\u001b[38;5;124m'\u001b[39m]\n\u001b[0;32m----> 2\u001b[0m df2[\u001b[38;5;124m'\u001b[39m\u001b[38;5;124mcombine\u001b[39m\u001b[38;5;124m'\u001b[39m] \u001b[38;5;241m=\u001b[39m \u001b[43mdf2\u001b[49m\u001b[43m[\u001b[49m\u001b[38;5;124;43m'\u001b[39;49m\u001b[38;5;124;43mSMILES\u001b[39;49m\u001b[38;5;124;43m'\u001b[39;49m\u001b[43m]\u001b[49m \u001b[38;5;241m+\u001b[39m df2[\u001b[38;5;124m'\u001b[39m\u001b[38;5;124mUniprot_id\u001b[39m\u001b[38;5;124m'\u001b[39m]\n",
      "File \u001b[0;32m~/.local/lib/python3.8/site-packages/pandas/core/frame.py:3761\u001b[0m, in \u001b[0;36mDataFrame.__getitem__\u001b[0;34m(self, key)\u001b[0m\n\u001b[1;32m   3759\u001b[0m \u001b[38;5;28;01mif\u001b[39;00m \u001b[38;5;28mself\u001b[39m\u001b[38;5;241m.\u001b[39mcolumns\u001b[38;5;241m.\u001b[39mnlevels \u001b[38;5;241m>\u001b[39m \u001b[38;5;241m1\u001b[39m:\n\u001b[1;32m   3760\u001b[0m     \u001b[38;5;28;01mreturn\u001b[39;00m \u001b[38;5;28mself\u001b[39m\u001b[38;5;241m.\u001b[39m_getitem_multilevel(key)\n\u001b[0;32m-> 3761\u001b[0m indexer \u001b[38;5;241m=\u001b[39m \u001b[38;5;28;43mself\u001b[39;49m\u001b[38;5;241;43m.\u001b[39;49m\u001b[43mcolumns\u001b[49m\u001b[38;5;241;43m.\u001b[39;49m\u001b[43mget_loc\u001b[49m\u001b[43m(\u001b[49m\u001b[43mkey\u001b[49m\u001b[43m)\u001b[49m\n\u001b[1;32m   3762\u001b[0m \u001b[38;5;28;01mif\u001b[39;00m is_integer(indexer):\n\u001b[1;32m   3763\u001b[0m     indexer \u001b[38;5;241m=\u001b[39m [indexer]\n",
      "File \u001b[0;32m~/.local/lib/python3.8/site-packages/pandas/core/indexes/base.py:3655\u001b[0m, in \u001b[0;36mIndex.get_loc\u001b[0;34m(self, key)\u001b[0m\n\u001b[1;32m   3653\u001b[0m     \u001b[38;5;28;01mreturn\u001b[39;00m \u001b[38;5;28mself\u001b[39m\u001b[38;5;241m.\u001b[39m_engine\u001b[38;5;241m.\u001b[39mget_loc(casted_key)\n\u001b[1;32m   3654\u001b[0m \u001b[38;5;28;01mexcept\u001b[39;00m \u001b[38;5;167;01mKeyError\u001b[39;00m \u001b[38;5;28;01mas\u001b[39;00m err:\n\u001b[0;32m-> 3655\u001b[0m     \u001b[38;5;28;01mraise\u001b[39;00m \u001b[38;5;167;01mKeyError\u001b[39;00m(key) \u001b[38;5;28;01mfrom\u001b[39;00m \u001b[38;5;21;01merr\u001b[39;00m\n\u001b[1;32m   3656\u001b[0m \u001b[38;5;28;01mexcept\u001b[39;00m \u001b[38;5;167;01mTypeError\u001b[39;00m:\n\u001b[1;32m   3657\u001b[0m     \u001b[38;5;66;03m# If we have a listlike key, _check_indexing_error will raise\u001b[39;00m\n\u001b[1;32m   3658\u001b[0m     \u001b[38;5;66;03m#  InvalidIndexError. Otherwise we fall through and re-raise\u001b[39;00m\n\u001b[1;32m   3659\u001b[0m     \u001b[38;5;66;03m#  the TypeError.\u001b[39;00m\n\u001b[1;32m   3660\u001b[0m     \u001b[38;5;28mself\u001b[39m\u001b[38;5;241m.\u001b[39m_check_indexing_error(key)\n",
      "\u001b[0;31mKeyError\u001b[0m: 'SMILES'"
     ]
    }
   ],
   "source": [
    "df['combine'] = df['smiles'] + df['Uniprot_id']\n",
    "df2['combine'] = df2['smiles'] + df2['Uniprot_id']"
   ]
  },
  {
   "cell_type": "code",
   "execution_count": null,
   "metadata": {},
   "outputs": [],
   "source": []
  }
 ],
 "metadata": {
  "kernelspec": {
   "display_name": "chem_gyw",
   "language": "python",
   "name": "chem_gyw"
  },
  "language_info": {
   "codemirror_mode": {
    "name": "ipython",
    "version": 3
   },
   "file_extension": ".py",
   "mimetype": "text/x-python",
   "name": "python",
   "nbconvert_exporter": "python",
   "pygments_lexer": "ipython3",
   "version": "3.8.18"
  },
  "orig_nbformat": 4
 },
 "nbformat": 4,
 "nbformat_minor": 2
}
